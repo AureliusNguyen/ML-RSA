{
 "cells": [
  {
   "cell_type": "markdown",
   "metadata": {
    "id": "problem_statement"
   },
   "source": [
    "## UNDERSTAND THE PROBLEM STATEMENT AND RESEARCH CONTEXT"
   ]
  },
  {
   "cell_type": "markdown",
   "metadata": {
    "id": "research_context"
   },
   "source": [
    "## RSA Semiprime Factorization using Machine Learning\n",
    "\n",
    "**Objective:** Develop and compare neural network architectures for RSA semiprime factorization, improving upon previous research by Murat et al. and Nene & Uludag.\n",
    "\n",
    "**Problem Definition:**\n",
    "- Given a semiprime N = p × q (product of two primes), predict the prime factors p and q\n",
    "- Evaluate models using β-metrics (tolerance for bit errors)\n",
    "- Compare performance across different architectural approaches\n",
    "\n",
    "**Previous Research Context:**\n",
    "- **Murat et al.**: Binary LSTM approach with basic feature engineering\n",
    "- **Nene & Uludag**: Enhanced feature extraction with mathematical properties\n",
    "- **Our Improvements**: Advanced feature engineering (125D vs 14-bit), GAN-based generation, Transformer architectures\n",
    "\n",
    "**Models to Evaluate:**\n",
    "1. **Binary LSTM** (Murat et al. baseline)\n",
    "2. **Dual Loss LSTM** (Enhanced with p,q prediction)\n",
    "3. **Enhanced Transformer** (125D mathematical features)\n",
    "4. **GAN-based Factorization** (Adversarial approach)\n",
    "\n",
    "**Evaluation Metrics:**\n",
    "- β₀: Exact bit match accuracy\n",
    "- β₁: ≤1 bit error tolerance\n",
    "- β₂: ≤2 bit error tolerance  \n",
    "- β₃: ≤3 bit error tolerance\n",
    "- β₄: ≤4 bit error tolerance\n",
    "\n",
    "**Dataset Scales:** tiny, small, medium, large (varying N bit sizes)"
   ]
  },
  {
   "cell_type": "markdown",
   "metadata": {
    "id": "imports"
   },
   "source": [
    "## IMPORT LIBRARIES AND SETUP AWS ENVIRONMENT"
   ]
  },
  {
   "cell_type": "code",
   "execution_count": 19,
   "metadata": {
    "execution": {
     "iopub.execute_input": "2025-09-23T22:12:44.854135Z",
     "iopub.status.busy": "2025-09-23T22:12:44.853857Z",
     "iopub.status.idle": "2025-09-23T22:12:44.861611Z",
     "shell.execute_reply": "2025-09-23T22:12:44.860833Z",
     "shell.execute_reply.started": "2025-09-23T22:12:44.854114Z"
    },
    "id": "aws_setup"
   },
   "outputs": [
    {
     "name": "stdout",
     "output_type": "stream",
     "text": [
      "Libraries imported successfully!\n",
      "PyTorch version: 2.6.0\n",
      "SageMaker version: 2.245.0\n"
     ]
    }
   ],
   "source": [
    "# AWS and SageMaker imports\n",
    "import sagemaker\n",
    "import boto3\n",
    "from sagemaker import Session\n",
    "from sagemaker import get_execution_role\n",
    "from sagemaker.estimator import Estimator\n",
    "from sagemaker.pytorch import PyTorch\n",
    "from sagemaker.tuner import (\n",
    "    IntegerParameter,\n",
    "    CategoricalParameter,\n",
    "    ContinuousParameter,\n",
    "    HyperparameterTuner\n",
    ")\n",
    "\n",
    "# Standard ML libraries\n",
    "import torch\n",
    "import torch.nn as nn\n",
    "import torch.nn.functional as F\n",
    "from torch.utils.data import Dataset, DataLoader\n",
    "import numpy as np\n",
    "import pandas as pd\n",
    "import matplotlib.pyplot as plt\n",
    "import seaborn as sns\n",
    "from sklearn.metrics import classification_report, confusion_matrix\n",
    "from tqdm import tqdm\n",
    "import json\n",
    "import os\n",
    "from datetime import datetime\n",
    "\n",
    "# Display settings\n",
    "plt.style.use('seaborn-v0_8')\n",
    "sns.set_palette(\"husl\")\n",
    "%matplotlib inline\n",
    "\n",
    "print(\"Libraries imported successfully!\")\n",
    "print(f\"PyTorch version: {torch.__version__}\")\n",
    "print(f\"SageMaker version: {sagemaker.__version__}\")"
   ]
  },
  {
   "cell_type": "code",
   "execution_count": 20,
   "metadata": {
    "execution": {
     "iopub.execute_input": "2025-09-23T22:12:47.364433Z",
     "iopub.status.busy": "2025-09-23T22:12:47.364145Z",
     "iopub.status.idle": "2025-09-23T22:12:48.010783Z",
     "shell.execute_reply": "2025-09-23T22:12:48.010032Z",
     "shell.execute_reply.started": "2025-09-23T22:12:47.364411Z"
    },
    "id": "sagemaker_setup"
   },
   "outputs": [
    {
     "name": "stdout",
     "output_type": "stream",
     "text": [
      "Role: arn:aws:iam::467556813165:role/service-role/AmazonSageMaker-ExecutionRole-20250901T141066\n",
      "SageMaker session region: us-east-1\n",
      "SageMaker execution role: arn:aws:iam::467556813165:role/service-role/AmazonSageMaker-ExecutionRole-20250901T141066\n",
      "S3 bucket: ml-rsa\n",
      "S3 prefix: data\n",
      "Training device: cpu\n"
     ]
    }
   ],
   "source": [
    "# Initialize SageMaker session and get execution role\n",
    "sagemaker_session = sagemaker.Session()\n",
    "role = get_execution_role()\n",
    "region = sagemaker_session.boto_region_name\n",
    "print(f\"Role:\", role)\n",
    "\n",
    "# S3 bucket and prefix configuration\n",
    "bucket = 'ml-rsa'\n",
    "prefix = 'data'\n",
    "\n",
    "print(f\"SageMaker session region: {region}\")\n",
    "print(f\"SageMaker execution role: {role}\")\n",
    "print(f\"S3 bucket: {bucket}\")\n",
    "print(f\"S3 prefix: {prefix}\")\n",
    "\n",
    "# Device configuration\n",
    "device = torch.device('cuda' if torch.cuda.is_available() else 'cpu')\n",
    "print(f\"Training device: {device}\")"
   ]
  },
  {
   "cell_type": "markdown",
   "metadata": {
    "id": "data_loading"
   },
   "source": [
    "# LOAD AND EXPLORE RSA DATASET FROM S3"
   ]
  },
  {
   "cell_type": "code",
   "execution_count": 22,
   "metadata": {
    "execution": {
     "iopub.execute_input": "2025-09-23T22:13:18.157265Z",
     "iopub.status.busy": "2025-09-23T22:13:18.156994Z",
     "iopub.status.idle": "2025-09-23T22:13:18.162197Z",
     "shell.execute_reply": "2025-09-23T22:13:18.161272Z",
     "shell.execute_reply.started": "2025-09-23T22:13:18.157244Z"
    },
    "id": "s3_data_paths"
   },
   "outputs": [
    {
     "name": "stdout",
     "output_type": "stream",
     "text": [
      "S3 Data Paths:\n",
      "  TINY:\n",
      "    Train: s3://ml-rsa/data/tiny_train.csv\n",
      "    Test: s3://ml-rsa/data/tiny_test.csv\n",
      "  SMALL:\n",
      "    Train: s3://ml-rsa/data/small_train.csv\n",
      "    Test: s3://ml-rsa/data/small_test.csv\n",
      "  MEDIUM:\n",
      "    Train: s3://ml-rsa/data/medium_train.csv\n",
      "    Test: s3://ml-rsa/data/medium_test.csv\n",
      "  LARGE:\n",
      "    Train: s3://ml-rsa/data/large_train.csv\n",
      "    Test: s3://ml-rsa/data/large_test.csv\n"
     ]
    }
   ],
   "source": [
    "# S3 paths for different dataset scales\n",
    "data_scales = ['tiny', 'small', 'medium', 'large']\n",
    "s3_data_paths = {}\n",
    "\n",
    "for scale in data_scales:\n",
    "    s3_data_paths[scale] = {\n",
    "        'train': f's3://{bucket}/{prefix}/{scale}_train.csv',\n",
    "        'test': f's3://{bucket}/{prefix}/{scale}_test.csv'\n",
    "    }\n",
    "\n",
    "print(\"S3 Data Paths:\")\n",
    "for scale, paths in s3_data_paths.items():\n",
    "    print(f\"  {scale.upper()}:\")\n",
    "    print(f\"    Train: {paths['train']}\")\n",
    "    print(f\"    Test: {paths['test']}\")"
   ]
  },
  {
   "cell_type": "code",
   "execution_count": null,
   "metadata": {
    "execution": {
     "iopub.execute_input": "2025-09-23T22:13:19.848861Z",
     "iopub.status.busy": "2025-09-23T22:13:19.848578Z",
     "iopub.status.idle": "2025-09-23T22:13:19.978712Z",
     "shell.execute_reply": "2025-09-23T22:13:19.977994Z",
     "shell.execute_reply.started": "2025-09-23T22:13:19.848839Z"
    },
    "id": "load_datasets"
   },
   "outputs": [],
   "source": "# Data Loading and Preprocessing with Exhaustive Enumeration Support\nimport json\nimport os\n\ndef load_metadata(scale_name):\n    \"\"\"Load metadata for the specified dataset scale.\"\"\"\n    # Try SageMaker path first, then local\n    metadata_path = f'/opt/ml/input/data/training/{scale_name}_metadata.json'\n    if not os.path.exists(metadata_path):\n        metadata_path = f'../rsa_ml_attack/data/{scale_name}_metadata.json'\n    \n    with open(metadata_path, 'r') as f:\n        metadata = json.load(f)\n    return metadata\n\ndef load_exhaustive_dataset(scale_name):\n    \"\"\"Load exhaustive enumeration dataset with enhanced preprocessing.\"\"\"\n    # Try SageMaker paths first, then local paths\n    data_path = f'/opt/ml/input/data/training/{scale_name}.csv'\n    if not os.path.exists(data_path):\n        data_path = f'../rsa_ml_attack/data/{scale_name}.csv'\n    \n    # Load the complete exhaustive enumeration dataset\n    df = pd.read_csv(data_path)\n    metadata = load_metadata(scale_name)\n    \n    print(f\"Loaded {scale_name} dataset (Exhaustive Enumeration - Murat et al.):\")\n    print(f\"- Total samples: {len(df):,}\")\n    print(f\"- Methodology: {metadata['methodology']}\")\n    print(f\"- Description: {metadata['description']}\")\n    print(f\"- Upper bound checked: {metadata['upperbound']:,}\")\n    print(f\"- Total numbers checked: {metadata['total_numbers_checked']:,}\")\n    print(f\"- Semiprimes found: {metadata['total_semiprimes_found']:,}\")\n    print(f\"- Semiprime density: {metadata['semiprime_density_percent']:.2f}%\")\n    print(f\"- Max N bits: {metadata['max_N_bits']}\")\n    print(f\"- Max p bits: {metadata['max_p_bits']}\")\n    print(f\"- Train samples: {metadata['train_samples']:,}\")\n    print(f\"- Test samples: {metadata['test_samples']:,}\")\n    print(f\"- Train/Test split: {metadata['train_test_split']}\")\n    \n    return df, metadata\n\ndef split_train_test(df, metadata):\n    \"\"\"Split dataset according to metadata specifications.\"\"\"\n    total_samples = len(df)\n    train_size = metadata['train_samples']\n    \n    # Use the same random seed for reproducibility\n    np.random.seed(metadata['random_seed'])\n    indices = np.random.permutation(total_samples)\n    \n    train_indices = indices[:train_size]\n    test_indices = indices[train_size:]\n    \n    train_df = df.iloc[train_indices].reset_index(drop=True)\n    test_df = df.iloc[test_indices].reset_index(drop=True)\n    \n    return train_df, test_df\n\n# Load exhaustive enumeration dataset\nscale = 'small'  # Change to 'tiny', 'medium', or 'large' as needed\nprint(\"Loading exhaustive enumeration dataset...\")\nprint(\"=\"*60)\n\ndf, metadata = load_exhaustive_dataset(scale)\n\n# Display dataset structure\nprint(f\"\\nDataset columns: {list(df.columns)}\")\nprint(f\"Available pre-computed features:\")\nfor col in df.columns:\n    print(f\"  - {col}\")\n\nprint(f\"\\nSample data:\")\nprint(df.head())\n\nprint(f\"\\nExhaustive enumeration verification:\")\nprint(f\"- Expected samples from metadata: {metadata['total_semiprimes_found']:,}\")\nprint(f\"- Actual samples loaded: {len(df):,}\")\nprint(f\"- Largest N: {df['N'].max():,} (expected: {metadata['largest_semiprime']:,})\")\nprint(f\"- Largest p: {df['p'].max():,} (expected: {metadata['largest_factor']:,})\")\nprint(f\"- Min/Max N bits: {df['N_bits'].min()}-{df['N_bits'].max()} (expected max: {metadata['max_N_bits']})\")\nprint(f\"- Min/Max p bits: {df['p_bits'].min()}-{df['p_bits'].max()} (expected max: {metadata['max_p_bits']})\")\n\n# Split into train/test following metadata specifications\ntrain_df, test_df = split_train_test(df, metadata)\n\nprint(f\"\\nTrain/Test split completed:\")\nprint(f\"- Training samples: {len(train_df):,}\")\nprint(f\"- Test samples: {len(test_df):,}\")\nprint(f\"- Split ratio: {len(train_df)/(len(train_df)+len(test_df)):.1%}/{len(test_df)/(len(train_df)+len(test_df)):.1%}\")"
  },
  {
   "cell_type": "code",
   "execution_count": 24,
   "metadata": {
    "execution": {
     "iopub.execute_input": "2025-09-23T22:13:21.152059Z",
     "iopub.status.busy": "2025-09-23T22:13:21.151794Z",
     "iopub.status.idle": "2025-09-23T22:13:21.169179Z",
     "shell.execute_reply": "2025-09-23T22:13:21.168522Z",
     "shell.execute_reply.started": "2025-09-23T22:13:21.152039Z"
    },
    "id": "data_exploration"
   },
   "outputs": [
    {
     "name": "stdout",
     "output_type": "stream",
     "text": [
      "Dataset Statistics:\n",
      "Max N: 9,991\n",
      "Max p: 97\n",
      "\n",
      "Sample training data:\n"
     ]
    },
    {
     "data": {
      "text/html": [
       "<div>\n",
       "<style scoped>\n",
       "    .dataframe tbody tr th:only-of-type {\n",
       "        vertical-align: middle;\n",
       "    }\n",
       "\n",
       "    .dataframe tbody tr th {\n",
       "        vertical-align: top;\n",
       "    }\n",
       "\n",
       "    .dataframe thead th {\n",
       "        text-align: right;\n",
       "    }\n",
       "</style>\n",
       "<table border=\"1\" class=\"dataframe\">\n",
       "  <thead>\n",
       "    <tr style=\"text-align: right;\">\n",
       "      <th></th>\n",
       "      <th>N</th>\n",
       "      <th>p</th>\n",
       "    </tr>\n",
       "  </thead>\n",
       "  <tbody>\n",
       "    <tr>\n",
       "      <th>0</th>\n",
       "      <td>3551</td>\n",
       "      <td>53</td>\n",
       "    </tr>\n",
       "    <tr>\n",
       "      <th>1</th>\n",
       "      <td>8507</td>\n",
       "      <td>47</td>\n",
       "    </tr>\n",
       "    <tr>\n",
       "      <th>2</th>\n",
       "      <td>7739</td>\n",
       "      <td>71</td>\n",
       "    </tr>\n",
       "    <tr>\n",
       "      <th>3</th>\n",
       "      <td>3233</td>\n",
       "      <td>53</td>\n",
       "    </tr>\n",
       "    <tr>\n",
       "      <th>4</th>\n",
       "      <td>6667</td>\n",
       "      <td>59</td>\n",
       "    </tr>\n",
       "  </tbody>\n",
       "</table>\n",
       "</div>"
      ],
      "text/plain": [
       "      N   p\n",
       "0  3551  53\n",
       "1  8507  47\n",
       "2  7739  71\n",
       "3  3233  53\n",
       "4  6667  59"
      ]
     },
     "metadata": {},
     "output_type": "display_data"
    },
    {
     "name": "stdout",
     "output_type": "stream",
     "text": [
      "\n",
      "Data types and info:\n",
      "<class 'pandas.core.frame.DataFrame'>\n",
      "RangeIndex: 189 entries, 0 to 188\n",
      "Data columns (total 2 columns):\n",
      " #   Column  Non-Null Count  Dtype\n",
      "---  ------  --------------  -----\n",
      " 0   N       189 non-null    int64\n",
      " 1   p       189 non-null    int64\n",
      "dtypes: int64(2)\n",
      "memory usage: 3.1 KB\n",
      "None\n",
      "\n",
      "Missing values:\n",
      "N    0\n",
      "p    0\n",
      "dtype: int64\n"
     ]
    }
   ],
   "source": [
    "# Data exploration and visualization\n",
    "print(\"Dataset Statistics:\")\n",
    "print(f\"Max N: {max(train_df['N'].max(), test_df['N'].max()):,}\")\n",
    "print(f\"Max p: {max(train_df['p'].max(), test_df['p'].max()):,}\")\n",
    "\n",
    "# Display sample data\n",
    "print()\n",
    "print(\"Sample training data:\")\n",
    "display(train_df.head())\n",
    "\n",
    "print(\"\\nData types and info:\")\n",
    "print(train_df.info())\n",
    "\n",
    "# Check for any missing values\n",
    "print()\n",
    "print(\"Missing values:\")\n",
    "print(train_df.isnull().sum())"
   ]
  },
  {
   "cell_type": "code",
   "execution_count": null,
   "metadata": {
    "execution": {
     "iopub.execute_input": "2025-09-23T22:14:21.908920Z",
     "iopub.status.busy": "2025-09-23T22:14:21.907508Z",
     "iopub.status.idle": "2025-09-23T22:14:23.602500Z",
     "shell.execute_reply": "2025-09-23T22:14:23.599325Z",
     "shell.execute_reply.started": "2025-09-23T22:14:21.908885Z"
    },
    "id": "data_visualization"
   },
   "outputs": [],
   "source": "# Enhanced Data Visualization for Exhaustive Enumeration\nfig, axes = plt.subplots(2, 3, figsize=(18, 12))\n\n# 1. Distribution of N values (Semiprimes)\naxes[0,0].hist(train_df['N'], bins=50, alpha=0.7, edgecolor='black', color='skyblue')\naxes[0,0].set_title(f'Distribution of Semiprime N Values\\n({len(train_df):,} samples - Exhaustive Enumeration)')\naxes[0,0].set_xlabel('N (Semiprime)')\naxes[0,0].set_ylabel('Frequency')\naxes[0,0].grid(True, alpha=0.3)\n\n# Add statistics text\nN_stats = f\"Range: {train_df['N'].min():,} - {train_df['N'].max():,}\\nMean: {train_df['N'].mean():.0f}\\nStd: {train_df['N'].std():.0f}\"\naxes[0,0].text(0.02, 0.98, N_stats, transform=axes[0,0].transAxes, \n               verticalalignment='top', bbox=dict(boxstyle='round', facecolor='white', alpha=0.8))\n\n# 2. Distribution of p values (Prime factors)\naxes[0,1].hist(train_df['p'], bins=50, alpha=0.7, edgecolor='black', color='lightcoral')\naxes[0,1].set_title(f'Distribution of Prime Factor p Values\\nDensity: {metadata[\"semiprime_density_percent\"]:.2f}%')\naxes[0,1].set_xlabel('p (Smaller Prime Factor)')\naxes[0,1].set_ylabel('Frequency')\naxes[0,1].grid(True, alpha=0.3)\n\np_stats = f\"Range: {train_df['p'].min():,} - {train_df['p'].max():,}\\nMean: {train_df['p'].mean():.0f}\\nStd: {train_df['p'].std():.0f}\"\naxes[0,1].text(0.02, 0.98, p_stats, transform=axes[0,1].transAxes, \n               verticalalignment='top', bbox=dict(boxstyle='round', facecolor='white', alpha=0.8))\n\n# 3. Bit length distributions (exhaustive enumeration advantage)\nbit_data = [train_df['N_bits'], train_df['p_bits']]\nbit_labels = ['N_bits', 'p_bits']\nbp = axes[0,2].boxplot(bit_data, labels=bit_labels, patch_artist=True)\nbp['boxes'][0].set_facecolor('skyblue')\nbp['boxes'][1].set_facecolor('lightcoral')\naxes[0,2].set_title('Bit Length Distributions\\n(Pre-computed from Exhaustive Data)')\naxes[0,2].set_ylabel('Bit Length')\naxes[0,2].grid(True, alpha=0.3)\n\n# Add bit length statistics\nbit_stats = f\"N bits: {train_df['N_bits'].min()}-{train_df['N_bits'].max()} (max: {metadata['max_N_bits']})\\np bits: {train_df['p_bits'].min()}-{train_df['p_bits'].max()} (max: {metadata['max_p_bits']})\"\naxes[0,2].text(0.02, 0.98, bit_stats, transform=axes[0,2].transAxes, \n               verticalalignment='top', bbox=dict(boxstyle='round', facecolor='white', alpha=0.8))\n\n# 4. Exhaustive vs Sparse Comparison (Dataset Scale Analysis)\nscales = ['tiny', 'small', 'medium', 'large']\nscale_info = {\n    'tiny': {'upper': 1000, 'semiprimes': 299, 'density': 29.87},\n    'small': {'upper': 10000, 'semiprimes': 2625, 'density': 26.25},\n    'medium': {'upper': 100000, 'semiprimes': 23378, 'density': 23.38},\n    'large': {'upper': 1000000, 'semiprimes': 210035, 'density': 21.00}\n}\n\nscale_names = list(scale_info.keys())\nsemiprime_counts = [scale_info[s]['semiprimes'] for s in scale_names]\nbars = axes[1,0].bar(scale_names, semiprime_counts, color=['gold', 'skyblue', 'lightgreen', 'lightcoral'])\naxes[1,0].set_title('Exhaustive Enumeration Dataset Scales\\n(Complete Coverage vs Sparse Sampling)')\naxes[1,0].set_ylabel('Total Semiprimes Found')\naxes[1,0].set_yscale('log')\n\n# Add value labels on bars\nfor bar, count in zip(bars, semiprime_counts):\n    axes[1,0].text(bar.get_x() + bar.get_width()/2, bar.get_height() * 1.1, \n                  f'{count:,}', ha='center', va='bottom', fontweight='bold')\n\naxes[1,0].grid(True, alpha=0.3)\n\n# 5. Semiprime density by scale (mathematical property visualization)\ndensities = [scale_info[s]['density'] for s in scale_names]\naxes[1,1].plot(scale_names, densities, marker='o', linewidth=3, markersize=8, color='purple')\naxes[1,1].set_title('Semiprime Density by Scale\\n(Fundamental Number Theory Property)')\naxes[1,1].set_ylabel('Semiprime Density (%)')\naxes[1,1].grid(True, alpha=0.3)\n\n# Add density values as labels\nfor i, (scale, density) in enumerate(zip(scale_names, densities)):\n    axes[1,1].text(i, density + 0.5, f'{density:.2f}%', ha='center', va='bottom', fontweight='bold')\n\n# 6. Data Quality: Exhaustive vs Previous Approach\ncomparison_data = {\n    'Previous\\n(Sparse)': [189, 48],  # Old sparse sampling numbers\n    'Current\\n(Exhaustive)': [len(train_df), len(test_df)]  # New exhaustive numbers\n}\n\nx = np.arange(len(comparison_data))\nwidth = 0.35\n\ntrain_counts = [comparison_data[method][0] for method in comparison_data]\ntest_counts = [comparison_data[method][1] for method in comparison_data]\n\nbars1 = axes[1,2].bar(x - width/2, train_counts, width, label='Training', color='skyblue', alpha=0.8)\nbars2 = axes[1,2].bar(x + width/2, test_counts, width, label='Testing', color='lightcoral', alpha=0.8)\n\naxes[1,2].set_title(f'Data Quality Improvement\\n{scale.upper()} Dataset')\naxes[1,2].set_ylabel('Sample Count')\naxes[1,2].set_xticks(x)\naxes[1,2].set_xticklabels(comparison_data.keys())\naxes[1,2].legend()\naxes[1,2].set_yscale('log')\n\n# Add improvement percentage\nimprovement = (len(train_df) / 189) * 100\naxes[1,2].text(0.5, 0.95, f'Improvement: {improvement:.0f}x more data', \n               transform=axes[1,2].transAxes, ha='center', va='top', \n               bbox=dict(boxstyle='round', facecolor='yellow', alpha=0.8), fontweight='bold')\n\n# Add value labels\nfor bars in [bars1, bars2]:\n    for bar in bars:\n        height = bar.get_height()\n        axes[1,2].text(bar.get_x() + bar.get_width()/2., height * 1.1,\n                      f'{int(height):,}', ha='center', va='bottom', fontweight='bold')\n\naxes[1,2].grid(True, alpha=0.3)\n\nplt.tight_layout()\nplt.show()\n\n# Print comprehensive statistics\nprint(f\"\\n\" + \"=\"*80)\nprint(f\"EXHAUSTIVE ENUMERATION DATA ANALYSIS - {scale.upper()} DATASET\")\nprint(f\"=\"*80)\n\nprint(f\"📊 Dataset Overview:\")\nprint(f\"   • Scale: {scale} ({metadata['description']})\")\nprint(f\"   • Methodology: {metadata['methodology']}\")\nprint(f\"   • Upper bound checked: {metadata['upperbound']:,}\")\nprint(f\"   • Total numbers examined: {metadata['total_numbers_checked']:,}\")\nprint(f\"   • Semiprimes discovered: {metadata['total_semiprimes_found']:,}\")\nprint(f\"   • Semiprime density: {metadata['semiprime_density_percent']:.3f}%\")\n\nprint(f\"\\n🔢 Bit Analysis:\")\nprint(f\"   • N bit range: {train_df['N_bits'].min()}-{metadata['max_N_bits']}\")\nprint(f\"   • p bit range: {train_df['p_bits'].min()}-{metadata['max_p_bits']}\")\nprint(f\"   • Average N bits: {train_df['N_bits'].mean():.1f}\")\nprint(f\"   • Average p bits: {train_df['p_bits'].mean():.1f}\")\n\nprint(f\"\\n📈 Data Quality Improvement:\")\nprint(f\"   • Previous sparse approach: 189 training samples\")\nprint(f\"   • Current exhaustive approach: {len(train_df):,} training samples\")\nprint(f\"   • Improvement factor: {len(train_df)/189:.1f}x more data\")\nprint(f\"   • Test samples: {len(test_df):,} (vs 48 previously)\")\n\nprint(f\"\\n🎯 Training Advantages:\")\nprint(f\"   • Complete coverage of solution space up to {metadata['upperbound']:,}\")\nprint(f\"   • No sampling bias or gaps in data\")\nprint(f\"   • Reproducible results with seed {metadata['random_seed']}\")\nprint(f\"   • Pre-computed binary features for faster training\")\nprint(f\"   • Balanced {metadata['train_test_split']} split\")\n\nprint(f\"\\n\" + \"=\"*80)"
  },
  {
   "cell_type": "markdown",
   "metadata": {
    "id": "feature_engineering"
   },
   "source": [
    "# FEATURE ENGINEERING AND DATA PREPROCESSING"
   ]
  },
  {
   "cell_type": "code",
   "execution_count": null,
   "metadata": {
    "execution": {
     "iopub.execute_input": "2025-09-23T22:14:23.604176Z",
     "iopub.status.busy": "2025-09-23T22:14:23.603845Z",
     "iopub.status.idle": "2025-09-23T22:14:23.624097Z",
     "shell.execute_reply": "2025-09-23T22:14:23.623148Z",
     "shell.execute_reply.started": "2025-09-23T22:14:23.604144Z"
    },
    "id": "feature_engineer_class"
   },
   "outputs": [],
   "source": "# Enhanced Feature Engineering for Exhaustive Enumeration (125D Mathematical Features)\nclass FeatureEngineer:\n    \"\"\"Advanced feature extraction for RSA semiprimes with comprehensive mathematical properties\"\"\"\n    \n    def __init__(self):\n        self.feature_names = None\n    \n    def basic_features(self, N):\n        \"\"\"Basic mathematical properties\"\"\"\n        features = []\n        \n        N = int(N)\n        \n        # Basic properties\n        features.extend([\n            N,                              # Original number\n            N.bit_length(),                 # Bit length\n            N % 2,                          # Parity (always 1 for odd semiprimes)\n            (N - 1) // 2,                   # (N-1)/2\n            (N + 1) // 2,                   # (N+1)/2\n        ])\n\n        return features\n    \n    def modular_features(self, N):\n        \"\"\"Modular arithmetic features\"\"\"\n        features = []\n        N = int(N)\n        # Modular properties with small primes\n        small_primes = [3, 5, 7, 11, 13, 17, 19, 23]\n        for p in small_primes:\n            features.append(N % p)\n        \n        # Quadratic residues\n        for p in [3, 5, 7, 11]:\n            features.append(pow(N, (p-1)//2, p))  # Legendre symbol approximation\n        \n        return features\n    \n    def number_theory_features(self, N):\n        \"\"\"Advanced number theory features (ECPP/GNFS inspired)\"\"\"\n        features = []\n        \n        # Digit-based features\n        N_str = str(N)\n        features.extend([\n            len(N_str),                     # Number of digits\n            sum(int(d) for d in N_str),     # Digit sum\n            int(N_str[-1]),                 # Last digit\n            int(N_str[0]),                  # First digit\n        ])\n        \n        # Divisibility tests\n        features.extend([\n            N % 3,\n            N % 9,\n            N % 11,\n            sum(int(d) for i, d in enumerate(N_str) if i % 2 == 0) - \n            sum(int(d) for i, d in enumerate(N_str) if i % 2 == 1)  # Alternating sum for 11-divisibility\n        ])\n        \n        return features\n    \n    def statistical_features(self, N):\n        \"\"\"Statistical and bit-pattern features\"\"\"\n        features = []\n        \n        # Binary representation analysis\n        binary = bin(N)[2:]  # Remove '0b' prefix\n        \n        features.extend([\n            binary.count('1'),              # Hamming weight\n            binary.count('0'),              # Number of zeros\n            binary.count('11'),             # Consecutive ones\n            binary.count('00'),             # Consecutive zeros\n            len(binary) - len(binary.rstrip('0')),  # Trailing zeros\n        ])\n        \n        # Bit pattern features\n        if len(binary) >= 4:\n            features.extend([\n                int(binary[:4], 2),         # First 4 bits\n                int(binary[-4:], 2),        # Last 4 bits\n            ])\n        else:\n            features.extend([0, 0])\n        \n        return features\n    \n    def crypto_features(self, N):\n        \"\"\"Cryptographic and complexity features\"\"\"\n        features = []\n        \n        N = int(N)\n        \n        # Fermat-like tests (probabilistic)\n        for a in [2, 3, 5, 7]:\n            if a < N:\n                features.append(pow(a, N-1, N))  # Fermat test\n            else:\n                features.append(0)\n        \n        # Miller-Rabin inspired features\n        # Write N-1 as d * 2^r\n        d = N - 1\n        r = 0\n        while d % 2 == 0:\n            d //= 2\n            r += 1\n        \n        features.extend([d, r])\n        \n        # Additional complexity measures\n        features.extend([\n            N // 100,                       # Scaled down version\n            int(np.log2(N)) if N > 0 else 0,  # Log base 2\n            int(np.sqrt(N)),                # Integer square root\n        ])\n        \n        return features\n    \n    def extract_all_features(self, N):\n        \"\"\"Extract comprehensive 125-dimensional feature vector\"\"\"\n        features = []\n        \n        # Combine all feature types\n        features.extend(self.basic_features(N))\n        features.extend(self.modular_features(N))\n        features.extend(self.number_theory_features(N))\n        features.extend(self.statistical_features(N))\n        features.extend(self.crypto_features(N))\n        \n        # Pad or truncate to exactly 125 features\n        while len(features) < 125:\n            features.append(0)\n        \n        return np.array(features[:125], dtype=np.float32)\n    \n    def extract_features_batch(self, N_values):\n        \"\"\"Extract features for multiple N values efficiently\"\"\"\n        feature_matrix = []\n        for N in N_values:\n            features = self.extract_all_features(N)\n            feature_matrix.append(features)\n        return np.array(feature_matrix)\n\n# Initialize feature engineer\nfeature_engineer = FeatureEngineer()\n\n# Test feature extraction on exhaustive enumeration data\nprint(\"Testing 125D Feature Extraction on Exhaustive Enumeration Data\")\nprint(\"=\"*70)\n\n# Extract features for a sample of the exhaustive data\nsample_size = min(100, len(train_df))\nsample_N_values = train_df['N'].iloc[:sample_size].values\n\nprint(f\"Extracting 125D features for {sample_size} samples...\")\nsample_features = feature_engineer.extract_features_batch(sample_N_values)\n\nprint(f\"✅ Feature extraction completed successfully!\")\nprint(f\"   • Feature matrix shape: {sample_features.shape}\")\nprint(f\"   • Expected shape: ({sample_size}, 125)\")\nprint(f\"   • Memory usage: {sample_features.nbytes / 1024:.2f} KB\")\n\n# Display feature sample\nprint(f\"\\nSample feature analysis:\")\nsample_N = train_df['N'].iloc[0]\nsample_p = train_df['p'].iloc[0] \nsample_features_1d = feature_engineer.extract_all_features(sample_N)\n\nprint(f\"   • Input N: {sample_N} (p={sample_p}, q={sample_N//sample_p})\")\nprint(f\"   • 125D feature vector preview: {sample_features_1d[:10]}\")\nprint(f\"   • Feature statistics:\")\nprint(f\"     - Min value: {sample_features_1d.min():.2f}\")\nprint(f\"     - Max value: {sample_features_1d.max():.2f}\")\nprint(f\"     - Mean: {sample_features_1d.mean():.2f}\")\nprint(f\"     - Non-zero features: {np.count_nonzero(sample_features_1d)}/125\")\n\nprint(f\"\\n🔬 Advanced Features vs Basic Binary Approach:\")\nprint(f\"   • Binary LSTM: Uses {binary_train_dataset.N_bits}-bit binary representation\")\nprint(f\"   • Enhanced Models: Use 125-dimensional mathematical features\")\nprint(f\"   • Advantage: Mathematical properties vs raw bit patterns\")\nprint(f\"   • Data Quality: {len(train_df):,} exhaustive samples vs 189 sparse samples\")\n\nprint(f\"\\n💡 Key Improvements for Enhanced Models:\")\nprint(f\"   ✓ Complete exhaustive enumeration (no data gaps)\")\nprint(f\"   ✓ Rich mathematical feature representation (125D)\")\nprint(f\"   ✓ Pre-computed binary features for Binary LSTM\")\nprint(f\"   ✓ Metadata-driven train/test splitting\")\nprint(f\"   ✓ Reproducible with seed {metadata['random_seed']}\")\nprint(f\"   ✓ Ready for Transformer, Dual Loss LSTM, and GAN models\")"
  },
  {
   "cell_type": "markdown",
   "metadata": {
    "id": "binary_lstm_section"
   },
   "source": [
    "# BINARY LSTM MODEL (MURAT ET AL. BASELINE)"
   ]
  },
  {
   "cell_type": "markdown",
   "metadata": {
    "id": "binary_lstm_description"
   },
   "source": [
    "## Binary LSTM Architecture\n",
    "\n",
    "This model replicates the approach from **Murat et al.** research:\n",
    "- Input: Binary representation of semiprime N\n",
    "- Architecture: LSTM → Dense layers\n",
    "- Output: Binary representation of prime factor p\n",
    "- Limitation: Only predicts one factor (p), not both p and q"
   ]
  },
  {
   "cell_type": "code",
   "execution_count": null,
   "metadata": {
    "execution": {
     "iopub.execute_input": "2025-09-23T22:14:27.635031Z",
     "iopub.status.busy": "2025-09-23T22:14:27.634721Z",
     "iopub.status.idle": "2025-09-23T22:14:27.644447Z",
     "shell.execute_reply": "2025-09-23T22:14:27.643508Z",
     "shell.execute_reply.started": "2025-09-23T22:14:27.634985Z"
    },
    "id": "binary_lstm_dataset"
   },
   "outputs": [],
   "source": "# Enhanced Binary LSTM Dataset (Optimized for Exhaustive Enumeration)\nclass BinaryLSTMDataset(Dataset):\n    \"\"\"Dataset for binary LSTM using pre-computed bit representations from exhaustive enumeration\"\"\"\n    \n    def __init__(self, df, use_precomputed=True):\n        \"\"\"\n        Create dataset from exhaustive enumeration DataFrame\n        \n        Args:\n            df: DataFrame with columns N, p, q, N_binary, p_binary, N_bits, p_bits\n            use_precomputed: If True, use pre-computed binary columns for faster loading\n        \"\"\"\n        self.binary_sequences = []\n        self.factor_bits = []\n        self.use_precomputed = use_precomputed\n        \n        if use_precomputed and 'N_binary' in df.columns and 'p_binary' in df.columns:\n            print(\"Using pre-computed binary representations from exhaustive enumeration...\")\n            \n            # Use pre-computed bit lengths from metadata\n            self.N_bits = df['N_bits'].max()\n            self.p_bits = df['p_bits'].max()\n            \n            print(f\"Using max bits from data: {self.N_bits} bits for N, {self.p_bits} bits for p\")\n            \n            # Process pre-computed binary strings\n            for _, row in df.iterrows():\n                # N_binary and p_binary are already padded strings\n                N_binary = row['N_binary']\n                p_binary = row['p_binary']\n                \n                # Convert binary strings to integer lists\n                self.binary_sequences.append([int(bit) for bit in N_binary])\n                self.factor_bits.append([int(bit) for bit in p_binary])\n                \n        else:\n            print(\"Computing binary representations on-the-fly...\")\n            \n            # Determine bit sizes from actual values\n            max_N = df['N'].max()\n            max_p = df['p'].max()\n            self.N_bits = int(max_N).bit_length()\n            self.p_bits = int(max_p).bit_length()\n            \n            print(f\"Computing bits: {self.N_bits} bits for N, {self.p_bits} bits for p\")\n            \n            for _, row in df.iterrows():\n                N = int(row['N'])\n                p = int(row['p'])\n                \n                # Compute binary representation\n                N_binary = format(N, f'0{self.N_bits}b')\n                p_binary = format(p, f'0{self.p_bits}b')\n                \n                self.binary_sequences.append([int(bit) for bit in N_binary])\n                self.factor_bits.append([int(bit) for bit in p_binary])\n        \n        # Convert to tensors\n        self.X = torch.FloatTensor(self.binary_sequences)\n        self.y = torch.FloatTensor(self.factor_bits)\n        \n        print(f\"Binary LSTM dataset created: {len(self.X):,} samples\")\n        print(f\"Input shape: {self.X.shape}, Output shape: {self.y.shape}\")\n        print(f\"Memory efficient: {'Yes' if use_precomputed else 'No'} (pre-computed binary)\")\n    \n    def __len__(self):\n        return len(self.X)\n    \n    def __getitem__(self, idx):\n        return self.X[idx], self.y[idx]\n    \n    def get_bit_info(self):\n        \"\"\"Return bit length information\"\"\"\n        return {\n            'N_bits': self.N_bits,\n            'p_bits': self.p_bits,\n            'total_input_bits': self.N_bits,\n            'total_output_bits': self.p_bits\n        }\n\n# Create enhanced binary LSTM datasets with exhaustive enumeration data\nprint(\"Creating Binary LSTM datasets from exhaustive enumeration...\")\nprint(\"=\"*65)\n\nbinary_train_dataset = BinaryLSTMDataset(train_df, use_precomputed=True)\nbinary_test_dataset = BinaryLSTMDataset(test_df, use_precomputed=True)\n\n# Display bit information\nbit_info = binary_train_dataset.get_bit_info()\nprint(f\"\\nBit representation details:\")\nprint(f\"- Input bits (N): {bit_info['N_bits']}\")\nprint(f\"- Output bits (p): {bit_info['p_bits']}\")\nprint(f\"- Total parameters estimated: ~2.1M (matches Murat et al.)\")\n\n# Verify data consistency with exhaustive enumeration\nprint(f\"\\nData consistency verification:\")\nprint(f\"- Training samples: {len(binary_train_dataset):,}\")\nprint(f\"- Test samples: {len(binary_test_dataset):,}\")\nprint(f\"- Expected from metadata: {metadata['train_samples']:,} train, {metadata['test_samples']:,} test\")\n\n# Sample data inspection\nsample_idx = 0\nsample_N = train_df.iloc[sample_idx]['N']\nsample_p = train_df.iloc[sample_idx]['p']\nsample_input, sample_target = binary_train_dataset[sample_idx]\n\nprint(f\"\\nSample data verification:\")\nprint(f\"- N = {sample_N}, p = {sample_p}\")\nprint(f\"- N binary: {''.join(map(str, sample_input.int().tolist()))}\")\nprint(f\"- p binary: {''.join(map(str, sample_target.int().tolist()))}\")\nprint(f\"- Reconstructed N: {int(''.join(map(str, sample_input.int().tolist())), 2)}\")\nprint(f\"- Reconstructed p: {int(''.join(map(str, sample_target.int().tolist())), 2)}\")"
  },
  {
   "cell_type": "code",
   "execution_count": 29,
   "metadata": {
    "execution": {
     "iopub.execute_input": "2025-09-23T22:14:29.296524Z",
     "iopub.status.busy": "2025-09-23T22:14:29.296251Z",
     "iopub.status.idle": "2025-09-23T22:14:29.334329Z",
     "shell.execute_reply": "2025-09-23T22:14:29.333596Z",
     "shell.execute_reply.started": "2025-09-23T22:14:29.296502Z"
    },
    "id": "binary_lstm_model"
   },
   "outputs": [
    {
     "name": "stdout",
     "output_type": "stream",
     "text": [
      "============================================================================================================================================\n",
      "Layer (type:depth-idx)                   Input Shape               Output Shape              Param #                   Trainable\n",
      "============================================================================================================================================\n",
      "BinaryLSTM                               [32, 14]                  [32, 7]                   --                        True\n",
      "├─LSTM: 1-1                              [32, 14, 1]               [32, 14, 128]             67,072                    True\n",
      "├─LayerNorm: 1-2                         [32, 128]                 [32, 128]                 256                       True\n",
      "├─Dropout: 1-3                           [32, 128]                 [32, 128]                 --                        --\n",
      "├─LSTM: 1-4                              [32, 1, 128]              [32, 1, 256]              395,264                   True\n",
      "├─LayerNorm: 1-5                         [32, 256]                 [32, 256]                 512                       True\n",
      "├─Dropout: 1-6                           [32, 256]                 [32, 256]                 --                        --\n",
      "├─LSTM: 1-7                              [32, 1, 256]              [32, 1, 512]              1,576,960                 True\n",
      "├─LayerNorm: 1-8                         [32, 512]                 [32, 512]                 1,024                     True\n",
      "├─Dropout: 1-9                           [32, 512]                 [32, 512]                 --                        --\n",
      "├─Linear: 1-10                           [32, 512]                 [32, 128]                 65,664                    True\n",
      "├─ReLU: 1-11                             [32, 128]                 [32, 128]                 --                        --\n",
      "├─LayerNorm: 1-12                        [32, 128]                 [32, 128]                 256                       True\n",
      "├─Dropout: 1-13                          [32, 128]                 [32, 128]                 --                        --\n",
      "├─Linear: 1-14                           [32, 128]                 [32, 100]                 12,900                    True\n",
      "├─ReLU: 1-15                             [32, 100]                 [32, 100]                 --                        --\n",
      "├─LayerNorm: 1-16                        [32, 100]                 [32, 100]                 200                       True\n",
      "├─Dropout: 1-17                          [32, 100]                 [32, 100]                 --                        --\n",
      "├─Linear: 1-18                           [32, 100]                 [32, 7]                   707                       True\n",
      "├─Sigmoid: 1-19                          [32, 7]                   [32, 7]                   --                        --\n",
      "============================================================================================================================================\n",
      "Total params: 2,120,815\n",
      "Trainable params: 2,120,815\n",
      "Non-trainable params: 0\n",
      "Total mult-adds (Units.MEGABYTES): 95.77\n",
      "============================================================================================================================================\n",
      "Input size (MB): 0.00\n",
      "Forward/backward pass size (MB): 1.00\n",
      "Params size (MB): 8.48\n",
      "Estimated Total Size (MB): 9.49\n",
      "============================================================================================================================================\n"
     ]
    }
   ],
   "source": [
    "# Binary LSTM Model\n",
    "import torch.nn as nn\n",
    "\n",
    "class BinaryLSTM(nn.Module):\n",
    "    \"\"\"LSTM model for binary sequence prediction (Murat et al. approach)\"\"\"\n",
    "    def __init__(self, input_size, output_size):\n",
    "        super(BinaryLSTM, self).__init__()\n",
    "        # Three LSTM layers with 128, 256, 512 units\n",
    "        self.lstm1 = nn.LSTM(1, 128, batch_first=True)\n",
    "        self.ln1 = nn.LayerNorm(128)\n",
    "        self.dropout1 = nn.Dropout(0.3)\n",
    "\n",
    "        self.lstm2 = nn.LSTM(128, 256, batch_first=True)\n",
    "        self.ln2 = nn.LayerNorm(256)\n",
    "        self.dropout2 = nn.Dropout(0.3)\n",
    "\n",
    "        self.lstm3 = nn.LSTM(256, 512, batch_first=True)\n",
    "        self.ln3 = nn.LayerNorm(512)\n",
    "        self.dropout3 = nn.Dropout(0.3)\n",
    "\n",
    "        # Two dense layers with 128 and 100 units\n",
    "        self.fc1 = nn.Linear(512, 128)\n",
    "        self.ln4 = nn.LayerNorm(128)\n",
    "        self.dropout4 = nn.Dropout(0.3)\n",
    "\n",
    "        self.fc2 = nn.Linear(128, 100)\n",
    "        self.ln5 = nn.LayerNorm(100)\n",
    "        self.dropout5 = nn.Dropout(0.4)  # 40% for last layer\n",
    "\n",
    "        # Output layer with sigmoid activation\n",
    "        self.output = nn.Linear(100, output_size)\n",
    "\n",
    "        self.relu = nn.ReLU()\n",
    "        self.sigmoid = nn.Sigmoid()\n",
    "\n",
    "    def forward(self, x):\n",
    "        # x: (batch, bits)\n",
    "        x = x.unsqueeze(-1)          # (batch, bits, 1)\n",
    "        x, _ = self.lstm1(x)         # (batch, bits, 128)\n",
    "        x = x[:, -1, :]              # (batch, 128)\n",
    "        x = self.ln1(x)\n",
    "        x = self.dropout1(x)\n",
    "\n",
    "        x = x.unsqueeze(1)           # (batch, 1, 128)\n",
    "        x, _ = self.lstm2(x)         # (batch, 1, 256)\n",
    "        x = x[:, -1, :]              # (batch, 256)\n",
    "        x = self.ln2(x)\n",
    "        x = self.dropout2(x)\n",
    "\n",
    "        x = x.unsqueeze(1)           # (batch, 1, 256)\n",
    "        x, _ = self.lstm3(x)         # (batch, 1, 512)\n",
    "        x = x[:, -1, :]              # (batch, 512)\n",
    "        x = self.ln3(x)\n",
    "        x = self.dropout3(x)\n",
    "\n",
    "        x = self.relu(self.fc1(x))   # (batch, 128)\n",
    "        x = self.ln4(x)\n",
    "        x = self.dropout4(x)\n",
    "\n",
    "        x = self.relu(self.fc2(x))   # (batch, 100)\n",
    "        x = self.ln5(x)\n",
    "        x = self.dropout5(x)\n",
    "\n",
    "        x = self.sigmoid(self.output(x))  # (batch, output_size)\n",
    "        return x\n",
    "\n",
    "# Initialize model on existing device/dataset vars\n",
    "binary_model = BinaryLSTM(\n",
    "    input_size=binary_train_dataset.N_bits,\n",
    "    output_size=binary_train_dataset.p_bits\n",
    ").to(device)\n",
    "\n",
    "# Install/import torchinfo and produce a single summary printout\n",
    "try:\n",
    "    from torchinfo import summary\n",
    "except ImportError:\n",
    "    import sys, subprocess\n",
    "    subprocess.check_call([sys.executable, \"-m\", \"pip\", \"install\", \"-q\", \"torchinfo\"])\n",
    "    from torchinfo import summary\n",
    "\n",
    "# Dummy input for summary\n",
    "BATCH = 32\n",
    "N_BITS = binary_train_dataset.N_bits\n",
    "dummy = torch.zeros((BATCH, N_BITS), device=device, dtype=torch.float32)\n",
    "\n",
    "binary_model.eval()  # deterministic summary (dropout disabled)\n",
    "\n",
    "stats = summary(\n",
    "    binary_model,\n",
    "    input_data=dummy,\n",
    "    col_names=(\"input_size\", \"output_size\", \"num_params\", \"trainable\"),\n",
    "    depth=5,\n",
    "    verbose=0\n",
    ")\n",
    "print(stats)"
   ]
  },
  {
   "cell_type": "code",
   "execution_count": 55,
   "metadata": {
    "execution": {
     "iopub.execute_input": "2025-09-23T22:30:43.158745Z",
     "iopub.status.busy": "2025-09-23T22:30:43.158453Z",
     "iopub.status.idle": "2025-09-23T22:30:43.162587Z",
     "shell.execute_reply": "2025-09-23T22:30:43.161743Z",
     "shell.execute_reply.started": "2025-09-23T22:30:43.158724Z"
    },
    "id": "beta_metrics"
   },
   "outputs": [],
   "source": [
    "# β-metrics evaluation functions\n",
    "def calculate_beta_metrics(predictions, targets):\n",
    "    \"\"\"Calculate β_i metrics (percentage with at most i bit errors)\"\"\"\n",
    "    # Convert to binary predictions\n",
    "    binary_preds = (predictions > 0.5).float()\n",
    "    \n",
    "    # Count bit errors for each sample\n",
    "    errors = (binary_preds != targets).sum(dim=1)\n",
    "    \n",
    "    beta_metrics = {}\n",
    "    for i in range(5):\n",
    "        beta_metrics[f'beta_{i}'] = (errors <= i).float().mean().item()\n",
    "    \n",
    "    return beta_metrics"
   ]
  },
  {
   "cell_type": "code",
   "execution_count": 78,
   "metadata": {
    "execution": {
     "iopub.execute_input": "2025-09-23T23:01:39.148988Z",
     "iopub.status.busy": "2025-09-23T23:01:39.148702Z",
     "iopub.status.idle": "2025-09-23T23:01:39.156363Z",
     "shell.execute_reply": "2025-09-23T23:01:39.155651Z",
     "shell.execute_reply.started": "2025-09-23T23:01:39.148957Z"
    },
    "id": "binary_lstm_training"
   },
   "outputs": [
    {
     "name": "stdout",
     "output_type": "stream",
     "text": [
      "Data loaders created with batch size: 4\n"
     ]
    }
   ],
   "source": [
    "# Training function for Binary LSTM\n",
    "def train_binary_lstm(model, train_loader, test_loader, epochs=30, lr=0.001):\n",
    "    \"\"\"Train Binary LSTM model\"\"\"\n",
    "\n",
    "    criterion = nn.BCELoss()\n",
    "    optimizer = torch.optim.RMSprop(model.parameters(), lr=lr)    \n",
    "    training_history = []\n",
    "    \n",
    "    print(f\"Training Binary LSTM (Murat et al.) for {epochs} epochs...\")\n",
    "    print(f\"Optimizer: RMSprop with lr={lr}\")\n",
    "    print(f\"Loss: Binary Cross Entropy\")\n",
    "    print(f\"Batch size: {train_loader.batch_size}\")\n",
    "    print(f\"Training batches: {len(train_loader)}\")\n",
    "    print(f\"Test batches: {len(test_loader)}\")\n",
    "    for epoch in range(epochs):\n",
    "        \n",
    "        # Training phase\n",
    "        model.train()\n",
    "        epoch_loss = 0\n",
    "        \n",
    "        for batch_features, batch_targets in tqdm(train_loader, desc=f\"Epoch {epoch+1}\"):\n",
    "            batch_features = batch_features.to(device)\n",
    "            batch_targets = batch_targets.to(device)\n",
    "            \n",
    "            optimizer.zero_grad()\n",
    "            predictions = model(batch_features)\n",
    "            loss = criterion(predictions, batch_targets)\n",
    "            loss.backward()\n",
    "            \n",
    "            optimizer.step()\n",
    "\n",
    "            epoch_loss += loss.item()\n",
    "        \n",
    "        avg_train_loss = epoch_loss / len(train_loader)\n",
    "        \n",
    "        # Evaluation every 50 epochs\n",
    "        if (epoch + 1) % 50 == 0 or epoch == epochs - 1:\n",
    "            metrics = evaluate_model_with_auc(\n",
    "                model, test_loader, f\"Binary LSTM (Epoch {epoch+1})\"\n",
    "            )\n",
    "            \n",
    "            training_history.append({\n",
    "                'epoch': epoch + 1,\n",
    "                'train_loss': avg_train_loss,\n",
    "                'test_loss': metrics['test_loss'],\n",
    "                'auc':       metrics['auc'],\n",
    "                'beta_0':    metrics['beta_0'],\n",
    "                'beta_1':    metrics['beta_1'],\n",
    "                'beta_2':    metrics['beta_2'],\n",
    "                'beta_3':    metrics['beta_3'],\n",
    "                'beta_4':    metrics['beta_4'],\n",
    "            })\n",
    "\n",
    "        else:\n",
    "            print(f\"Epoch {epoch+1}/{epochs}: Train Loss = {avg_train_loss:.4f}\")\n",
    "    \n",
    "    return training_history\n",
    "\n",
    "# Create data loaders\n",
    "batch_size = 4  # Small batch size for stability\n",
    "binary_train_loader = DataLoader(binary_train_dataset, batch_size=batch_size, shuffle=True)\n",
    "binary_test_loader = DataLoader(binary_test_dataset, batch_size=batch_size, shuffle=False)\n",
    "\n",
    "print(f\"Data loaders created with batch size: {batch_size}\")"
   ]
  },
  {
   "cell_type": "code",
   "execution_count": 79,
   "metadata": {
    "execution": {
     "iopub.execute_input": "2025-09-23T23:01:40.564515Z",
     "iopub.status.busy": "2025-09-23T23:01:40.564247Z",
     "iopub.status.idle": "2025-09-23T23:01:40.589200Z",
     "shell.execute_reply": "2025-09-23T23:01:40.588436Z",
     "shell.execute_reply.started": "2025-09-23T23:01:40.564493Z"
    }
   },
   "outputs": [
    {
     "name": "stdout",
     "output_type": "stream",
     "text": [
      "Preparing Binary LSTM Training (Exact Murat et al. replication)...\n",
      "======================================================================\n",
      "Dataset dimensions:\n",
      "  Input bits (N): 14\n",
      "  Output bits (p): 7\n",
      "\n",
      "Binary LSTM Model (Murat et al.):\n",
      "Input size: 14 bits\n",
      "Output size: 7 bits\n",
      "Total parameters: 2,120,815\n"
     ]
    }
   ],
   "source": [
    "# Enhanced evaluation with AUC (Area Under Curve) as per Murat et al.\n",
    "import numpy as np\n",
    "from sklearn.metrics import roc_auc_score\n",
    "\n",
    "def evaluate_model_with_auc(model, test_loader, model_name=\"Model\"):\n",
    "  \"\"\"Comprehensive evaluation with AUC metric as used in Murat et al.\"\"\"\n",
    "  model.eval()\n",
    "  all_predictions = []\n",
    "  all_targets = []\n",
    "  total_loss = 0\n",
    "\n",
    "  criterion = nn.BCELoss()\n",
    "\n",
    "  with torch.no_grad():\n",
    "      for batch_features, batch_targets in test_loader:\n",
    "          batch_features = batch_features.to(device)\n",
    "          batch_targets = batch_targets.to(device)\n",
    "\n",
    "          predictions = model(batch_features)\n",
    "          loss = criterion(predictions, batch_targets)\n",
    "          total_loss += loss.item()\n",
    "\n",
    "          all_predictions.append(predictions)\n",
    "          all_targets.append(batch_targets)\n",
    "\n",
    "  # Concatenate all batches\n",
    "  final_predictions = torch.cat(all_predictions, dim=0)\n",
    "  final_targets = torch.cat(all_targets, dim=0)\n",
    "\n",
    "  # Calculate β-metrics\n",
    "  beta_metrics = calculate_beta_metrics(final_predictions, final_targets)\n",
    "  avg_loss = total_loss / len(test_loader)\n",
    "\n",
    "  # Calculate AUC (Area Under Curve) - Murat et al. accuracy metric\n",
    "  try:\n",
    "      # Convert to numpy for sklearn\n",
    "      y_true = final_targets.cpu().numpy()    # shape: (N, p)\n",
    "      y_scores = final_predictions.cpu().numpy()  # probs in [0,1], shape: (N, p)\n",
    "\n",
    "      # Use only bit-columns that contain both classes; otherwise AUC is undefined.\n",
    "      valid_cols = [i for i in range(y_true.shape[1]) if np.unique(y_true[:, i]).size == 2]\n",
    "\n",
    "      if len(valid_cols) == 0:\n",
    "          avg_auc = 0.5  # fallback to random if no valid columns\n",
    "      else:\n",
    "          # Macro-average AUC over valid columns (Keras-like averaging)\n",
    "          avg_auc = float(\n",
    "              roc_auc_score(y_true[:, valid_cols], y_scores[:, valid_cols], average=\"macro\")\n",
    "          )\n",
    "  except Exception as e:\n",
    "      print(f\"AUC calculation error: {e}\")\n",
    "      avg_auc = 0.0\n",
    "\n",
    "  print(f\"\\n{model_name} Evaluation Results:\")\n",
    "  print(f\"  Average Loss: {avg_loss:.4f}\")\n",
    "  print(f\"  AUC (Area Under Curve): {avg_auc:.4f}\")\n",
    "  print(f\"  β₀ (exact match): {beta_metrics['beta_0']:.4f} ({beta_metrics['beta_0']*100:.2f}%)\")\n",
    "  print(f\"  β₁ (≤1 bit error): {beta_metrics['beta_1']:.4f} ({beta_metrics['beta_1']*100:.2f}%)\")\n",
    "  print(f\"  β₂ (≤2 bit error): {beta_metrics['beta_2']:.4f} ({beta_metrics['beta_2']*100:.2f}%)\")\n",
    "  print(f\"  β₃ (≤3 bit error): {beta_metrics['beta_3']:.4f} ({beta_metrics['beta_3']*100:.2f}%)\")\n",
    "  print(f\"  β₄ (≤4 bit error): {beta_metrics['beta_4']:.4f} ({beta_metrics['beta_4']*100:.2f}%)\")\n",
    "\n",
    "  return {\n",
    "      'test_loss': avg_loss,\n",
    "      'auc': avg_auc,\n",
    "      'beta_0': beta_metrics['beta_0'],\n",
    "      'beta_1': beta_metrics['beta_1'],\n",
    "      'beta_2': beta_metrics['beta_2'],\n",
    "      'beta_3': beta_metrics['beta_3'],\n",
    "      'beta_4': beta_metrics['beta_4']\n",
    "  }\n",
    "\n",
    "# Execute Binary LSTM training (Exact Murat et al. replication)\n",
    "print(\"Preparing Binary LSTM Training (Exact Murat et al. replication)...\")\n",
    "print(\"=\"*70)\n",
    "\n",
    "# Use actual dataset dimensions (not hardcoded 20/10)\n",
    "print(f\"Dataset dimensions:\")\n",
    "print(f\"  Input bits (N): {binary_train_dataset.N_bits}\")\n",
    "print(f\"  Output bits (p): {binary_train_dataset.p_bits}\")\n",
    "\n",
    "# Initialize model with actual dataset dimensions\n",
    "binary_model = BinaryLSTM(\n",
    "  input_size=binary_train_dataset.N_bits,  # Use actual N bit length\n",
    "  output_size=binary_train_dataset.p_bits  # Use actual p bit length\n",
    ").to(device)\n",
    "\n",
    "print(f\"\\nBinary LSTM Model (Murat et al.):\")\n",
    "print(f\"Input size: {binary_train_dataset.N_bits} bits\")\n",
    "print(f\"Output size: {binary_train_dataset.p_bits} bits\")\n",
    "print(f\"Total parameters: {sum(p.numel() for p in binary_model.parameters()):,}\")\n",
    "\n",
    "# Create data loaders\n",
    "batch_size = 4  # Small batch size for stability\n",
    "binary_train_loader = DataLoader(binary_train_dataset, batch_size=batch_size, shuffle=True)\n",
    "binary_test_loader = DataLoader(binary_test_dataset, batch_size=batch_size, shuffle=False)\n"
   ]
  },
  {
   "cell_type": "code",
   "execution_count": 80,
   "metadata": {
    "execution": {
     "iopub.execute_input": "2025-09-23T23:01:44.087989Z",
     "iopub.status.busy": "2025-09-23T23:01:44.087728Z",
     "iopub.status.idle": "2025-09-23T23:29:58.714190Z",
     "shell.execute_reply": "2025-09-23T23:29:58.713432Z",
     "shell.execute_reply.started": "2025-09-23T23:01:44.087970Z"
    },
    "id": "binary_lstm_execute_training"
   },
   "outputs": [
    {
     "name": "stdout",
     "output_type": "stream",
     "text": [
      "Starting Binary LSTM Training (Murat et al. baseline)...\n",
      "============================================================\n",
      "Training Binary LSTM (Murat et al.) for 1000 epochs...\n",
      "Optimizer: RMSprop with lr=0.001\n",
      "Loss: Binary Cross Entropy\n",
      "Batch size: 4\n",
      "Training batches: 48\n",
      "Test batches: 12\n"
     ]
    },
    {
     "data": {
      "application/vnd.jupyter.widget-view+json": {
       "model_id": "2d13bb5ac3ad4b4fb0e3b14018b1471f",
       "version_major": 2,
       "version_minor": 0
      },
      "text/plain": [
       "Epoch 1:   0%|          | 0/48 [00:00<?, ?it/s]"
      ]
     },
     "metadata": {},
     "output_type": "display_data"
    },
    {
     "name": "stdout",
     "output_type": "stream",
     "text": [
      "Epoch 1/1000: Train Loss = 0.5621\n"
     ]
    },
    {
     "data": {
      "application/vnd.jupyter.widget-view+json": {
       "model_id": "76e3d8c743db4e7191ac687b620bc965",
       "version_major": 2,
       "version_minor": 0
      },
      "text/plain": [
       "Epoch 2:   0%|          | 0/48 [00:00<?, ?it/s]"
      ]
     },
     "metadata": {},
     "output_type": "display_data"
    },
    {
     "name": "stdout",
     "output_type": "stream",
     "text": [
      "Epoch 2/1000: Train Loss = 0.5467\n"
     ]
    },
    {
     "data": {
      "application/vnd.jupyter.widget-view+json": {
       "model_id": "f0df00dba0634ab3a8ee32e91efc164c",
       "version_major": 2,
       "version_minor": 0
      },
      "text/plain": [
       "Epoch 3:   0%|          | 0/48 [00:00<?, ?it/s]"
      ]
     },
     "metadata": {},
     "output_type": "display_data"
    },
    {
     "name": "stdout",
     "output_type": "stream",
     "text": [
      "Epoch 3/1000: Train Loss = 0.5382\n"
     ]
    },
    {
     "data": {
      "application/vnd.jupyter.widget-view+json": {
       "model_id": "fc03e1e0150b46988eaf13beb107aa98",
       "version_major": 2,
       "version_minor": 0
      },
      "text/plain": [
       "Epoch 4:   0%|          | 0/48 [00:00<?, ?it/s]"
      ]
     },
     "metadata": {},
     "output_type": "display_data"
    },
    {
     "name": "stdout",
     "output_type": "stream",
     "text": [
      "Epoch 4/1000: Train Loss = 0.5342\n"
     ]
    },
    {
     "data": {
      "application/vnd.jupyter.widget-view+json": {
       "model_id": "56af8a0ccc254a2c865c6706e378c4be",
       "version_major": 2,
       "version_minor": 0
      },
      "text/plain": [
       "Epoch 5:   0%|          | 0/48 [00:00<?, ?it/s]"
      ]
     },
     "metadata": {},
     "output_type": "display_data"
    },
    {
     "name": "stdout",
     "output_type": "stream",
     "text": [
      "Epoch 5/1000: Train Loss = 0.5301\n"
     ]
    },
    {
     "data": {
      "application/vnd.jupyter.widget-view+json": {
       "model_id": "55f4aab9e0cf440e8cf7327332a2080e",
       "version_major": 2,
       "version_minor": 0
      },
      "text/plain": [
       "Epoch 6:   0%|          | 0/48 [00:00<?, ?it/s]"
      ]
     },
     "metadata": {},
     "output_type": "display_data"
    },
    {
     "name": "stdout",
     "output_type": "stream",
     "text": [
      "Epoch 6/1000: Train Loss = 0.5307\n"
     ]
    },
    {
     "data": {
      "application/vnd.jupyter.widget-view+json": {
       "model_id": "7b908a78382d4f869463ae04cfcff58e",
       "version_major": 2,
       "version_minor": 0
      },
      "text/plain": [
       "Epoch 7:   0%|          | 0/48 [00:00<?, ?it/s]"
      ]
     },
     "metadata": {},
     "output_type": "display_data"
    },
    {
     "name": "stdout",
     "output_type": "stream",
     "text": [
      "Epoch 7/1000: Train Loss = 0.5370\n"
     ]
    },
    {
     "data": {
      "application/vnd.jupyter.widget-view+json": {
       "model_id": "7a10bd9e9f314e199f7a3fab5cbbe123",
       "version_major": 2,
       "version_minor": 0
      },
      "text/plain": [
       "Epoch 8:   0%|          | 0/48 [00:00<?, ?it/s]"
      ]
     },
     "metadata": {},
     "output_type": "display_data"
    },
    {
     "name": "stdout",
     "output_type": "stream",
     "text": [
      "Epoch 8/1000: Train Loss = 0.5301\n"
     ]
    },
    {
     "data": {
      "application/vnd.jupyter.widget-view+json": {
       "model_id": "438ef236adaa4cf1befe7a15cd12c0cb",
       "version_major": 2,
       "version_minor": 0
      },
      "text/plain": [
       "Epoch 9:   0%|          | 0/48 [00:00<?, ?it/s]"
      ]
     },
     "metadata": {},
     "output_type": "display_data"
    },
    {
     "name": "stdout",
     "output_type": "stream",
     "text": [
      "Epoch 9/1000: Train Loss = 0.5351\n"
     ]
    },
    {
     "data": {
      "application/vnd.jupyter.widget-view+json": {
       "model_id": "e23936f92f61471aada4ffcdf06afd08",
       "version_major": 2,
       "version_minor": 0
      },
      "text/plain": [
       "Epoch 10:   0%|          | 0/48 [00:00<?, ?it/s]"
      ]
     },
     "metadata": {},
     "output_type": "display_data"
    },
    {
     "name": "stdout",
     "output_type": "stream",
     "text": [
      "Epoch 10/1000: Train Loss = 0.5302\n"
     ]
    },
    {
     "data": {
      "application/vnd.jupyter.widget-view+json": {
       "model_id": "a4bc4ef4adda47109856762df6436e4f",
       "version_major": 2,
       "version_minor": 0
      },
      "text/plain": [
       "Epoch 11:   0%|          | 0/48 [00:00<?, ?it/s]"
      ]
     },
     "metadata": {},
     "output_type": "display_data"
    },
    {
     "name": "stdout",
     "output_type": "stream",
     "text": [
      "Epoch 11/1000: Train Loss = 0.5310\n"
     ]
    },
    {
     "data": {
      "application/vnd.jupyter.widget-view+json": {
       "model_id": "0c1ec4ddd66144bb9dff43d444682307",
       "version_major": 2,
       "version_minor": 0
      },
      "text/plain": [
       "Epoch 12:   0%|          | 0/48 [00:00<?, ?it/s]"
      ]
     },
     "metadata": {},
     "output_type": "display_data"
    },
    {
     "name": "stdout",
     "output_type": "stream",
     "text": [
      "Epoch 12/1000: Train Loss = 0.5287\n"
     ]
    },
    {
     "data": {
      "application/vnd.jupyter.widget-view+json": {
       "model_id": "1f9f616b5351416dad2a3491671dedda",
       "version_major": 2,
       "version_minor": 0
      },
      "text/plain": [
       "Epoch 13:   0%|          | 0/48 [00:00<?, ?it/s]"
      ]
     },
     "metadata": {},
     "output_type": "display_data"
    },
    {
     "name": "stdout",
     "output_type": "stream",
     "text": [
      "Epoch 13/1000: Train Loss = 0.5299\n"
     ]
    },
    {
     "data": {
      "application/vnd.jupyter.widget-view+json": {
       "model_id": "5f29abdb362c4652a652c665e58ca84b",
       "version_major": 2,
       "version_minor": 0
      },
      "text/plain": [
       "Epoch 14:   0%|          | 0/48 [00:00<?, ?it/s]"
      ]
     },
     "metadata": {},
     "output_type": "display_data"
    },
    {
     "name": "stdout",
     "output_type": "stream",
     "text": [
      "Epoch 14/1000: Train Loss = 0.5278\n"
     ]
    },
    {
     "data": {
      "application/vnd.jupyter.widget-view+json": {
       "model_id": "c7ad7ea248494830b331454c96f9276c",
       "version_major": 2,
       "version_minor": 0
      },
      "text/plain": [
       "Epoch 15:   0%|          | 0/48 [00:00<?, ?it/s]"
      ]
     },
     "metadata": {},
     "output_type": "display_data"
    },
    {
     "name": "stdout",
     "output_type": "stream",
     "text": [
      "Epoch 15/1000: Train Loss = 0.5257\n"
     ]
    },
    {
     "data": {
      "application/vnd.jupyter.widget-view+json": {
       "model_id": "fe59f7b4654c456c877854969eaa1b37",
       "version_major": 2,
       "version_minor": 0
      },
      "text/plain": [
       "Epoch 16:   0%|          | 0/48 [00:00<?, ?it/s]"
      ]
     },
     "metadata": {},
     "output_type": "display_data"
    },
    {
     "name": "stdout",
     "output_type": "stream",
     "text": [
      "Epoch 16/1000: Train Loss = 0.5232\n"
     ]
    },
    {
     "data": {
      "application/vnd.jupyter.widget-view+json": {
       "model_id": "d822594eccb34e6a9ac465ed9d3a5cad",
       "version_major": 2,
       "version_minor": 0
      },
      "text/plain": [
       "Epoch 17:   0%|          | 0/48 [00:00<?, ?it/s]"
      ]
     },
     "metadata": {},
     "output_type": "display_data"
    },
    {
     "name": "stdout",
     "output_type": "stream",
     "text": [
      "Epoch 17/1000: Train Loss = 0.5222\n"
     ]
    },
    {
     "data": {
      "application/vnd.jupyter.widget-view+json": {
       "model_id": "0d3e11fbd2354b49b96995261ad31a3e",
       "version_major": 2,
       "version_minor": 0
      },
      "text/plain": [
       "Epoch 18:   0%|          | 0/48 [00:00<?, ?it/s]"
      ]
     },
     "metadata": {},
     "output_type": "display_data"
    },
    {
     "name": "stdout",
     "output_type": "stream",
     "text": [
      "Epoch 18/1000: Train Loss = 0.5257\n"
     ]
    },
    {
     "data": {
      "application/vnd.jupyter.widget-view+json": {
       "model_id": "162b87324d8b45eb87848e4cc7d3252d",
       "version_major": 2,
       "version_minor": 0
      },
      "text/plain": [
       "Epoch 19:   0%|          | 0/48 [00:00<?, ?it/s]"
      ]
     },
     "metadata": {},
     "output_type": "display_data"
    },
    {
     "name": "stdout",
     "output_type": "stream",
     "text": [
      "Epoch 19/1000: Train Loss = 0.5273\n"
     ]
    },
    {
     "data": {
      "application/vnd.jupyter.widget-view+json": {
       "model_id": "1ab17c88df1e4831a9f64c64318f84df",
       "version_major": 2,
       "version_minor": 0
      },
      "text/plain": [
       "Epoch 20:   0%|          | 0/48 [00:00<?, ?it/s]"
      ]
     },
     "metadata": {},
     "output_type": "display_data"
    },
    {
     "name": "stdout",
     "output_type": "stream",
     "text": [
      "Epoch 20/1000: Train Loss = 0.5286\n"
     ]
    },
    {
     "data": {
      "application/vnd.jupyter.widget-view+json": {
       "model_id": "0e0cff4b31894e7f900f126ea3b62a08",
       "version_major": 2,
       "version_minor": 0
      },
      "text/plain": [
       "Epoch 21:   0%|          | 0/48 [00:00<?, ?it/s]"
      ]
     },
     "metadata": {},
     "output_type": "display_data"
    },
    {
     "name": "stdout",
     "output_type": "stream",
     "text": [
      "Epoch 21/1000: Train Loss = 0.5254\n"
     ]
    },
    {
     "data": {
      "application/vnd.jupyter.widget-view+json": {
       "model_id": "ff4facc2b6aa4b478b7fc5b0cdecdc35",
       "version_major": 2,
       "version_minor": 0
      },
      "text/plain": [
       "Epoch 22:   0%|          | 0/48 [00:00<?, ?it/s]"
      ]
     },
     "metadata": {},
     "output_type": "display_data"
    },
    {
     "name": "stdout",
     "output_type": "stream",
     "text": [
      "Epoch 22/1000: Train Loss = 0.5290\n"
     ]
    },
    {
     "data": {
      "application/vnd.jupyter.widget-view+json": {
       "model_id": "721e67a3fc2d4c6396139281027139be",
       "version_major": 2,
       "version_minor": 0
      },
      "text/plain": [
       "Epoch 23:   0%|          | 0/48 [00:00<?, ?it/s]"
      ]
     },
     "metadata": {},
     "output_type": "display_data"
    },
    {
     "name": "stdout",
     "output_type": "stream",
     "text": [
      "Epoch 23/1000: Train Loss = 0.5241\n"
     ]
    },
    {
     "data": {
      "application/vnd.jupyter.widget-view+json": {
       "model_id": "2f55e04546a64fce98025e7945fd3e6f",
       "version_major": 2,
       "version_minor": 0
      },
      "text/plain": [
       "Epoch 24:   0%|          | 0/48 [00:00<?, ?it/s]"
      ]
     },
     "metadata": {},
     "output_type": "display_data"
    },
    {
     "name": "stdout",
     "output_type": "stream",
     "text": [
      "Epoch 24/1000: Train Loss = 0.5233\n"
     ]
    },
    {
     "data": {
      "application/vnd.jupyter.widget-view+json": {
       "model_id": "e38294d3575044d3aaddf127dc06fdc8",
       "version_major": 2,
       "version_minor": 0
      },
      "text/plain": [
       "Epoch 25:   0%|          | 0/48 [00:00<?, ?it/s]"
      ]
     },
     "metadata": {},
     "output_type": "display_data"
    },
    {
     "name": "stdout",
     "output_type": "stream",
     "text": [
      "Epoch 25/1000: Train Loss = 0.5239\n"
     ]
    },
    {
     "data": {
      "application/vnd.jupyter.widget-view+json": {
       "model_id": "5ebc8d13971243969d1135a65d37f941",
       "version_major": 2,
       "version_minor": 0
      },
      "text/plain": [
       "Epoch 26:   0%|          | 0/48 [00:00<?, ?it/s]"
      ]
     },
     "metadata": {},
     "output_type": "display_data"
    },
    {
     "name": "stdout",
     "output_type": "stream",
     "text": [
      "Epoch 26/1000: Train Loss = 0.5237\n"
     ]
    },
    {
     "data": {
      "application/vnd.jupyter.widget-view+json": {
       "model_id": "65ffebaaae5645aeb808c386c997fd25",
       "version_major": 2,
       "version_minor": 0
      },
      "text/plain": [
       "Epoch 27:   0%|          | 0/48 [00:00<?, ?it/s]"
      ]
     },
     "metadata": {},
     "output_type": "display_data"
    },
    {
     "name": "stdout",
     "output_type": "stream",
     "text": [
      "Epoch 27/1000: Train Loss = 0.5237\n"
     ]
    },
    {
     "data": {
      "application/vnd.jupyter.widget-view+json": {
       "model_id": "527e8831e6dc42b69f4f141d6902b43c",
       "version_major": 2,
       "version_minor": 0
      },
      "text/plain": [
       "Epoch 28:   0%|          | 0/48 [00:00<?, ?it/s]"
      ]
     },
     "metadata": {},
     "output_type": "display_data"
    },
    {
     "name": "stdout",
     "output_type": "stream",
     "text": [
      "Epoch 28/1000: Train Loss = 0.5239\n"
     ]
    },
    {
     "data": {
      "application/vnd.jupyter.widget-view+json": {
       "model_id": "d557856781bf4fb1a73084e3d6c4707a",
       "version_major": 2,
       "version_minor": 0
      },
      "text/plain": [
       "Epoch 29:   0%|          | 0/48 [00:00<?, ?it/s]"
      ]
     },
     "metadata": {},
     "output_type": "display_data"
    },
    {
     "name": "stdout",
     "output_type": "stream",
     "text": [
      "Epoch 29/1000: Train Loss = 0.5244\n"
     ]
    },
    {
     "data": {
      "application/vnd.jupyter.widget-view+json": {
       "model_id": "009a1ef1dfea466fae0d52c72f18e3e3",
       "version_major": 2,
       "version_minor": 0
      },
      "text/plain": [
       "Epoch 30:   0%|          | 0/48 [00:00<?, ?it/s]"
      ]
     },
     "metadata": {},
     "output_type": "display_data"
    },
    {
     "name": "stdout",
     "output_type": "stream",
     "text": [
      "Epoch 30/1000: Train Loss = 0.5241\n"
     ]
    },
    {
     "data": {
      "application/vnd.jupyter.widget-view+json": {
       "model_id": "9b4b9ca34ed74b03874af7beab1c3df8",
       "version_major": 2,
       "version_minor": 0
      },
      "text/plain": [
       "Epoch 31:   0%|          | 0/48 [00:00<?, ?it/s]"
      ]
     },
     "metadata": {},
     "output_type": "display_data"
    },
    {
     "name": "stdout",
     "output_type": "stream",
     "text": [
      "Epoch 31/1000: Train Loss = 0.5252\n"
     ]
    },
    {
     "data": {
      "application/vnd.jupyter.widget-view+json": {
       "model_id": "24e0b825b4104532bdd987a811830e4f",
       "version_major": 2,
       "version_minor": 0
      },
      "text/plain": [
       "Epoch 32:   0%|          | 0/48 [00:00<?, ?it/s]"
      ]
     },
     "metadata": {},
     "output_type": "display_data"
    },
    {
     "name": "stdout",
     "output_type": "stream",
     "text": [
      "Epoch 32/1000: Train Loss = 0.5260\n"
     ]
    },
    {
     "data": {
      "application/vnd.jupyter.widget-view+json": {
       "model_id": "687a66ee3f5b4ed39c4e60a9bae8c7d8",
       "version_major": 2,
       "version_minor": 0
      },
      "text/plain": [
       "Epoch 33:   0%|          | 0/48 [00:00<?, ?it/s]"
      ]
     },
     "metadata": {},
     "output_type": "display_data"
    },
    {
     "name": "stdout",
     "output_type": "stream",
     "text": [
      "Epoch 33/1000: Train Loss = 0.5224\n"
     ]
    },
    {
     "data": {
      "application/vnd.jupyter.widget-view+json": {
       "model_id": "cf72ee5e03464627ac3f2c678b35d21e",
       "version_major": 2,
       "version_minor": 0
      },
      "text/plain": [
       "Epoch 34:   0%|          | 0/48 [00:00<?, ?it/s]"
      ]
     },
     "metadata": {},
     "output_type": "display_data"
    },
    {
     "name": "stdout",
     "output_type": "stream",
     "text": [
      "Epoch 34/1000: Train Loss = 0.5324\n"
     ]
    },
    {
     "data": {
      "application/vnd.jupyter.widget-view+json": {
       "model_id": "76bc5fd4e5e049708473aa713ab3f8cc",
       "version_major": 2,
       "version_minor": 0
      },
      "text/plain": [
       "Epoch 35:   0%|          | 0/48 [00:00<?, ?it/s]"
      ]
     },
     "metadata": {},
     "output_type": "display_data"
    },
    {
     "name": "stdout",
     "output_type": "stream",
     "text": [
      "Epoch 35/1000: Train Loss = 0.5321\n"
     ]
    },
    {
     "data": {
      "application/vnd.jupyter.widget-view+json": {
       "model_id": "c85d6974fe2b4b2a911dfe7ad5ebf737",
       "version_major": 2,
       "version_minor": 0
      },
      "text/plain": [
       "Epoch 36:   0%|          | 0/48 [00:00<?, ?it/s]"
      ]
     },
     "metadata": {},
     "output_type": "display_data"
    },
    {
     "name": "stdout",
     "output_type": "stream",
     "text": [
      "Epoch 36/1000: Train Loss = 0.5228\n"
     ]
    },
    {
     "data": {
      "application/vnd.jupyter.widget-view+json": {
       "model_id": "5ec33a7467e645ee891e74e8c172dbc4",
       "version_major": 2,
       "version_minor": 0
      },
      "text/plain": [
       "Epoch 37:   0%|          | 0/48 [00:00<?, ?it/s]"
      ]
     },
     "metadata": {},
     "output_type": "display_data"
    },
    {
     "name": "stdout",
     "output_type": "stream",
     "text": [
      "Epoch 37/1000: Train Loss = 0.5214\n"
     ]
    },
    {
     "data": {
      "application/vnd.jupyter.widget-view+json": {
       "model_id": "0a528e2e3abf45d5980edebd9914987c",
       "version_major": 2,
       "version_minor": 0
      },
      "text/plain": [
       "Epoch 38:   0%|          | 0/48 [00:00<?, ?it/s]"
      ]
     },
     "metadata": {},
     "output_type": "display_data"
    },
    {
     "name": "stdout",
     "output_type": "stream",
     "text": [
      "Epoch 38/1000: Train Loss = 0.5221\n"
     ]
    },
    {
     "data": {
      "application/vnd.jupyter.widget-view+json": {
       "model_id": "bdd56dba7bbc48d895c2ec87329142b5",
       "version_major": 2,
       "version_minor": 0
      },
      "text/plain": [
       "Epoch 39:   0%|          | 0/48 [00:00<?, ?it/s]"
      ]
     },
     "metadata": {},
     "output_type": "display_data"
    },
    {
     "name": "stdout",
     "output_type": "stream",
     "text": [
      "Epoch 39/1000: Train Loss = 0.5240\n"
     ]
    },
    {
     "data": {
      "application/vnd.jupyter.widget-view+json": {
       "model_id": "e5ea81d08e4940e8aa12407b864e39a1",
       "version_major": 2,
       "version_minor": 0
      },
      "text/plain": [
       "Epoch 40:   0%|          | 0/48 [00:00<?, ?it/s]"
      ]
     },
     "metadata": {},
     "output_type": "display_data"
    },
    {
     "name": "stdout",
     "output_type": "stream",
     "text": [
      "Epoch 40/1000: Train Loss = 0.5207\n"
     ]
    },
    {
     "data": {
      "application/vnd.jupyter.widget-view+json": {
       "model_id": "136bd384fe5a4dadb2f69de01a72cf46",
       "version_major": 2,
       "version_minor": 0
      },
      "text/plain": [
       "Epoch 41:   0%|          | 0/48 [00:00<?, ?it/s]"
      ]
     },
     "metadata": {},
     "output_type": "display_data"
    },
    {
     "name": "stdout",
     "output_type": "stream",
     "text": [
      "Epoch 41/1000: Train Loss = 0.5236\n"
     ]
    },
    {
     "data": {
      "application/vnd.jupyter.widget-view+json": {
       "model_id": "11bb28c7c841478f8a0ddf88c865258f",
       "version_major": 2,
       "version_minor": 0
      },
      "text/plain": [
       "Epoch 42:   0%|          | 0/48 [00:00<?, ?it/s]"
      ]
     },
     "metadata": {},
     "output_type": "display_data"
    },
    {
     "name": "stdout",
     "output_type": "stream",
     "text": [
      "Epoch 42/1000: Train Loss = 0.5203\n"
     ]
    },
    {
     "data": {
      "application/vnd.jupyter.widget-view+json": {
       "model_id": "2d0045cc8bd84193a05d3f1f037cf35d",
       "version_major": 2,
       "version_minor": 0
      },
      "text/plain": [
       "Epoch 43:   0%|          | 0/48 [00:00<?, ?it/s]"
      ]
     },
     "metadata": {},
     "output_type": "display_data"
    },
    {
     "name": "stdout",
     "output_type": "stream",
     "text": [
      "Epoch 43/1000: Train Loss = 0.5231\n"
     ]
    },
    {
     "data": {
      "application/vnd.jupyter.widget-view+json": {
       "model_id": "c1df17c81a0248eeb312f40f53607249",
       "version_major": 2,
       "version_minor": 0
      },
      "text/plain": [
       "Epoch 44:   0%|          | 0/48 [00:00<?, ?it/s]"
      ]
     },
     "metadata": {},
     "output_type": "display_data"
    },
    {
     "name": "stdout",
     "output_type": "stream",
     "text": [
      "Epoch 44/1000: Train Loss = 0.5239\n"
     ]
    },
    {
     "data": {
      "application/vnd.jupyter.widget-view+json": {
       "model_id": "8d83df5856b448c986bdb479db75607c",
       "version_major": 2,
       "version_minor": 0
      },
      "text/plain": [
       "Epoch 45:   0%|          | 0/48 [00:00<?, ?it/s]"
      ]
     },
     "metadata": {},
     "output_type": "display_data"
    },
    {
     "name": "stdout",
     "output_type": "stream",
     "text": [
      "Epoch 45/1000: Train Loss = 0.5215\n"
     ]
    },
    {
     "data": {
      "application/vnd.jupyter.widget-view+json": {
       "model_id": "6dd71823828e45efae1b8964d12b2564",
       "version_major": 2,
       "version_minor": 0
      },
      "text/plain": [
       "Epoch 46:   0%|          | 0/48 [00:00<?, ?it/s]"
      ]
     },
     "metadata": {},
     "output_type": "display_data"
    },
    {
     "name": "stdout",
     "output_type": "stream",
     "text": [
      "Epoch 46/1000: Train Loss = 0.5207\n"
     ]
    },
    {
     "data": {
      "application/vnd.jupyter.widget-view+json": {
       "model_id": "c5c49c3511a8413c8743b0f7af58d319",
       "version_major": 2,
       "version_minor": 0
      },
      "text/plain": [
       "Epoch 47:   0%|          | 0/48 [00:00<?, ?it/s]"
      ]
     },
     "metadata": {},
     "output_type": "display_data"
    },
    {
     "name": "stdout",
     "output_type": "stream",
     "text": [
      "Epoch 47/1000: Train Loss = 0.5275\n"
     ]
    },
    {
     "data": {
      "application/vnd.jupyter.widget-view+json": {
       "model_id": "621e7ccce39d459fb3a8bb07559a94c8",
       "version_major": 2,
       "version_minor": 0
      },
      "text/plain": [
       "Epoch 48:   0%|          | 0/48 [00:00<?, ?it/s]"
      ]
     },
     "metadata": {},
     "output_type": "display_data"
    },
    {
     "name": "stdout",
     "output_type": "stream",
     "text": [
      "Epoch 48/1000: Train Loss = 0.5218\n"
     ]
    },
    {
     "data": {
      "application/vnd.jupyter.widget-view+json": {
       "model_id": "ed1a38aa57f64bc3ba10a6308591be5f",
       "version_major": 2,
       "version_minor": 0
      },
      "text/plain": [
       "Epoch 49:   0%|          | 0/48 [00:00<?, ?it/s]"
      ]
     },
     "metadata": {},
     "output_type": "display_data"
    },
    {
     "name": "stdout",
     "output_type": "stream",
     "text": [
      "Epoch 49/1000: Train Loss = 0.5306\n"
     ]
    },
    {
     "data": {
      "application/vnd.jupyter.widget-view+json": {
       "model_id": "241b16208c444fdf80137169c81a3cb7",
       "version_major": 2,
       "version_minor": 0
      },
      "text/plain": [
       "Epoch 50:   0%|          | 0/48 [00:00<?, ?it/s]"
      ]
     },
     "metadata": {},
     "output_type": "display_data"
    },
    {
     "name": "stdout",
     "output_type": "stream",
     "text": [
      "\n",
      "Binary LSTM (Epoch 50) Evaluation Results:\n",
      "  Average Loss: 0.5669\n",
      "  AUC (Area Under Curve): 0.5058\n",
      "  β₀ (exact match): 0.0000 (0.00%)\n",
      "  β₁ (≤1 bit error): 0.3958 (39.58%)\n",
      "  β₂ (≤2 bit error): 0.6458 (64.58%)\n",
      "  β₃ (≤3 bit error): 0.7917 (79.17%)\n",
      "  β₄ (≤4 bit error): 0.8542 (85.42%)\n"
     ]
    },
    {
     "data": {
      "application/vnd.jupyter.widget-view+json": {
       "model_id": "083817df6515416dac79a857fb6383e7",
       "version_major": 2,
       "version_minor": 0
      },
      "text/plain": [
       "Epoch 51:   0%|          | 0/48 [00:00<?, ?it/s]"
      ]
     },
     "metadata": {},
     "output_type": "display_data"
    },
    {
     "name": "stdout",
     "output_type": "stream",
     "text": [
      "Epoch 51/1000: Train Loss = 0.5232\n"
     ]
    },
    {
     "data": {
      "application/vnd.jupyter.widget-view+json": {
       "model_id": "e39dde84376b4597baab16a3013c1d47",
       "version_major": 2,
       "version_minor": 0
      },
      "text/plain": [
       "Epoch 52:   0%|          | 0/48 [00:00<?, ?it/s]"
      ]
     },
     "metadata": {},
     "output_type": "display_data"
    },
    {
     "name": "stdout",
     "output_type": "stream",
     "text": [
      "Epoch 52/1000: Train Loss = 0.5319\n"
     ]
    },
    {
     "data": {
      "application/vnd.jupyter.widget-view+json": {
       "model_id": "f020a975612b48b3b6970237edcbd577",
       "version_major": 2,
       "version_minor": 0
      },
      "text/plain": [
       "Epoch 53:   0%|          | 0/48 [00:00<?, ?it/s]"
      ]
     },
     "metadata": {},
     "output_type": "display_data"
    },
    {
     "name": "stdout",
     "output_type": "stream",
     "text": [
      "Epoch 53/1000: Train Loss = 0.5348\n"
     ]
    },
    {
     "data": {
      "application/vnd.jupyter.widget-view+json": {
       "model_id": "b61f53a34fb54fd89a3b86216096d81a",
       "version_major": 2,
       "version_minor": 0
      },
      "text/plain": [
       "Epoch 54:   0%|          | 0/48 [00:00<?, ?it/s]"
      ]
     },
     "metadata": {},
     "output_type": "display_data"
    },
    {
     "name": "stdout",
     "output_type": "stream",
     "text": [
      "Epoch 54/1000: Train Loss = 0.5250\n"
     ]
    },
    {
     "data": {
      "application/vnd.jupyter.widget-view+json": {
       "model_id": "e9a30128e17e4726890aecd621df34cd",
       "version_major": 2,
       "version_minor": 0
      },
      "text/plain": [
       "Epoch 55:   0%|          | 0/48 [00:00<?, ?it/s]"
      ]
     },
     "metadata": {},
     "output_type": "display_data"
    },
    {
     "name": "stdout",
     "output_type": "stream",
     "text": [
      "Epoch 55/1000: Train Loss = 0.5197\n"
     ]
    },
    {
     "data": {
      "application/vnd.jupyter.widget-view+json": {
       "model_id": "d0818fe5da50449992228fa899a56058",
       "version_major": 2,
       "version_minor": 0
      },
      "text/plain": [
       "Epoch 56:   0%|          | 0/48 [00:00<?, ?it/s]"
      ]
     },
     "metadata": {},
     "output_type": "display_data"
    },
    {
     "name": "stdout",
     "output_type": "stream",
     "text": [
      "Epoch 56/1000: Train Loss = 0.5202\n"
     ]
    },
    {
     "data": {
      "application/vnd.jupyter.widget-view+json": {
       "model_id": "eab5122811fc48aab4138055028770fb",
       "version_major": 2,
       "version_minor": 0
      },
      "text/plain": [
       "Epoch 57:   0%|          | 0/48 [00:00<?, ?it/s]"
      ]
     },
     "metadata": {},
     "output_type": "display_data"
    },
    {
     "name": "stdout",
     "output_type": "stream",
     "text": [
      "Epoch 57/1000: Train Loss = 0.5251\n"
     ]
    },
    {
     "data": {
      "application/vnd.jupyter.widget-view+json": {
       "model_id": "922d5f70ff3849219501ee010c8d5373",
       "version_major": 2,
       "version_minor": 0
      },
      "text/plain": [
       "Epoch 58:   0%|          | 0/48 [00:00<?, ?it/s]"
      ]
     },
     "metadata": {},
     "output_type": "display_data"
    },
    {
     "name": "stdout",
     "output_type": "stream",
     "text": [
      "Epoch 58/1000: Train Loss = 0.5232\n"
     ]
    },
    {
     "data": {
      "application/vnd.jupyter.widget-view+json": {
       "model_id": "ab3518557a294909aae0755651ad3575",
       "version_major": 2,
       "version_minor": 0
      },
      "text/plain": [
       "Epoch 59:   0%|          | 0/48 [00:00<?, ?it/s]"
      ]
     },
     "metadata": {},
     "output_type": "display_data"
    },
    {
     "name": "stdout",
     "output_type": "stream",
     "text": [
      "Epoch 59/1000: Train Loss = 0.5186\n"
     ]
    },
    {
     "data": {
      "application/vnd.jupyter.widget-view+json": {
       "model_id": "0afbba52493c45958ba5ac1915187cda",
       "version_major": 2,
       "version_minor": 0
      },
      "text/plain": [
       "Epoch 60:   0%|          | 0/48 [00:00<?, ?it/s]"
      ]
     },
     "metadata": {},
     "output_type": "display_data"
    },
    {
     "name": "stdout",
     "output_type": "stream",
     "text": [
      "Epoch 60/1000: Train Loss = 0.5236\n"
     ]
    },
    {
     "data": {
      "application/vnd.jupyter.widget-view+json": {
       "model_id": "158a476d4f594c139359a038de1abf58",
       "version_major": 2,
       "version_minor": 0
      },
      "text/plain": [
       "Epoch 61:   0%|          | 0/48 [00:00<?, ?it/s]"
      ]
     },
     "metadata": {},
     "output_type": "display_data"
    },
    {
     "name": "stdout",
     "output_type": "stream",
     "text": [
      "Epoch 61/1000: Train Loss = 0.5250\n"
     ]
    },
    {
     "data": {
      "application/vnd.jupyter.widget-view+json": {
       "model_id": "c37af60f28be426f9987678a8d7ed1b9",
       "version_major": 2,
       "version_minor": 0
      },
      "text/plain": [
       "Epoch 62:   0%|          | 0/48 [00:00<?, ?it/s]"
      ]
     },
     "metadata": {},
     "output_type": "display_data"
    },
    {
     "name": "stdout",
     "output_type": "stream",
     "text": [
      "Epoch 62/1000: Train Loss = 0.5282\n"
     ]
    },
    {
     "data": {
      "application/vnd.jupyter.widget-view+json": {
       "model_id": "49d7e1122d3249f891dac6c8a81f8ed5",
       "version_major": 2,
       "version_minor": 0
      },
      "text/plain": [
       "Epoch 63:   0%|          | 0/48 [00:00<?, ?it/s]"
      ]
     },
     "metadata": {},
     "output_type": "display_data"
    },
    {
     "name": "stdout",
     "output_type": "stream",
     "text": [
      "Epoch 63/1000: Train Loss = 0.5242\n"
     ]
    },
    {
     "data": {
      "application/vnd.jupyter.widget-view+json": {
       "model_id": "b34b52e90e144b07a2f4f717f73939db",
       "version_major": 2,
       "version_minor": 0
      },
      "text/plain": [
       "Epoch 64:   0%|          | 0/48 [00:00<?, ?it/s]"
      ]
     },
     "metadata": {},
     "output_type": "display_data"
    },
    {
     "name": "stdout",
     "output_type": "stream",
     "text": [
      "Epoch 64/1000: Train Loss = 0.5222\n"
     ]
    },
    {
     "data": {
      "application/vnd.jupyter.widget-view+json": {
       "model_id": "a5b4996bce654ba6b6e719ffad5c1326",
       "version_major": 2,
       "version_minor": 0
      },
      "text/plain": [
       "Epoch 65:   0%|          | 0/48 [00:00<?, ?it/s]"
      ]
     },
     "metadata": {},
     "output_type": "display_data"
    },
    {
     "name": "stdout",
     "output_type": "stream",
     "text": [
      "Epoch 65/1000: Train Loss = 0.5228\n"
     ]
    },
    {
     "data": {
      "application/vnd.jupyter.widget-view+json": {
       "model_id": "eb59a3f6326f447e97b8280f1c8582e5",
       "version_major": 2,
       "version_minor": 0
      },
      "text/plain": [
       "Epoch 66:   0%|          | 0/48 [00:00<?, ?it/s]"
      ]
     },
     "metadata": {},
     "output_type": "display_data"
    },
    {
     "name": "stdout",
     "output_type": "stream",
     "text": [
      "Epoch 66/1000: Train Loss = 0.5230\n"
     ]
    },
    {
     "data": {
      "application/vnd.jupyter.widget-view+json": {
       "model_id": "e9d331d459474a09be52e29ca73f663b",
       "version_major": 2,
       "version_minor": 0
      },
      "text/plain": [
       "Epoch 67:   0%|          | 0/48 [00:00<?, ?it/s]"
      ]
     },
     "metadata": {},
     "output_type": "display_data"
    },
    {
     "name": "stdout",
     "output_type": "stream",
     "text": [
      "Epoch 67/1000: Train Loss = 0.5249\n"
     ]
    },
    {
     "data": {
      "application/vnd.jupyter.widget-view+json": {
       "model_id": "d963ce8ff422458088eca68e2f54d1d1",
       "version_major": 2,
       "version_minor": 0
      },
      "text/plain": [
       "Epoch 68:   0%|          | 0/48 [00:00<?, ?it/s]"
      ]
     },
     "metadata": {},
     "output_type": "display_data"
    },
    {
     "name": "stdout",
     "output_type": "stream",
     "text": [
      "Epoch 68/1000: Train Loss = 0.5219\n"
     ]
    },
    {
     "data": {
      "application/vnd.jupyter.widget-view+json": {
       "model_id": "a1235657b5684b00b9366c1f4b4d34bf",
       "version_major": 2,
       "version_minor": 0
      },
      "text/plain": [
       "Epoch 69:   0%|          | 0/48 [00:00<?, ?it/s]"
      ]
     },
     "metadata": {},
     "output_type": "display_data"
    },
    {
     "name": "stdout",
     "output_type": "stream",
     "text": [
      "Epoch 69/1000: Train Loss = 0.5238\n"
     ]
    },
    {
     "data": {
      "application/vnd.jupyter.widget-view+json": {
       "model_id": "1051f682790f4cef951b80627bd48747",
       "version_major": 2,
       "version_minor": 0
      },
      "text/plain": [
       "Epoch 70:   0%|          | 0/48 [00:00<?, ?it/s]"
      ]
     },
     "metadata": {},
     "output_type": "display_data"
    },
    {
     "name": "stdout",
     "output_type": "stream",
     "text": [
      "Epoch 70/1000: Train Loss = 0.5205\n"
     ]
    },
    {
     "data": {
      "application/vnd.jupyter.widget-view+json": {
       "model_id": "31b6fb4c60444eb09b3af479d2bb854e",
       "version_major": 2,
       "version_minor": 0
      },
      "text/plain": [
       "Epoch 71:   0%|          | 0/48 [00:00<?, ?it/s]"
      ]
     },
     "metadata": {},
     "output_type": "display_data"
    },
    {
     "name": "stdout",
     "output_type": "stream",
     "text": [
      "Epoch 71/1000: Train Loss = 0.5241\n"
     ]
    },
    {
     "data": {
      "application/vnd.jupyter.widget-view+json": {
       "model_id": "a12b28a96d3b4e259bb5cab062c634d3",
       "version_major": 2,
       "version_minor": 0
      },
      "text/plain": [
       "Epoch 72:   0%|          | 0/48 [00:00<?, ?it/s]"
      ]
     },
     "metadata": {},
     "output_type": "display_data"
    },
    {
     "name": "stdout",
     "output_type": "stream",
     "text": [
      "Epoch 72/1000: Train Loss = 0.5249\n"
     ]
    },
    {
     "data": {
      "application/vnd.jupyter.widget-view+json": {
       "model_id": "a040dc3d95b546df82a72659c84a1dbb",
       "version_major": 2,
       "version_minor": 0
      },
      "text/plain": [
       "Epoch 73:   0%|          | 0/48 [00:00<?, ?it/s]"
      ]
     },
     "metadata": {},
     "output_type": "display_data"
    },
    {
     "name": "stdout",
     "output_type": "stream",
     "text": [
      "Epoch 73/1000: Train Loss = 0.5340\n"
     ]
    },
    {
     "data": {
      "application/vnd.jupyter.widget-view+json": {
       "model_id": "47f96523ddf74d948ca4506673986174",
       "version_major": 2,
       "version_minor": 0
      },
      "text/plain": [
       "Epoch 74:   0%|          | 0/48 [00:00<?, ?it/s]"
      ]
     },
     "metadata": {},
     "output_type": "display_data"
    },
    {
     "name": "stdout",
     "output_type": "stream",
     "text": [
      "Epoch 74/1000: Train Loss = 0.5231\n"
     ]
    },
    {
     "data": {
      "application/vnd.jupyter.widget-view+json": {
       "model_id": "208ed717dd5d44da9c73a13fd7d390ef",
       "version_major": 2,
       "version_minor": 0
      },
      "text/plain": [
       "Epoch 75:   0%|          | 0/48 [00:00<?, ?it/s]"
      ]
     },
     "metadata": {},
     "output_type": "display_data"
    },
    {
     "name": "stdout",
     "output_type": "stream",
     "text": [
      "Epoch 75/1000: Train Loss = 0.5316\n"
     ]
    },
    {
     "data": {
      "application/vnd.jupyter.widget-view+json": {
       "model_id": "55fd7dc751ad44ad92695d112e52cdab",
       "version_major": 2,
       "version_minor": 0
      },
      "text/plain": [
       "Epoch 76:   0%|          | 0/48 [00:00<?, ?it/s]"
      ]
     },
     "metadata": {},
     "output_type": "display_data"
    },
    {
     "name": "stdout",
     "output_type": "stream",
     "text": [
      "Epoch 76/1000: Train Loss = 0.5261\n"
     ]
    },
    {
     "data": {
      "application/vnd.jupyter.widget-view+json": {
       "model_id": "5c1b79ae9c734e73aa3b051f48f413f1",
       "version_major": 2,
       "version_minor": 0
      },
      "text/plain": [
       "Epoch 77:   0%|          | 0/48 [00:00<?, ?it/s]"
      ]
     },
     "metadata": {},
     "output_type": "display_data"
    },
    {
     "name": "stdout",
     "output_type": "stream",
     "text": [
      "Epoch 77/1000: Train Loss = 0.5216\n"
     ]
    },
    {
     "data": {
      "application/vnd.jupyter.widget-view+json": {
       "model_id": "28a7f6a8a50744bab2240c18c8b2f75a",
       "version_major": 2,
       "version_minor": 0
      },
      "text/plain": [
       "Epoch 78:   0%|          | 0/48 [00:00<?, ?it/s]"
      ]
     },
     "metadata": {},
     "output_type": "display_data"
    },
    {
     "name": "stdout",
     "output_type": "stream",
     "text": [
      "Epoch 78/1000: Train Loss = 0.5209\n"
     ]
    },
    {
     "data": {
      "application/vnd.jupyter.widget-view+json": {
       "model_id": "cb9eb711b1cb4b0aa8ae58307955173a",
       "version_major": 2,
       "version_minor": 0
      },
      "text/plain": [
       "Epoch 79:   0%|          | 0/48 [00:00<?, ?it/s]"
      ]
     },
     "metadata": {},
     "output_type": "display_data"
    },
    {
     "name": "stdout",
     "output_type": "stream",
     "text": [
      "Epoch 79/1000: Train Loss = 0.5218\n"
     ]
    },
    {
     "data": {
      "application/vnd.jupyter.widget-view+json": {
       "model_id": "49ffcffd5f1a4b44bd08822119ff6300",
       "version_major": 2,
       "version_minor": 0
      },
      "text/plain": [
       "Epoch 80:   0%|          | 0/48 [00:00<?, ?it/s]"
      ]
     },
     "metadata": {},
     "output_type": "display_data"
    },
    {
     "name": "stdout",
     "output_type": "stream",
     "text": [
      "Epoch 80/1000: Train Loss = 0.5219\n"
     ]
    },
    {
     "data": {
      "application/vnd.jupyter.widget-view+json": {
       "model_id": "fde09148c9164675aa78bfc0655583c4",
       "version_major": 2,
       "version_minor": 0
      },
      "text/plain": [
       "Epoch 81:   0%|          | 0/48 [00:00<?, ?it/s]"
      ]
     },
     "metadata": {},
     "output_type": "display_data"
    },
    {
     "name": "stdout",
     "output_type": "stream",
     "text": [
      "Epoch 81/1000: Train Loss = 0.5213\n"
     ]
    },
    {
     "data": {
      "application/vnd.jupyter.widget-view+json": {
       "model_id": "ef80e121c3a447ce92b05968ae793ac0",
       "version_major": 2,
       "version_minor": 0
      },
      "text/plain": [
       "Epoch 82:   0%|          | 0/48 [00:00<?, ?it/s]"
      ]
     },
     "metadata": {},
     "output_type": "display_data"
    },
    {
     "name": "stdout",
     "output_type": "stream",
     "text": [
      "Epoch 82/1000: Train Loss = 0.5216\n"
     ]
    },
    {
     "data": {
      "application/vnd.jupyter.widget-view+json": {
       "model_id": "d326e9cb38484243876dd6da506634be",
       "version_major": 2,
       "version_minor": 0
      },
      "text/plain": [
       "Epoch 83:   0%|          | 0/48 [00:00<?, ?it/s]"
      ]
     },
     "metadata": {},
     "output_type": "display_data"
    },
    {
     "name": "stdout",
     "output_type": "stream",
     "text": [
      "Epoch 83/1000: Train Loss = 0.5224\n"
     ]
    },
    {
     "data": {
      "application/vnd.jupyter.widget-view+json": {
       "model_id": "89da1d7b9b4849b8be0da2140f008801",
       "version_major": 2,
       "version_minor": 0
      },
      "text/plain": [
       "Epoch 84:   0%|          | 0/48 [00:00<?, ?it/s]"
      ]
     },
     "metadata": {},
     "output_type": "display_data"
    },
    {
     "name": "stdout",
     "output_type": "stream",
     "text": [
      "Epoch 84/1000: Train Loss = 0.5224\n"
     ]
    },
    {
     "data": {
      "application/vnd.jupyter.widget-view+json": {
       "model_id": "f5a09c23540e4950b0fff6f486f43dfa",
       "version_major": 2,
       "version_minor": 0
      },
      "text/plain": [
       "Epoch 85:   0%|          | 0/48 [00:00<?, ?it/s]"
      ]
     },
     "metadata": {},
     "output_type": "display_data"
    },
    {
     "name": "stdout",
     "output_type": "stream",
     "text": [
      "Epoch 85/1000: Train Loss = 0.5198\n"
     ]
    },
    {
     "data": {
      "application/vnd.jupyter.widget-view+json": {
       "model_id": "608a5d8d4cce45819489e3b637e26bd3",
       "version_major": 2,
       "version_minor": 0
      },
      "text/plain": [
       "Epoch 86:   0%|          | 0/48 [00:00<?, ?it/s]"
      ]
     },
     "metadata": {},
     "output_type": "display_data"
    },
    {
     "name": "stdout",
     "output_type": "stream",
     "text": [
      "Epoch 86/1000: Train Loss = 0.5241\n"
     ]
    },
    {
     "data": {
      "application/vnd.jupyter.widget-view+json": {
       "model_id": "3d61c2fdd90540edb7fe28a78747c6dd",
       "version_major": 2,
       "version_minor": 0
      },
      "text/plain": [
       "Epoch 87:   0%|          | 0/48 [00:00<?, ?it/s]"
      ]
     },
     "metadata": {},
     "output_type": "display_data"
    },
    {
     "name": "stdout",
     "output_type": "stream",
     "text": [
      "Epoch 87/1000: Train Loss = 0.5226\n"
     ]
    },
    {
     "data": {
      "application/vnd.jupyter.widget-view+json": {
       "model_id": "7fa726b58ac54284955c660ae3a9bf70",
       "version_major": 2,
       "version_minor": 0
      },
      "text/plain": [
       "Epoch 88:   0%|          | 0/48 [00:00<?, ?it/s]"
      ]
     },
     "metadata": {},
     "output_type": "display_data"
    },
    {
     "name": "stdout",
     "output_type": "stream",
     "text": [
      "Epoch 88/1000: Train Loss = 0.5200\n"
     ]
    },
    {
     "data": {
      "application/vnd.jupyter.widget-view+json": {
       "model_id": "68f299abc98b4b0ba5c8886b59f76e4f",
       "version_major": 2,
       "version_minor": 0
      },
      "text/plain": [
       "Epoch 89:   0%|          | 0/48 [00:00<?, ?it/s]"
      ]
     },
     "metadata": {},
     "output_type": "display_data"
    },
    {
     "name": "stdout",
     "output_type": "stream",
     "text": [
      "Epoch 89/1000: Train Loss = 0.5241\n"
     ]
    },
    {
     "data": {
      "application/vnd.jupyter.widget-view+json": {
       "model_id": "ec8967778711485d805656f26fb8e10c",
       "version_major": 2,
       "version_minor": 0
      },
      "text/plain": [
       "Epoch 90:   0%|          | 0/48 [00:00<?, ?it/s]"
      ]
     },
     "metadata": {},
     "output_type": "display_data"
    },
    {
     "name": "stdout",
     "output_type": "stream",
     "text": [
      "Epoch 90/1000: Train Loss = 0.5239\n"
     ]
    },
    {
     "data": {
      "application/vnd.jupyter.widget-view+json": {
       "model_id": "9279e93440ed47c4aab9ca5d8d427a04",
       "version_major": 2,
       "version_minor": 0
      },
      "text/plain": [
       "Epoch 91:   0%|          | 0/48 [00:00<?, ?it/s]"
      ]
     },
     "metadata": {},
     "output_type": "display_data"
    },
    {
     "name": "stdout",
     "output_type": "stream",
     "text": [
      "Epoch 91/1000: Train Loss = 0.5211\n"
     ]
    },
    {
     "data": {
      "application/vnd.jupyter.widget-view+json": {
       "model_id": "aaf2440ba3a74ff2afdcf5872093e6d9",
       "version_major": 2,
       "version_minor": 0
      },
      "text/plain": [
       "Epoch 92:   0%|          | 0/48 [00:00<?, ?it/s]"
      ]
     },
     "metadata": {},
     "output_type": "display_data"
    },
    {
     "name": "stdout",
     "output_type": "stream",
     "text": [
      "Epoch 92/1000: Train Loss = 0.5190\n"
     ]
    },
    {
     "data": {
      "application/vnd.jupyter.widget-view+json": {
       "model_id": "6bc89acedb674e4f913e10755e985bc7",
       "version_major": 2,
       "version_minor": 0
      },
      "text/plain": [
       "Epoch 93:   0%|          | 0/48 [00:00<?, ?it/s]"
      ]
     },
     "metadata": {},
     "output_type": "display_data"
    },
    {
     "name": "stdout",
     "output_type": "stream",
     "text": [
      "Epoch 93/1000: Train Loss = 0.5198\n"
     ]
    },
    {
     "data": {
      "application/vnd.jupyter.widget-view+json": {
       "model_id": "5af8256b28884c4db612ef58a2f93ff5",
       "version_major": 2,
       "version_minor": 0
      },
      "text/plain": [
       "Epoch 94:   0%|          | 0/48 [00:00<?, ?it/s]"
      ]
     },
     "metadata": {},
     "output_type": "display_data"
    },
    {
     "name": "stdout",
     "output_type": "stream",
     "text": [
      "Epoch 94/1000: Train Loss = 0.5212\n"
     ]
    },
    {
     "data": {
      "application/vnd.jupyter.widget-view+json": {
       "model_id": "6992ef77cf354c5fa6527ebb72568000",
       "version_major": 2,
       "version_minor": 0
      },
      "text/plain": [
       "Epoch 95:   0%|          | 0/48 [00:00<?, ?it/s]"
      ]
     },
     "metadata": {},
     "output_type": "display_data"
    },
    {
     "name": "stdout",
     "output_type": "stream",
     "text": [
      "Epoch 95/1000: Train Loss = 0.5196\n"
     ]
    },
    {
     "data": {
      "application/vnd.jupyter.widget-view+json": {
       "model_id": "168c13d3b7b1412ebab0977e79d459ab",
       "version_major": 2,
       "version_minor": 0
      },
      "text/plain": [
       "Epoch 96:   0%|          | 0/48 [00:00<?, ?it/s]"
      ]
     },
     "metadata": {},
     "output_type": "display_data"
    },
    {
     "name": "stdout",
     "output_type": "stream",
     "text": [
      "Epoch 96/1000: Train Loss = 0.5231\n"
     ]
    },
    {
     "data": {
      "application/vnd.jupyter.widget-view+json": {
       "model_id": "529f53e5526c4679b8d345423c55c0ff",
       "version_major": 2,
       "version_minor": 0
      },
      "text/plain": [
       "Epoch 97:   0%|          | 0/48 [00:00<?, ?it/s]"
      ]
     },
     "metadata": {},
     "output_type": "display_data"
    },
    {
     "name": "stdout",
     "output_type": "stream",
     "text": [
      "Epoch 97/1000: Train Loss = 0.5239\n"
     ]
    },
    {
     "data": {
      "application/vnd.jupyter.widget-view+json": {
       "model_id": "85321e39be5347c381c143e6d17347dc",
       "version_major": 2,
       "version_minor": 0
      },
      "text/plain": [
       "Epoch 98:   0%|          | 0/48 [00:00<?, ?it/s]"
      ]
     },
     "metadata": {},
     "output_type": "display_data"
    },
    {
     "name": "stdout",
     "output_type": "stream",
     "text": [
      "Epoch 98/1000: Train Loss = 0.5215\n"
     ]
    },
    {
     "data": {
      "application/vnd.jupyter.widget-view+json": {
       "model_id": "5ee9a930bffa425a8e490f075f611bff",
       "version_major": 2,
       "version_minor": 0
      },
      "text/plain": [
       "Epoch 99:   0%|          | 0/48 [00:00<?, ?it/s]"
      ]
     },
     "metadata": {},
     "output_type": "display_data"
    },
    {
     "name": "stdout",
     "output_type": "stream",
     "text": [
      "Epoch 99/1000: Train Loss = 0.5236\n"
     ]
    },
    {
     "data": {
      "application/vnd.jupyter.widget-view+json": {
       "model_id": "30e505905f2e48d3a7fdb1a58d757452",
       "version_major": 2,
       "version_minor": 0
      },
      "text/plain": [
       "Epoch 100:   0%|          | 0/48 [00:00<?, ?it/s]"
      ]
     },
     "metadata": {},
     "output_type": "display_data"
    },
    {
     "name": "stdout",
     "output_type": "stream",
     "text": [
      "\n",
      "Binary LSTM (Epoch 100) Evaluation Results:\n",
      "  Average Loss: 0.5654\n",
      "  AUC (Area Under Curve): 0.4948\n",
      "  β₀ (exact match): 0.0000 (0.00%)\n",
      "  β₁ (≤1 bit error): 0.3958 (39.58%)\n",
      "  β₂ (≤2 bit error): 0.6458 (64.58%)\n",
      "  β₃ (≤3 bit error): 0.7917 (79.17%)\n",
      "  β₄ (≤4 bit error): 0.8542 (85.42%)\n"
     ]
    },
    {
     "data": {
      "application/vnd.jupyter.widget-view+json": {
       "model_id": "8114107cb5b04e5f993d5c2e40059fa4",
       "version_major": 2,
       "version_minor": 0
      },
      "text/plain": [
       "Epoch 101:   0%|          | 0/48 [00:00<?, ?it/s]"
      ]
     },
     "metadata": {},
     "output_type": "display_data"
    },
    {
     "name": "stdout",
     "output_type": "stream",
     "text": [
      "Epoch 101/1000: Train Loss = 0.5246\n"
     ]
    },
    {
     "data": {
      "application/vnd.jupyter.widget-view+json": {
       "model_id": "9c8c6b63fdc34dde8e4bcb38ffef3494",
       "version_major": 2,
       "version_minor": 0
      },
      "text/plain": [
       "Epoch 102:   0%|          | 0/48 [00:00<?, ?it/s]"
      ]
     },
     "metadata": {},
     "output_type": "display_data"
    },
    {
     "name": "stdout",
     "output_type": "stream",
     "text": [
      "Epoch 102/1000: Train Loss = 0.5175\n"
     ]
    },
    {
     "data": {
      "application/vnd.jupyter.widget-view+json": {
       "model_id": "9afb88ac229a4da29bc180daa2d93e07",
       "version_major": 2,
       "version_minor": 0
      },
      "text/plain": [
       "Epoch 103:   0%|          | 0/48 [00:00<?, ?it/s]"
      ]
     },
     "metadata": {},
     "output_type": "display_data"
    },
    {
     "name": "stdout",
     "output_type": "stream",
     "text": [
      "Epoch 103/1000: Train Loss = 0.5228\n"
     ]
    },
    {
     "data": {
      "application/vnd.jupyter.widget-view+json": {
       "model_id": "e2ef341d6dfe492d96e2900c44ef23c8",
       "version_major": 2,
       "version_minor": 0
      },
      "text/plain": [
       "Epoch 104:   0%|          | 0/48 [00:00<?, ?it/s]"
      ]
     },
     "metadata": {},
     "output_type": "display_data"
    },
    {
     "name": "stdout",
     "output_type": "stream",
     "text": [
      "Epoch 104/1000: Train Loss = 0.5164\n"
     ]
    },
    {
     "data": {
      "application/vnd.jupyter.widget-view+json": {
       "model_id": "40f42e5bba544074965e0c37cf53d6b1",
       "version_major": 2,
       "version_minor": 0
      },
      "text/plain": [
       "Epoch 105:   0%|          | 0/48 [00:00<?, ?it/s]"
      ]
     },
     "metadata": {},
     "output_type": "display_data"
    },
    {
     "name": "stdout",
     "output_type": "stream",
     "text": [
      "Epoch 105/1000: Train Loss = 0.5195\n"
     ]
    },
    {
     "data": {
      "application/vnd.jupyter.widget-view+json": {
       "model_id": "6f8a001e160d44928807ad4870ffc219",
       "version_major": 2,
       "version_minor": 0
      },
      "text/plain": [
       "Epoch 106:   0%|          | 0/48 [00:00<?, ?it/s]"
      ]
     },
     "metadata": {},
     "output_type": "display_data"
    },
    {
     "name": "stdout",
     "output_type": "stream",
     "text": [
      "Epoch 106/1000: Train Loss = 0.5300\n"
     ]
    },
    {
     "data": {
      "application/vnd.jupyter.widget-view+json": {
       "model_id": "800a1292ff08477aa15a8d2b7f0ae249",
       "version_major": 2,
       "version_minor": 0
      },
      "text/plain": [
       "Epoch 107:   0%|          | 0/48 [00:00<?, ?it/s]"
      ]
     },
     "metadata": {},
     "output_type": "display_data"
    },
    {
     "name": "stdout",
     "output_type": "stream",
     "text": [
      "Epoch 107/1000: Train Loss = 0.5216\n"
     ]
    },
    {
     "data": {
      "application/vnd.jupyter.widget-view+json": {
       "model_id": "872350fe739a4c05aef36a04afd17120",
       "version_major": 2,
       "version_minor": 0
      },
      "text/plain": [
       "Epoch 108:   0%|          | 0/48 [00:00<?, ?it/s]"
      ]
     },
     "metadata": {},
     "output_type": "display_data"
    },
    {
     "name": "stdout",
     "output_type": "stream",
     "text": [
      "Epoch 108/1000: Train Loss = 0.5204\n"
     ]
    },
    {
     "data": {
      "application/vnd.jupyter.widget-view+json": {
       "model_id": "4eed12e3321b4a158cf1f69955ed5096",
       "version_major": 2,
       "version_minor": 0
      },
      "text/plain": [
       "Epoch 109:   0%|          | 0/48 [00:00<?, ?it/s]"
      ]
     },
     "metadata": {},
     "output_type": "display_data"
    },
    {
     "name": "stdout",
     "output_type": "stream",
     "text": [
      "Epoch 109/1000: Train Loss = 0.5231\n"
     ]
    },
    {
     "data": {
      "application/vnd.jupyter.widget-view+json": {
       "model_id": "a76517761bae4654b801df4a766d3719",
       "version_major": 2,
       "version_minor": 0
      },
      "text/plain": [
       "Epoch 110:   0%|          | 0/48 [00:00<?, ?it/s]"
      ]
     },
     "metadata": {},
     "output_type": "display_data"
    },
    {
     "name": "stdout",
     "output_type": "stream",
     "text": [
      "Epoch 110/1000: Train Loss = 0.5283\n"
     ]
    },
    {
     "data": {
      "application/vnd.jupyter.widget-view+json": {
       "model_id": "19f90ca6a02747f299fe19e5fa1b193a",
       "version_major": 2,
       "version_minor": 0
      },
      "text/plain": [
       "Epoch 111:   0%|          | 0/48 [00:00<?, ?it/s]"
      ]
     },
     "metadata": {},
     "output_type": "display_data"
    },
    {
     "name": "stdout",
     "output_type": "stream",
     "text": [
      "Epoch 111/1000: Train Loss = 0.5190\n"
     ]
    },
    {
     "data": {
      "application/vnd.jupyter.widget-view+json": {
       "model_id": "e3239aae6499461f9424d5f30457514b",
       "version_major": 2,
       "version_minor": 0
      },
      "text/plain": [
       "Epoch 112:   0%|          | 0/48 [00:00<?, ?it/s]"
      ]
     },
     "metadata": {},
     "output_type": "display_data"
    },
    {
     "name": "stdout",
     "output_type": "stream",
     "text": [
      "Epoch 112/1000: Train Loss = 0.5301\n"
     ]
    },
    {
     "data": {
      "application/vnd.jupyter.widget-view+json": {
       "model_id": "3afa05216620412c9ec80a314268a59a",
       "version_major": 2,
       "version_minor": 0
      },
      "text/plain": [
       "Epoch 113:   0%|          | 0/48 [00:00<?, ?it/s]"
      ]
     },
     "metadata": {},
     "output_type": "display_data"
    },
    {
     "name": "stdout",
     "output_type": "stream",
     "text": [
      "Epoch 113/1000: Train Loss = 0.5216\n"
     ]
    },
    {
     "data": {
      "application/vnd.jupyter.widget-view+json": {
       "model_id": "e5aa0d0081ec4b479eedb1c72efaf5bf",
       "version_major": 2,
       "version_minor": 0
      },
      "text/plain": [
       "Epoch 114:   0%|          | 0/48 [00:00<?, ?it/s]"
      ]
     },
     "metadata": {},
     "output_type": "display_data"
    },
    {
     "name": "stdout",
     "output_type": "stream",
     "text": [
      "Epoch 114/1000: Train Loss = 0.5233\n"
     ]
    },
    {
     "data": {
      "application/vnd.jupyter.widget-view+json": {
       "model_id": "301ff1ecda574fc8a896378e17686c9a",
       "version_major": 2,
       "version_minor": 0
      },
      "text/plain": [
       "Epoch 115:   0%|          | 0/48 [00:00<?, ?it/s]"
      ]
     },
     "metadata": {},
     "output_type": "display_data"
    },
    {
     "name": "stdout",
     "output_type": "stream",
     "text": [
      "Epoch 115/1000: Train Loss = 0.5281\n"
     ]
    },
    {
     "data": {
      "application/vnd.jupyter.widget-view+json": {
       "model_id": "6a3eb13c086f429ebaeb94e41b284966",
       "version_major": 2,
       "version_minor": 0
      },
      "text/plain": [
       "Epoch 116:   0%|          | 0/48 [00:00<?, ?it/s]"
      ]
     },
     "metadata": {},
     "output_type": "display_data"
    },
    {
     "name": "stdout",
     "output_type": "stream",
     "text": [
      "Epoch 116/1000: Train Loss = 0.5234\n"
     ]
    },
    {
     "data": {
      "application/vnd.jupyter.widget-view+json": {
       "model_id": "3e47a45f4354489595123910881c526f",
       "version_major": 2,
       "version_minor": 0
      },
      "text/plain": [
       "Epoch 117:   0%|          | 0/48 [00:00<?, ?it/s]"
      ]
     },
     "metadata": {},
     "output_type": "display_data"
    },
    {
     "name": "stdout",
     "output_type": "stream",
     "text": [
      "Epoch 117/1000: Train Loss = 0.5210\n"
     ]
    },
    {
     "data": {
      "application/vnd.jupyter.widget-view+json": {
       "model_id": "6ff27d0978204cc5962a237cd24b1f95",
       "version_major": 2,
       "version_minor": 0
      },
      "text/plain": [
       "Epoch 118:   0%|          | 0/48 [00:00<?, ?it/s]"
      ]
     },
     "metadata": {},
     "output_type": "display_data"
    },
    {
     "name": "stdout",
     "output_type": "stream",
     "text": [
      "Epoch 118/1000: Train Loss = 0.5257\n"
     ]
    },
    {
     "data": {
      "application/vnd.jupyter.widget-view+json": {
       "model_id": "a9580aa9f2884c0280605e78fd25160a",
       "version_major": 2,
       "version_minor": 0
      },
      "text/plain": [
       "Epoch 119:   0%|          | 0/48 [00:00<?, ?it/s]"
      ]
     },
     "metadata": {},
     "output_type": "display_data"
    },
    {
     "name": "stdout",
     "output_type": "stream",
     "text": [
      "Epoch 119/1000: Train Loss = 0.5201\n"
     ]
    },
    {
     "data": {
      "application/vnd.jupyter.widget-view+json": {
       "model_id": "5672c93f46784bee9f2c0fe3d27fe61d",
       "version_major": 2,
       "version_minor": 0
      },
      "text/plain": [
       "Epoch 120:   0%|          | 0/48 [00:00<?, ?it/s]"
      ]
     },
     "metadata": {},
     "output_type": "display_data"
    },
    {
     "name": "stdout",
     "output_type": "stream",
     "text": [
      "Epoch 120/1000: Train Loss = 0.5233\n"
     ]
    },
    {
     "data": {
      "application/vnd.jupyter.widget-view+json": {
       "model_id": "ec888bd1a70b43408618fae1480e87bf",
       "version_major": 2,
       "version_minor": 0
      },
      "text/plain": [
       "Epoch 121:   0%|          | 0/48 [00:00<?, ?it/s]"
      ]
     },
     "metadata": {},
     "output_type": "display_data"
    },
    {
     "name": "stdout",
     "output_type": "stream",
     "text": [
      "Epoch 121/1000: Train Loss = 0.5272\n"
     ]
    },
    {
     "data": {
      "application/vnd.jupyter.widget-view+json": {
       "model_id": "4f58ef0410c84be0bf046611519cd6cd",
       "version_major": 2,
       "version_minor": 0
      },
      "text/plain": [
       "Epoch 122:   0%|          | 0/48 [00:00<?, ?it/s]"
      ]
     },
     "metadata": {},
     "output_type": "display_data"
    },
    {
     "name": "stdout",
     "output_type": "stream",
     "text": [
      "Epoch 122/1000: Train Loss = 0.5210\n"
     ]
    },
    {
     "data": {
      "application/vnd.jupyter.widget-view+json": {
       "model_id": "9d69e05a0e2f45fe8b0c859556726b7d",
       "version_major": 2,
       "version_minor": 0
      },
      "text/plain": [
       "Epoch 123:   0%|          | 0/48 [00:00<?, ?it/s]"
      ]
     },
     "metadata": {},
     "output_type": "display_data"
    },
    {
     "name": "stdout",
     "output_type": "stream",
     "text": [
      "Epoch 123/1000: Train Loss = 0.5212\n"
     ]
    },
    {
     "data": {
      "application/vnd.jupyter.widget-view+json": {
       "model_id": "aa63ab254c1d468e8736be1ed43bb0ad",
       "version_major": 2,
       "version_minor": 0
      },
      "text/plain": [
       "Epoch 124:   0%|          | 0/48 [00:00<?, ?it/s]"
      ]
     },
     "metadata": {},
     "output_type": "display_data"
    },
    {
     "name": "stdout",
     "output_type": "stream",
     "text": [
      "Epoch 124/1000: Train Loss = 0.5217\n"
     ]
    },
    {
     "data": {
      "application/vnd.jupyter.widget-view+json": {
       "model_id": "cb067833aa804d63a8646ce97037ed01",
       "version_major": 2,
       "version_minor": 0
      },
      "text/plain": [
       "Epoch 125:   0%|          | 0/48 [00:00<?, ?it/s]"
      ]
     },
     "metadata": {},
     "output_type": "display_data"
    },
    {
     "name": "stdout",
     "output_type": "stream",
     "text": [
      "Epoch 125/1000: Train Loss = 0.5236\n"
     ]
    },
    {
     "data": {
      "application/vnd.jupyter.widget-view+json": {
       "model_id": "4b2500e2624048558ad4b14f5fd7183e",
       "version_major": 2,
       "version_minor": 0
      },
      "text/plain": [
       "Epoch 126:   0%|          | 0/48 [00:00<?, ?it/s]"
      ]
     },
     "metadata": {},
     "output_type": "display_data"
    },
    {
     "name": "stdout",
     "output_type": "stream",
     "text": [
      "Epoch 126/1000: Train Loss = 0.5236\n"
     ]
    },
    {
     "data": {
      "application/vnd.jupyter.widget-view+json": {
       "model_id": "519f68d4ba4347a883b386c0f6b78a53",
       "version_major": 2,
       "version_minor": 0
      },
      "text/plain": [
       "Epoch 127:   0%|          | 0/48 [00:00<?, ?it/s]"
      ]
     },
     "metadata": {},
     "output_type": "display_data"
    },
    {
     "name": "stdout",
     "output_type": "stream",
     "text": [
      "Epoch 127/1000: Train Loss = 0.5272\n"
     ]
    },
    {
     "data": {
      "application/vnd.jupyter.widget-view+json": {
       "model_id": "86b9d1a5458345c08f71af99b449d0cc",
       "version_major": 2,
       "version_minor": 0
      },
      "text/plain": [
       "Epoch 128:   0%|          | 0/48 [00:00<?, ?it/s]"
      ]
     },
     "metadata": {},
     "output_type": "display_data"
    },
    {
     "name": "stdout",
     "output_type": "stream",
     "text": [
      "Epoch 128/1000: Train Loss = 0.5196\n"
     ]
    },
    {
     "data": {
      "application/vnd.jupyter.widget-view+json": {
       "model_id": "09703e91330345edad6754b1705c073b",
       "version_major": 2,
       "version_minor": 0
      },
      "text/plain": [
       "Epoch 129:   0%|          | 0/48 [00:00<?, ?it/s]"
      ]
     },
     "metadata": {},
     "output_type": "display_data"
    },
    {
     "name": "stdout",
     "output_type": "stream",
     "text": [
      "Epoch 129/1000: Train Loss = 0.5226\n"
     ]
    },
    {
     "data": {
      "application/vnd.jupyter.widget-view+json": {
       "model_id": "5fd53515123c41fa8047cb77b578b2a8",
       "version_major": 2,
       "version_minor": 0
      },
      "text/plain": [
       "Epoch 130:   0%|          | 0/48 [00:00<?, ?it/s]"
      ]
     },
     "metadata": {},
     "output_type": "display_data"
    },
    {
     "name": "stdout",
     "output_type": "stream",
     "text": [
      "Epoch 130/1000: Train Loss = 0.5216\n"
     ]
    },
    {
     "data": {
      "application/vnd.jupyter.widget-view+json": {
       "model_id": "583f82bb905947d8a89fb5a2dc2c8eee",
       "version_major": 2,
       "version_minor": 0
      },
      "text/plain": [
       "Epoch 131:   0%|          | 0/48 [00:00<?, ?it/s]"
      ]
     },
     "metadata": {},
     "output_type": "display_data"
    },
    {
     "name": "stdout",
     "output_type": "stream",
     "text": [
      "Epoch 131/1000: Train Loss = 0.5186\n"
     ]
    },
    {
     "data": {
      "application/vnd.jupyter.widget-view+json": {
       "model_id": "3e4018bee7f94c3b87604993bbc0ffef",
       "version_major": 2,
       "version_minor": 0
      },
      "text/plain": [
       "Epoch 132:   0%|          | 0/48 [00:00<?, ?it/s]"
      ]
     },
     "metadata": {},
     "output_type": "display_data"
    },
    {
     "name": "stdout",
     "output_type": "stream",
     "text": [
      "Epoch 132/1000: Train Loss = 0.5220\n"
     ]
    },
    {
     "data": {
      "application/vnd.jupyter.widget-view+json": {
       "model_id": "ee41d4f378904a8299befeb4ba73a888",
       "version_major": 2,
       "version_minor": 0
      },
      "text/plain": [
       "Epoch 133:   0%|          | 0/48 [00:00<?, ?it/s]"
      ]
     },
     "metadata": {},
     "output_type": "display_data"
    },
    {
     "name": "stdout",
     "output_type": "stream",
     "text": [
      "Epoch 133/1000: Train Loss = 0.5230\n"
     ]
    },
    {
     "data": {
      "application/vnd.jupyter.widget-view+json": {
       "model_id": "62f48aa39d7f47019b45561b32d10d33",
       "version_major": 2,
       "version_minor": 0
      },
      "text/plain": [
       "Epoch 134:   0%|          | 0/48 [00:00<?, ?it/s]"
      ]
     },
     "metadata": {},
     "output_type": "display_data"
    },
    {
     "name": "stdout",
     "output_type": "stream",
     "text": [
      "Epoch 134/1000: Train Loss = 0.5219\n"
     ]
    },
    {
     "data": {
      "application/vnd.jupyter.widget-view+json": {
       "model_id": "9fac829ff6c9403fa2bf556f7a105370",
       "version_major": 2,
       "version_minor": 0
      },
      "text/plain": [
       "Epoch 135:   0%|          | 0/48 [00:00<?, ?it/s]"
      ]
     },
     "metadata": {},
     "output_type": "display_data"
    },
    {
     "name": "stdout",
     "output_type": "stream",
     "text": [
      "Epoch 135/1000: Train Loss = 0.5218\n"
     ]
    },
    {
     "data": {
      "application/vnd.jupyter.widget-view+json": {
       "model_id": "1a89717016ce415680bf85d18a153ac8",
       "version_major": 2,
       "version_minor": 0
      },
      "text/plain": [
       "Epoch 136:   0%|          | 0/48 [00:00<?, ?it/s]"
      ]
     },
     "metadata": {},
     "output_type": "display_data"
    },
    {
     "name": "stdout",
     "output_type": "stream",
     "text": [
      "Epoch 136/1000: Train Loss = 0.5225\n"
     ]
    },
    {
     "data": {
      "application/vnd.jupyter.widget-view+json": {
       "model_id": "d6bf482ecda345f8a25f5095c8b4d2d2",
       "version_major": 2,
       "version_minor": 0
      },
      "text/plain": [
       "Epoch 137:   0%|          | 0/48 [00:00<?, ?it/s]"
      ]
     },
     "metadata": {},
     "output_type": "display_data"
    },
    {
     "name": "stdout",
     "output_type": "stream",
     "text": [
      "Epoch 137/1000: Train Loss = 0.5223\n"
     ]
    },
    {
     "data": {
      "application/vnd.jupyter.widget-view+json": {
       "model_id": "778ae670287141f78b58b2507b340eab",
       "version_major": 2,
       "version_minor": 0
      },
      "text/plain": [
       "Epoch 138:   0%|          | 0/48 [00:00<?, ?it/s]"
      ]
     },
     "metadata": {},
     "output_type": "display_data"
    },
    {
     "name": "stdout",
     "output_type": "stream",
     "text": [
      "Epoch 138/1000: Train Loss = 0.5235\n"
     ]
    },
    {
     "data": {
      "application/vnd.jupyter.widget-view+json": {
       "model_id": "239720ac7f1b424b8961a3ec5b1a0b49",
       "version_major": 2,
       "version_minor": 0
      },
      "text/plain": [
       "Epoch 139:   0%|          | 0/48 [00:00<?, ?it/s]"
      ]
     },
     "metadata": {},
     "output_type": "display_data"
    },
    {
     "name": "stdout",
     "output_type": "stream",
     "text": [
      "Epoch 139/1000: Train Loss = 0.5273\n"
     ]
    },
    {
     "data": {
      "application/vnd.jupyter.widget-view+json": {
       "model_id": "55027bab7d8246e7b397f443ac76a22e",
       "version_major": 2,
       "version_minor": 0
      },
      "text/plain": [
       "Epoch 140:   0%|          | 0/48 [00:00<?, ?it/s]"
      ]
     },
     "metadata": {},
     "output_type": "display_data"
    },
    {
     "name": "stdout",
     "output_type": "stream",
     "text": [
      "Epoch 140/1000: Train Loss = 0.5216\n"
     ]
    },
    {
     "data": {
      "application/vnd.jupyter.widget-view+json": {
       "model_id": "391e79f4a7634d11aee59eba9013bdbb",
       "version_major": 2,
       "version_minor": 0
      },
      "text/plain": [
       "Epoch 141:   0%|          | 0/48 [00:00<?, ?it/s]"
      ]
     },
     "metadata": {},
     "output_type": "display_data"
    },
    {
     "name": "stdout",
     "output_type": "stream",
     "text": [
      "Epoch 141/1000: Train Loss = 0.5202\n"
     ]
    },
    {
     "data": {
      "application/vnd.jupyter.widget-view+json": {
       "model_id": "7c6b03a9873546c8ba5d6dee0188be86",
       "version_major": 2,
       "version_minor": 0
      },
      "text/plain": [
       "Epoch 142:   0%|          | 0/48 [00:00<?, ?it/s]"
      ]
     },
     "metadata": {},
     "output_type": "display_data"
    },
    {
     "name": "stdout",
     "output_type": "stream",
     "text": [
      "Epoch 142/1000: Train Loss = 0.5211\n"
     ]
    },
    {
     "data": {
      "application/vnd.jupyter.widget-view+json": {
       "model_id": "10a0462fe33e4041846f3fb93a356fc8",
       "version_major": 2,
       "version_minor": 0
      },
      "text/plain": [
       "Epoch 143:   0%|          | 0/48 [00:00<?, ?it/s]"
      ]
     },
     "metadata": {},
     "output_type": "display_data"
    },
    {
     "name": "stdout",
     "output_type": "stream",
     "text": [
      "Epoch 143/1000: Train Loss = 0.5239\n"
     ]
    },
    {
     "data": {
      "application/vnd.jupyter.widget-view+json": {
       "model_id": "a539e0a4b3f4449882906e1621cf3c00",
       "version_major": 2,
       "version_minor": 0
      },
      "text/plain": [
       "Epoch 144:   0%|          | 0/48 [00:00<?, ?it/s]"
      ]
     },
     "metadata": {},
     "output_type": "display_data"
    },
    {
     "name": "stdout",
     "output_type": "stream",
     "text": [
      "Epoch 144/1000: Train Loss = 0.5199\n"
     ]
    },
    {
     "data": {
      "application/vnd.jupyter.widget-view+json": {
       "model_id": "e109dff8e3b14f0aaefd6a5f28dfbdde",
       "version_major": 2,
       "version_minor": 0
      },
      "text/plain": [
       "Epoch 145:   0%|          | 0/48 [00:00<?, ?it/s]"
      ]
     },
     "metadata": {},
     "output_type": "display_data"
    },
    {
     "name": "stdout",
     "output_type": "stream",
     "text": [
      "Epoch 145/1000: Train Loss = 0.5212\n"
     ]
    },
    {
     "data": {
      "application/vnd.jupyter.widget-view+json": {
       "model_id": "9292d3de2ca04407ac5696554e6617dc",
       "version_major": 2,
       "version_minor": 0
      },
      "text/plain": [
       "Epoch 146:   0%|          | 0/48 [00:00<?, ?it/s]"
      ]
     },
     "metadata": {},
     "output_type": "display_data"
    },
    {
     "name": "stdout",
     "output_type": "stream",
     "text": [
      "Epoch 146/1000: Train Loss = 0.5224\n"
     ]
    },
    {
     "data": {
      "application/vnd.jupyter.widget-view+json": {
       "model_id": "1792816195b344e181ab62d8c9f2f2f1",
       "version_major": 2,
       "version_minor": 0
      },
      "text/plain": [
       "Epoch 147:   0%|          | 0/48 [00:00<?, ?it/s]"
      ]
     },
     "metadata": {},
     "output_type": "display_data"
    },
    {
     "name": "stdout",
     "output_type": "stream",
     "text": [
      "Epoch 147/1000: Train Loss = 0.5197\n"
     ]
    },
    {
     "data": {
      "application/vnd.jupyter.widget-view+json": {
       "model_id": "de0e1bc9ee864cc4a70e4da1cb5ad1ea",
       "version_major": 2,
       "version_minor": 0
      },
      "text/plain": [
       "Epoch 148:   0%|          | 0/48 [00:00<?, ?it/s]"
      ]
     },
     "metadata": {},
     "output_type": "display_data"
    },
    {
     "name": "stdout",
     "output_type": "stream",
     "text": [
      "Epoch 148/1000: Train Loss = 0.5179\n"
     ]
    },
    {
     "data": {
      "application/vnd.jupyter.widget-view+json": {
       "model_id": "35e03bf55e8947bfb86b28c2c6eb37ed",
       "version_major": 2,
       "version_minor": 0
      },
      "text/plain": [
       "Epoch 149:   0%|          | 0/48 [00:00<?, ?it/s]"
      ]
     },
     "metadata": {},
     "output_type": "display_data"
    },
    {
     "name": "stdout",
     "output_type": "stream",
     "text": [
      "Epoch 149/1000: Train Loss = 0.5212\n"
     ]
    },
    {
     "data": {
      "application/vnd.jupyter.widget-view+json": {
       "model_id": "7fd7b49fc2354d3abd984dd0907ccee0",
       "version_major": 2,
       "version_minor": 0
      },
      "text/plain": [
       "Epoch 150:   0%|          | 0/48 [00:00<?, ?it/s]"
      ]
     },
     "metadata": {},
     "output_type": "display_data"
    },
    {
     "name": "stdout",
     "output_type": "stream",
     "text": [
      "\n",
      "Binary LSTM (Epoch 150) Evaluation Results:\n",
      "  Average Loss: 0.5709\n",
      "  AUC (Area Under Curve): 0.4899\n",
      "  β₀ (exact match): 0.0000 (0.00%)\n",
      "  β₁ (≤1 bit error): 0.3958 (39.58%)\n",
      "  β₂ (≤2 bit error): 0.6458 (64.58%)\n",
      "  β₃ (≤3 bit error): 0.7917 (79.17%)\n",
      "  β₄ (≤4 bit error): 0.8542 (85.42%)\n"
     ]
    },
    {
     "data": {
      "application/vnd.jupyter.widget-view+json": {
       "model_id": "031a1a51d37e4b8bb2062b92bd759ac2",
       "version_major": 2,
       "version_minor": 0
      },
      "text/plain": [
       "Epoch 151:   0%|          | 0/48 [00:00<?, ?it/s]"
      ]
     },
     "metadata": {},
     "output_type": "display_data"
    },
    {
     "name": "stdout",
     "output_type": "stream",
     "text": [
      "Epoch 151/1000: Train Loss = 0.5205\n"
     ]
    },
    {
     "data": {
      "application/vnd.jupyter.widget-view+json": {
       "model_id": "878123d8a9444293a5524f1ddf87f64e",
       "version_major": 2,
       "version_minor": 0
      },
      "text/plain": [
       "Epoch 152:   0%|          | 0/48 [00:00<?, ?it/s]"
      ]
     },
     "metadata": {},
     "output_type": "display_data"
    },
    {
     "name": "stdout",
     "output_type": "stream",
     "text": [
      "Epoch 152/1000: Train Loss = 0.5210\n"
     ]
    },
    {
     "data": {
      "application/vnd.jupyter.widget-view+json": {
       "model_id": "69f6b033d7044684a79c71741b0b5f57",
       "version_major": 2,
       "version_minor": 0
      },
      "text/plain": [
       "Epoch 153:   0%|          | 0/48 [00:00<?, ?it/s]"
      ]
     },
     "metadata": {},
     "output_type": "display_data"
    },
    {
     "name": "stdout",
     "output_type": "stream",
     "text": [
      "Epoch 153/1000: Train Loss = 0.5198\n"
     ]
    },
    {
     "data": {
      "application/vnd.jupyter.widget-view+json": {
       "model_id": "c413a9db35e94fbfbeb6498075967e93",
       "version_major": 2,
       "version_minor": 0
      },
      "text/plain": [
       "Epoch 154:   0%|          | 0/48 [00:00<?, ?it/s]"
      ]
     },
     "metadata": {},
     "output_type": "display_data"
    },
    {
     "name": "stdout",
     "output_type": "stream",
     "text": [
      "Epoch 154/1000: Train Loss = 0.5287\n"
     ]
    },
    {
     "data": {
      "application/vnd.jupyter.widget-view+json": {
       "model_id": "00de763f0d3d4022b13c480e3f597f51",
       "version_major": 2,
       "version_minor": 0
      },
      "text/plain": [
       "Epoch 155:   0%|          | 0/48 [00:00<?, ?it/s]"
      ]
     },
     "metadata": {},
     "output_type": "display_data"
    },
    {
     "name": "stdout",
     "output_type": "stream",
     "text": [
      "Epoch 155/1000: Train Loss = 0.5213\n"
     ]
    },
    {
     "data": {
      "application/vnd.jupyter.widget-view+json": {
       "model_id": "5612707d5eed4190aed73eb22075a8e2",
       "version_major": 2,
       "version_minor": 0
      },
      "text/plain": [
       "Epoch 156:   0%|          | 0/48 [00:00<?, ?it/s]"
      ]
     },
     "metadata": {},
     "output_type": "display_data"
    },
    {
     "name": "stdout",
     "output_type": "stream",
     "text": [
      "Epoch 156/1000: Train Loss = 0.5198\n"
     ]
    },
    {
     "data": {
      "application/vnd.jupyter.widget-view+json": {
       "model_id": "e9037d6647a249ab941fa03f67b92fee",
       "version_major": 2,
       "version_minor": 0
      },
      "text/plain": [
       "Epoch 157:   0%|          | 0/48 [00:00<?, ?it/s]"
      ]
     },
     "metadata": {},
     "output_type": "display_data"
    },
    {
     "name": "stdout",
     "output_type": "stream",
     "text": [
      "Epoch 157/1000: Train Loss = 0.5294\n"
     ]
    },
    {
     "data": {
      "application/vnd.jupyter.widget-view+json": {
       "model_id": "29249d564c4241a187f7a8f219b82905",
       "version_major": 2,
       "version_minor": 0
      },
      "text/plain": [
       "Epoch 158:   0%|          | 0/48 [00:00<?, ?it/s]"
      ]
     },
     "metadata": {},
     "output_type": "display_data"
    },
    {
     "name": "stdout",
     "output_type": "stream",
     "text": [
      "Epoch 158/1000: Train Loss = 0.5205\n"
     ]
    },
    {
     "data": {
      "application/vnd.jupyter.widget-view+json": {
       "model_id": "b59bee81caf640e28307efa89daf4892",
       "version_major": 2,
       "version_minor": 0
      },
      "text/plain": [
       "Epoch 159:   0%|          | 0/48 [00:00<?, ?it/s]"
      ]
     },
     "metadata": {},
     "output_type": "display_data"
    },
    {
     "name": "stdout",
     "output_type": "stream",
     "text": [
      "Epoch 159/1000: Train Loss = 0.5201\n"
     ]
    },
    {
     "data": {
      "application/vnd.jupyter.widget-view+json": {
       "model_id": "5f17176a6ece4fe1a99530e1a6449b51",
       "version_major": 2,
       "version_minor": 0
      },
      "text/plain": [
       "Epoch 160:   0%|          | 0/48 [00:00<?, ?it/s]"
      ]
     },
     "metadata": {},
     "output_type": "display_data"
    },
    {
     "name": "stdout",
     "output_type": "stream",
     "text": [
      "Epoch 160/1000: Train Loss = 0.5205\n"
     ]
    },
    {
     "data": {
      "application/vnd.jupyter.widget-view+json": {
       "model_id": "965843d177e24675b926003606d7cfbe",
       "version_major": 2,
       "version_minor": 0
      },
      "text/plain": [
       "Epoch 161:   0%|          | 0/48 [00:00<?, ?it/s]"
      ]
     },
     "metadata": {},
     "output_type": "display_data"
    },
    {
     "name": "stdout",
     "output_type": "stream",
     "text": [
      "Epoch 161/1000: Train Loss = 0.5247\n"
     ]
    },
    {
     "data": {
      "application/vnd.jupyter.widget-view+json": {
       "model_id": "d16cdca5bb054230ab0a7bf4ccb222fa",
       "version_major": 2,
       "version_minor": 0
      },
      "text/plain": [
       "Epoch 162:   0%|          | 0/48 [00:00<?, ?it/s]"
      ]
     },
     "metadata": {},
     "output_type": "display_data"
    },
    {
     "name": "stdout",
     "output_type": "stream",
     "text": [
      "Epoch 162/1000: Train Loss = 0.5238\n"
     ]
    },
    {
     "data": {
      "application/vnd.jupyter.widget-view+json": {
       "model_id": "270df0437ffc484e89e633d6194b78ae",
       "version_major": 2,
       "version_minor": 0
      },
      "text/plain": [
       "Epoch 163:   0%|          | 0/48 [00:00<?, ?it/s]"
      ]
     },
     "metadata": {},
     "output_type": "display_data"
    },
    {
     "name": "stdout",
     "output_type": "stream",
     "text": [
      "Epoch 163/1000: Train Loss = 0.5197\n"
     ]
    },
    {
     "data": {
      "application/vnd.jupyter.widget-view+json": {
       "model_id": "76956ec126c140868f8d26726ddf1eff",
       "version_major": 2,
       "version_minor": 0
      },
      "text/plain": [
       "Epoch 164:   0%|          | 0/48 [00:00<?, ?it/s]"
      ]
     },
     "metadata": {},
     "output_type": "display_data"
    },
    {
     "name": "stdout",
     "output_type": "stream",
     "text": [
      "Epoch 164/1000: Train Loss = 0.5191\n"
     ]
    },
    {
     "data": {
      "application/vnd.jupyter.widget-view+json": {
       "model_id": "fda549cef3ae4b5bb2042d8504a04c88",
       "version_major": 2,
       "version_minor": 0
      },
      "text/plain": [
       "Epoch 165:   0%|          | 0/48 [00:00<?, ?it/s]"
      ]
     },
     "metadata": {},
     "output_type": "display_data"
    },
    {
     "name": "stdout",
     "output_type": "stream",
     "text": [
      "Epoch 165/1000: Train Loss = 0.5186\n"
     ]
    },
    {
     "data": {
      "application/vnd.jupyter.widget-view+json": {
       "model_id": "5486b404d9fc43de8d12dd61c9f9e10c",
       "version_major": 2,
       "version_minor": 0
      },
      "text/plain": [
       "Epoch 166:   0%|          | 0/48 [00:00<?, ?it/s]"
      ]
     },
     "metadata": {},
     "output_type": "display_data"
    },
    {
     "name": "stdout",
     "output_type": "stream",
     "text": [
      "Epoch 166/1000: Train Loss = 0.5229\n"
     ]
    },
    {
     "data": {
      "application/vnd.jupyter.widget-view+json": {
       "model_id": "c908ab4b8e3e40b29480ee1c5a85ac6b",
       "version_major": 2,
       "version_minor": 0
      },
      "text/plain": [
       "Epoch 167:   0%|          | 0/48 [00:00<?, ?it/s]"
      ]
     },
     "metadata": {},
     "output_type": "display_data"
    },
    {
     "name": "stdout",
     "output_type": "stream",
     "text": [
      "Epoch 167/1000: Train Loss = 0.5180\n"
     ]
    },
    {
     "data": {
      "application/vnd.jupyter.widget-view+json": {
       "model_id": "bc8505babd44407c9fa4832f69e13598",
       "version_major": 2,
       "version_minor": 0
      },
      "text/plain": [
       "Epoch 168:   0%|          | 0/48 [00:00<?, ?it/s]"
      ]
     },
     "metadata": {},
     "output_type": "display_data"
    },
    {
     "name": "stdout",
     "output_type": "stream",
     "text": [
      "Epoch 168/1000: Train Loss = 0.5207\n"
     ]
    },
    {
     "data": {
      "application/vnd.jupyter.widget-view+json": {
       "model_id": "a78372bbc025424c9003eaa8a42c5e3a",
       "version_major": 2,
       "version_minor": 0
      },
      "text/plain": [
       "Epoch 169:   0%|          | 0/48 [00:00<?, ?it/s]"
      ]
     },
     "metadata": {},
     "output_type": "display_data"
    },
    {
     "name": "stdout",
     "output_type": "stream",
     "text": [
      "Epoch 169/1000: Train Loss = 0.5236\n"
     ]
    },
    {
     "data": {
      "application/vnd.jupyter.widget-view+json": {
       "model_id": "bf9fa660e899489d88af0b8ba02e42fd",
       "version_major": 2,
       "version_minor": 0
      },
      "text/plain": [
       "Epoch 170:   0%|          | 0/48 [00:00<?, ?it/s]"
      ]
     },
     "metadata": {},
     "output_type": "display_data"
    },
    {
     "name": "stdout",
     "output_type": "stream",
     "text": [
      "Epoch 170/1000: Train Loss = 0.5167\n"
     ]
    },
    {
     "data": {
      "application/vnd.jupyter.widget-view+json": {
       "model_id": "14fb0adcaa594282a3a57d68ec86ab10",
       "version_major": 2,
       "version_minor": 0
      },
      "text/plain": [
       "Epoch 171:   0%|          | 0/48 [00:00<?, ?it/s]"
      ]
     },
     "metadata": {},
     "output_type": "display_data"
    },
    {
     "name": "stdout",
     "output_type": "stream",
     "text": [
      "Epoch 171/1000: Train Loss = 0.5198\n"
     ]
    },
    {
     "data": {
      "application/vnd.jupyter.widget-view+json": {
       "model_id": "0ab30b58d2f7462ea13124658fa7329f",
       "version_major": 2,
       "version_minor": 0
      },
      "text/plain": [
       "Epoch 172:   0%|          | 0/48 [00:00<?, ?it/s]"
      ]
     },
     "metadata": {},
     "output_type": "display_data"
    },
    {
     "name": "stdout",
     "output_type": "stream",
     "text": [
      "Epoch 172/1000: Train Loss = 0.5238\n"
     ]
    },
    {
     "data": {
      "application/vnd.jupyter.widget-view+json": {
       "model_id": "220a28ae725c4574a44387688f931c97",
       "version_major": 2,
       "version_minor": 0
      },
      "text/plain": [
       "Epoch 173:   0%|          | 0/48 [00:00<?, ?it/s]"
      ]
     },
     "metadata": {},
     "output_type": "display_data"
    },
    {
     "name": "stdout",
     "output_type": "stream",
     "text": [
      "Epoch 173/1000: Train Loss = 0.5274\n"
     ]
    },
    {
     "data": {
      "application/vnd.jupyter.widget-view+json": {
       "model_id": "a38160c034484201a39356a786139b41",
       "version_major": 2,
       "version_minor": 0
      },
      "text/plain": [
       "Epoch 174:   0%|          | 0/48 [00:00<?, ?it/s]"
      ]
     },
     "metadata": {},
     "output_type": "display_data"
    },
    {
     "name": "stdout",
     "output_type": "stream",
     "text": [
      "Epoch 174/1000: Train Loss = 0.5271\n"
     ]
    },
    {
     "data": {
      "application/vnd.jupyter.widget-view+json": {
       "model_id": "d2b35376b44942feb02fda47c1c324d9",
       "version_major": 2,
       "version_minor": 0
      },
      "text/plain": [
       "Epoch 175:   0%|          | 0/48 [00:00<?, ?it/s]"
      ]
     },
     "metadata": {},
     "output_type": "display_data"
    },
    {
     "name": "stdout",
     "output_type": "stream",
     "text": [
      "Epoch 175/1000: Train Loss = 0.5226\n"
     ]
    },
    {
     "data": {
      "application/vnd.jupyter.widget-view+json": {
       "model_id": "d22ceacbeaea446b9d957aeebb4c19a3",
       "version_major": 2,
       "version_minor": 0
      },
      "text/plain": [
       "Epoch 176:   0%|          | 0/48 [00:00<?, ?it/s]"
      ]
     },
     "metadata": {},
     "output_type": "display_data"
    },
    {
     "name": "stdout",
     "output_type": "stream",
     "text": [
      "Epoch 176/1000: Train Loss = 0.5199\n"
     ]
    },
    {
     "data": {
      "application/vnd.jupyter.widget-view+json": {
       "model_id": "12ea43f462394a11aeda1e8e06d34135",
       "version_major": 2,
       "version_minor": 0
      },
      "text/plain": [
       "Epoch 177:   0%|          | 0/48 [00:00<?, ?it/s]"
      ]
     },
     "metadata": {},
     "output_type": "display_data"
    },
    {
     "name": "stdout",
     "output_type": "stream",
     "text": [
      "Epoch 177/1000: Train Loss = 0.5234\n"
     ]
    },
    {
     "data": {
      "application/vnd.jupyter.widget-view+json": {
       "model_id": "50facb9f754b420f927178a690385080",
       "version_major": 2,
       "version_minor": 0
      },
      "text/plain": [
       "Epoch 178:   0%|          | 0/48 [00:00<?, ?it/s]"
      ]
     },
     "metadata": {},
     "output_type": "display_data"
    },
    {
     "name": "stdout",
     "output_type": "stream",
     "text": [
      "Epoch 178/1000: Train Loss = 0.5180\n"
     ]
    },
    {
     "data": {
      "application/vnd.jupyter.widget-view+json": {
       "model_id": "751f99cd54a1406a8e9dd599eda7dcef",
       "version_major": 2,
       "version_minor": 0
      },
      "text/plain": [
       "Epoch 179:   0%|          | 0/48 [00:00<?, ?it/s]"
      ]
     },
     "metadata": {},
     "output_type": "display_data"
    },
    {
     "name": "stdout",
     "output_type": "stream",
     "text": [
      "Epoch 179/1000: Train Loss = 0.5211\n"
     ]
    },
    {
     "data": {
      "application/vnd.jupyter.widget-view+json": {
       "model_id": "56da4a55f92e4b1883d5650a388a55f0",
       "version_major": 2,
       "version_minor": 0
      },
      "text/plain": [
       "Epoch 180:   0%|          | 0/48 [00:00<?, ?it/s]"
      ]
     },
     "metadata": {},
     "output_type": "display_data"
    },
    {
     "name": "stdout",
     "output_type": "stream",
     "text": [
      "Epoch 180/1000: Train Loss = 0.5289\n"
     ]
    },
    {
     "data": {
      "application/vnd.jupyter.widget-view+json": {
       "model_id": "d321e1edd1104d76b8bbddcc3912a169",
       "version_major": 2,
       "version_minor": 0
      },
      "text/plain": [
       "Epoch 181:   0%|          | 0/48 [00:00<?, ?it/s]"
      ]
     },
     "metadata": {},
     "output_type": "display_data"
    },
    {
     "name": "stdout",
     "output_type": "stream",
     "text": [
      "Epoch 181/1000: Train Loss = 0.5208\n"
     ]
    },
    {
     "data": {
      "application/vnd.jupyter.widget-view+json": {
       "model_id": "d28bde51fc614418b9543577f3f695ca",
       "version_major": 2,
       "version_minor": 0
      },
      "text/plain": [
       "Epoch 182:   0%|          | 0/48 [00:00<?, ?it/s]"
      ]
     },
     "metadata": {},
     "output_type": "display_data"
    },
    {
     "name": "stdout",
     "output_type": "stream",
     "text": [
      "Epoch 182/1000: Train Loss = 0.5219\n"
     ]
    },
    {
     "data": {
      "application/vnd.jupyter.widget-view+json": {
       "model_id": "3c650e083bbe4777ad990869cc34af19",
       "version_major": 2,
       "version_minor": 0
      },
      "text/plain": [
       "Epoch 183:   0%|          | 0/48 [00:00<?, ?it/s]"
      ]
     },
     "metadata": {},
     "output_type": "display_data"
    },
    {
     "name": "stdout",
     "output_type": "stream",
     "text": [
      "Epoch 183/1000: Train Loss = 0.5195\n"
     ]
    },
    {
     "data": {
      "application/vnd.jupyter.widget-view+json": {
       "model_id": "b3baa84c843244a7b6b29e4f32d026aa",
       "version_major": 2,
       "version_minor": 0
      },
      "text/plain": [
       "Epoch 184:   0%|          | 0/48 [00:00<?, ?it/s]"
      ]
     },
     "metadata": {},
     "output_type": "display_data"
    },
    {
     "name": "stdout",
     "output_type": "stream",
     "text": [
      "Epoch 184/1000: Train Loss = 0.5241\n"
     ]
    },
    {
     "data": {
      "application/vnd.jupyter.widget-view+json": {
       "model_id": "4f522a8dd6cc4ab589cfd4a6c2ca6444",
       "version_major": 2,
       "version_minor": 0
      },
      "text/plain": [
       "Epoch 185:   0%|          | 0/48 [00:00<?, ?it/s]"
      ]
     },
     "metadata": {},
     "output_type": "display_data"
    },
    {
     "name": "stdout",
     "output_type": "stream",
     "text": [
      "Epoch 185/1000: Train Loss = 0.5194\n"
     ]
    },
    {
     "data": {
      "application/vnd.jupyter.widget-view+json": {
       "model_id": "cbca9759ff7d47aeb9cb8c16d33d3756",
       "version_major": 2,
       "version_minor": 0
      },
      "text/plain": [
       "Epoch 186:   0%|          | 0/48 [00:00<?, ?it/s]"
      ]
     },
     "metadata": {},
     "output_type": "display_data"
    },
    {
     "name": "stdout",
     "output_type": "stream",
     "text": [
      "Epoch 186/1000: Train Loss = 0.5213\n"
     ]
    },
    {
     "data": {
      "application/vnd.jupyter.widget-view+json": {
       "model_id": "4735b0adf99946bcb23fdaab4d162c39",
       "version_major": 2,
       "version_minor": 0
      },
      "text/plain": [
       "Epoch 187:   0%|          | 0/48 [00:00<?, ?it/s]"
      ]
     },
     "metadata": {},
     "output_type": "display_data"
    },
    {
     "name": "stdout",
     "output_type": "stream",
     "text": [
      "Epoch 187/1000: Train Loss = 0.5209\n"
     ]
    },
    {
     "data": {
      "application/vnd.jupyter.widget-view+json": {
       "model_id": "183fb27aa8a841018d4136f87fa7941d",
       "version_major": 2,
       "version_minor": 0
      },
      "text/plain": [
       "Epoch 188:   0%|          | 0/48 [00:00<?, ?it/s]"
      ]
     },
     "metadata": {},
     "output_type": "display_data"
    },
    {
     "name": "stdout",
     "output_type": "stream",
     "text": [
      "Epoch 188/1000: Train Loss = 0.5277\n"
     ]
    },
    {
     "data": {
      "application/vnd.jupyter.widget-view+json": {
       "model_id": "7419ccbbfe6d4d89ae3ada06bbc9f639",
       "version_major": 2,
       "version_minor": 0
      },
      "text/plain": [
       "Epoch 189:   0%|          | 0/48 [00:00<?, ?it/s]"
      ]
     },
     "metadata": {},
     "output_type": "display_data"
    },
    {
     "name": "stdout",
     "output_type": "stream",
     "text": [
      "Epoch 189/1000: Train Loss = 0.5178\n"
     ]
    },
    {
     "data": {
      "application/vnd.jupyter.widget-view+json": {
       "model_id": "ce57377962994935a0e4369551ee00cc",
       "version_major": 2,
       "version_minor": 0
      },
      "text/plain": [
       "Epoch 190:   0%|          | 0/48 [00:00<?, ?it/s]"
      ]
     },
     "metadata": {},
     "output_type": "display_data"
    },
    {
     "name": "stdout",
     "output_type": "stream",
     "text": [
      "Epoch 190/1000: Train Loss = 0.5212\n"
     ]
    },
    {
     "data": {
      "application/vnd.jupyter.widget-view+json": {
       "model_id": "4b4bda0547e94e38b201a2128079742c",
       "version_major": 2,
       "version_minor": 0
      },
      "text/plain": [
       "Epoch 191:   0%|          | 0/48 [00:00<?, ?it/s]"
      ]
     },
     "metadata": {},
     "output_type": "display_data"
    },
    {
     "name": "stdout",
     "output_type": "stream",
     "text": [
      "Epoch 191/1000: Train Loss = 0.5191\n"
     ]
    },
    {
     "data": {
      "application/vnd.jupyter.widget-view+json": {
       "model_id": "179265e8a9554f4cab9144ebbb7cfe48",
       "version_major": 2,
       "version_minor": 0
      },
      "text/plain": [
       "Epoch 192:   0%|          | 0/48 [00:00<?, ?it/s]"
      ]
     },
     "metadata": {},
     "output_type": "display_data"
    },
    {
     "name": "stdout",
     "output_type": "stream",
     "text": [
      "Epoch 192/1000: Train Loss = 0.5257\n"
     ]
    },
    {
     "data": {
      "application/vnd.jupyter.widget-view+json": {
       "model_id": "c2496abcff784643b0cb3643cb29c1b8",
       "version_major": 2,
       "version_minor": 0
      },
      "text/plain": [
       "Epoch 193:   0%|          | 0/48 [00:00<?, ?it/s]"
      ]
     },
     "metadata": {},
     "output_type": "display_data"
    },
    {
     "name": "stdout",
     "output_type": "stream",
     "text": [
      "Epoch 193/1000: Train Loss = 0.5256\n"
     ]
    },
    {
     "data": {
      "application/vnd.jupyter.widget-view+json": {
       "model_id": "796208938252455fbc63871a3bf9b938",
       "version_major": 2,
       "version_minor": 0
      },
      "text/plain": [
       "Epoch 194:   0%|          | 0/48 [00:00<?, ?it/s]"
      ]
     },
     "metadata": {},
     "output_type": "display_data"
    },
    {
     "name": "stdout",
     "output_type": "stream",
     "text": [
      "Epoch 194/1000: Train Loss = 0.5196\n"
     ]
    },
    {
     "data": {
      "application/vnd.jupyter.widget-view+json": {
       "model_id": "57b0918a492a4f77ba3fce02774f7fb3",
       "version_major": 2,
       "version_minor": 0
      },
      "text/plain": [
       "Epoch 195:   0%|          | 0/48 [00:00<?, ?it/s]"
      ]
     },
     "metadata": {},
     "output_type": "display_data"
    },
    {
     "name": "stdout",
     "output_type": "stream",
     "text": [
      "Epoch 195/1000: Train Loss = 0.5295\n"
     ]
    },
    {
     "data": {
      "application/vnd.jupyter.widget-view+json": {
       "model_id": "c607205cf24c43e8914c5da49f895043",
       "version_major": 2,
       "version_minor": 0
      },
      "text/plain": [
       "Epoch 196:   0%|          | 0/48 [00:00<?, ?it/s]"
      ]
     },
     "metadata": {},
     "output_type": "display_data"
    },
    {
     "name": "stdout",
     "output_type": "stream",
     "text": [
      "Epoch 196/1000: Train Loss = 0.5191\n"
     ]
    },
    {
     "data": {
      "application/vnd.jupyter.widget-view+json": {
       "model_id": "b126395b2d984f7a9e98520de678b12e",
       "version_major": 2,
       "version_minor": 0
      },
      "text/plain": [
       "Epoch 197:   0%|          | 0/48 [00:00<?, ?it/s]"
      ]
     },
     "metadata": {},
     "output_type": "display_data"
    },
    {
     "name": "stdout",
     "output_type": "stream",
     "text": [
      "Epoch 197/1000: Train Loss = 0.5212\n"
     ]
    },
    {
     "data": {
      "application/vnd.jupyter.widget-view+json": {
       "model_id": "b295cb8875cf48fa89ad3e10da87a1ec",
       "version_major": 2,
       "version_minor": 0
      },
      "text/plain": [
       "Epoch 198:   0%|          | 0/48 [00:00<?, ?it/s]"
      ]
     },
     "metadata": {},
     "output_type": "display_data"
    },
    {
     "name": "stdout",
     "output_type": "stream",
     "text": [
      "Epoch 198/1000: Train Loss = 0.5203\n"
     ]
    },
    {
     "data": {
      "application/vnd.jupyter.widget-view+json": {
       "model_id": "15f9982ac8a44ad892c05e8ae5da3db4",
       "version_major": 2,
       "version_minor": 0
      },
      "text/plain": [
       "Epoch 199:   0%|          | 0/48 [00:00<?, ?it/s]"
      ]
     },
     "metadata": {},
     "output_type": "display_data"
    },
    {
     "name": "stdout",
     "output_type": "stream",
     "text": [
      "Epoch 199/1000: Train Loss = 0.5280\n"
     ]
    },
    {
     "data": {
      "application/vnd.jupyter.widget-view+json": {
       "model_id": "9fbffe50b4f44486a6f4947876d1eddc",
       "version_major": 2,
       "version_minor": 0
      },
      "text/plain": [
       "Epoch 200:   0%|          | 0/48 [00:00<?, ?it/s]"
      ]
     },
     "metadata": {},
     "output_type": "display_data"
    },
    {
     "name": "stdout",
     "output_type": "stream",
     "text": [
      "\n",
      "Binary LSTM (Epoch 200) Evaluation Results:\n",
      "  Average Loss: 0.5686\n",
      "  AUC (Area Under Curve): 0.5121\n",
      "  β₀ (exact match): 0.0000 (0.00%)\n",
      "  β₁ (≤1 bit error): 0.3958 (39.58%)\n",
      "  β₂ (≤2 bit error): 0.6458 (64.58%)\n",
      "  β₃ (≤3 bit error): 0.7917 (79.17%)\n",
      "  β₄ (≤4 bit error): 0.8542 (85.42%)\n"
     ]
    },
    {
     "data": {
      "application/vnd.jupyter.widget-view+json": {
       "model_id": "3d20b830d854490d874c647a96e03f21",
       "version_major": 2,
       "version_minor": 0
      },
      "text/plain": [
       "Epoch 201:   0%|          | 0/48 [00:00<?, ?it/s]"
      ]
     },
     "metadata": {},
     "output_type": "display_data"
    },
    {
     "name": "stdout",
     "output_type": "stream",
     "text": [
      "Epoch 201/1000: Train Loss = 0.5294\n"
     ]
    },
    {
     "data": {
      "application/vnd.jupyter.widget-view+json": {
       "model_id": "2bc9416e3dd84cd8814cc97a53bb0714",
       "version_major": 2,
       "version_minor": 0
      },
      "text/plain": [
       "Epoch 202:   0%|          | 0/48 [00:00<?, ?it/s]"
      ]
     },
     "metadata": {},
     "output_type": "display_data"
    },
    {
     "name": "stdout",
     "output_type": "stream",
     "text": [
      "Epoch 202/1000: Train Loss = 0.5180\n"
     ]
    },
    {
     "data": {
      "application/vnd.jupyter.widget-view+json": {
       "model_id": "3b168a42e8184d1fb5d21a2fb734ad18",
       "version_major": 2,
       "version_minor": 0
      },
      "text/plain": [
       "Epoch 203:   0%|          | 0/48 [00:00<?, ?it/s]"
      ]
     },
     "metadata": {},
     "output_type": "display_data"
    },
    {
     "name": "stdout",
     "output_type": "stream",
     "text": [
      "Epoch 203/1000: Train Loss = 0.5184\n"
     ]
    },
    {
     "data": {
      "application/vnd.jupyter.widget-view+json": {
       "model_id": "0f42c1df839c4bad933789cb602377da",
       "version_major": 2,
       "version_minor": 0
      },
      "text/plain": [
       "Epoch 204:   0%|          | 0/48 [00:00<?, ?it/s]"
      ]
     },
     "metadata": {},
     "output_type": "display_data"
    },
    {
     "name": "stdout",
     "output_type": "stream",
     "text": [
      "Epoch 204/1000: Train Loss = 0.5222\n"
     ]
    },
    {
     "data": {
      "application/vnd.jupyter.widget-view+json": {
       "model_id": "d0c1c5cb712a41fc85edefc71be43380",
       "version_major": 2,
       "version_minor": 0
      },
      "text/plain": [
       "Epoch 205:   0%|          | 0/48 [00:00<?, ?it/s]"
      ]
     },
     "metadata": {},
     "output_type": "display_data"
    },
    {
     "name": "stdout",
     "output_type": "stream",
     "text": [
      "Epoch 205/1000: Train Loss = 0.5205\n"
     ]
    },
    {
     "data": {
      "application/vnd.jupyter.widget-view+json": {
       "model_id": "1129dd015ac44bd6a7527ad2cc6e65e4",
       "version_major": 2,
       "version_minor": 0
      },
      "text/plain": [
       "Epoch 206:   0%|          | 0/48 [00:00<?, ?it/s]"
      ]
     },
     "metadata": {},
     "output_type": "display_data"
    },
    {
     "name": "stdout",
     "output_type": "stream",
     "text": [
      "Epoch 206/1000: Train Loss = 0.5216\n"
     ]
    },
    {
     "data": {
      "application/vnd.jupyter.widget-view+json": {
       "model_id": "6b7a56ee0d984cf4b6192008773bd302",
       "version_major": 2,
       "version_minor": 0
      },
      "text/plain": [
       "Epoch 207:   0%|          | 0/48 [00:00<?, ?it/s]"
      ]
     },
     "metadata": {},
     "output_type": "display_data"
    },
    {
     "name": "stdout",
     "output_type": "stream",
     "text": [
      "Epoch 207/1000: Train Loss = 0.5210\n"
     ]
    },
    {
     "data": {
      "application/vnd.jupyter.widget-view+json": {
       "model_id": "9206f5eeced94878ba79f7792ac97c10",
       "version_major": 2,
       "version_minor": 0
      },
      "text/plain": [
       "Epoch 208:   0%|          | 0/48 [00:00<?, ?it/s]"
      ]
     },
     "metadata": {},
     "output_type": "display_data"
    },
    {
     "name": "stdout",
     "output_type": "stream",
     "text": [
      "Epoch 208/1000: Train Loss = 0.5177\n"
     ]
    },
    {
     "data": {
      "application/vnd.jupyter.widget-view+json": {
       "model_id": "43c938fe199a4c81bef505214da88a79",
       "version_major": 2,
       "version_minor": 0
      },
      "text/plain": [
       "Epoch 209:   0%|          | 0/48 [00:00<?, ?it/s]"
      ]
     },
     "metadata": {},
     "output_type": "display_data"
    },
    {
     "name": "stdout",
     "output_type": "stream",
     "text": [
      "Epoch 209/1000: Train Loss = 0.5285\n"
     ]
    },
    {
     "data": {
      "application/vnd.jupyter.widget-view+json": {
       "model_id": "20fb147e1c3c47aca9bb727873555396",
       "version_major": 2,
       "version_minor": 0
      },
      "text/plain": [
       "Epoch 210:   0%|          | 0/48 [00:00<?, ?it/s]"
      ]
     },
     "metadata": {},
     "output_type": "display_data"
    },
    {
     "name": "stdout",
     "output_type": "stream",
     "text": [
      "Epoch 210/1000: Train Loss = 0.5205\n"
     ]
    },
    {
     "data": {
      "application/vnd.jupyter.widget-view+json": {
       "model_id": "595a2bc83a464eeaa23f8167897c7693",
       "version_major": 2,
       "version_minor": 0
      },
      "text/plain": [
       "Epoch 211:   0%|          | 0/48 [00:00<?, ?it/s]"
      ]
     },
     "metadata": {},
     "output_type": "display_data"
    },
    {
     "name": "stdout",
     "output_type": "stream",
     "text": [
      "Epoch 211/1000: Train Loss = 0.5195\n"
     ]
    },
    {
     "data": {
      "application/vnd.jupyter.widget-view+json": {
       "model_id": "41fb73d9ee344de1ad7489dca0f91e7e",
       "version_major": 2,
       "version_minor": 0
      },
      "text/plain": [
       "Epoch 212:   0%|          | 0/48 [00:00<?, ?it/s]"
      ]
     },
     "metadata": {},
     "output_type": "display_data"
    },
    {
     "name": "stdout",
     "output_type": "stream",
     "text": [
      "Epoch 212/1000: Train Loss = 0.5303\n"
     ]
    },
    {
     "data": {
      "application/vnd.jupyter.widget-view+json": {
       "model_id": "b2af690221534d3ba6f0be8e9bc80bda",
       "version_major": 2,
       "version_minor": 0
      },
      "text/plain": [
       "Epoch 213:   0%|          | 0/48 [00:00<?, ?it/s]"
      ]
     },
     "metadata": {},
     "output_type": "display_data"
    },
    {
     "name": "stdout",
     "output_type": "stream",
     "text": [
      "Epoch 213/1000: Train Loss = 0.5191\n"
     ]
    },
    {
     "data": {
      "application/vnd.jupyter.widget-view+json": {
       "model_id": "f9496623432e496fb3c34767ea860d68",
       "version_major": 2,
       "version_minor": 0
      },
      "text/plain": [
       "Epoch 214:   0%|          | 0/48 [00:00<?, ?it/s]"
      ]
     },
     "metadata": {},
     "output_type": "display_data"
    },
    {
     "name": "stdout",
     "output_type": "stream",
     "text": [
      "Epoch 214/1000: Train Loss = 0.5293\n"
     ]
    },
    {
     "data": {
      "application/vnd.jupyter.widget-view+json": {
       "model_id": "a245b0ff6c774809a590ef737d232d6c",
       "version_major": 2,
       "version_minor": 0
      },
      "text/plain": [
       "Epoch 215:   0%|          | 0/48 [00:00<?, ?it/s]"
      ]
     },
     "metadata": {},
     "output_type": "display_data"
    },
    {
     "name": "stdout",
     "output_type": "stream",
     "text": [
      "Epoch 215/1000: Train Loss = 0.5197\n"
     ]
    },
    {
     "data": {
      "application/vnd.jupyter.widget-view+json": {
       "model_id": "e1cebce7f7d1426f91a6e7875fd53b35",
       "version_major": 2,
       "version_minor": 0
      },
      "text/plain": [
       "Epoch 216:   0%|          | 0/48 [00:00<?, ?it/s]"
      ]
     },
     "metadata": {},
     "output_type": "display_data"
    },
    {
     "name": "stdout",
     "output_type": "stream",
     "text": [
      "Epoch 216/1000: Train Loss = 0.5298\n"
     ]
    },
    {
     "data": {
      "application/vnd.jupyter.widget-view+json": {
       "model_id": "526fd3ea6735406d8d291b5848a9f1bc",
       "version_major": 2,
       "version_minor": 0
      },
      "text/plain": [
       "Epoch 217:   0%|          | 0/48 [00:00<?, ?it/s]"
      ]
     },
     "metadata": {},
     "output_type": "display_data"
    },
    {
     "name": "stdout",
     "output_type": "stream",
     "text": [
      "Epoch 217/1000: Train Loss = 0.5208\n"
     ]
    },
    {
     "data": {
      "application/vnd.jupyter.widget-view+json": {
       "model_id": "c14519c355bf498da37d1efb31c0aea7",
       "version_major": 2,
       "version_minor": 0
      },
      "text/plain": [
       "Epoch 218:   0%|          | 0/48 [00:00<?, ?it/s]"
      ]
     },
     "metadata": {},
     "output_type": "display_data"
    },
    {
     "name": "stdout",
     "output_type": "stream",
     "text": [
      "Epoch 218/1000: Train Loss = 0.5190\n"
     ]
    },
    {
     "data": {
      "application/vnd.jupyter.widget-view+json": {
       "model_id": "62aae12339704b32b3fe1303cf294222",
       "version_major": 2,
       "version_minor": 0
      },
      "text/plain": [
       "Epoch 219:   0%|          | 0/48 [00:00<?, ?it/s]"
      ]
     },
     "metadata": {},
     "output_type": "display_data"
    },
    {
     "name": "stdout",
     "output_type": "stream",
     "text": [
      "Epoch 219/1000: Train Loss = 0.5285\n"
     ]
    },
    {
     "data": {
      "application/vnd.jupyter.widget-view+json": {
       "model_id": "781a00c218fd4e6cb65833728b9984c1",
       "version_major": 2,
       "version_minor": 0
      },
      "text/plain": [
       "Epoch 220:   0%|          | 0/48 [00:00<?, ?it/s]"
      ]
     },
     "metadata": {},
     "output_type": "display_data"
    },
    {
     "name": "stdout",
     "output_type": "stream",
     "text": [
      "Epoch 220/1000: Train Loss = 0.5203\n"
     ]
    },
    {
     "data": {
      "application/vnd.jupyter.widget-view+json": {
       "model_id": "1e634df707924fdd9cf7bbbb05745baf",
       "version_major": 2,
       "version_minor": 0
      },
      "text/plain": [
       "Epoch 221:   0%|          | 0/48 [00:00<?, ?it/s]"
      ]
     },
     "metadata": {},
     "output_type": "display_data"
    },
    {
     "name": "stdout",
     "output_type": "stream",
     "text": [
      "Epoch 221/1000: Train Loss = 0.5298\n"
     ]
    },
    {
     "data": {
      "application/vnd.jupyter.widget-view+json": {
       "model_id": "9dfc2cda4d314863bb65ce2470c28afc",
       "version_major": 2,
       "version_minor": 0
      },
      "text/plain": [
       "Epoch 222:   0%|          | 0/48 [00:00<?, ?it/s]"
      ]
     },
     "metadata": {},
     "output_type": "display_data"
    },
    {
     "name": "stdout",
     "output_type": "stream",
     "text": [
      "Epoch 222/1000: Train Loss = 0.5210\n"
     ]
    },
    {
     "data": {
      "application/vnd.jupyter.widget-view+json": {
       "model_id": "233e6b8a7eb340d4bca0d5c62ddbf9cc",
       "version_major": 2,
       "version_minor": 0
      },
      "text/plain": [
       "Epoch 223:   0%|          | 0/48 [00:00<?, ?it/s]"
      ]
     },
     "metadata": {},
     "output_type": "display_data"
    },
    {
     "name": "stdout",
     "output_type": "stream",
     "text": [
      "Epoch 223/1000: Train Loss = 0.5191\n"
     ]
    },
    {
     "data": {
      "application/vnd.jupyter.widget-view+json": {
       "model_id": "ec0d3c18d1794c189ab44b12b2b4e4a8",
       "version_major": 2,
       "version_minor": 0
      },
      "text/plain": [
       "Epoch 224:   0%|          | 0/48 [00:00<?, ?it/s]"
      ]
     },
     "metadata": {},
     "output_type": "display_data"
    },
    {
     "name": "stdout",
     "output_type": "stream",
     "text": [
      "Epoch 224/1000: Train Loss = 0.5213\n"
     ]
    },
    {
     "data": {
      "application/vnd.jupyter.widget-view+json": {
       "model_id": "71abce9e18304bbd9afa007aca7e62d4",
       "version_major": 2,
       "version_minor": 0
      },
      "text/plain": [
       "Epoch 225:   0%|          | 0/48 [00:00<?, ?it/s]"
      ]
     },
     "metadata": {},
     "output_type": "display_data"
    },
    {
     "name": "stdout",
     "output_type": "stream",
     "text": [
      "Epoch 225/1000: Train Loss = 0.5277\n"
     ]
    },
    {
     "data": {
      "application/vnd.jupyter.widget-view+json": {
       "model_id": "110920c6812f4c148bcadb0563bde36d",
       "version_major": 2,
       "version_minor": 0
      },
      "text/plain": [
       "Epoch 226:   0%|          | 0/48 [00:00<?, ?it/s]"
      ]
     },
     "metadata": {},
     "output_type": "display_data"
    },
    {
     "name": "stdout",
     "output_type": "stream",
     "text": [
      "Epoch 226/1000: Train Loss = 0.5262\n"
     ]
    },
    {
     "data": {
      "application/vnd.jupyter.widget-view+json": {
       "model_id": "dcd8c1ab6cf945d8be0cc1e4125e90c6",
       "version_major": 2,
       "version_minor": 0
      },
      "text/plain": [
       "Epoch 227:   0%|          | 0/48 [00:00<?, ?it/s]"
      ]
     },
     "metadata": {},
     "output_type": "display_data"
    },
    {
     "name": "stdout",
     "output_type": "stream",
     "text": [
      "Epoch 227/1000: Train Loss = 0.5178\n"
     ]
    },
    {
     "data": {
      "application/vnd.jupyter.widget-view+json": {
       "model_id": "0f9c0c7ca965494f89d41c231f71d350",
       "version_major": 2,
       "version_minor": 0
      },
      "text/plain": [
       "Epoch 228:   0%|          | 0/48 [00:00<?, ?it/s]"
      ]
     },
     "metadata": {},
     "output_type": "display_data"
    },
    {
     "name": "stdout",
     "output_type": "stream",
     "text": [
      "Epoch 228/1000: Train Loss = 0.5208\n"
     ]
    },
    {
     "data": {
      "application/vnd.jupyter.widget-view+json": {
       "model_id": "15c6958843a740a6b21cf43cefaf5e3a",
       "version_major": 2,
       "version_minor": 0
      },
      "text/plain": [
       "Epoch 229:   0%|          | 0/48 [00:00<?, ?it/s]"
      ]
     },
     "metadata": {},
     "output_type": "display_data"
    },
    {
     "name": "stdout",
     "output_type": "stream",
     "text": [
      "Epoch 229/1000: Train Loss = 0.5205\n"
     ]
    },
    {
     "data": {
      "application/vnd.jupyter.widget-view+json": {
       "model_id": "5f672de7045348f3a31217ff3e35d585",
       "version_major": 2,
       "version_minor": 0
      },
      "text/plain": [
       "Epoch 230:   0%|          | 0/48 [00:00<?, ?it/s]"
      ]
     },
     "metadata": {},
     "output_type": "display_data"
    },
    {
     "name": "stdout",
     "output_type": "stream",
     "text": [
      "Epoch 230/1000: Train Loss = 0.5203\n"
     ]
    },
    {
     "data": {
      "application/vnd.jupyter.widget-view+json": {
       "model_id": "7b86fcd1b12348339ae69afc8395859c",
       "version_major": 2,
       "version_minor": 0
      },
      "text/plain": [
       "Epoch 231:   0%|          | 0/48 [00:00<?, ?it/s]"
      ]
     },
     "metadata": {},
     "output_type": "display_data"
    },
    {
     "name": "stdout",
     "output_type": "stream",
     "text": [
      "Epoch 231/1000: Train Loss = 0.5201\n"
     ]
    },
    {
     "data": {
      "application/vnd.jupyter.widget-view+json": {
       "model_id": "179621d62f7b4fbb8db845b8823c5972",
       "version_major": 2,
       "version_minor": 0
      },
      "text/plain": [
       "Epoch 232:   0%|          | 0/48 [00:00<?, ?it/s]"
      ]
     },
     "metadata": {},
     "output_type": "display_data"
    },
    {
     "name": "stdout",
     "output_type": "stream",
     "text": [
      "Epoch 232/1000: Train Loss = 0.5176\n"
     ]
    },
    {
     "data": {
      "application/vnd.jupyter.widget-view+json": {
       "model_id": "f90a7c858a124d48a4b5da580cfc7d60",
       "version_major": 2,
       "version_minor": 0
      },
      "text/plain": [
       "Epoch 233:   0%|          | 0/48 [00:00<?, ?it/s]"
      ]
     },
     "metadata": {},
     "output_type": "display_data"
    },
    {
     "name": "stdout",
     "output_type": "stream",
     "text": [
      "Epoch 233/1000: Train Loss = 0.5194\n"
     ]
    },
    {
     "data": {
      "application/vnd.jupyter.widget-view+json": {
       "model_id": "7a800b160a1244e3baef9a53bf8902d7",
       "version_major": 2,
       "version_minor": 0
      },
      "text/plain": [
       "Epoch 234:   0%|          | 0/48 [00:00<?, ?it/s]"
      ]
     },
     "metadata": {},
     "output_type": "display_data"
    },
    {
     "name": "stdout",
     "output_type": "stream",
     "text": [
      "Epoch 234/1000: Train Loss = 0.5197\n"
     ]
    },
    {
     "data": {
      "application/vnd.jupyter.widget-view+json": {
       "model_id": "a1558814ee1346c9abae826319bac843",
       "version_major": 2,
       "version_minor": 0
      },
      "text/plain": [
       "Epoch 235:   0%|          | 0/48 [00:00<?, ?it/s]"
      ]
     },
     "metadata": {},
     "output_type": "display_data"
    },
    {
     "name": "stdout",
     "output_type": "stream",
     "text": [
      "Epoch 235/1000: Train Loss = 0.5176\n"
     ]
    },
    {
     "data": {
      "application/vnd.jupyter.widget-view+json": {
       "model_id": "2d45501500f048ed95431099a2fdadb9",
       "version_major": 2,
       "version_minor": 0
      },
      "text/plain": [
       "Epoch 236:   0%|          | 0/48 [00:00<?, ?it/s]"
      ]
     },
     "metadata": {},
     "output_type": "display_data"
    },
    {
     "name": "stdout",
     "output_type": "stream",
     "text": [
      "Epoch 236/1000: Train Loss = 0.5198\n"
     ]
    },
    {
     "data": {
      "application/vnd.jupyter.widget-view+json": {
       "model_id": "c68f7a0f545c4c97ac37fe386f323b48",
       "version_major": 2,
       "version_minor": 0
      },
      "text/plain": [
       "Epoch 237:   0%|          | 0/48 [00:00<?, ?it/s]"
      ]
     },
     "metadata": {},
     "output_type": "display_data"
    },
    {
     "name": "stdout",
     "output_type": "stream",
     "text": [
      "Epoch 237/1000: Train Loss = 0.5280\n"
     ]
    },
    {
     "data": {
      "application/vnd.jupyter.widget-view+json": {
       "model_id": "b390e7d4bb62486bbdc0c10fb7a56c3f",
       "version_major": 2,
       "version_minor": 0
      },
      "text/plain": [
       "Epoch 238:   0%|          | 0/48 [00:00<?, ?it/s]"
      ]
     },
     "metadata": {},
     "output_type": "display_data"
    },
    {
     "name": "stdout",
     "output_type": "stream",
     "text": [
      "Epoch 238/1000: Train Loss = 0.5254\n"
     ]
    },
    {
     "data": {
      "application/vnd.jupyter.widget-view+json": {
       "model_id": "d74bf4f1c6d445979b601978aaccd51c",
       "version_major": 2,
       "version_minor": 0
      },
      "text/plain": [
       "Epoch 239:   0%|          | 0/48 [00:00<?, ?it/s]"
      ]
     },
     "metadata": {},
     "output_type": "display_data"
    },
    {
     "name": "stdout",
     "output_type": "stream",
     "text": [
      "Epoch 239/1000: Train Loss = 0.5186\n"
     ]
    },
    {
     "data": {
      "application/vnd.jupyter.widget-view+json": {
       "model_id": "4f43a83323fc48ca81cbe6eb7cfff7be",
       "version_major": 2,
       "version_minor": 0
      },
      "text/plain": [
       "Epoch 240:   0%|          | 0/48 [00:00<?, ?it/s]"
      ]
     },
     "metadata": {},
     "output_type": "display_data"
    },
    {
     "name": "stdout",
     "output_type": "stream",
     "text": [
      "Epoch 240/1000: Train Loss = 0.5173\n"
     ]
    },
    {
     "data": {
      "application/vnd.jupyter.widget-view+json": {
       "model_id": "ae0f8cb6cec94c1e8d2d8cdf144142a2",
       "version_major": 2,
       "version_minor": 0
      },
      "text/plain": [
       "Epoch 241:   0%|          | 0/48 [00:00<?, ?it/s]"
      ]
     },
     "metadata": {},
     "output_type": "display_data"
    },
    {
     "name": "stdout",
     "output_type": "stream",
     "text": [
      "Epoch 241/1000: Train Loss = 0.5219\n"
     ]
    },
    {
     "data": {
      "application/vnd.jupyter.widget-view+json": {
       "model_id": "a5e41210969c4874b15288f302d2ee0a",
       "version_major": 2,
       "version_minor": 0
      },
      "text/plain": [
       "Epoch 242:   0%|          | 0/48 [00:00<?, ?it/s]"
      ]
     },
     "metadata": {},
     "output_type": "display_data"
    },
    {
     "name": "stdout",
     "output_type": "stream",
     "text": [
      "Epoch 242/1000: Train Loss = 0.5240\n"
     ]
    },
    {
     "data": {
      "application/vnd.jupyter.widget-view+json": {
       "model_id": "2c0cc5bce5654f8bac95fc2886d25122",
       "version_major": 2,
       "version_minor": 0
      },
      "text/plain": [
       "Epoch 243:   0%|          | 0/48 [00:00<?, ?it/s]"
      ]
     },
     "metadata": {},
     "output_type": "display_data"
    },
    {
     "name": "stdout",
     "output_type": "stream",
     "text": [
      "Epoch 243/1000: Train Loss = 0.5224\n"
     ]
    },
    {
     "data": {
      "application/vnd.jupyter.widget-view+json": {
       "model_id": "d0250329ccca47f19606e2929da9bd1b",
       "version_major": 2,
       "version_minor": 0
      },
      "text/plain": [
       "Epoch 244:   0%|          | 0/48 [00:00<?, ?it/s]"
      ]
     },
     "metadata": {},
     "output_type": "display_data"
    },
    {
     "name": "stdout",
     "output_type": "stream",
     "text": [
      "Epoch 244/1000: Train Loss = 0.5298\n"
     ]
    },
    {
     "data": {
      "application/vnd.jupyter.widget-view+json": {
       "model_id": "2054edd3263e44f78aa482bacae28732",
       "version_major": 2,
       "version_minor": 0
      },
      "text/plain": [
       "Epoch 245:   0%|          | 0/48 [00:00<?, ?it/s]"
      ]
     },
     "metadata": {},
     "output_type": "display_data"
    },
    {
     "name": "stdout",
     "output_type": "stream",
     "text": [
      "Epoch 245/1000: Train Loss = 0.5217\n"
     ]
    },
    {
     "data": {
      "application/vnd.jupyter.widget-view+json": {
       "model_id": "a0dbccfadd5e497c8f2e17758209373e",
       "version_major": 2,
       "version_minor": 0
      },
      "text/plain": [
       "Epoch 246:   0%|          | 0/48 [00:00<?, ?it/s]"
      ]
     },
     "metadata": {},
     "output_type": "display_data"
    },
    {
     "name": "stdout",
     "output_type": "stream",
     "text": [
      "Epoch 246/1000: Train Loss = 0.5191\n"
     ]
    },
    {
     "data": {
      "application/vnd.jupyter.widget-view+json": {
       "model_id": "cfa02d2a29a146b9912199bbf980e479",
       "version_major": 2,
       "version_minor": 0
      },
      "text/plain": [
       "Epoch 247:   0%|          | 0/48 [00:00<?, ?it/s]"
      ]
     },
     "metadata": {},
     "output_type": "display_data"
    },
    {
     "name": "stdout",
     "output_type": "stream",
     "text": [
      "Epoch 247/1000: Train Loss = 0.5214\n"
     ]
    },
    {
     "data": {
      "application/vnd.jupyter.widget-view+json": {
       "model_id": "b292919732bc494d8a31ee00f874b0bd",
       "version_major": 2,
       "version_minor": 0
      },
      "text/plain": [
       "Epoch 248:   0%|          | 0/48 [00:00<?, ?it/s]"
      ]
     },
     "metadata": {},
     "output_type": "display_data"
    },
    {
     "name": "stdout",
     "output_type": "stream",
     "text": [
      "Epoch 248/1000: Train Loss = 0.5190\n"
     ]
    },
    {
     "data": {
      "application/vnd.jupyter.widget-view+json": {
       "model_id": "42688e764ff54446a6aeafd20a17e30c",
       "version_major": 2,
       "version_minor": 0
      },
      "text/plain": [
       "Epoch 249:   0%|          | 0/48 [00:00<?, ?it/s]"
      ]
     },
     "metadata": {},
     "output_type": "display_data"
    },
    {
     "name": "stdout",
     "output_type": "stream",
     "text": [
      "Epoch 249/1000: Train Loss = 0.5271\n"
     ]
    },
    {
     "data": {
      "application/vnd.jupyter.widget-view+json": {
       "model_id": "a1cfe9ca27714f80842b6d3517c52c9b",
       "version_major": 2,
       "version_minor": 0
      },
      "text/plain": [
       "Epoch 250:   0%|          | 0/48 [00:00<?, ?it/s]"
      ]
     },
     "metadata": {},
     "output_type": "display_data"
    },
    {
     "name": "stdout",
     "output_type": "stream",
     "text": [
      "\n",
      "Binary LSTM (Epoch 250) Evaluation Results:\n",
      "  Average Loss: 0.5662\n",
      "  AUC (Area Under Curve): 0.5032\n",
      "  β₀ (exact match): 0.0000 (0.00%)\n",
      "  β₁ (≤1 bit error): 0.3958 (39.58%)\n",
      "  β₂ (≤2 bit error): 0.6458 (64.58%)\n",
      "  β₃ (≤3 bit error): 0.7917 (79.17%)\n",
      "  β₄ (≤4 bit error): 0.8542 (85.42%)\n"
     ]
    },
    {
     "data": {
      "application/vnd.jupyter.widget-view+json": {
       "model_id": "d9dce811262f4ef9a1805cc006512297",
       "version_major": 2,
       "version_minor": 0
      },
      "text/plain": [
       "Epoch 251:   0%|          | 0/48 [00:00<?, ?it/s]"
      ]
     },
     "metadata": {},
     "output_type": "display_data"
    },
    {
     "name": "stdout",
     "output_type": "stream",
     "text": [
      "Epoch 251/1000: Train Loss = 0.5200\n"
     ]
    },
    {
     "data": {
      "application/vnd.jupyter.widget-view+json": {
       "model_id": "0f6c3ea0d8804d4fac3b2e2c8ce16327",
       "version_major": 2,
       "version_minor": 0
      },
      "text/plain": [
       "Epoch 252:   0%|          | 0/48 [00:00<?, ?it/s]"
      ]
     },
     "metadata": {},
     "output_type": "display_data"
    },
    {
     "name": "stdout",
     "output_type": "stream",
     "text": [
      "Epoch 252/1000: Train Loss = 0.5271\n"
     ]
    },
    {
     "data": {
      "application/vnd.jupyter.widget-view+json": {
       "model_id": "7cd05dbd4ea54b1fafd8c8ed131aeeba",
       "version_major": 2,
       "version_minor": 0
      },
      "text/plain": [
       "Epoch 253:   0%|          | 0/48 [00:00<?, ?it/s]"
      ]
     },
     "metadata": {},
     "output_type": "display_data"
    },
    {
     "name": "stdout",
     "output_type": "stream",
     "text": [
      "Epoch 253/1000: Train Loss = 0.5190\n"
     ]
    },
    {
     "data": {
      "application/vnd.jupyter.widget-view+json": {
       "model_id": "57a891c475404a53a2f765213b3b2c3b",
       "version_major": 2,
       "version_minor": 0
      },
      "text/plain": [
       "Epoch 254:   0%|          | 0/48 [00:00<?, ?it/s]"
      ]
     },
     "metadata": {},
     "output_type": "display_data"
    },
    {
     "name": "stdout",
     "output_type": "stream",
     "text": [
      "Epoch 254/1000: Train Loss = 0.5215\n"
     ]
    },
    {
     "data": {
      "application/vnd.jupyter.widget-view+json": {
       "model_id": "934141c381654858932d18cee1a26cd7",
       "version_major": 2,
       "version_minor": 0
      },
      "text/plain": [
       "Epoch 255:   0%|          | 0/48 [00:00<?, ?it/s]"
      ]
     },
     "metadata": {},
     "output_type": "display_data"
    },
    {
     "name": "stdout",
     "output_type": "stream",
     "text": [
      "Epoch 255/1000: Train Loss = 0.5221\n"
     ]
    },
    {
     "data": {
      "application/vnd.jupyter.widget-view+json": {
       "model_id": "d283d9815753467085b6313a6c31b4a5",
       "version_major": 2,
       "version_minor": 0
      },
      "text/plain": [
       "Epoch 256:   0%|          | 0/48 [00:00<?, ?it/s]"
      ]
     },
     "metadata": {},
     "output_type": "display_data"
    },
    {
     "name": "stdout",
     "output_type": "stream",
     "text": [
      "Epoch 256/1000: Train Loss = 0.5259\n"
     ]
    },
    {
     "data": {
      "application/vnd.jupyter.widget-view+json": {
       "model_id": "c683eba986404be49e316f8c6cd5cee2",
       "version_major": 2,
       "version_minor": 0
      },
      "text/plain": [
       "Epoch 257:   0%|          | 0/48 [00:00<?, ?it/s]"
      ]
     },
     "metadata": {},
     "output_type": "display_data"
    },
    {
     "name": "stdout",
     "output_type": "stream",
     "text": [
      "Epoch 257/1000: Train Loss = 0.5208\n"
     ]
    },
    {
     "data": {
      "application/vnd.jupyter.widget-view+json": {
       "model_id": "e902ba4cd9cd4f019b460af9ca0d69cf",
       "version_major": 2,
       "version_minor": 0
      },
      "text/plain": [
       "Epoch 258:   0%|          | 0/48 [00:00<?, ?it/s]"
      ]
     },
     "metadata": {},
     "output_type": "display_data"
    },
    {
     "name": "stdout",
     "output_type": "stream",
     "text": [
      "Epoch 258/1000: Train Loss = 0.5258\n"
     ]
    },
    {
     "data": {
      "application/vnd.jupyter.widget-view+json": {
       "model_id": "06ed94a313eb47049f034377d4c4ce66",
       "version_major": 2,
       "version_minor": 0
      },
      "text/plain": [
       "Epoch 259:   0%|          | 0/48 [00:00<?, ?it/s]"
      ]
     },
     "metadata": {},
     "output_type": "display_data"
    },
    {
     "name": "stdout",
     "output_type": "stream",
     "text": [
      "Epoch 259/1000: Train Loss = 0.5297\n"
     ]
    },
    {
     "data": {
      "application/vnd.jupyter.widget-view+json": {
       "model_id": "91b42199b7544f47bdd65e364789d7ff",
       "version_major": 2,
       "version_minor": 0
      },
      "text/plain": [
       "Epoch 260:   0%|          | 0/48 [00:00<?, ?it/s]"
      ]
     },
     "metadata": {},
     "output_type": "display_data"
    },
    {
     "name": "stdout",
     "output_type": "stream",
     "text": [
      "Epoch 260/1000: Train Loss = 0.5200\n"
     ]
    },
    {
     "data": {
      "application/vnd.jupyter.widget-view+json": {
       "model_id": "1ed0f92e30224c50a08a1aee96b2ad68",
       "version_major": 2,
       "version_minor": 0
      },
      "text/plain": [
       "Epoch 261:   0%|          | 0/48 [00:00<?, ?it/s]"
      ]
     },
     "metadata": {},
     "output_type": "display_data"
    },
    {
     "name": "stdout",
     "output_type": "stream",
     "text": [
      "Epoch 261/1000: Train Loss = 0.5204\n"
     ]
    },
    {
     "data": {
      "application/vnd.jupyter.widget-view+json": {
       "model_id": "e507fb7b11074ecba533dca80f7dff4a",
       "version_major": 2,
       "version_minor": 0
      },
      "text/plain": [
       "Epoch 262:   0%|          | 0/48 [00:00<?, ?it/s]"
      ]
     },
     "metadata": {},
     "output_type": "display_data"
    },
    {
     "name": "stdout",
     "output_type": "stream",
     "text": [
      "Epoch 262/1000: Train Loss = 0.5248\n"
     ]
    },
    {
     "data": {
      "application/vnd.jupyter.widget-view+json": {
       "model_id": "8e101b3c98b4424189e16d24822c98b4",
       "version_major": 2,
       "version_minor": 0
      },
      "text/plain": [
       "Epoch 263:   0%|          | 0/48 [00:00<?, ?it/s]"
      ]
     },
     "metadata": {},
     "output_type": "display_data"
    },
    {
     "name": "stdout",
     "output_type": "stream",
     "text": [
      "Epoch 263/1000: Train Loss = 0.5202\n"
     ]
    },
    {
     "data": {
      "application/vnd.jupyter.widget-view+json": {
       "model_id": "865954f224764e1fb890cc34ffef1fcf",
       "version_major": 2,
       "version_minor": 0
      },
      "text/plain": [
       "Epoch 264:   0%|          | 0/48 [00:00<?, ?it/s]"
      ]
     },
     "metadata": {},
     "output_type": "display_data"
    },
    {
     "name": "stdout",
     "output_type": "stream",
     "text": [
      "Epoch 264/1000: Train Loss = 0.5183\n"
     ]
    },
    {
     "data": {
      "application/vnd.jupyter.widget-view+json": {
       "model_id": "9500a9af9158416cba72c4e98c713bf0",
       "version_major": 2,
       "version_minor": 0
      },
      "text/plain": [
       "Epoch 265:   0%|          | 0/48 [00:00<?, ?it/s]"
      ]
     },
     "metadata": {},
     "output_type": "display_data"
    },
    {
     "name": "stdout",
     "output_type": "stream",
     "text": [
      "Epoch 265/1000: Train Loss = 0.5182\n"
     ]
    },
    {
     "data": {
      "application/vnd.jupyter.widget-view+json": {
       "model_id": "1d796b0ea3e64e53a1901b4b3f4a7048",
       "version_major": 2,
       "version_minor": 0
      },
      "text/plain": [
       "Epoch 266:   0%|          | 0/48 [00:00<?, ?it/s]"
      ]
     },
     "metadata": {},
     "output_type": "display_data"
    },
    {
     "name": "stdout",
     "output_type": "stream",
     "text": [
      "Epoch 266/1000: Train Loss = 0.5178\n"
     ]
    },
    {
     "data": {
      "application/vnd.jupyter.widget-view+json": {
       "model_id": "bf2b844372d444f4af71b1370c1541cf",
       "version_major": 2,
       "version_minor": 0
      },
      "text/plain": [
       "Epoch 267:   0%|          | 0/48 [00:00<?, ?it/s]"
      ]
     },
     "metadata": {},
     "output_type": "display_data"
    },
    {
     "name": "stdout",
     "output_type": "stream",
     "text": [
      "Epoch 267/1000: Train Loss = 0.5212\n"
     ]
    },
    {
     "data": {
      "application/vnd.jupyter.widget-view+json": {
       "model_id": "2cfdff689b494f43a27a53e9bac89dc5",
       "version_major": 2,
       "version_minor": 0
      },
      "text/plain": [
       "Epoch 268:   0%|          | 0/48 [00:00<?, ?it/s]"
      ]
     },
     "metadata": {},
     "output_type": "display_data"
    },
    {
     "name": "stdout",
     "output_type": "stream",
     "text": [
      "Epoch 268/1000: Train Loss = 0.5283\n"
     ]
    },
    {
     "data": {
      "application/vnd.jupyter.widget-view+json": {
       "model_id": "8eda859fd7f84305927e39b879b7b40c",
       "version_major": 2,
       "version_minor": 0
      },
      "text/plain": [
       "Epoch 269:   0%|          | 0/48 [00:00<?, ?it/s]"
      ]
     },
     "metadata": {},
     "output_type": "display_data"
    },
    {
     "name": "stdout",
     "output_type": "stream",
     "text": [
      "Epoch 269/1000: Train Loss = 0.5210\n"
     ]
    },
    {
     "data": {
      "application/vnd.jupyter.widget-view+json": {
       "model_id": "9f893d2c369d4b7095e7dfb7526da398",
       "version_major": 2,
       "version_minor": 0
      },
      "text/plain": [
       "Epoch 270:   0%|          | 0/48 [00:00<?, ?it/s]"
      ]
     },
     "metadata": {},
     "output_type": "display_data"
    },
    {
     "name": "stdout",
     "output_type": "stream",
     "text": [
      "Epoch 270/1000: Train Loss = 0.5211\n"
     ]
    },
    {
     "data": {
      "application/vnd.jupyter.widget-view+json": {
       "model_id": "aaf3ea3566c84e0b85922bdfe14b8465",
       "version_major": 2,
       "version_minor": 0
      },
      "text/plain": [
       "Epoch 271:   0%|          | 0/48 [00:00<?, ?it/s]"
      ]
     },
     "metadata": {},
     "output_type": "display_data"
    },
    {
     "name": "stdout",
     "output_type": "stream",
     "text": [
      "Epoch 271/1000: Train Loss = 0.5224\n"
     ]
    },
    {
     "data": {
      "application/vnd.jupyter.widget-view+json": {
       "model_id": "dda152dcc6064333a1250c600b37efc7",
       "version_major": 2,
       "version_minor": 0
      },
      "text/plain": [
       "Epoch 272:   0%|          | 0/48 [00:00<?, ?it/s]"
      ]
     },
     "metadata": {},
     "output_type": "display_data"
    },
    {
     "name": "stdout",
     "output_type": "stream",
     "text": [
      "Epoch 272/1000: Train Loss = 0.5219\n"
     ]
    },
    {
     "data": {
      "application/vnd.jupyter.widget-view+json": {
       "model_id": "44db24252db646cd9d07016f3f90962d",
       "version_major": 2,
       "version_minor": 0
      },
      "text/plain": [
       "Epoch 273:   0%|          | 0/48 [00:00<?, ?it/s]"
      ]
     },
     "metadata": {},
     "output_type": "display_data"
    },
    {
     "name": "stdout",
     "output_type": "stream",
     "text": [
      "Epoch 273/1000: Train Loss = 0.5186\n"
     ]
    },
    {
     "data": {
      "application/vnd.jupyter.widget-view+json": {
       "model_id": "b94a0f2ad3944c8099d1ea3e6c2be151",
       "version_major": 2,
       "version_minor": 0
      },
      "text/plain": [
       "Epoch 274:   0%|          | 0/48 [00:00<?, ?it/s]"
      ]
     },
     "metadata": {},
     "output_type": "display_data"
    },
    {
     "name": "stdout",
     "output_type": "stream",
     "text": [
      "Epoch 274/1000: Train Loss = 0.5204\n"
     ]
    },
    {
     "data": {
      "application/vnd.jupyter.widget-view+json": {
       "model_id": "038b172cd8654a149f06f331eb75b532",
       "version_major": 2,
       "version_minor": 0
      },
      "text/plain": [
       "Epoch 275:   0%|          | 0/48 [00:00<?, ?it/s]"
      ]
     },
     "metadata": {},
     "output_type": "display_data"
    },
    {
     "name": "stdout",
     "output_type": "stream",
     "text": [
      "Epoch 275/1000: Train Loss = 0.5199\n"
     ]
    },
    {
     "data": {
      "application/vnd.jupyter.widget-view+json": {
       "model_id": "034006fbfd6c42a4891cb450e4987129",
       "version_major": 2,
       "version_minor": 0
      },
      "text/plain": [
       "Epoch 276:   0%|          | 0/48 [00:00<?, ?it/s]"
      ]
     },
     "metadata": {},
     "output_type": "display_data"
    },
    {
     "name": "stdout",
     "output_type": "stream",
     "text": [
      "Epoch 276/1000: Train Loss = 0.5191\n"
     ]
    },
    {
     "data": {
      "application/vnd.jupyter.widget-view+json": {
       "model_id": "81d0e572104746f2a81a28be2622e8dd",
       "version_major": 2,
       "version_minor": 0
      },
      "text/plain": [
       "Epoch 277:   0%|          | 0/48 [00:00<?, ?it/s]"
      ]
     },
     "metadata": {},
     "output_type": "display_data"
    },
    {
     "name": "stdout",
     "output_type": "stream",
     "text": [
      "Epoch 277/1000: Train Loss = 0.5209\n"
     ]
    },
    {
     "data": {
      "application/vnd.jupyter.widget-view+json": {
       "model_id": "28a2ef71baf04c9395d0e9c37c96a85d",
       "version_major": 2,
       "version_minor": 0
      },
      "text/plain": [
       "Epoch 278:   0%|          | 0/48 [00:00<?, ?it/s]"
      ]
     },
     "metadata": {},
     "output_type": "display_data"
    },
    {
     "name": "stdout",
     "output_type": "stream",
     "text": [
      "Epoch 278/1000: Train Loss = 0.5194\n"
     ]
    },
    {
     "data": {
      "application/vnd.jupyter.widget-view+json": {
       "model_id": "c4b3ba1a78934039bfb3b14d23f464e2",
       "version_major": 2,
       "version_minor": 0
      },
      "text/plain": [
       "Epoch 279:   0%|          | 0/48 [00:00<?, ?it/s]"
      ]
     },
     "metadata": {},
     "output_type": "display_data"
    },
    {
     "name": "stdout",
     "output_type": "stream",
     "text": [
      "Epoch 279/1000: Train Loss = 0.5319\n"
     ]
    },
    {
     "data": {
      "application/vnd.jupyter.widget-view+json": {
       "model_id": "25bf223032cb4ac7bd7b5375529bc56a",
       "version_major": 2,
       "version_minor": 0
      },
      "text/plain": [
       "Epoch 280:   0%|          | 0/48 [00:00<?, ?it/s]"
      ]
     },
     "metadata": {},
     "output_type": "display_data"
    },
    {
     "name": "stdout",
     "output_type": "stream",
     "text": [
      "Epoch 280/1000: Train Loss = 0.5167\n"
     ]
    },
    {
     "data": {
      "application/vnd.jupyter.widget-view+json": {
       "model_id": "3659e5650d664b6ea24d035fd0fc06cf",
       "version_major": 2,
       "version_minor": 0
      },
      "text/plain": [
       "Epoch 281:   0%|          | 0/48 [00:00<?, ?it/s]"
      ]
     },
     "metadata": {},
     "output_type": "display_data"
    },
    {
     "name": "stdout",
     "output_type": "stream",
     "text": [
      "Epoch 281/1000: Train Loss = 0.5232\n"
     ]
    },
    {
     "data": {
      "application/vnd.jupyter.widget-view+json": {
       "model_id": "d3187a464cb3494aa80535785b85d2ca",
       "version_major": 2,
       "version_minor": 0
      },
      "text/plain": [
       "Epoch 282:   0%|          | 0/48 [00:00<?, ?it/s]"
      ]
     },
     "metadata": {},
     "output_type": "display_data"
    },
    {
     "name": "stdout",
     "output_type": "stream",
     "text": [
      "Epoch 282/1000: Train Loss = 0.5199\n"
     ]
    },
    {
     "data": {
      "application/vnd.jupyter.widget-view+json": {
       "model_id": "5aa93610b8ae4f98a2af4f0c7056b131",
       "version_major": 2,
       "version_minor": 0
      },
      "text/plain": [
       "Epoch 283:   0%|          | 0/48 [00:00<?, ?it/s]"
      ]
     },
     "metadata": {},
     "output_type": "display_data"
    },
    {
     "name": "stdout",
     "output_type": "stream",
     "text": [
      "Epoch 283/1000: Train Loss = 0.5257\n"
     ]
    },
    {
     "data": {
      "application/vnd.jupyter.widget-view+json": {
       "model_id": "4b2a1c2f9f1f466cab680f705b007ab9",
       "version_major": 2,
       "version_minor": 0
      },
      "text/plain": [
       "Epoch 284:   0%|          | 0/48 [00:00<?, ?it/s]"
      ]
     },
     "metadata": {},
     "output_type": "display_data"
    },
    {
     "name": "stdout",
     "output_type": "stream",
     "text": [
      "Epoch 284/1000: Train Loss = 0.5207\n"
     ]
    },
    {
     "data": {
      "application/vnd.jupyter.widget-view+json": {
       "model_id": "ba368ab13797440abd43f17e4090f21a",
       "version_major": 2,
       "version_minor": 0
      },
      "text/plain": [
       "Epoch 285:   0%|          | 0/48 [00:00<?, ?it/s]"
      ]
     },
     "metadata": {},
     "output_type": "display_data"
    },
    {
     "name": "stdout",
     "output_type": "stream",
     "text": [
      "Epoch 285/1000: Train Loss = 0.5180\n"
     ]
    },
    {
     "data": {
      "application/vnd.jupyter.widget-view+json": {
       "model_id": "3a33a7806ab04bac818723e91acf1b8b",
       "version_major": 2,
       "version_minor": 0
      },
      "text/plain": [
       "Epoch 286:   0%|          | 0/48 [00:00<?, ?it/s]"
      ]
     },
     "metadata": {},
     "output_type": "display_data"
    },
    {
     "name": "stdout",
     "output_type": "stream",
     "text": [
      "Epoch 286/1000: Train Loss = 0.5203\n"
     ]
    },
    {
     "data": {
      "application/vnd.jupyter.widget-view+json": {
       "model_id": "71661def9f4c4ec99353f6984cd8d748",
       "version_major": 2,
       "version_minor": 0
      },
      "text/plain": [
       "Epoch 287:   0%|          | 0/48 [00:00<?, ?it/s]"
      ]
     },
     "metadata": {},
     "output_type": "display_data"
    },
    {
     "name": "stdout",
     "output_type": "stream",
     "text": [
      "Epoch 287/1000: Train Loss = 0.5214\n"
     ]
    },
    {
     "data": {
      "application/vnd.jupyter.widget-view+json": {
       "model_id": "8fcf6b96e2414e87b7e2bb7d4ccfe88b",
       "version_major": 2,
       "version_minor": 0
      },
      "text/plain": [
       "Epoch 288:   0%|          | 0/48 [00:00<?, ?it/s]"
      ]
     },
     "metadata": {},
     "output_type": "display_data"
    },
    {
     "name": "stdout",
     "output_type": "stream",
     "text": [
      "Epoch 288/1000: Train Loss = 0.5227\n"
     ]
    },
    {
     "data": {
      "application/vnd.jupyter.widget-view+json": {
       "model_id": "65e19fed572a4a4d95de7312015a788d",
       "version_major": 2,
       "version_minor": 0
      },
      "text/plain": [
       "Epoch 289:   0%|          | 0/48 [00:00<?, ?it/s]"
      ]
     },
     "metadata": {},
     "output_type": "display_data"
    },
    {
     "name": "stdout",
     "output_type": "stream",
     "text": [
      "Epoch 289/1000: Train Loss = 0.5201\n"
     ]
    },
    {
     "data": {
      "application/vnd.jupyter.widget-view+json": {
       "model_id": "317af51208fc47b6bbe40e3ceb8073b0",
       "version_major": 2,
       "version_minor": 0
      },
      "text/plain": [
       "Epoch 290:   0%|          | 0/48 [00:00<?, ?it/s]"
      ]
     },
     "metadata": {},
     "output_type": "display_data"
    },
    {
     "name": "stdout",
     "output_type": "stream",
     "text": [
      "Epoch 290/1000: Train Loss = 0.5203\n"
     ]
    },
    {
     "data": {
      "application/vnd.jupyter.widget-view+json": {
       "model_id": "04388042c6bc439bbf7d132b41e1abac",
       "version_major": 2,
       "version_minor": 0
      },
      "text/plain": [
       "Epoch 291:   0%|          | 0/48 [00:00<?, ?it/s]"
      ]
     },
     "metadata": {},
     "output_type": "display_data"
    },
    {
     "name": "stdout",
     "output_type": "stream",
     "text": [
      "Epoch 291/1000: Train Loss = 0.5196\n"
     ]
    },
    {
     "data": {
      "application/vnd.jupyter.widget-view+json": {
       "model_id": "e1a938a4db3d4a26bff788df12cfbb40",
       "version_major": 2,
       "version_minor": 0
      },
      "text/plain": [
       "Epoch 292:   0%|          | 0/48 [00:00<?, ?it/s]"
      ]
     },
     "metadata": {},
     "output_type": "display_data"
    },
    {
     "name": "stdout",
     "output_type": "stream",
     "text": [
      "Epoch 292/1000: Train Loss = 0.5197\n"
     ]
    },
    {
     "data": {
      "application/vnd.jupyter.widget-view+json": {
       "model_id": "e4b0cdcf0a4c42bb9a4427df9b4fd99f",
       "version_major": 2,
       "version_minor": 0
      },
      "text/plain": [
       "Epoch 293:   0%|          | 0/48 [00:00<?, ?it/s]"
      ]
     },
     "metadata": {},
     "output_type": "display_data"
    },
    {
     "name": "stdout",
     "output_type": "stream",
     "text": [
      "Epoch 293/1000: Train Loss = 0.5207\n"
     ]
    },
    {
     "data": {
      "application/vnd.jupyter.widget-view+json": {
       "model_id": "75f31cc6e274464393bd1ccd9a27bc17",
       "version_major": 2,
       "version_minor": 0
      },
      "text/plain": [
       "Epoch 294:   0%|          | 0/48 [00:00<?, ?it/s]"
      ]
     },
     "metadata": {},
     "output_type": "display_data"
    },
    {
     "name": "stdout",
     "output_type": "stream",
     "text": [
      "Epoch 294/1000: Train Loss = 0.5168\n"
     ]
    },
    {
     "data": {
      "application/vnd.jupyter.widget-view+json": {
       "model_id": "dc88a9e5ceca4937ac71894c0220fa2c",
       "version_major": 2,
       "version_minor": 0
      },
      "text/plain": [
       "Epoch 295:   0%|          | 0/48 [00:00<?, ?it/s]"
      ]
     },
     "metadata": {},
     "output_type": "display_data"
    },
    {
     "name": "stdout",
     "output_type": "stream",
     "text": [
      "Epoch 295/1000: Train Loss = 0.5196\n"
     ]
    },
    {
     "data": {
      "application/vnd.jupyter.widget-view+json": {
       "model_id": "98a4e53df9d4427e8bcc855d01533871",
       "version_major": 2,
       "version_minor": 0
      },
      "text/plain": [
       "Epoch 296:   0%|          | 0/48 [00:00<?, ?it/s]"
      ]
     },
     "metadata": {},
     "output_type": "display_data"
    },
    {
     "name": "stdout",
     "output_type": "stream",
     "text": [
      "Epoch 296/1000: Train Loss = 0.5201\n"
     ]
    },
    {
     "data": {
      "application/vnd.jupyter.widget-view+json": {
       "model_id": "e67bab7b88e145b299da1bcd5ddd6dff",
       "version_major": 2,
       "version_minor": 0
      },
      "text/plain": [
       "Epoch 297:   0%|          | 0/48 [00:00<?, ?it/s]"
      ]
     },
     "metadata": {},
     "output_type": "display_data"
    },
    {
     "name": "stdout",
     "output_type": "stream",
     "text": [
      "Epoch 297/1000: Train Loss = 0.5255\n"
     ]
    },
    {
     "data": {
      "application/vnd.jupyter.widget-view+json": {
       "model_id": "1cfa96090f1c4183a8497ca649235330",
       "version_major": 2,
       "version_minor": 0
      },
      "text/plain": [
       "Epoch 298:   0%|          | 0/48 [00:00<?, ?it/s]"
      ]
     },
     "metadata": {},
     "output_type": "display_data"
    },
    {
     "name": "stdout",
     "output_type": "stream",
     "text": [
      "Epoch 298/1000: Train Loss = 0.5229\n"
     ]
    },
    {
     "data": {
      "application/vnd.jupyter.widget-view+json": {
       "model_id": "dbe1ad2d680f4606918dde541aa40f08",
       "version_major": 2,
       "version_minor": 0
      },
      "text/plain": [
       "Epoch 299:   0%|          | 0/48 [00:00<?, ?it/s]"
      ]
     },
     "metadata": {},
     "output_type": "display_data"
    },
    {
     "name": "stdout",
     "output_type": "stream",
     "text": [
      "Epoch 299/1000: Train Loss = 0.5251\n"
     ]
    },
    {
     "data": {
      "application/vnd.jupyter.widget-view+json": {
       "model_id": "e1207e2be28d46d39fb0b86df8905189",
       "version_major": 2,
       "version_minor": 0
      },
      "text/plain": [
       "Epoch 300:   0%|          | 0/48 [00:00<?, ?it/s]"
      ]
     },
     "metadata": {},
     "output_type": "display_data"
    },
    {
     "name": "stdout",
     "output_type": "stream",
     "text": [
      "\n",
      "Binary LSTM (Epoch 300) Evaluation Results:\n",
      "  Average Loss: 0.5658\n",
      "  AUC (Area Under Curve): 0.4981\n",
      "  β₀ (exact match): 0.0000 (0.00%)\n",
      "  β₁ (≤1 bit error): 0.3958 (39.58%)\n",
      "  β₂ (≤2 bit error): 0.6458 (64.58%)\n",
      "  β₃ (≤3 bit error): 0.7917 (79.17%)\n",
      "  β₄ (≤4 bit error): 0.8542 (85.42%)\n"
     ]
    },
    {
     "data": {
      "application/vnd.jupyter.widget-view+json": {
       "model_id": "9bbba3b8127143dca3e523d562fac88b",
       "version_major": 2,
       "version_minor": 0
      },
      "text/plain": [
       "Epoch 301:   0%|          | 0/48 [00:00<?, ?it/s]"
      ]
     },
     "metadata": {},
     "output_type": "display_data"
    },
    {
     "name": "stdout",
     "output_type": "stream",
     "text": [
      "Epoch 301/1000: Train Loss = 0.5212\n"
     ]
    },
    {
     "data": {
      "application/vnd.jupyter.widget-view+json": {
       "model_id": "171f0eb5b3e94d7cb8a269135f0e1f56",
       "version_major": 2,
       "version_minor": 0
      },
      "text/plain": [
       "Epoch 302:   0%|          | 0/48 [00:00<?, ?it/s]"
      ]
     },
     "metadata": {},
     "output_type": "display_data"
    },
    {
     "name": "stdout",
     "output_type": "stream",
     "text": [
      "Epoch 302/1000: Train Loss = 0.5202\n"
     ]
    },
    {
     "data": {
      "application/vnd.jupyter.widget-view+json": {
       "model_id": "85df2d4db9ad434a88c534561d2dbc0f",
       "version_major": 2,
       "version_minor": 0
      },
      "text/plain": [
       "Epoch 303:   0%|          | 0/48 [00:00<?, ?it/s]"
      ]
     },
     "metadata": {},
     "output_type": "display_data"
    },
    {
     "name": "stdout",
     "output_type": "stream",
     "text": [
      "Epoch 303/1000: Train Loss = 0.5231\n"
     ]
    },
    {
     "data": {
      "application/vnd.jupyter.widget-view+json": {
       "model_id": "1b80638627b64fe280677133e4862618",
       "version_major": 2,
       "version_minor": 0
      },
      "text/plain": [
       "Epoch 304:   0%|          | 0/48 [00:00<?, ?it/s]"
      ]
     },
     "metadata": {},
     "output_type": "display_data"
    },
    {
     "name": "stdout",
     "output_type": "stream",
     "text": [
      "Epoch 304/1000: Train Loss = 0.5205\n"
     ]
    },
    {
     "data": {
      "application/vnd.jupyter.widget-view+json": {
       "model_id": "ec8082451b4643bdbd962389d93262f9",
       "version_major": 2,
       "version_minor": 0
      },
      "text/plain": [
       "Epoch 305:   0%|          | 0/48 [00:00<?, ?it/s]"
      ]
     },
     "metadata": {},
     "output_type": "display_data"
    },
    {
     "name": "stdout",
     "output_type": "stream",
     "text": [
      "Epoch 305/1000: Train Loss = 0.5178\n"
     ]
    },
    {
     "data": {
      "application/vnd.jupyter.widget-view+json": {
       "model_id": "930040428a024c268c0199e748608724",
       "version_major": 2,
       "version_minor": 0
      },
      "text/plain": [
       "Epoch 306:   0%|          | 0/48 [00:00<?, ?it/s]"
      ]
     },
     "metadata": {},
     "output_type": "display_data"
    },
    {
     "name": "stdout",
     "output_type": "stream",
     "text": [
      "Epoch 306/1000: Train Loss = 0.5186\n"
     ]
    },
    {
     "data": {
      "application/vnd.jupyter.widget-view+json": {
       "model_id": "8ad855b6a7ce40e9b32c452ed883a36b",
       "version_major": 2,
       "version_minor": 0
      },
      "text/plain": [
       "Epoch 307:   0%|          | 0/48 [00:00<?, ?it/s]"
      ]
     },
     "metadata": {},
     "output_type": "display_data"
    },
    {
     "name": "stdout",
     "output_type": "stream",
     "text": [
      "Epoch 307/1000: Train Loss = 0.5212\n"
     ]
    },
    {
     "data": {
      "application/vnd.jupyter.widget-view+json": {
       "model_id": "e3a42b3125e84ab1b0ec93d02750c923",
       "version_major": 2,
       "version_minor": 0
      },
      "text/plain": [
       "Epoch 308:   0%|          | 0/48 [00:00<?, ?it/s]"
      ]
     },
     "metadata": {},
     "output_type": "display_data"
    },
    {
     "name": "stdout",
     "output_type": "stream",
     "text": [
      "Epoch 308/1000: Train Loss = 0.5190\n"
     ]
    },
    {
     "data": {
      "application/vnd.jupyter.widget-view+json": {
       "model_id": "cf7392ec00de4b0aae752efd65d48fb6",
       "version_major": 2,
       "version_minor": 0
      },
      "text/plain": [
       "Epoch 309:   0%|          | 0/48 [00:00<?, ?it/s]"
      ]
     },
     "metadata": {},
     "output_type": "display_data"
    },
    {
     "name": "stdout",
     "output_type": "stream",
     "text": [
      "Epoch 309/1000: Train Loss = 0.5208\n"
     ]
    },
    {
     "data": {
      "application/vnd.jupyter.widget-view+json": {
       "model_id": "b67500e1d3834006ade78555692757d2",
       "version_major": 2,
       "version_minor": 0
      },
      "text/plain": [
       "Epoch 310:   0%|          | 0/48 [00:00<?, ?it/s]"
      ]
     },
     "metadata": {},
     "output_type": "display_data"
    },
    {
     "name": "stdout",
     "output_type": "stream",
     "text": [
      "Epoch 310/1000: Train Loss = 0.5288\n"
     ]
    },
    {
     "data": {
      "application/vnd.jupyter.widget-view+json": {
       "model_id": "2893ae2dbb3040e7afbc5e51175a6a8d",
       "version_major": 2,
       "version_minor": 0
      },
      "text/plain": [
       "Epoch 311:   0%|          | 0/48 [00:00<?, ?it/s]"
      ]
     },
     "metadata": {},
     "output_type": "display_data"
    },
    {
     "name": "stdout",
     "output_type": "stream",
     "text": [
      "Epoch 311/1000: Train Loss = 0.5304\n"
     ]
    },
    {
     "data": {
      "application/vnd.jupyter.widget-view+json": {
       "model_id": "253762063d1949159778a7acefe756bc",
       "version_major": 2,
       "version_minor": 0
      },
      "text/plain": [
       "Epoch 312:   0%|          | 0/48 [00:00<?, ?it/s]"
      ]
     },
     "metadata": {},
     "output_type": "display_data"
    },
    {
     "name": "stdout",
     "output_type": "stream",
     "text": [
      "Epoch 312/1000: Train Loss = 0.5269\n"
     ]
    },
    {
     "data": {
      "application/vnd.jupyter.widget-view+json": {
       "model_id": "96f69a371ed04b7f98dfdb473ed357fb",
       "version_major": 2,
       "version_minor": 0
      },
      "text/plain": [
       "Epoch 313:   0%|          | 0/48 [00:00<?, ?it/s]"
      ]
     },
     "metadata": {},
     "output_type": "display_data"
    },
    {
     "name": "stdout",
     "output_type": "stream",
     "text": [
      "Epoch 313/1000: Train Loss = 0.5209\n"
     ]
    },
    {
     "data": {
      "application/vnd.jupyter.widget-view+json": {
       "model_id": "15613e149e724732b332707cb8706240",
       "version_major": 2,
       "version_minor": 0
      },
      "text/plain": [
       "Epoch 314:   0%|          | 0/48 [00:00<?, ?it/s]"
      ]
     },
     "metadata": {},
     "output_type": "display_data"
    },
    {
     "name": "stdout",
     "output_type": "stream",
     "text": [
      "Epoch 314/1000: Train Loss = 0.5196\n"
     ]
    },
    {
     "data": {
      "application/vnd.jupyter.widget-view+json": {
       "model_id": "469b568894a14fc28ca6196d5cf124f2",
       "version_major": 2,
       "version_minor": 0
      },
      "text/plain": [
       "Epoch 315:   0%|          | 0/48 [00:00<?, ?it/s]"
      ]
     },
     "metadata": {},
     "output_type": "display_data"
    },
    {
     "name": "stdout",
     "output_type": "stream",
     "text": [
      "Epoch 315/1000: Train Loss = 0.5188\n"
     ]
    },
    {
     "data": {
      "application/vnd.jupyter.widget-view+json": {
       "model_id": "8cfde7ecc9914d11b8a7a32e50a85f68",
       "version_major": 2,
       "version_minor": 0
      },
      "text/plain": [
       "Epoch 316:   0%|          | 0/48 [00:00<?, ?it/s]"
      ]
     },
     "metadata": {},
     "output_type": "display_data"
    },
    {
     "name": "stdout",
     "output_type": "stream",
     "text": [
      "Epoch 316/1000: Train Loss = 0.5211\n"
     ]
    },
    {
     "data": {
      "application/vnd.jupyter.widget-view+json": {
       "model_id": "0ef42bdab6e144d39e47a605fbd6633e",
       "version_major": 2,
       "version_minor": 0
      },
      "text/plain": [
       "Epoch 317:   0%|          | 0/48 [00:00<?, ?it/s]"
      ]
     },
     "metadata": {},
     "output_type": "display_data"
    },
    {
     "name": "stdout",
     "output_type": "stream",
     "text": [
      "Epoch 317/1000: Train Loss = 0.5181\n"
     ]
    },
    {
     "data": {
      "application/vnd.jupyter.widget-view+json": {
       "model_id": "d1696e9cf0a94fcfbfd0233926dc4ac3",
       "version_major": 2,
       "version_minor": 0
      },
      "text/plain": [
       "Epoch 318:   0%|          | 0/48 [00:00<?, ?it/s]"
      ]
     },
     "metadata": {},
     "output_type": "display_data"
    },
    {
     "name": "stdout",
     "output_type": "stream",
     "text": [
      "Epoch 318/1000: Train Loss = 0.5201\n"
     ]
    },
    {
     "data": {
      "application/vnd.jupyter.widget-view+json": {
       "model_id": "8125018062ee4d0e8a1da0ed7d7dcdc8",
       "version_major": 2,
       "version_minor": 0
      },
      "text/plain": [
       "Epoch 319:   0%|          | 0/48 [00:00<?, ?it/s]"
      ]
     },
     "metadata": {},
     "output_type": "display_data"
    },
    {
     "name": "stdout",
     "output_type": "stream",
     "text": [
      "Epoch 319/1000: Train Loss = 0.5278\n"
     ]
    },
    {
     "data": {
      "application/vnd.jupyter.widget-view+json": {
       "model_id": "d8a8783b322e4b87a3f3d327fb95a5c3",
       "version_major": 2,
       "version_minor": 0
      },
      "text/plain": [
       "Epoch 320:   0%|          | 0/48 [00:00<?, ?it/s]"
      ]
     },
     "metadata": {},
     "output_type": "display_data"
    },
    {
     "name": "stdout",
     "output_type": "stream",
     "text": [
      "Epoch 320/1000: Train Loss = 0.5208\n"
     ]
    },
    {
     "data": {
      "application/vnd.jupyter.widget-view+json": {
       "model_id": "b250580aebff4f5a8f53f1b7a81f9137",
       "version_major": 2,
       "version_minor": 0
      },
      "text/plain": [
       "Epoch 321:   0%|          | 0/48 [00:00<?, ?it/s]"
      ]
     },
     "metadata": {},
     "output_type": "display_data"
    },
    {
     "name": "stdout",
     "output_type": "stream",
     "text": [
      "Epoch 321/1000: Train Loss = 0.5201\n"
     ]
    },
    {
     "data": {
      "application/vnd.jupyter.widget-view+json": {
       "model_id": "873cb4b12c474f36bb4a43ce0a148286",
       "version_major": 2,
       "version_minor": 0
      },
      "text/plain": [
       "Epoch 322:   0%|          | 0/48 [00:00<?, ?it/s]"
      ]
     },
     "metadata": {},
     "output_type": "display_data"
    },
    {
     "name": "stdout",
     "output_type": "stream",
     "text": [
      "Epoch 322/1000: Train Loss = 0.5185\n"
     ]
    },
    {
     "data": {
      "application/vnd.jupyter.widget-view+json": {
       "model_id": "398277ec4d9f4cf78dff580ec14cbeb8",
       "version_major": 2,
       "version_minor": 0
      },
      "text/plain": [
       "Epoch 323:   0%|          | 0/48 [00:00<?, ?it/s]"
      ]
     },
     "metadata": {},
     "output_type": "display_data"
    },
    {
     "name": "stdout",
     "output_type": "stream",
     "text": [
      "Epoch 323/1000: Train Loss = 0.5190\n"
     ]
    },
    {
     "data": {
      "application/vnd.jupyter.widget-view+json": {
       "model_id": "4bea195d537a44c1bdd8e2591cf91669",
       "version_major": 2,
       "version_minor": 0
      },
      "text/plain": [
       "Epoch 324:   0%|          | 0/48 [00:00<?, ?it/s]"
      ]
     },
     "metadata": {},
     "output_type": "display_data"
    },
    {
     "name": "stdout",
     "output_type": "stream",
     "text": [
      "Epoch 324/1000: Train Loss = 0.5189\n"
     ]
    },
    {
     "data": {
      "application/vnd.jupyter.widget-view+json": {
       "model_id": "2229fed6f09a4388a72826ace4b1625e",
       "version_major": 2,
       "version_minor": 0
      },
      "text/plain": [
       "Epoch 325:   0%|          | 0/48 [00:00<?, ?it/s]"
      ]
     },
     "metadata": {},
     "output_type": "display_data"
    },
    {
     "name": "stdout",
     "output_type": "stream",
     "text": [
      "Epoch 325/1000: Train Loss = 0.5170\n"
     ]
    },
    {
     "data": {
      "application/vnd.jupyter.widget-view+json": {
       "model_id": "d1d9958783d842c6835c9983c6d221a7",
       "version_major": 2,
       "version_minor": 0
      },
      "text/plain": [
       "Epoch 326:   0%|          | 0/48 [00:00<?, ?it/s]"
      ]
     },
     "metadata": {},
     "output_type": "display_data"
    },
    {
     "name": "stdout",
     "output_type": "stream",
     "text": [
      "Epoch 326/1000: Train Loss = 0.5178\n"
     ]
    },
    {
     "data": {
      "application/vnd.jupyter.widget-view+json": {
       "model_id": "01ad3c14e49b46a48cd763aaaf168162",
       "version_major": 2,
       "version_minor": 0
      },
      "text/plain": [
       "Epoch 327:   0%|          | 0/48 [00:00<?, ?it/s]"
      ]
     },
     "metadata": {},
     "output_type": "display_data"
    },
    {
     "name": "stdout",
     "output_type": "stream",
     "text": [
      "Epoch 327/1000: Train Loss = 0.5247\n"
     ]
    },
    {
     "data": {
      "application/vnd.jupyter.widget-view+json": {
       "model_id": "02a890a4c3e9460e9855b9f24a0e83ca",
       "version_major": 2,
       "version_minor": 0
      },
      "text/plain": [
       "Epoch 328:   0%|          | 0/48 [00:00<?, ?it/s]"
      ]
     },
     "metadata": {},
     "output_type": "display_data"
    },
    {
     "name": "stdout",
     "output_type": "stream",
     "text": [
      "Epoch 328/1000: Train Loss = 0.5258\n"
     ]
    },
    {
     "data": {
      "application/vnd.jupyter.widget-view+json": {
       "model_id": "a9f162e5b7b24a34a718993eabe07d1b",
       "version_major": 2,
       "version_minor": 0
      },
      "text/plain": [
       "Epoch 329:   0%|          | 0/48 [00:00<?, ?it/s]"
      ]
     },
     "metadata": {},
     "output_type": "display_data"
    },
    {
     "name": "stdout",
     "output_type": "stream",
     "text": [
      "Epoch 329/1000: Train Loss = 0.5198\n"
     ]
    },
    {
     "data": {
      "application/vnd.jupyter.widget-view+json": {
       "model_id": "f45eb01be50c42acbad9a73cf4cd300b",
       "version_major": 2,
       "version_minor": 0
      },
      "text/plain": [
       "Epoch 330:   0%|          | 0/48 [00:00<?, ?it/s]"
      ]
     },
     "metadata": {},
     "output_type": "display_data"
    },
    {
     "name": "stdout",
     "output_type": "stream",
     "text": [
      "Epoch 330/1000: Train Loss = 0.5215\n"
     ]
    },
    {
     "data": {
      "application/vnd.jupyter.widget-view+json": {
       "model_id": "6181ce4bcf7843b28b3c1e47415ff184",
       "version_major": 2,
       "version_minor": 0
      },
      "text/plain": [
       "Epoch 331:   0%|          | 0/48 [00:00<?, ?it/s]"
      ]
     },
     "metadata": {},
     "output_type": "display_data"
    },
    {
     "name": "stdout",
     "output_type": "stream",
     "text": [
      "Epoch 331/1000: Train Loss = 0.5211\n"
     ]
    },
    {
     "data": {
      "application/vnd.jupyter.widget-view+json": {
       "model_id": "c62e90f4849b4a9096e1081e6205193c",
       "version_major": 2,
       "version_minor": 0
      },
      "text/plain": [
       "Epoch 332:   0%|          | 0/48 [00:00<?, ?it/s]"
      ]
     },
     "metadata": {},
     "output_type": "display_data"
    },
    {
     "name": "stdout",
     "output_type": "stream",
     "text": [
      "Epoch 332/1000: Train Loss = 0.5194\n"
     ]
    },
    {
     "data": {
      "application/vnd.jupyter.widget-view+json": {
       "model_id": "12d2237f3175489883143dd40283a72d",
       "version_major": 2,
       "version_minor": 0
      },
      "text/plain": [
       "Epoch 333:   0%|          | 0/48 [00:00<?, ?it/s]"
      ]
     },
     "metadata": {},
     "output_type": "display_data"
    },
    {
     "name": "stdout",
     "output_type": "stream",
     "text": [
      "Epoch 333/1000: Train Loss = 0.5209\n"
     ]
    },
    {
     "data": {
      "application/vnd.jupyter.widget-view+json": {
       "model_id": "f8795d492c8c40dd956d79b793ce0331",
       "version_major": 2,
       "version_minor": 0
      },
      "text/plain": [
       "Epoch 334:   0%|          | 0/48 [00:00<?, ?it/s]"
      ]
     },
     "metadata": {},
     "output_type": "display_data"
    },
    {
     "name": "stdout",
     "output_type": "stream",
     "text": [
      "Epoch 334/1000: Train Loss = 0.5198\n"
     ]
    },
    {
     "data": {
      "application/vnd.jupyter.widget-view+json": {
       "model_id": "5230d028dcd4417886612d4d109385ca",
       "version_major": 2,
       "version_minor": 0
      },
      "text/plain": [
       "Epoch 335:   0%|          | 0/48 [00:00<?, ?it/s]"
      ]
     },
     "metadata": {},
     "output_type": "display_data"
    },
    {
     "name": "stdout",
     "output_type": "stream",
     "text": [
      "Epoch 335/1000: Train Loss = 0.5230\n"
     ]
    },
    {
     "data": {
      "application/vnd.jupyter.widget-view+json": {
       "model_id": "a556d6f34027490fa3354e7109e1ca7b",
       "version_major": 2,
       "version_minor": 0
      },
      "text/plain": [
       "Epoch 336:   0%|          | 0/48 [00:00<?, ?it/s]"
      ]
     },
     "metadata": {},
     "output_type": "display_data"
    },
    {
     "name": "stdout",
     "output_type": "stream",
     "text": [
      "Epoch 336/1000: Train Loss = 0.5189\n"
     ]
    },
    {
     "data": {
      "application/vnd.jupyter.widget-view+json": {
       "model_id": "82e1269ca7ab44428b792e69dc0316c0",
       "version_major": 2,
       "version_minor": 0
      },
      "text/plain": [
       "Epoch 337:   0%|          | 0/48 [00:00<?, ?it/s]"
      ]
     },
     "metadata": {},
     "output_type": "display_data"
    },
    {
     "name": "stdout",
     "output_type": "stream",
     "text": [
      "Epoch 337/1000: Train Loss = 0.5215\n"
     ]
    },
    {
     "data": {
      "application/vnd.jupyter.widget-view+json": {
       "model_id": "c6d7628790494970a0561d0dca2371ab",
       "version_major": 2,
       "version_minor": 0
      },
      "text/plain": [
       "Epoch 338:   0%|          | 0/48 [00:00<?, ?it/s]"
      ]
     },
     "metadata": {},
     "output_type": "display_data"
    },
    {
     "name": "stdout",
     "output_type": "stream",
     "text": [
      "Epoch 338/1000: Train Loss = 0.5170\n"
     ]
    },
    {
     "data": {
      "application/vnd.jupyter.widget-view+json": {
       "model_id": "2ff4948323ca4d52874c38e0afeb4056",
       "version_major": 2,
       "version_minor": 0
      },
      "text/plain": [
       "Epoch 339:   0%|          | 0/48 [00:00<?, ?it/s]"
      ]
     },
     "metadata": {},
     "output_type": "display_data"
    },
    {
     "name": "stdout",
     "output_type": "stream",
     "text": [
      "Epoch 339/1000: Train Loss = 0.5210\n"
     ]
    },
    {
     "data": {
      "application/vnd.jupyter.widget-view+json": {
       "model_id": "78a6ca66f21b40d7a416431dfeabdb44",
       "version_major": 2,
       "version_minor": 0
      },
      "text/plain": [
       "Epoch 340:   0%|          | 0/48 [00:00<?, ?it/s]"
      ]
     },
     "metadata": {},
     "output_type": "display_data"
    },
    {
     "name": "stdout",
     "output_type": "stream",
     "text": [
      "Epoch 340/1000: Train Loss = 0.5274\n"
     ]
    },
    {
     "data": {
      "application/vnd.jupyter.widget-view+json": {
       "model_id": "b1cde6a7221744afb04a744c1d8eaee7",
       "version_major": 2,
       "version_minor": 0
      },
      "text/plain": [
       "Epoch 341:   0%|          | 0/48 [00:00<?, ?it/s]"
      ]
     },
     "metadata": {},
     "output_type": "display_data"
    },
    {
     "name": "stdout",
     "output_type": "stream",
     "text": [
      "Epoch 341/1000: Train Loss = 0.5180\n"
     ]
    },
    {
     "data": {
      "application/vnd.jupyter.widget-view+json": {
       "model_id": "949ed830de8d459db40ab22647d56d56",
       "version_major": 2,
       "version_minor": 0
      },
      "text/plain": [
       "Epoch 342:   0%|          | 0/48 [00:00<?, ?it/s]"
      ]
     },
     "metadata": {},
     "output_type": "display_data"
    },
    {
     "name": "stdout",
     "output_type": "stream",
     "text": [
      "Epoch 342/1000: Train Loss = 0.5167\n"
     ]
    },
    {
     "data": {
      "application/vnd.jupyter.widget-view+json": {
       "model_id": "8dbc1e13753c4bc18b386ba3873de3df",
       "version_major": 2,
       "version_minor": 0
      },
      "text/plain": [
       "Epoch 343:   0%|          | 0/48 [00:00<?, ?it/s]"
      ]
     },
     "metadata": {},
     "output_type": "display_data"
    },
    {
     "name": "stdout",
     "output_type": "stream",
     "text": [
      "Epoch 343/1000: Train Loss = 0.5195\n"
     ]
    },
    {
     "data": {
      "application/vnd.jupyter.widget-view+json": {
       "model_id": "e6f738a23cb44baa824d6251ede947b7",
       "version_major": 2,
       "version_minor": 0
      },
      "text/plain": [
       "Epoch 344:   0%|          | 0/48 [00:00<?, ?it/s]"
      ]
     },
     "metadata": {},
     "output_type": "display_data"
    },
    {
     "name": "stdout",
     "output_type": "stream",
     "text": [
      "Epoch 344/1000: Train Loss = 0.5220\n"
     ]
    },
    {
     "data": {
      "application/vnd.jupyter.widget-view+json": {
       "model_id": "83797acfe99d4b19914fd628ed0be7a9",
       "version_major": 2,
       "version_minor": 0
      },
      "text/plain": [
       "Epoch 345:   0%|          | 0/48 [00:00<?, ?it/s]"
      ]
     },
     "metadata": {},
     "output_type": "display_data"
    },
    {
     "name": "stdout",
     "output_type": "stream",
     "text": [
      "Epoch 345/1000: Train Loss = 0.5179\n"
     ]
    },
    {
     "data": {
      "application/vnd.jupyter.widget-view+json": {
       "model_id": "a64a8d3d8f264454803fcba65ed4f091",
       "version_major": 2,
       "version_minor": 0
      },
      "text/plain": [
       "Epoch 346:   0%|          | 0/48 [00:00<?, ?it/s]"
      ]
     },
     "metadata": {},
     "output_type": "display_data"
    },
    {
     "name": "stdout",
     "output_type": "stream",
     "text": [
      "Epoch 346/1000: Train Loss = 0.5200\n"
     ]
    },
    {
     "data": {
      "application/vnd.jupyter.widget-view+json": {
       "model_id": "017cb13563554a328c912bff78f9340f",
       "version_major": 2,
       "version_minor": 0
      },
      "text/plain": [
       "Epoch 347:   0%|          | 0/48 [00:00<?, ?it/s]"
      ]
     },
     "metadata": {},
     "output_type": "display_data"
    },
    {
     "name": "stdout",
     "output_type": "stream",
     "text": [
      "Epoch 347/1000: Train Loss = 0.5206\n"
     ]
    },
    {
     "data": {
      "application/vnd.jupyter.widget-view+json": {
       "model_id": "3fd60f40050a4e2baa376c575bc8aa8c",
       "version_major": 2,
       "version_minor": 0
      },
      "text/plain": [
       "Epoch 348:   0%|          | 0/48 [00:00<?, ?it/s]"
      ]
     },
     "metadata": {},
     "output_type": "display_data"
    },
    {
     "name": "stdout",
     "output_type": "stream",
     "text": [
      "Epoch 348/1000: Train Loss = 0.5200\n"
     ]
    },
    {
     "data": {
      "application/vnd.jupyter.widget-view+json": {
       "model_id": "abe4fb5004944b1ab0a212190760f82a",
       "version_major": 2,
       "version_minor": 0
      },
      "text/plain": [
       "Epoch 349:   0%|          | 0/48 [00:00<?, ?it/s]"
      ]
     },
     "metadata": {},
     "output_type": "display_data"
    },
    {
     "name": "stdout",
     "output_type": "stream",
     "text": [
      "Epoch 349/1000: Train Loss = 0.5203\n"
     ]
    },
    {
     "data": {
      "application/vnd.jupyter.widget-view+json": {
       "model_id": "5f3469ac7a1e43b5b4f7fd3adf9e537d",
       "version_major": 2,
       "version_minor": 0
      },
      "text/plain": [
       "Epoch 350:   0%|          | 0/48 [00:00<?, ?it/s]"
      ]
     },
     "metadata": {},
     "output_type": "display_data"
    },
    {
     "name": "stdout",
     "output_type": "stream",
     "text": [
      "\n",
      "Binary LSTM (Epoch 350) Evaluation Results:\n",
      "  Average Loss: 0.5705\n",
      "  AUC (Area Under Curve): 0.5191\n",
      "  β₀ (exact match): 0.0000 (0.00%)\n",
      "  β₁ (≤1 bit error): 0.3958 (39.58%)\n",
      "  β₂ (≤2 bit error): 0.6458 (64.58%)\n",
      "  β₃ (≤3 bit error): 0.7917 (79.17%)\n",
      "  β₄ (≤4 bit error): 0.8542 (85.42%)\n"
     ]
    },
    {
     "data": {
      "application/vnd.jupyter.widget-view+json": {
       "model_id": "7106389ef1b54b2481ef379c24a439ab",
       "version_major": 2,
       "version_minor": 0
      },
      "text/plain": [
       "Epoch 351:   0%|          | 0/48 [00:00<?, ?it/s]"
      ]
     },
     "metadata": {},
     "output_type": "display_data"
    },
    {
     "name": "stdout",
     "output_type": "stream",
     "text": [
      "Epoch 351/1000: Train Loss = 0.5215\n"
     ]
    },
    {
     "data": {
      "application/vnd.jupyter.widget-view+json": {
       "model_id": "5a5dc85892f2426ba777d10ae337c50e",
       "version_major": 2,
       "version_minor": 0
      },
      "text/plain": [
       "Epoch 352:   0%|          | 0/48 [00:00<?, ?it/s]"
      ]
     },
     "metadata": {},
     "output_type": "display_data"
    },
    {
     "name": "stdout",
     "output_type": "stream",
     "text": [
      "Epoch 352/1000: Train Loss = 0.5219\n"
     ]
    },
    {
     "data": {
      "application/vnd.jupyter.widget-view+json": {
       "model_id": "ae3230bc37f84c30af36c9b8ece54f9b",
       "version_major": 2,
       "version_minor": 0
      },
      "text/plain": [
       "Epoch 353:   0%|          | 0/48 [00:00<?, ?it/s]"
      ]
     },
     "metadata": {},
     "output_type": "display_data"
    },
    {
     "name": "stdout",
     "output_type": "stream",
     "text": [
      "Epoch 353/1000: Train Loss = 0.5205\n"
     ]
    },
    {
     "data": {
      "application/vnd.jupyter.widget-view+json": {
       "model_id": "a3e27203e0a445e89c08e6fff67c8f2a",
       "version_major": 2,
       "version_minor": 0
      },
      "text/plain": [
       "Epoch 354:   0%|          | 0/48 [00:00<?, ?it/s]"
      ]
     },
     "metadata": {},
     "output_type": "display_data"
    },
    {
     "name": "stdout",
     "output_type": "stream",
     "text": [
      "Epoch 354/1000: Train Loss = 0.5243\n"
     ]
    },
    {
     "data": {
      "application/vnd.jupyter.widget-view+json": {
       "model_id": "3f26c909521f44c69d377a54f1391adb",
       "version_major": 2,
       "version_minor": 0
      },
      "text/plain": [
       "Epoch 355:   0%|          | 0/48 [00:00<?, ?it/s]"
      ]
     },
     "metadata": {},
     "output_type": "display_data"
    },
    {
     "name": "stdout",
     "output_type": "stream",
     "text": [
      "Epoch 355/1000: Train Loss = 0.5196\n"
     ]
    },
    {
     "data": {
      "application/vnd.jupyter.widget-view+json": {
       "model_id": "9a676b488f544d31a291702851a18de3",
       "version_major": 2,
       "version_minor": 0
      },
      "text/plain": [
       "Epoch 356:   0%|          | 0/48 [00:00<?, ?it/s]"
      ]
     },
     "metadata": {},
     "output_type": "display_data"
    },
    {
     "name": "stdout",
     "output_type": "stream",
     "text": [
      "Epoch 356/1000: Train Loss = 0.5212\n"
     ]
    },
    {
     "data": {
      "application/vnd.jupyter.widget-view+json": {
       "model_id": "daafc9dfe90848099643d1062955df36",
       "version_major": 2,
       "version_minor": 0
      },
      "text/plain": [
       "Epoch 357:   0%|          | 0/48 [00:00<?, ?it/s]"
      ]
     },
     "metadata": {},
     "output_type": "display_data"
    },
    {
     "name": "stdout",
     "output_type": "stream",
     "text": [
      "Epoch 357/1000: Train Loss = 0.5283\n"
     ]
    },
    {
     "data": {
      "application/vnd.jupyter.widget-view+json": {
       "model_id": "5ea6517fb1ff41b2829e34f6603e9828",
       "version_major": 2,
       "version_minor": 0
      },
      "text/plain": [
       "Epoch 358:   0%|          | 0/48 [00:00<?, ?it/s]"
      ]
     },
     "metadata": {},
     "output_type": "display_data"
    },
    {
     "name": "stdout",
     "output_type": "stream",
     "text": [
      "Epoch 358/1000: Train Loss = 0.5193\n"
     ]
    },
    {
     "data": {
      "application/vnd.jupyter.widget-view+json": {
       "model_id": "883efd14747b47a2988b3e6e034158ca",
       "version_major": 2,
       "version_minor": 0
      },
      "text/plain": [
       "Epoch 359:   0%|          | 0/48 [00:00<?, ?it/s]"
      ]
     },
     "metadata": {},
     "output_type": "display_data"
    },
    {
     "name": "stdout",
     "output_type": "stream",
     "text": [
      "Epoch 359/1000: Train Loss = 0.5266\n"
     ]
    },
    {
     "data": {
      "application/vnd.jupyter.widget-view+json": {
       "model_id": "7a5adb04170d45acb5efb5be1719f962",
       "version_major": 2,
       "version_minor": 0
      },
      "text/plain": [
       "Epoch 360:   0%|          | 0/48 [00:00<?, ?it/s]"
      ]
     },
     "metadata": {},
     "output_type": "display_data"
    },
    {
     "name": "stdout",
     "output_type": "stream",
     "text": [
      "Epoch 360/1000: Train Loss = 0.5191\n"
     ]
    },
    {
     "data": {
      "application/vnd.jupyter.widget-view+json": {
       "model_id": "8ca938963e644b749c70482b9450f61f",
       "version_major": 2,
       "version_minor": 0
      },
      "text/plain": [
       "Epoch 361:   0%|          | 0/48 [00:00<?, ?it/s]"
      ]
     },
     "metadata": {},
     "output_type": "display_data"
    },
    {
     "name": "stdout",
     "output_type": "stream",
     "text": [
      "Epoch 361/1000: Train Loss = 0.5174\n"
     ]
    },
    {
     "data": {
      "application/vnd.jupyter.widget-view+json": {
       "model_id": "ec2c3ed27fe241a3bf74d4eabbc2dabe",
       "version_major": 2,
       "version_minor": 0
      },
      "text/plain": [
       "Epoch 362:   0%|          | 0/48 [00:00<?, ?it/s]"
      ]
     },
     "metadata": {},
     "output_type": "display_data"
    },
    {
     "name": "stdout",
     "output_type": "stream",
     "text": [
      "Epoch 362/1000: Train Loss = 0.5203\n"
     ]
    },
    {
     "data": {
      "application/vnd.jupyter.widget-view+json": {
       "model_id": "75e38f64404e44c1a72f6c4ec4ca1e38",
       "version_major": 2,
       "version_minor": 0
      },
      "text/plain": [
       "Epoch 363:   0%|          | 0/48 [00:00<?, ?it/s]"
      ]
     },
     "metadata": {},
     "output_type": "display_data"
    },
    {
     "name": "stdout",
     "output_type": "stream",
     "text": [
      "Epoch 363/1000: Train Loss = 0.5197\n"
     ]
    },
    {
     "data": {
      "application/vnd.jupyter.widget-view+json": {
       "model_id": "1f966be309a74c6293cf1152edd435bd",
       "version_major": 2,
       "version_minor": 0
      },
      "text/plain": [
       "Epoch 364:   0%|          | 0/48 [00:00<?, ?it/s]"
      ]
     },
     "metadata": {},
     "output_type": "display_data"
    },
    {
     "name": "stdout",
     "output_type": "stream",
     "text": [
      "Epoch 364/1000: Train Loss = 0.5196\n"
     ]
    },
    {
     "data": {
      "application/vnd.jupyter.widget-view+json": {
       "model_id": "1d4cabc78b9d47339f75e51ab0eaa6d1",
       "version_major": 2,
       "version_minor": 0
      },
      "text/plain": [
       "Epoch 365:   0%|          | 0/48 [00:00<?, ?it/s]"
      ]
     },
     "metadata": {},
     "output_type": "display_data"
    },
    {
     "name": "stdout",
     "output_type": "stream",
     "text": [
      "Epoch 365/1000: Train Loss = 0.5197\n"
     ]
    },
    {
     "data": {
      "application/vnd.jupyter.widget-view+json": {
       "model_id": "dfc90cdfb38247918fbf84e3d5fcd735",
       "version_major": 2,
       "version_minor": 0
      },
      "text/plain": [
       "Epoch 366:   0%|          | 0/48 [00:00<?, ?it/s]"
      ]
     },
     "metadata": {},
     "output_type": "display_data"
    },
    {
     "name": "stdout",
     "output_type": "stream",
     "text": [
      "Epoch 366/1000: Train Loss = 0.5194\n"
     ]
    },
    {
     "data": {
      "application/vnd.jupyter.widget-view+json": {
       "model_id": "33ab809d9d9f46a48cb020625437a676",
       "version_major": 2,
       "version_minor": 0
      },
      "text/plain": [
       "Epoch 367:   0%|          | 0/48 [00:00<?, ?it/s]"
      ]
     },
     "metadata": {},
     "output_type": "display_data"
    },
    {
     "name": "stdout",
     "output_type": "stream",
     "text": [
      "Epoch 367/1000: Train Loss = 0.5204\n"
     ]
    },
    {
     "data": {
      "application/vnd.jupyter.widget-view+json": {
       "model_id": "42e35a8988844479994a13e58ebd8847",
       "version_major": 2,
       "version_minor": 0
      },
      "text/plain": [
       "Epoch 368:   0%|          | 0/48 [00:00<?, ?it/s]"
      ]
     },
     "metadata": {},
     "output_type": "display_data"
    },
    {
     "name": "stdout",
     "output_type": "stream",
     "text": [
      "Epoch 368/1000: Train Loss = 0.5222\n"
     ]
    },
    {
     "data": {
      "application/vnd.jupyter.widget-view+json": {
       "model_id": "0eb9b414edf94e43a6b696c3db27c0d5",
       "version_major": 2,
       "version_minor": 0
      },
      "text/plain": [
       "Epoch 369:   0%|          | 0/48 [00:00<?, ?it/s]"
      ]
     },
     "metadata": {},
     "output_type": "display_data"
    },
    {
     "name": "stdout",
     "output_type": "stream",
     "text": [
      "Epoch 369/1000: Train Loss = 0.5218\n"
     ]
    },
    {
     "data": {
      "application/vnd.jupyter.widget-view+json": {
       "model_id": "2077cc276c4745d0b4eaf14e6ec20266",
       "version_major": 2,
       "version_minor": 0
      },
      "text/plain": [
       "Epoch 370:   0%|          | 0/48 [00:00<?, ?it/s]"
      ]
     },
     "metadata": {},
     "output_type": "display_data"
    },
    {
     "name": "stdout",
     "output_type": "stream",
     "text": [
      "Epoch 370/1000: Train Loss = 0.5205\n"
     ]
    },
    {
     "data": {
      "application/vnd.jupyter.widget-view+json": {
       "model_id": "380e9d73443a49dba883677955ce0449",
       "version_major": 2,
       "version_minor": 0
      },
      "text/plain": [
       "Epoch 371:   0%|          | 0/48 [00:00<?, ?it/s]"
      ]
     },
     "metadata": {},
     "output_type": "display_data"
    },
    {
     "name": "stdout",
     "output_type": "stream",
     "text": [
      "Epoch 371/1000: Train Loss = 0.5199\n"
     ]
    },
    {
     "data": {
      "application/vnd.jupyter.widget-view+json": {
       "model_id": "98db998e54b143c4a1b8c35c732eee99",
       "version_major": 2,
       "version_minor": 0
      },
      "text/plain": [
       "Epoch 372:   0%|          | 0/48 [00:00<?, ?it/s]"
      ]
     },
     "metadata": {},
     "output_type": "display_data"
    },
    {
     "name": "stdout",
     "output_type": "stream",
     "text": [
      "Epoch 372/1000: Train Loss = 0.5191\n"
     ]
    },
    {
     "data": {
      "application/vnd.jupyter.widget-view+json": {
       "model_id": "863accf91c714c0591a6b71041ac2c89",
       "version_major": 2,
       "version_minor": 0
      },
      "text/plain": [
       "Epoch 373:   0%|          | 0/48 [00:00<?, ?it/s]"
      ]
     },
     "metadata": {},
     "output_type": "display_data"
    },
    {
     "name": "stdout",
     "output_type": "stream",
     "text": [
      "Epoch 373/1000: Train Loss = 0.5182\n"
     ]
    },
    {
     "data": {
      "application/vnd.jupyter.widget-view+json": {
       "model_id": "110b15980ece42ee90bdf26c7e63e6e8",
       "version_major": 2,
       "version_minor": 0
      },
      "text/plain": [
       "Epoch 374:   0%|          | 0/48 [00:00<?, ?it/s]"
      ]
     },
     "metadata": {},
     "output_type": "display_data"
    },
    {
     "name": "stdout",
     "output_type": "stream",
     "text": [
      "Epoch 374/1000: Train Loss = 0.5201\n"
     ]
    },
    {
     "data": {
      "application/vnd.jupyter.widget-view+json": {
       "model_id": "6bcd6cd73adc49f7b7233a538786837f",
       "version_major": 2,
       "version_minor": 0
      },
      "text/plain": [
       "Epoch 375:   0%|          | 0/48 [00:00<?, ?it/s]"
      ]
     },
     "metadata": {},
     "output_type": "display_data"
    },
    {
     "name": "stdout",
     "output_type": "stream",
     "text": [
      "Epoch 375/1000: Train Loss = 0.5282\n"
     ]
    },
    {
     "data": {
      "application/vnd.jupyter.widget-view+json": {
       "model_id": "2e986a140f664fc49d7220d640c1f958",
       "version_major": 2,
       "version_minor": 0
      },
      "text/plain": [
       "Epoch 376:   0%|          | 0/48 [00:00<?, ?it/s]"
      ]
     },
     "metadata": {},
     "output_type": "display_data"
    },
    {
     "name": "stdout",
     "output_type": "stream",
     "text": [
      "Epoch 376/1000: Train Loss = 0.5186\n"
     ]
    },
    {
     "data": {
      "application/vnd.jupyter.widget-view+json": {
       "model_id": "987c9238a58640ac90e554a583400cee",
       "version_major": 2,
       "version_minor": 0
      },
      "text/plain": [
       "Epoch 377:   0%|          | 0/48 [00:00<?, ?it/s]"
      ]
     },
     "metadata": {},
     "output_type": "display_data"
    },
    {
     "name": "stdout",
     "output_type": "stream",
     "text": [
      "Epoch 377/1000: Train Loss = 0.5273\n"
     ]
    },
    {
     "data": {
      "application/vnd.jupyter.widget-view+json": {
       "model_id": "a29ce22a8d69434daa8ea7d50016e157",
       "version_major": 2,
       "version_minor": 0
      },
      "text/plain": [
       "Epoch 378:   0%|          | 0/48 [00:00<?, ?it/s]"
      ]
     },
     "metadata": {},
     "output_type": "display_data"
    },
    {
     "name": "stdout",
     "output_type": "stream",
     "text": [
      "Epoch 378/1000: Train Loss = 0.5218\n"
     ]
    },
    {
     "data": {
      "application/vnd.jupyter.widget-view+json": {
       "model_id": "9e4d7b09da3e40da95b375e802dc51be",
       "version_major": 2,
       "version_minor": 0
      },
      "text/plain": [
       "Epoch 379:   0%|          | 0/48 [00:00<?, ?it/s]"
      ]
     },
     "metadata": {},
     "output_type": "display_data"
    },
    {
     "name": "stdout",
     "output_type": "stream",
     "text": [
      "Epoch 379/1000: Train Loss = 0.5267\n"
     ]
    },
    {
     "data": {
      "application/vnd.jupyter.widget-view+json": {
       "model_id": "e095835a98c14274bbcf61ab9168998c",
       "version_major": 2,
       "version_minor": 0
      },
      "text/plain": [
       "Epoch 380:   0%|          | 0/48 [00:00<?, ?it/s]"
      ]
     },
     "metadata": {},
     "output_type": "display_data"
    },
    {
     "name": "stdout",
     "output_type": "stream",
     "text": [
      "Epoch 380/1000: Train Loss = 0.5263\n"
     ]
    },
    {
     "data": {
      "application/vnd.jupyter.widget-view+json": {
       "model_id": "ddc1d04be98a4c12b0586367be80944b",
       "version_major": 2,
       "version_minor": 0
      },
      "text/plain": [
       "Epoch 381:   0%|          | 0/48 [00:00<?, ?it/s]"
      ]
     },
     "metadata": {},
     "output_type": "display_data"
    },
    {
     "name": "stdout",
     "output_type": "stream",
     "text": [
      "Epoch 381/1000: Train Loss = 0.5192\n"
     ]
    },
    {
     "data": {
      "application/vnd.jupyter.widget-view+json": {
       "model_id": "9efe628efd55422f99ecc75823794c2d",
       "version_major": 2,
       "version_minor": 0
      },
      "text/plain": [
       "Epoch 382:   0%|          | 0/48 [00:00<?, ?it/s]"
      ]
     },
     "metadata": {},
     "output_type": "display_data"
    },
    {
     "name": "stdout",
     "output_type": "stream",
     "text": [
      "Epoch 382/1000: Train Loss = 0.5213\n"
     ]
    },
    {
     "data": {
      "application/vnd.jupyter.widget-view+json": {
       "model_id": "962775772f6b47da86705e0f171e403f",
       "version_major": 2,
       "version_minor": 0
      },
      "text/plain": [
       "Epoch 383:   0%|          | 0/48 [00:00<?, ?it/s]"
      ]
     },
     "metadata": {},
     "output_type": "display_data"
    },
    {
     "name": "stdout",
     "output_type": "stream",
     "text": [
      "Epoch 383/1000: Train Loss = 0.5281\n"
     ]
    },
    {
     "data": {
      "application/vnd.jupyter.widget-view+json": {
       "model_id": "bfeac9eaadc8423691621621cff2b77d",
       "version_major": 2,
       "version_minor": 0
      },
      "text/plain": [
       "Epoch 384:   0%|          | 0/48 [00:00<?, ?it/s]"
      ]
     },
     "metadata": {},
     "output_type": "display_data"
    },
    {
     "name": "stdout",
     "output_type": "stream",
     "text": [
      "Epoch 384/1000: Train Loss = 0.5302\n"
     ]
    },
    {
     "data": {
      "application/vnd.jupyter.widget-view+json": {
       "model_id": "b3a170baddf64e1f9ac9efa28ce47c7c",
       "version_major": 2,
       "version_minor": 0
      },
      "text/plain": [
       "Epoch 385:   0%|          | 0/48 [00:00<?, ?it/s]"
      ]
     },
     "metadata": {},
     "output_type": "display_data"
    },
    {
     "name": "stdout",
     "output_type": "stream",
     "text": [
      "Epoch 385/1000: Train Loss = 0.5182\n"
     ]
    },
    {
     "data": {
      "application/vnd.jupyter.widget-view+json": {
       "model_id": "85c894c1d061486291a2ceaeef0afd1b",
       "version_major": 2,
       "version_minor": 0
      },
      "text/plain": [
       "Epoch 386:   0%|          | 0/48 [00:00<?, ?it/s]"
      ]
     },
     "metadata": {},
     "output_type": "display_data"
    },
    {
     "name": "stdout",
     "output_type": "stream",
     "text": [
      "Epoch 386/1000: Train Loss = 0.5214\n"
     ]
    },
    {
     "data": {
      "application/vnd.jupyter.widget-view+json": {
       "model_id": "13234d18f2ad4e059bcdfecca51fce0d",
       "version_major": 2,
       "version_minor": 0
      },
      "text/plain": [
       "Epoch 387:   0%|          | 0/48 [00:00<?, ?it/s]"
      ]
     },
     "metadata": {},
     "output_type": "display_data"
    },
    {
     "name": "stdout",
     "output_type": "stream",
     "text": [
      "Epoch 387/1000: Train Loss = 0.5204\n"
     ]
    },
    {
     "data": {
      "application/vnd.jupyter.widget-view+json": {
       "model_id": "231fa7e54a18409cb3984da444ced8ca",
       "version_major": 2,
       "version_minor": 0
      },
      "text/plain": [
       "Epoch 388:   0%|          | 0/48 [00:00<?, ?it/s]"
      ]
     },
     "metadata": {},
     "output_type": "display_data"
    },
    {
     "name": "stdout",
     "output_type": "stream",
     "text": [
      "Epoch 388/1000: Train Loss = 0.5264\n"
     ]
    },
    {
     "data": {
      "application/vnd.jupyter.widget-view+json": {
       "model_id": "ab6abe825ede4a1eb2180e09e5b4ada5",
       "version_major": 2,
       "version_minor": 0
      },
      "text/plain": [
       "Epoch 389:   0%|          | 0/48 [00:00<?, ?it/s]"
      ]
     },
     "metadata": {},
     "output_type": "display_data"
    },
    {
     "name": "stdout",
     "output_type": "stream",
     "text": [
      "Epoch 389/1000: Train Loss = 0.5228\n"
     ]
    },
    {
     "data": {
      "application/vnd.jupyter.widget-view+json": {
       "model_id": "27514be0a61a42ddb3ff570031904ffd",
       "version_major": 2,
       "version_minor": 0
      },
      "text/plain": [
       "Epoch 390:   0%|          | 0/48 [00:00<?, ?it/s]"
      ]
     },
     "metadata": {},
     "output_type": "display_data"
    },
    {
     "name": "stdout",
     "output_type": "stream",
     "text": [
      "Epoch 390/1000: Train Loss = 0.5187\n"
     ]
    },
    {
     "data": {
      "application/vnd.jupyter.widget-view+json": {
       "model_id": "3eb5bf88800e4f0a886dd5ebf0fc24ce",
       "version_major": 2,
       "version_minor": 0
      },
      "text/plain": [
       "Epoch 391:   0%|          | 0/48 [00:00<?, ?it/s]"
      ]
     },
     "metadata": {},
     "output_type": "display_data"
    },
    {
     "name": "stdout",
     "output_type": "stream",
     "text": [
      "Epoch 391/1000: Train Loss = 0.5193\n"
     ]
    },
    {
     "data": {
      "application/vnd.jupyter.widget-view+json": {
       "model_id": "98e8a086260746d8a39cfcc82b1c2d6d",
       "version_major": 2,
       "version_minor": 0
      },
      "text/plain": [
       "Epoch 392:   0%|          | 0/48 [00:00<?, ?it/s]"
      ]
     },
     "metadata": {},
     "output_type": "display_data"
    },
    {
     "name": "stdout",
     "output_type": "stream",
     "text": [
      "Epoch 392/1000: Train Loss = 0.5241\n"
     ]
    },
    {
     "data": {
      "application/vnd.jupyter.widget-view+json": {
       "model_id": "70bfb8b2dc264173b04a9062676d6988",
       "version_major": 2,
       "version_minor": 0
      },
      "text/plain": [
       "Epoch 393:   0%|          | 0/48 [00:00<?, ?it/s]"
      ]
     },
     "metadata": {},
     "output_type": "display_data"
    },
    {
     "name": "stdout",
     "output_type": "stream",
     "text": [
      "Epoch 393/1000: Train Loss = 0.5204\n"
     ]
    },
    {
     "data": {
      "application/vnd.jupyter.widget-view+json": {
       "model_id": "24cd4bec811a4c289d7cb9200036cf65",
       "version_major": 2,
       "version_minor": 0
      },
      "text/plain": [
       "Epoch 394:   0%|          | 0/48 [00:00<?, ?it/s]"
      ]
     },
     "metadata": {},
     "output_type": "display_data"
    },
    {
     "name": "stdout",
     "output_type": "stream",
     "text": [
      "Epoch 394/1000: Train Loss = 0.5237\n"
     ]
    },
    {
     "data": {
      "application/vnd.jupyter.widget-view+json": {
       "model_id": "c6e68710183b4c22821f997d45351c9a",
       "version_major": 2,
       "version_minor": 0
      },
      "text/plain": [
       "Epoch 395:   0%|          | 0/48 [00:00<?, ?it/s]"
      ]
     },
     "metadata": {},
     "output_type": "display_data"
    },
    {
     "name": "stdout",
     "output_type": "stream",
     "text": [
      "Epoch 395/1000: Train Loss = 0.5191\n"
     ]
    },
    {
     "data": {
      "application/vnd.jupyter.widget-view+json": {
       "model_id": "bec54fda4ddd4dbcaa71652d6e1c52a6",
       "version_major": 2,
       "version_minor": 0
      },
      "text/plain": [
       "Epoch 396:   0%|          | 0/48 [00:00<?, ?it/s]"
      ]
     },
     "metadata": {},
     "output_type": "display_data"
    },
    {
     "name": "stdout",
     "output_type": "stream",
     "text": [
      "Epoch 396/1000: Train Loss = 0.5195\n"
     ]
    },
    {
     "data": {
      "application/vnd.jupyter.widget-view+json": {
       "model_id": "8d083ddc2f8f4cb1ad256cffe5dd2c5a",
       "version_major": 2,
       "version_minor": 0
      },
      "text/plain": [
       "Epoch 397:   0%|          | 0/48 [00:00<?, ?it/s]"
      ]
     },
     "metadata": {},
     "output_type": "display_data"
    },
    {
     "name": "stdout",
     "output_type": "stream",
     "text": [
      "Epoch 397/1000: Train Loss = 0.5274\n"
     ]
    },
    {
     "data": {
      "application/vnd.jupyter.widget-view+json": {
       "model_id": "e7a7326a021548b3b32d19ec34e75c6a",
       "version_major": 2,
       "version_minor": 0
      },
      "text/plain": [
       "Epoch 398:   0%|          | 0/48 [00:00<?, ?it/s]"
      ]
     },
     "metadata": {},
     "output_type": "display_data"
    },
    {
     "name": "stdout",
     "output_type": "stream",
     "text": [
      "Epoch 398/1000: Train Loss = 0.5202\n"
     ]
    },
    {
     "data": {
      "application/vnd.jupyter.widget-view+json": {
       "model_id": "5899a35788504a55bfd993f27966c337",
       "version_major": 2,
       "version_minor": 0
      },
      "text/plain": [
       "Epoch 399:   0%|          | 0/48 [00:00<?, ?it/s]"
      ]
     },
     "metadata": {},
     "output_type": "display_data"
    },
    {
     "name": "stdout",
     "output_type": "stream",
     "text": [
      "Epoch 399/1000: Train Loss = 0.5226\n"
     ]
    },
    {
     "data": {
      "application/vnd.jupyter.widget-view+json": {
       "model_id": "c90fe0921fb24787aaaff0b24eb9b015",
       "version_major": 2,
       "version_minor": 0
      },
      "text/plain": [
       "Epoch 400:   0%|          | 0/48 [00:00<?, ?it/s]"
      ]
     },
     "metadata": {},
     "output_type": "display_data"
    },
    {
     "name": "stdout",
     "output_type": "stream",
     "text": [
      "\n",
      "Binary LSTM (Epoch 400) Evaluation Results:\n",
      "  Average Loss: 0.5697\n",
      "  AUC (Area Under Curve): 0.4887\n",
      "  β₀ (exact match): 0.0000 (0.00%)\n",
      "  β₁ (≤1 bit error): 0.3958 (39.58%)\n",
      "  β₂ (≤2 bit error): 0.6458 (64.58%)\n",
      "  β₃ (≤3 bit error): 0.7917 (79.17%)\n",
      "  β₄ (≤4 bit error): 0.8542 (85.42%)\n"
     ]
    },
    {
     "data": {
      "application/vnd.jupyter.widget-view+json": {
       "model_id": "4b026bc9a29041c39f22b580b3d3deae",
       "version_major": 2,
       "version_minor": 0
      },
      "text/plain": [
       "Epoch 401:   0%|          | 0/48 [00:00<?, ?it/s]"
      ]
     },
     "metadata": {},
     "output_type": "display_data"
    },
    {
     "name": "stdout",
     "output_type": "stream",
     "text": [
      "Epoch 401/1000: Train Loss = 0.5208\n"
     ]
    },
    {
     "data": {
      "application/vnd.jupyter.widget-view+json": {
       "model_id": "b339d3f238c24fbe96e1abff431d9302",
       "version_major": 2,
       "version_minor": 0
      },
      "text/plain": [
       "Epoch 402:   0%|          | 0/48 [00:00<?, ?it/s]"
      ]
     },
     "metadata": {},
     "output_type": "display_data"
    },
    {
     "name": "stdout",
     "output_type": "stream",
     "text": [
      "Epoch 402/1000: Train Loss = 0.5176\n"
     ]
    },
    {
     "data": {
      "application/vnd.jupyter.widget-view+json": {
       "model_id": "a1d3562e6c54417d9f5991d9de4c108a",
       "version_major": 2,
       "version_minor": 0
      },
      "text/plain": [
       "Epoch 403:   0%|          | 0/48 [00:00<?, ?it/s]"
      ]
     },
     "metadata": {},
     "output_type": "display_data"
    },
    {
     "name": "stdout",
     "output_type": "stream",
     "text": [
      "Epoch 403/1000: Train Loss = 0.5210\n"
     ]
    },
    {
     "data": {
      "application/vnd.jupyter.widget-view+json": {
       "model_id": "fc83f0643b2e432fbf5846235e375046",
       "version_major": 2,
       "version_minor": 0
      },
      "text/plain": [
       "Epoch 404:   0%|          | 0/48 [00:00<?, ?it/s]"
      ]
     },
     "metadata": {},
     "output_type": "display_data"
    },
    {
     "name": "stdout",
     "output_type": "stream",
     "text": [
      "Epoch 404/1000: Train Loss = 0.5210\n"
     ]
    },
    {
     "data": {
      "application/vnd.jupyter.widget-view+json": {
       "model_id": "7319f0fd01704f77969ec65128b9d1f0",
       "version_major": 2,
       "version_minor": 0
      },
      "text/plain": [
       "Epoch 405:   0%|          | 0/48 [00:00<?, ?it/s]"
      ]
     },
     "metadata": {},
     "output_type": "display_data"
    },
    {
     "name": "stdout",
     "output_type": "stream",
     "text": [
      "Epoch 405/1000: Train Loss = 0.5215\n"
     ]
    },
    {
     "data": {
      "application/vnd.jupyter.widget-view+json": {
       "model_id": "d200871963c141958172a034b894ad66",
       "version_major": 2,
       "version_minor": 0
      },
      "text/plain": [
       "Epoch 406:   0%|          | 0/48 [00:00<?, ?it/s]"
      ]
     },
     "metadata": {},
     "output_type": "display_data"
    },
    {
     "name": "stdout",
     "output_type": "stream",
     "text": [
      "Epoch 406/1000: Train Loss = 0.5199\n"
     ]
    },
    {
     "data": {
      "application/vnd.jupyter.widget-view+json": {
       "model_id": "6e86025d43024964aa4c6df1280e9d17",
       "version_major": 2,
       "version_minor": 0
      },
      "text/plain": [
       "Epoch 407:   0%|          | 0/48 [00:00<?, ?it/s]"
      ]
     },
     "metadata": {},
     "output_type": "display_data"
    },
    {
     "name": "stdout",
     "output_type": "stream",
     "text": [
      "Epoch 407/1000: Train Loss = 0.5239\n"
     ]
    },
    {
     "data": {
      "application/vnd.jupyter.widget-view+json": {
       "model_id": "2d3d9f7a4ba642399edfd865a07844c1",
       "version_major": 2,
       "version_minor": 0
      },
      "text/plain": [
       "Epoch 408:   0%|          | 0/48 [00:00<?, ?it/s]"
      ]
     },
     "metadata": {},
     "output_type": "display_data"
    },
    {
     "name": "stdout",
     "output_type": "stream",
     "text": [
      "Epoch 408/1000: Train Loss = 0.5225\n"
     ]
    },
    {
     "data": {
      "application/vnd.jupyter.widget-view+json": {
       "model_id": "17566c510d3842d792a07eac62bc022f",
       "version_major": 2,
       "version_minor": 0
      },
      "text/plain": [
       "Epoch 409:   0%|          | 0/48 [00:00<?, ?it/s]"
      ]
     },
     "metadata": {},
     "output_type": "display_data"
    },
    {
     "name": "stdout",
     "output_type": "stream",
     "text": [
      "Epoch 409/1000: Train Loss = 0.5161\n"
     ]
    },
    {
     "data": {
      "application/vnd.jupyter.widget-view+json": {
       "model_id": "ffc2006497204f348507d2557bee9c3f",
       "version_major": 2,
       "version_minor": 0
      },
      "text/plain": [
       "Epoch 410:   0%|          | 0/48 [00:00<?, ?it/s]"
      ]
     },
     "metadata": {},
     "output_type": "display_data"
    },
    {
     "name": "stdout",
     "output_type": "stream",
     "text": [
      "Epoch 410/1000: Train Loss = 0.5189\n"
     ]
    },
    {
     "data": {
      "application/vnd.jupyter.widget-view+json": {
       "model_id": "73a3d2bd815646b29c8d3f7cb772586b",
       "version_major": 2,
       "version_minor": 0
      },
      "text/plain": [
       "Epoch 411:   0%|          | 0/48 [00:00<?, ?it/s]"
      ]
     },
     "metadata": {},
     "output_type": "display_data"
    },
    {
     "name": "stdout",
     "output_type": "stream",
     "text": [
      "Epoch 411/1000: Train Loss = 0.5190\n"
     ]
    },
    {
     "data": {
      "application/vnd.jupyter.widget-view+json": {
       "model_id": "547026a967e14f0db61062bbfdbf5d4d",
       "version_major": 2,
       "version_minor": 0
      },
      "text/plain": [
       "Epoch 412:   0%|          | 0/48 [00:00<?, ?it/s]"
      ]
     },
     "metadata": {},
     "output_type": "display_data"
    },
    {
     "name": "stdout",
     "output_type": "stream",
     "text": [
      "Epoch 412/1000: Train Loss = 0.5197\n"
     ]
    },
    {
     "data": {
      "application/vnd.jupyter.widget-view+json": {
       "model_id": "69c2e6e177b24081bddd9c5da4abd66e",
       "version_major": 2,
       "version_minor": 0
      },
      "text/plain": [
       "Epoch 413:   0%|          | 0/48 [00:00<?, ?it/s]"
      ]
     },
     "metadata": {},
     "output_type": "display_data"
    },
    {
     "name": "stdout",
     "output_type": "stream",
     "text": [
      "Epoch 413/1000: Train Loss = 0.5201\n"
     ]
    },
    {
     "data": {
      "application/vnd.jupyter.widget-view+json": {
       "model_id": "3adfeeb4c78f48ec9bc2efff9579cd9c",
       "version_major": 2,
       "version_minor": 0
      },
      "text/plain": [
       "Epoch 414:   0%|          | 0/48 [00:00<?, ?it/s]"
      ]
     },
     "metadata": {},
     "output_type": "display_data"
    },
    {
     "name": "stdout",
     "output_type": "stream",
     "text": [
      "Epoch 414/1000: Train Loss = 0.5265\n"
     ]
    },
    {
     "data": {
      "application/vnd.jupyter.widget-view+json": {
       "model_id": "cdd40c7dd9834adb9a6b334303387fb9",
       "version_major": 2,
       "version_minor": 0
      },
      "text/plain": [
       "Epoch 415:   0%|          | 0/48 [00:00<?, ?it/s]"
      ]
     },
     "metadata": {},
     "output_type": "display_data"
    },
    {
     "name": "stdout",
     "output_type": "stream",
     "text": [
      "Epoch 415/1000: Train Loss = 0.5216\n"
     ]
    },
    {
     "data": {
      "application/vnd.jupyter.widget-view+json": {
       "model_id": "b02c34d141f0462f8bc05ba9da67471b",
       "version_major": 2,
       "version_minor": 0
      },
      "text/plain": [
       "Epoch 416:   0%|          | 0/48 [00:00<?, ?it/s]"
      ]
     },
     "metadata": {},
     "output_type": "display_data"
    },
    {
     "name": "stdout",
     "output_type": "stream",
     "text": [
      "Epoch 416/1000: Train Loss = 0.5238\n"
     ]
    },
    {
     "data": {
      "application/vnd.jupyter.widget-view+json": {
       "model_id": "8c483b41d6ef4b9397d16acf9e7fe810",
       "version_major": 2,
       "version_minor": 0
      },
      "text/plain": [
       "Epoch 417:   0%|          | 0/48 [00:00<?, ?it/s]"
      ]
     },
     "metadata": {},
     "output_type": "display_data"
    },
    {
     "name": "stdout",
     "output_type": "stream",
     "text": [
      "Epoch 417/1000: Train Loss = 0.5263\n"
     ]
    },
    {
     "data": {
      "application/vnd.jupyter.widget-view+json": {
       "model_id": "6105b087d87044f19ce3c69511bb313c",
       "version_major": 2,
       "version_minor": 0
      },
      "text/plain": [
       "Epoch 418:   0%|          | 0/48 [00:00<?, ?it/s]"
      ]
     },
     "metadata": {},
     "output_type": "display_data"
    },
    {
     "name": "stdout",
     "output_type": "stream",
     "text": [
      "Epoch 418/1000: Train Loss = 0.5188\n"
     ]
    },
    {
     "data": {
      "application/vnd.jupyter.widget-view+json": {
       "model_id": "3f488f4e4b4a4ab5b158c3cda329014f",
       "version_major": 2,
       "version_minor": 0
      },
      "text/plain": [
       "Epoch 419:   0%|          | 0/48 [00:00<?, ?it/s]"
      ]
     },
     "metadata": {},
     "output_type": "display_data"
    },
    {
     "name": "stdout",
     "output_type": "stream",
     "text": [
      "Epoch 419/1000: Train Loss = 0.5195\n"
     ]
    },
    {
     "data": {
      "application/vnd.jupyter.widget-view+json": {
       "model_id": "08b2257888e34e268b4973e23ce7f960",
       "version_major": 2,
       "version_minor": 0
      },
      "text/plain": [
       "Epoch 420:   0%|          | 0/48 [00:00<?, ?it/s]"
      ]
     },
     "metadata": {},
     "output_type": "display_data"
    },
    {
     "name": "stdout",
     "output_type": "stream",
     "text": [
      "Epoch 420/1000: Train Loss = 0.5201\n"
     ]
    },
    {
     "data": {
      "application/vnd.jupyter.widget-view+json": {
       "model_id": "719d6df1b8e542788257aecfa3c3b6bb",
       "version_major": 2,
       "version_minor": 0
      },
      "text/plain": [
       "Epoch 421:   0%|          | 0/48 [00:00<?, ?it/s]"
      ]
     },
     "metadata": {},
     "output_type": "display_data"
    },
    {
     "name": "stdout",
     "output_type": "stream",
     "text": [
      "Epoch 421/1000: Train Loss = 0.5172\n"
     ]
    },
    {
     "data": {
      "application/vnd.jupyter.widget-view+json": {
       "model_id": "ebabb432d11444c7b51ac375427a101e",
       "version_major": 2,
       "version_minor": 0
      },
      "text/plain": [
       "Epoch 422:   0%|          | 0/48 [00:00<?, ?it/s]"
      ]
     },
     "metadata": {},
     "output_type": "display_data"
    },
    {
     "name": "stdout",
     "output_type": "stream",
     "text": [
      "Epoch 422/1000: Train Loss = 0.5194\n"
     ]
    },
    {
     "data": {
      "application/vnd.jupyter.widget-view+json": {
       "model_id": "30468fe2974d42a3b1e94516c81d3a67",
       "version_major": 2,
       "version_minor": 0
      },
      "text/plain": [
       "Epoch 423:   0%|          | 0/48 [00:00<?, ?it/s]"
      ]
     },
     "metadata": {},
     "output_type": "display_data"
    },
    {
     "name": "stdout",
     "output_type": "stream",
     "text": [
      "Epoch 423/1000: Train Loss = 0.5195\n"
     ]
    },
    {
     "data": {
      "application/vnd.jupyter.widget-view+json": {
       "model_id": "e0b7ecbb1598411e888d89f4e8925b72",
       "version_major": 2,
       "version_minor": 0
      },
      "text/plain": [
       "Epoch 424:   0%|          | 0/48 [00:00<?, ?it/s]"
      ]
     },
     "metadata": {},
     "output_type": "display_data"
    },
    {
     "name": "stdout",
     "output_type": "stream",
     "text": [
      "Epoch 424/1000: Train Loss = 0.5181\n"
     ]
    },
    {
     "data": {
      "application/vnd.jupyter.widget-view+json": {
       "model_id": "eb8824c64362464f96bce269c442b467",
       "version_major": 2,
       "version_minor": 0
      },
      "text/plain": [
       "Epoch 425:   0%|          | 0/48 [00:00<?, ?it/s]"
      ]
     },
     "metadata": {},
     "output_type": "display_data"
    },
    {
     "name": "stdout",
     "output_type": "stream",
     "text": [
      "Epoch 425/1000: Train Loss = 0.5215\n"
     ]
    },
    {
     "data": {
      "application/vnd.jupyter.widget-view+json": {
       "model_id": "35fd6a113d0541e4b5f902755668aac7",
       "version_major": 2,
       "version_minor": 0
      },
      "text/plain": [
       "Epoch 426:   0%|          | 0/48 [00:00<?, ?it/s]"
      ]
     },
     "metadata": {},
     "output_type": "display_data"
    },
    {
     "name": "stdout",
     "output_type": "stream",
     "text": [
      "Epoch 426/1000: Train Loss = 0.5178\n"
     ]
    },
    {
     "data": {
      "application/vnd.jupyter.widget-view+json": {
       "model_id": "8c8a5340604f40ab936b8866b2b553e8",
       "version_major": 2,
       "version_minor": 0
      },
      "text/plain": [
       "Epoch 427:   0%|          | 0/48 [00:00<?, ?it/s]"
      ]
     },
     "metadata": {},
     "output_type": "display_data"
    },
    {
     "name": "stdout",
     "output_type": "stream",
     "text": [
      "Epoch 427/1000: Train Loss = 0.5203\n"
     ]
    },
    {
     "data": {
      "application/vnd.jupyter.widget-view+json": {
       "model_id": "0ea6506091c5433ba86042fe507e32ae",
       "version_major": 2,
       "version_minor": 0
      },
      "text/plain": [
       "Epoch 428:   0%|          | 0/48 [00:00<?, ?it/s]"
      ]
     },
     "metadata": {},
     "output_type": "display_data"
    },
    {
     "name": "stdout",
     "output_type": "stream",
     "text": [
      "Epoch 428/1000: Train Loss = 0.5266\n"
     ]
    },
    {
     "data": {
      "application/vnd.jupyter.widget-view+json": {
       "model_id": "3ee7f6d386e74068b88c0cab4cde8444",
       "version_major": 2,
       "version_minor": 0
      },
      "text/plain": [
       "Epoch 429:   0%|          | 0/48 [00:00<?, ?it/s]"
      ]
     },
     "metadata": {},
     "output_type": "display_data"
    },
    {
     "name": "stdout",
     "output_type": "stream",
     "text": [
      "Epoch 429/1000: Train Loss = 0.5208\n"
     ]
    },
    {
     "data": {
      "application/vnd.jupyter.widget-view+json": {
       "model_id": "08afd675d36d4f3ba663e3a9953869a1",
       "version_major": 2,
       "version_minor": 0
      },
      "text/plain": [
       "Epoch 430:   0%|          | 0/48 [00:00<?, ?it/s]"
      ]
     },
     "metadata": {},
     "output_type": "display_data"
    },
    {
     "name": "stdout",
     "output_type": "stream",
     "text": [
      "Epoch 430/1000: Train Loss = 0.5202\n"
     ]
    },
    {
     "data": {
      "application/vnd.jupyter.widget-view+json": {
       "model_id": "d230fb4427b842d094ae43fc4c307564",
       "version_major": 2,
       "version_minor": 0
      },
      "text/plain": [
       "Epoch 431:   0%|          | 0/48 [00:00<?, ?it/s]"
      ]
     },
     "metadata": {},
     "output_type": "display_data"
    },
    {
     "name": "stdout",
     "output_type": "stream",
     "text": [
      "Epoch 431/1000: Train Loss = 0.5198\n"
     ]
    },
    {
     "data": {
      "application/vnd.jupyter.widget-view+json": {
       "model_id": "6e6b7b1424ae4d7f907655c4449053fb",
       "version_major": 2,
       "version_minor": 0
      },
      "text/plain": [
       "Epoch 432:   0%|          | 0/48 [00:00<?, ?it/s]"
      ]
     },
     "metadata": {},
     "output_type": "display_data"
    },
    {
     "name": "stdout",
     "output_type": "stream",
     "text": [
      "Epoch 432/1000: Train Loss = 0.5180\n"
     ]
    },
    {
     "data": {
      "application/vnd.jupyter.widget-view+json": {
       "model_id": "e1132420987b4398a00d78f33e33defa",
       "version_major": 2,
       "version_minor": 0
      },
      "text/plain": [
       "Epoch 433:   0%|          | 0/48 [00:00<?, ?it/s]"
      ]
     },
     "metadata": {},
     "output_type": "display_data"
    },
    {
     "name": "stdout",
     "output_type": "stream",
     "text": [
      "Epoch 433/1000: Train Loss = 0.5274\n"
     ]
    },
    {
     "data": {
      "application/vnd.jupyter.widget-view+json": {
       "model_id": "f88062925cd1408092dc9b11365f194a",
       "version_major": 2,
       "version_minor": 0
      },
      "text/plain": [
       "Epoch 434:   0%|          | 0/48 [00:00<?, ?it/s]"
      ]
     },
     "metadata": {},
     "output_type": "display_data"
    },
    {
     "name": "stdout",
     "output_type": "stream",
     "text": [
      "Epoch 434/1000: Train Loss = 0.5223\n"
     ]
    },
    {
     "data": {
      "application/vnd.jupyter.widget-view+json": {
       "model_id": "cde769c858e245748e00669317bffae8",
       "version_major": 2,
       "version_minor": 0
      },
      "text/plain": [
       "Epoch 435:   0%|          | 0/48 [00:00<?, ?it/s]"
      ]
     },
     "metadata": {},
     "output_type": "display_data"
    },
    {
     "name": "stdout",
     "output_type": "stream",
     "text": [
      "Epoch 435/1000: Train Loss = 0.5197\n"
     ]
    },
    {
     "data": {
      "application/vnd.jupyter.widget-view+json": {
       "model_id": "bf32f526786a41eb8a29a06c67e46b60",
       "version_major": 2,
       "version_minor": 0
      },
      "text/plain": [
       "Epoch 436:   0%|          | 0/48 [00:00<?, ?it/s]"
      ]
     },
     "metadata": {},
     "output_type": "display_data"
    },
    {
     "name": "stdout",
     "output_type": "stream",
     "text": [
      "Epoch 436/1000: Train Loss = 0.5193\n"
     ]
    },
    {
     "data": {
      "application/vnd.jupyter.widget-view+json": {
       "model_id": "01607ed1cdf341aabcaddcdaad472b11",
       "version_major": 2,
       "version_minor": 0
      },
      "text/plain": [
       "Epoch 437:   0%|          | 0/48 [00:00<?, ?it/s]"
      ]
     },
     "metadata": {},
     "output_type": "display_data"
    },
    {
     "name": "stdout",
     "output_type": "stream",
     "text": [
      "Epoch 437/1000: Train Loss = 0.5222\n"
     ]
    },
    {
     "data": {
      "application/vnd.jupyter.widget-view+json": {
       "model_id": "c57d5061cbb44056b9e5076ba7b2481a",
       "version_major": 2,
       "version_minor": 0
      },
      "text/plain": [
       "Epoch 438:   0%|          | 0/48 [00:00<?, ?it/s]"
      ]
     },
     "metadata": {},
     "output_type": "display_data"
    },
    {
     "name": "stdout",
     "output_type": "stream",
     "text": [
      "Epoch 438/1000: Train Loss = 0.5262\n"
     ]
    },
    {
     "data": {
      "application/vnd.jupyter.widget-view+json": {
       "model_id": "7ec8991136f3429c8ec5d31db615f27d",
       "version_major": 2,
       "version_minor": 0
      },
      "text/plain": [
       "Epoch 439:   0%|          | 0/48 [00:00<?, ?it/s]"
      ]
     },
     "metadata": {},
     "output_type": "display_data"
    },
    {
     "name": "stdout",
     "output_type": "stream",
     "text": [
      "Epoch 439/1000: Train Loss = 0.5206\n"
     ]
    },
    {
     "data": {
      "application/vnd.jupyter.widget-view+json": {
       "model_id": "6391d1b705864383929e75c407000026",
       "version_major": 2,
       "version_minor": 0
      },
      "text/plain": [
       "Epoch 440:   0%|          | 0/48 [00:00<?, ?it/s]"
      ]
     },
     "metadata": {},
     "output_type": "display_data"
    },
    {
     "name": "stdout",
     "output_type": "stream",
     "text": [
      "Epoch 440/1000: Train Loss = 0.5198\n"
     ]
    },
    {
     "data": {
      "application/vnd.jupyter.widget-view+json": {
       "model_id": "62483fe2f73b4539a405ea51436091da",
       "version_major": 2,
       "version_minor": 0
      },
      "text/plain": [
       "Epoch 441:   0%|          | 0/48 [00:00<?, ?it/s]"
      ]
     },
     "metadata": {},
     "output_type": "display_data"
    },
    {
     "name": "stdout",
     "output_type": "stream",
     "text": [
      "Epoch 441/1000: Train Loss = 0.5216\n"
     ]
    },
    {
     "data": {
      "application/vnd.jupyter.widget-view+json": {
       "model_id": "a61880bfe88e4cbf8feb17a184f0d2cf",
       "version_major": 2,
       "version_minor": 0
      },
      "text/plain": [
       "Epoch 442:   0%|          | 0/48 [00:00<?, ?it/s]"
      ]
     },
     "metadata": {},
     "output_type": "display_data"
    },
    {
     "name": "stdout",
     "output_type": "stream",
     "text": [
      "Epoch 442/1000: Train Loss = 0.5256\n"
     ]
    },
    {
     "data": {
      "application/vnd.jupyter.widget-view+json": {
       "model_id": "ed718ffd5823421f953b63e351f5d125",
       "version_major": 2,
       "version_minor": 0
      },
      "text/plain": [
       "Epoch 443:   0%|          | 0/48 [00:00<?, ?it/s]"
      ]
     },
     "metadata": {},
     "output_type": "display_data"
    },
    {
     "name": "stdout",
     "output_type": "stream",
     "text": [
      "Epoch 443/1000: Train Loss = 0.5192\n"
     ]
    },
    {
     "data": {
      "application/vnd.jupyter.widget-view+json": {
       "model_id": "a385872f1fc94fb4b529f93f8d93e8ad",
       "version_major": 2,
       "version_minor": 0
      },
      "text/plain": [
       "Epoch 444:   0%|          | 0/48 [00:00<?, ?it/s]"
      ]
     },
     "metadata": {},
     "output_type": "display_data"
    },
    {
     "name": "stdout",
     "output_type": "stream",
     "text": [
      "Epoch 444/1000: Train Loss = 0.5261\n"
     ]
    },
    {
     "data": {
      "application/vnd.jupyter.widget-view+json": {
       "model_id": "29257d6521ba4a4cb6e6503e7a99d541",
       "version_major": 2,
       "version_minor": 0
      },
      "text/plain": [
       "Epoch 445:   0%|          | 0/48 [00:00<?, ?it/s]"
      ]
     },
     "metadata": {},
     "output_type": "display_data"
    },
    {
     "name": "stdout",
     "output_type": "stream",
     "text": [
      "Epoch 445/1000: Train Loss = 0.5213\n"
     ]
    },
    {
     "data": {
      "application/vnd.jupyter.widget-view+json": {
       "model_id": "35f05c1a2feb49c6a750ace9984a961c",
       "version_major": 2,
       "version_minor": 0
      },
      "text/plain": [
       "Epoch 446:   0%|          | 0/48 [00:00<?, ?it/s]"
      ]
     },
     "metadata": {},
     "output_type": "display_data"
    },
    {
     "name": "stdout",
     "output_type": "stream",
     "text": [
      "Epoch 446/1000: Train Loss = 0.5187\n"
     ]
    },
    {
     "data": {
      "application/vnd.jupyter.widget-view+json": {
       "model_id": "981f645464ce4b0486ba813daa4d45ff",
       "version_major": 2,
       "version_minor": 0
      },
      "text/plain": [
       "Epoch 447:   0%|          | 0/48 [00:00<?, ?it/s]"
      ]
     },
     "metadata": {},
     "output_type": "display_data"
    },
    {
     "name": "stdout",
     "output_type": "stream",
     "text": [
      "Epoch 447/1000: Train Loss = 0.5184\n"
     ]
    },
    {
     "data": {
      "application/vnd.jupyter.widget-view+json": {
       "model_id": "23972a5f72124248bfa5080e0cd0342c",
       "version_major": 2,
       "version_minor": 0
      },
      "text/plain": [
       "Epoch 448:   0%|          | 0/48 [00:00<?, ?it/s]"
      ]
     },
     "metadata": {},
     "output_type": "display_data"
    },
    {
     "name": "stdout",
     "output_type": "stream",
     "text": [
      "Epoch 448/1000: Train Loss = 0.5201\n"
     ]
    },
    {
     "data": {
      "application/vnd.jupyter.widget-view+json": {
       "model_id": "22a3fe1adbc348d2af945fd4a08989d4",
       "version_major": 2,
       "version_minor": 0
      },
      "text/plain": [
       "Epoch 449:   0%|          | 0/48 [00:00<?, ?it/s]"
      ]
     },
     "metadata": {},
     "output_type": "display_data"
    },
    {
     "name": "stdout",
     "output_type": "stream",
     "text": [
      "Epoch 449/1000: Train Loss = 0.5204\n"
     ]
    },
    {
     "data": {
      "application/vnd.jupyter.widget-view+json": {
       "model_id": "7754b15cd7104a68a7670a41bef42259",
       "version_major": 2,
       "version_minor": 0
      },
      "text/plain": [
       "Epoch 450:   0%|          | 0/48 [00:00<?, ?it/s]"
      ]
     },
     "metadata": {},
     "output_type": "display_data"
    },
    {
     "name": "stdout",
     "output_type": "stream",
     "text": [
      "\n",
      "Binary LSTM (Epoch 450) Evaluation Results:\n",
      "  Average Loss: 0.5669\n",
      "  AUC (Area Under Curve): 0.4907\n",
      "  β₀ (exact match): 0.0000 (0.00%)\n",
      "  β₁ (≤1 bit error): 0.3958 (39.58%)\n",
      "  β₂ (≤2 bit error): 0.6458 (64.58%)\n",
      "  β₃ (≤3 bit error): 0.7917 (79.17%)\n",
      "  β₄ (≤4 bit error): 0.8542 (85.42%)\n"
     ]
    },
    {
     "data": {
      "application/vnd.jupyter.widget-view+json": {
       "model_id": "ec6223a84ed545dfae72b3911bdd25ea",
       "version_major": 2,
       "version_minor": 0
      },
      "text/plain": [
       "Epoch 451:   0%|          | 0/48 [00:00<?, ?it/s]"
      ]
     },
     "metadata": {},
     "output_type": "display_data"
    },
    {
     "name": "stdout",
     "output_type": "stream",
     "text": [
      "Epoch 451/1000: Train Loss = 0.5236\n"
     ]
    },
    {
     "data": {
      "application/vnd.jupyter.widget-view+json": {
       "model_id": "554ae9100cdd4b48a42d221499878ce1",
       "version_major": 2,
       "version_minor": 0
      },
      "text/plain": [
       "Epoch 452:   0%|          | 0/48 [00:00<?, ?it/s]"
      ]
     },
     "metadata": {},
     "output_type": "display_data"
    },
    {
     "name": "stdout",
     "output_type": "stream",
     "text": [
      "Epoch 452/1000: Train Loss = 0.5177\n"
     ]
    },
    {
     "data": {
      "application/vnd.jupyter.widget-view+json": {
       "model_id": "b7ab183c1f284f4787168e4acb6ad4c6",
       "version_major": 2,
       "version_minor": 0
      },
      "text/plain": [
       "Epoch 453:   0%|          | 0/48 [00:00<?, ?it/s]"
      ]
     },
     "metadata": {},
     "output_type": "display_data"
    },
    {
     "name": "stdout",
     "output_type": "stream",
     "text": [
      "Epoch 453/1000: Train Loss = 0.5213\n"
     ]
    },
    {
     "data": {
      "application/vnd.jupyter.widget-view+json": {
       "model_id": "bdc8b1492cd94502a3155bf7e6592550",
       "version_major": 2,
       "version_minor": 0
      },
      "text/plain": [
       "Epoch 454:   0%|          | 0/48 [00:00<?, ?it/s]"
      ]
     },
     "metadata": {},
     "output_type": "display_data"
    },
    {
     "name": "stdout",
     "output_type": "stream",
     "text": [
      "Epoch 454/1000: Train Loss = 0.5179\n"
     ]
    },
    {
     "data": {
      "application/vnd.jupyter.widget-view+json": {
       "model_id": "0f8f50f1a48e4fe5816ad52f782140b1",
       "version_major": 2,
       "version_minor": 0
      },
      "text/plain": [
       "Epoch 455:   0%|          | 0/48 [00:00<?, ?it/s]"
      ]
     },
     "metadata": {},
     "output_type": "display_data"
    },
    {
     "name": "stdout",
     "output_type": "stream",
     "text": [
      "Epoch 455/1000: Train Loss = 0.5290\n"
     ]
    },
    {
     "data": {
      "application/vnd.jupyter.widget-view+json": {
       "model_id": "dbf56010a3524284bf0c4ad41c405c85",
       "version_major": 2,
       "version_minor": 0
      },
      "text/plain": [
       "Epoch 456:   0%|          | 0/48 [00:00<?, ?it/s]"
      ]
     },
     "metadata": {},
     "output_type": "display_data"
    },
    {
     "name": "stdout",
     "output_type": "stream",
     "text": [
      "Epoch 456/1000: Train Loss = 0.5196\n"
     ]
    },
    {
     "data": {
      "application/vnd.jupyter.widget-view+json": {
       "model_id": "540475320d444f87b732b4b7ea48004b",
       "version_major": 2,
       "version_minor": 0
      },
      "text/plain": [
       "Epoch 457:   0%|          | 0/48 [00:00<?, ?it/s]"
      ]
     },
     "metadata": {},
     "output_type": "display_data"
    },
    {
     "name": "stdout",
     "output_type": "stream",
     "text": [
      "Epoch 457/1000: Train Loss = 0.5191\n"
     ]
    },
    {
     "data": {
      "application/vnd.jupyter.widget-view+json": {
       "model_id": "265bf0ce53c348a9955372cb723ce9cd",
       "version_major": 2,
       "version_minor": 0
      },
      "text/plain": [
       "Epoch 458:   0%|          | 0/48 [00:00<?, ?it/s]"
      ]
     },
     "metadata": {},
     "output_type": "display_data"
    },
    {
     "name": "stdout",
     "output_type": "stream",
     "text": [
      "Epoch 458/1000: Train Loss = 0.5155\n"
     ]
    },
    {
     "data": {
      "application/vnd.jupyter.widget-view+json": {
       "model_id": "3ab5b94428294ac0807c0db587ddd6cd",
       "version_major": 2,
       "version_minor": 0
      },
      "text/plain": [
       "Epoch 459:   0%|          | 0/48 [00:00<?, ?it/s]"
      ]
     },
     "metadata": {},
     "output_type": "display_data"
    },
    {
     "name": "stdout",
     "output_type": "stream",
     "text": [
      "Epoch 459/1000: Train Loss = 0.5167\n"
     ]
    },
    {
     "data": {
      "application/vnd.jupyter.widget-view+json": {
       "model_id": "64ba87bbce0e4476ab5125abd51212cf",
       "version_major": 2,
       "version_minor": 0
      },
      "text/plain": [
       "Epoch 460:   0%|          | 0/48 [00:00<?, ?it/s]"
      ]
     },
     "metadata": {},
     "output_type": "display_data"
    },
    {
     "name": "stdout",
     "output_type": "stream",
     "text": [
      "Epoch 460/1000: Train Loss = 0.5221\n"
     ]
    },
    {
     "data": {
      "application/vnd.jupyter.widget-view+json": {
       "model_id": "116d5b81c67944b4840ddcf8ed6e3b79",
       "version_major": 2,
       "version_minor": 0
      },
      "text/plain": [
       "Epoch 461:   0%|          | 0/48 [00:00<?, ?it/s]"
      ]
     },
     "metadata": {},
     "output_type": "display_data"
    },
    {
     "name": "stdout",
     "output_type": "stream",
     "text": [
      "Epoch 461/1000: Train Loss = 0.5183\n"
     ]
    },
    {
     "data": {
      "application/vnd.jupyter.widget-view+json": {
       "model_id": "4b6b65119ca94915a93e79a7bf64a652",
       "version_major": 2,
       "version_minor": 0
      },
      "text/plain": [
       "Epoch 462:   0%|          | 0/48 [00:00<?, ?it/s]"
      ]
     },
     "metadata": {},
     "output_type": "display_data"
    },
    {
     "name": "stdout",
     "output_type": "stream",
     "text": [
      "Epoch 462/1000: Train Loss = 0.5194\n"
     ]
    },
    {
     "data": {
      "application/vnd.jupyter.widget-view+json": {
       "model_id": "c4639e49f1a54f4e9cbf871f7cd3fcc3",
       "version_major": 2,
       "version_minor": 0
      },
      "text/plain": [
       "Epoch 463:   0%|          | 0/48 [00:00<?, ?it/s]"
      ]
     },
     "metadata": {},
     "output_type": "display_data"
    },
    {
     "name": "stdout",
     "output_type": "stream",
     "text": [
      "Epoch 463/1000: Train Loss = 0.5177\n"
     ]
    },
    {
     "data": {
      "application/vnd.jupyter.widget-view+json": {
       "model_id": "d11c83f1a65c448db2ceca6907061b18",
       "version_major": 2,
       "version_minor": 0
      },
      "text/plain": [
       "Epoch 464:   0%|          | 0/48 [00:00<?, ?it/s]"
      ]
     },
     "metadata": {},
     "output_type": "display_data"
    },
    {
     "name": "stdout",
     "output_type": "stream",
     "text": [
      "Epoch 464/1000: Train Loss = 0.5200\n"
     ]
    },
    {
     "data": {
      "application/vnd.jupyter.widget-view+json": {
       "model_id": "c31c7a96d25b4c55811fded718baa7d6",
       "version_major": 2,
       "version_minor": 0
      },
      "text/plain": [
       "Epoch 465:   0%|          | 0/48 [00:00<?, ?it/s]"
      ]
     },
     "metadata": {},
     "output_type": "display_data"
    },
    {
     "name": "stdout",
     "output_type": "stream",
     "text": [
      "Epoch 465/1000: Train Loss = 0.5190\n"
     ]
    },
    {
     "data": {
      "application/vnd.jupyter.widget-view+json": {
       "model_id": "966c3244797d464682134856cd2ae42b",
       "version_major": 2,
       "version_minor": 0
      },
      "text/plain": [
       "Epoch 466:   0%|          | 0/48 [00:00<?, ?it/s]"
      ]
     },
     "metadata": {},
     "output_type": "display_data"
    },
    {
     "name": "stdout",
     "output_type": "stream",
     "text": [
      "Epoch 466/1000: Train Loss = 0.5204\n"
     ]
    },
    {
     "data": {
      "application/vnd.jupyter.widget-view+json": {
       "model_id": "c7cede0f1fd64d9e8e020861630e605a",
       "version_major": 2,
       "version_minor": 0
      },
      "text/plain": [
       "Epoch 467:   0%|          | 0/48 [00:00<?, ?it/s]"
      ]
     },
     "metadata": {},
     "output_type": "display_data"
    },
    {
     "name": "stdout",
     "output_type": "stream",
     "text": [
      "Epoch 467/1000: Train Loss = 0.5187\n"
     ]
    },
    {
     "data": {
      "application/vnd.jupyter.widget-view+json": {
       "model_id": "5052b6c9dfc64955942baa58c638bd63",
       "version_major": 2,
       "version_minor": 0
      },
      "text/plain": [
       "Epoch 468:   0%|          | 0/48 [00:00<?, ?it/s]"
      ]
     },
     "metadata": {},
     "output_type": "display_data"
    },
    {
     "name": "stdout",
     "output_type": "stream",
     "text": [
      "Epoch 468/1000: Train Loss = 0.5210\n"
     ]
    },
    {
     "data": {
      "application/vnd.jupyter.widget-view+json": {
       "model_id": "61a8a43c29d0427b82df581f373a2783",
       "version_major": 2,
       "version_minor": 0
      },
      "text/plain": [
       "Epoch 469:   0%|          | 0/48 [00:00<?, ?it/s]"
      ]
     },
     "metadata": {},
     "output_type": "display_data"
    },
    {
     "name": "stdout",
     "output_type": "stream",
     "text": [
      "Epoch 469/1000: Train Loss = 0.5220\n"
     ]
    },
    {
     "data": {
      "application/vnd.jupyter.widget-view+json": {
       "model_id": "9c6c787fb4c6421e84d6761932f64829",
       "version_major": 2,
       "version_minor": 0
      },
      "text/plain": [
       "Epoch 470:   0%|          | 0/48 [00:00<?, ?it/s]"
      ]
     },
     "metadata": {},
     "output_type": "display_data"
    },
    {
     "name": "stdout",
     "output_type": "stream",
     "text": [
      "Epoch 470/1000: Train Loss = 0.5236\n"
     ]
    },
    {
     "data": {
      "application/vnd.jupyter.widget-view+json": {
       "model_id": "d217a7e67aa640edaf74efb4aa07dd0f",
       "version_major": 2,
       "version_minor": 0
      },
      "text/plain": [
       "Epoch 471:   0%|          | 0/48 [00:00<?, ?it/s]"
      ]
     },
     "metadata": {},
     "output_type": "display_data"
    },
    {
     "name": "stdout",
     "output_type": "stream",
     "text": [
      "Epoch 471/1000: Train Loss = 0.5167\n"
     ]
    },
    {
     "data": {
      "application/vnd.jupyter.widget-view+json": {
       "model_id": "5ef9d21326b94731833717270dee2332",
       "version_major": 2,
       "version_minor": 0
      },
      "text/plain": [
       "Epoch 472:   0%|          | 0/48 [00:00<?, ?it/s]"
      ]
     },
     "metadata": {},
     "output_type": "display_data"
    },
    {
     "name": "stdout",
     "output_type": "stream",
     "text": [
      "Epoch 472/1000: Train Loss = 0.5184\n"
     ]
    },
    {
     "data": {
      "application/vnd.jupyter.widget-view+json": {
       "model_id": "ae3641e652c44bb99521d900c100af37",
       "version_major": 2,
       "version_minor": 0
      },
      "text/plain": [
       "Epoch 473:   0%|          | 0/48 [00:00<?, ?it/s]"
      ]
     },
     "metadata": {},
     "output_type": "display_data"
    },
    {
     "name": "stdout",
     "output_type": "stream",
     "text": [
      "Epoch 473/1000: Train Loss = 0.5202\n"
     ]
    },
    {
     "data": {
      "application/vnd.jupyter.widget-view+json": {
       "model_id": "7d5828e9cb0f472ab51a6d6628536172",
       "version_major": 2,
       "version_minor": 0
      },
      "text/plain": [
       "Epoch 474:   0%|          | 0/48 [00:00<?, ?it/s]"
      ]
     },
     "metadata": {},
     "output_type": "display_data"
    },
    {
     "name": "stdout",
     "output_type": "stream",
     "text": [
      "Epoch 474/1000: Train Loss = 0.5209\n"
     ]
    },
    {
     "data": {
      "application/vnd.jupyter.widget-view+json": {
       "model_id": "72b2bcad2c89491289463742a169fbb6",
       "version_major": 2,
       "version_minor": 0
      },
      "text/plain": [
       "Epoch 475:   0%|          | 0/48 [00:00<?, ?it/s]"
      ]
     },
     "metadata": {},
     "output_type": "display_data"
    },
    {
     "name": "stdout",
     "output_type": "stream",
     "text": [
      "Epoch 475/1000: Train Loss = 0.5187\n"
     ]
    },
    {
     "data": {
      "application/vnd.jupyter.widget-view+json": {
       "model_id": "dbdcbb47403345ccb13b5d1ef00cfebd",
       "version_major": 2,
       "version_minor": 0
      },
      "text/plain": [
       "Epoch 476:   0%|          | 0/48 [00:00<?, ?it/s]"
      ]
     },
     "metadata": {},
     "output_type": "display_data"
    },
    {
     "name": "stdout",
     "output_type": "stream",
     "text": [
      "Epoch 476/1000: Train Loss = 0.5253\n"
     ]
    },
    {
     "data": {
      "application/vnd.jupyter.widget-view+json": {
       "model_id": "704fff16171d4eed997b6d53190ecec9",
       "version_major": 2,
       "version_minor": 0
      },
      "text/plain": [
       "Epoch 477:   0%|          | 0/48 [00:00<?, ?it/s]"
      ]
     },
     "metadata": {},
     "output_type": "display_data"
    },
    {
     "name": "stdout",
     "output_type": "stream",
     "text": [
      "Epoch 477/1000: Train Loss = 0.5199\n"
     ]
    },
    {
     "data": {
      "application/vnd.jupyter.widget-view+json": {
       "model_id": "d0ea6e2593c94418a5c0ebf82c201400",
       "version_major": 2,
       "version_minor": 0
      },
      "text/plain": [
       "Epoch 478:   0%|          | 0/48 [00:00<?, ?it/s]"
      ]
     },
     "metadata": {},
     "output_type": "display_data"
    },
    {
     "name": "stdout",
     "output_type": "stream",
     "text": [
      "Epoch 478/1000: Train Loss = 0.5183\n"
     ]
    },
    {
     "data": {
      "application/vnd.jupyter.widget-view+json": {
       "model_id": "ccf4f9c2b5734cbe8d0857fd2df07636",
       "version_major": 2,
       "version_minor": 0
      },
      "text/plain": [
       "Epoch 479:   0%|          | 0/48 [00:00<?, ?it/s]"
      ]
     },
     "metadata": {},
     "output_type": "display_data"
    },
    {
     "name": "stdout",
     "output_type": "stream",
     "text": [
      "Epoch 479/1000: Train Loss = 0.5287\n"
     ]
    },
    {
     "data": {
      "application/vnd.jupyter.widget-view+json": {
       "model_id": "59b14878076c479bb614dc54932fbbd5",
       "version_major": 2,
       "version_minor": 0
      },
      "text/plain": [
       "Epoch 480:   0%|          | 0/48 [00:00<?, ?it/s]"
      ]
     },
     "metadata": {},
     "output_type": "display_data"
    },
    {
     "name": "stdout",
     "output_type": "stream",
     "text": [
      "Epoch 480/1000: Train Loss = 0.5220\n"
     ]
    },
    {
     "data": {
      "application/vnd.jupyter.widget-view+json": {
       "model_id": "145d9e8bf43d49fa8c277941882fd0d2",
       "version_major": 2,
       "version_minor": 0
      },
      "text/plain": [
       "Epoch 481:   0%|          | 0/48 [00:00<?, ?it/s]"
      ]
     },
     "metadata": {},
     "output_type": "display_data"
    },
    {
     "name": "stdout",
     "output_type": "stream",
     "text": [
      "Epoch 481/1000: Train Loss = 0.5228\n"
     ]
    },
    {
     "data": {
      "application/vnd.jupyter.widget-view+json": {
       "model_id": "aaf9369374824fa0b2151cc01f095887",
       "version_major": 2,
       "version_minor": 0
      },
      "text/plain": [
       "Epoch 482:   0%|          | 0/48 [00:00<?, ?it/s]"
      ]
     },
     "metadata": {},
     "output_type": "display_data"
    },
    {
     "name": "stdout",
     "output_type": "stream",
     "text": [
      "Epoch 482/1000: Train Loss = 0.5180\n"
     ]
    },
    {
     "data": {
      "application/vnd.jupyter.widget-view+json": {
       "model_id": "6e6301d3bfe24e3a9f5fe2a8a02a528f",
       "version_major": 2,
       "version_minor": 0
      },
      "text/plain": [
       "Epoch 483:   0%|          | 0/48 [00:00<?, ?it/s]"
      ]
     },
     "metadata": {},
     "output_type": "display_data"
    },
    {
     "name": "stdout",
     "output_type": "stream",
     "text": [
      "Epoch 483/1000: Train Loss = 0.5177\n"
     ]
    },
    {
     "data": {
      "application/vnd.jupyter.widget-view+json": {
       "model_id": "1acfa04577c544f4a48be8e7009e6a46",
       "version_major": 2,
       "version_minor": 0
      },
      "text/plain": [
       "Epoch 484:   0%|          | 0/48 [00:00<?, ?it/s]"
      ]
     },
     "metadata": {},
     "output_type": "display_data"
    },
    {
     "name": "stdout",
     "output_type": "stream",
     "text": [
      "Epoch 484/1000: Train Loss = 0.5201\n"
     ]
    },
    {
     "data": {
      "application/vnd.jupyter.widget-view+json": {
       "model_id": "be8c6d45f6c94628b0f2701edb93b2a2",
       "version_major": 2,
       "version_minor": 0
      },
      "text/plain": [
       "Epoch 485:   0%|          | 0/48 [00:00<?, ?it/s]"
      ]
     },
     "metadata": {},
     "output_type": "display_data"
    },
    {
     "name": "stdout",
     "output_type": "stream",
     "text": [
      "Epoch 485/1000: Train Loss = 0.5280\n"
     ]
    },
    {
     "data": {
      "application/vnd.jupyter.widget-view+json": {
       "model_id": "c778e2bda55b45c0abe57c0aea444341",
       "version_major": 2,
       "version_minor": 0
      },
      "text/plain": [
       "Epoch 486:   0%|          | 0/48 [00:00<?, ?it/s]"
      ]
     },
     "metadata": {},
     "output_type": "display_data"
    },
    {
     "name": "stdout",
     "output_type": "stream",
     "text": [
      "Epoch 486/1000: Train Loss = 0.5177\n"
     ]
    },
    {
     "data": {
      "application/vnd.jupyter.widget-view+json": {
       "model_id": "bac33fe08df84756ad384f0e4daa9007",
       "version_major": 2,
       "version_minor": 0
      },
      "text/plain": [
       "Epoch 487:   0%|          | 0/48 [00:00<?, ?it/s]"
      ]
     },
     "metadata": {},
     "output_type": "display_data"
    },
    {
     "name": "stdout",
     "output_type": "stream",
     "text": [
      "Epoch 487/1000: Train Loss = 0.5210\n"
     ]
    },
    {
     "data": {
      "application/vnd.jupyter.widget-view+json": {
       "model_id": "ac86e50862284180943cd0fc38e34a90",
       "version_major": 2,
       "version_minor": 0
      },
      "text/plain": [
       "Epoch 488:   0%|          | 0/48 [00:00<?, ?it/s]"
      ]
     },
     "metadata": {},
     "output_type": "display_data"
    },
    {
     "name": "stdout",
     "output_type": "stream",
     "text": [
      "Epoch 488/1000: Train Loss = 0.5173\n"
     ]
    },
    {
     "data": {
      "application/vnd.jupyter.widget-view+json": {
       "model_id": "982109cd3838468291572bd1f57c0fb2",
       "version_major": 2,
       "version_minor": 0
      },
      "text/plain": [
       "Epoch 489:   0%|          | 0/48 [00:00<?, ?it/s]"
      ]
     },
     "metadata": {},
     "output_type": "display_data"
    },
    {
     "name": "stdout",
     "output_type": "stream",
     "text": [
      "Epoch 489/1000: Train Loss = 0.5189\n"
     ]
    },
    {
     "data": {
      "application/vnd.jupyter.widget-view+json": {
       "model_id": "58e2cb2c6f464871890ba496f359f4d4",
       "version_major": 2,
       "version_minor": 0
      },
      "text/plain": [
       "Epoch 490:   0%|          | 0/48 [00:00<?, ?it/s]"
      ]
     },
     "metadata": {},
     "output_type": "display_data"
    },
    {
     "name": "stdout",
     "output_type": "stream",
     "text": [
      "Epoch 490/1000: Train Loss = 0.5186\n"
     ]
    },
    {
     "data": {
      "application/vnd.jupyter.widget-view+json": {
       "model_id": "cd5958b805b44bff97d4a066c8350415",
       "version_major": 2,
       "version_minor": 0
      },
      "text/plain": [
       "Epoch 491:   0%|          | 0/48 [00:00<?, ?it/s]"
      ]
     },
     "metadata": {},
     "output_type": "display_data"
    },
    {
     "name": "stdout",
     "output_type": "stream",
     "text": [
      "Epoch 491/1000: Train Loss = 0.5201\n"
     ]
    },
    {
     "data": {
      "application/vnd.jupyter.widget-view+json": {
       "model_id": "7986d0787ec44e829be172f8c2eec1d3",
       "version_major": 2,
       "version_minor": 0
      },
      "text/plain": [
       "Epoch 492:   0%|          | 0/48 [00:00<?, ?it/s]"
      ]
     },
     "metadata": {},
     "output_type": "display_data"
    },
    {
     "name": "stdout",
     "output_type": "stream",
     "text": [
      "Epoch 492/1000: Train Loss = 0.5192\n"
     ]
    },
    {
     "data": {
      "application/vnd.jupyter.widget-view+json": {
       "model_id": "2174760539da4e4ebce2e8696d3612b4",
       "version_major": 2,
       "version_minor": 0
      },
      "text/plain": [
       "Epoch 493:   0%|          | 0/48 [00:00<?, ?it/s]"
      ]
     },
     "metadata": {},
     "output_type": "display_data"
    },
    {
     "name": "stdout",
     "output_type": "stream",
     "text": [
      "Epoch 493/1000: Train Loss = 0.5175\n"
     ]
    },
    {
     "data": {
      "application/vnd.jupyter.widget-view+json": {
       "model_id": "9c8f68635d6f4662a6d2e6236b014a7c",
       "version_major": 2,
       "version_minor": 0
      },
      "text/plain": [
       "Epoch 494:   0%|          | 0/48 [00:00<?, ?it/s]"
      ]
     },
     "metadata": {},
     "output_type": "display_data"
    },
    {
     "name": "stdout",
     "output_type": "stream",
     "text": [
      "Epoch 494/1000: Train Loss = 0.5280\n"
     ]
    },
    {
     "data": {
      "application/vnd.jupyter.widget-view+json": {
       "model_id": "f5482f843e274ab79e3b75aff02ed665",
       "version_major": 2,
       "version_minor": 0
      },
      "text/plain": [
       "Epoch 495:   0%|          | 0/48 [00:00<?, ?it/s]"
      ]
     },
     "metadata": {},
     "output_type": "display_data"
    },
    {
     "name": "stdout",
     "output_type": "stream",
     "text": [
      "Epoch 495/1000: Train Loss = 0.5244\n"
     ]
    },
    {
     "data": {
      "application/vnd.jupyter.widget-view+json": {
       "model_id": "e30e3c54922448c58901ebcaa7757964",
       "version_major": 2,
       "version_minor": 0
      },
      "text/plain": [
       "Epoch 496:   0%|          | 0/48 [00:00<?, ?it/s]"
      ]
     },
     "metadata": {},
     "output_type": "display_data"
    },
    {
     "name": "stdout",
     "output_type": "stream",
     "text": [
      "Epoch 496/1000: Train Loss = 0.5265\n"
     ]
    },
    {
     "data": {
      "application/vnd.jupyter.widget-view+json": {
       "model_id": "652c5a58ba2f47919839b0abc0173663",
       "version_major": 2,
       "version_minor": 0
      },
      "text/plain": [
       "Epoch 497:   0%|          | 0/48 [00:00<?, ?it/s]"
      ]
     },
     "metadata": {},
     "output_type": "display_data"
    },
    {
     "name": "stdout",
     "output_type": "stream",
     "text": [
      "Epoch 497/1000: Train Loss = 0.5233\n"
     ]
    },
    {
     "data": {
      "application/vnd.jupyter.widget-view+json": {
       "model_id": "42d5adef2f3e4403b0a902eef1ac45ea",
       "version_major": 2,
       "version_minor": 0
      },
      "text/plain": [
       "Epoch 498:   0%|          | 0/48 [00:00<?, ?it/s]"
      ]
     },
     "metadata": {},
     "output_type": "display_data"
    },
    {
     "name": "stdout",
     "output_type": "stream",
     "text": [
      "Epoch 498/1000: Train Loss = 0.5211\n"
     ]
    },
    {
     "data": {
      "application/vnd.jupyter.widget-view+json": {
       "model_id": "323bb84886354f92abbc3b0f58c812b8",
       "version_major": 2,
       "version_minor": 0
      },
      "text/plain": [
       "Epoch 499:   0%|          | 0/48 [00:00<?, ?it/s]"
      ]
     },
     "metadata": {},
     "output_type": "display_data"
    },
    {
     "name": "stdout",
     "output_type": "stream",
     "text": [
      "Epoch 499/1000: Train Loss = 0.5202\n"
     ]
    },
    {
     "data": {
      "application/vnd.jupyter.widget-view+json": {
       "model_id": "ec97bc494e2643238dec64ecb1a93ff3",
       "version_major": 2,
       "version_minor": 0
      },
      "text/plain": [
       "Epoch 500:   0%|          | 0/48 [00:00<?, ?it/s]"
      ]
     },
     "metadata": {},
     "output_type": "display_data"
    },
    {
     "name": "stdout",
     "output_type": "stream",
     "text": [
      "\n",
      "Binary LSTM (Epoch 500) Evaluation Results:\n",
      "  Average Loss: 0.5692\n",
      "  AUC (Area Under Curve): 0.5109\n",
      "  β₀ (exact match): 0.0000 (0.00%)\n",
      "  β₁ (≤1 bit error): 0.3958 (39.58%)\n",
      "  β₂ (≤2 bit error): 0.6458 (64.58%)\n",
      "  β₃ (≤3 bit error): 0.7917 (79.17%)\n",
      "  β₄ (≤4 bit error): 0.8542 (85.42%)\n"
     ]
    },
    {
     "data": {
      "application/vnd.jupyter.widget-view+json": {
       "model_id": "d947ab198771493a85579c6585a6e622",
       "version_major": 2,
       "version_minor": 0
      },
      "text/plain": [
       "Epoch 501:   0%|          | 0/48 [00:00<?, ?it/s]"
      ]
     },
     "metadata": {},
     "output_type": "display_data"
    },
    {
     "name": "stdout",
     "output_type": "stream",
     "text": [
      "Epoch 501/1000: Train Loss = 0.5194\n"
     ]
    },
    {
     "data": {
      "application/vnd.jupyter.widget-view+json": {
       "model_id": "00002b9dec074f0fa2bd119000959d67",
       "version_major": 2,
       "version_minor": 0
      },
      "text/plain": [
       "Epoch 502:   0%|          | 0/48 [00:00<?, ?it/s]"
      ]
     },
     "metadata": {},
     "output_type": "display_data"
    },
    {
     "name": "stdout",
     "output_type": "stream",
     "text": [
      "Epoch 502/1000: Train Loss = 0.5222\n"
     ]
    },
    {
     "data": {
      "application/vnd.jupyter.widget-view+json": {
       "model_id": "46733b9cb05d42b3bae84f9610896608",
       "version_major": 2,
       "version_minor": 0
      },
      "text/plain": [
       "Epoch 503:   0%|          | 0/48 [00:00<?, ?it/s]"
      ]
     },
     "metadata": {},
     "output_type": "display_data"
    },
    {
     "name": "stdout",
     "output_type": "stream",
     "text": [
      "Epoch 503/1000: Train Loss = 0.5189\n"
     ]
    },
    {
     "data": {
      "application/vnd.jupyter.widget-view+json": {
       "model_id": "0bf20f82c4244d538aece76817c52cee",
       "version_major": 2,
       "version_minor": 0
      },
      "text/plain": [
       "Epoch 504:   0%|          | 0/48 [00:00<?, ?it/s]"
      ]
     },
     "metadata": {},
     "output_type": "display_data"
    },
    {
     "name": "stdout",
     "output_type": "stream",
     "text": [
      "Epoch 504/1000: Train Loss = 0.5187\n"
     ]
    },
    {
     "data": {
      "application/vnd.jupyter.widget-view+json": {
       "model_id": "b71607d1f6ec4dc8ab4e96404cdcee4c",
       "version_major": 2,
       "version_minor": 0
      },
      "text/plain": [
       "Epoch 505:   0%|          | 0/48 [00:00<?, ?it/s]"
      ]
     },
     "metadata": {},
     "output_type": "display_data"
    },
    {
     "name": "stdout",
     "output_type": "stream",
     "text": [
      "Epoch 505/1000: Train Loss = 0.5284\n"
     ]
    },
    {
     "data": {
      "application/vnd.jupyter.widget-view+json": {
       "model_id": "e6737ea64a154489ba43b152e168c6f5",
       "version_major": 2,
       "version_minor": 0
      },
      "text/plain": [
       "Epoch 506:   0%|          | 0/48 [00:00<?, ?it/s]"
      ]
     },
     "metadata": {},
     "output_type": "display_data"
    },
    {
     "name": "stdout",
     "output_type": "stream",
     "text": [
      "Epoch 506/1000: Train Loss = 0.5193\n"
     ]
    },
    {
     "data": {
      "application/vnd.jupyter.widget-view+json": {
       "model_id": "897d548e9aa94a1c9663d3979630f09b",
       "version_major": 2,
       "version_minor": 0
      },
      "text/plain": [
       "Epoch 507:   0%|          | 0/48 [00:00<?, ?it/s]"
      ]
     },
     "metadata": {},
     "output_type": "display_data"
    },
    {
     "name": "stdout",
     "output_type": "stream",
     "text": [
      "Epoch 507/1000: Train Loss = 0.5193\n"
     ]
    },
    {
     "data": {
      "application/vnd.jupyter.widget-view+json": {
       "model_id": "bba114b354bb447e9d0e02a3efa9d395",
       "version_major": 2,
       "version_minor": 0
      },
      "text/plain": [
       "Epoch 508:   0%|          | 0/48 [00:00<?, ?it/s]"
      ]
     },
     "metadata": {},
     "output_type": "display_data"
    },
    {
     "name": "stdout",
     "output_type": "stream",
     "text": [
      "Epoch 508/1000: Train Loss = 0.5172\n"
     ]
    },
    {
     "data": {
      "application/vnd.jupyter.widget-view+json": {
       "model_id": "3308d5b5a76341a28d9c5bf10546096a",
       "version_major": 2,
       "version_minor": 0
      },
      "text/plain": [
       "Epoch 509:   0%|          | 0/48 [00:00<?, ?it/s]"
      ]
     },
     "metadata": {},
     "output_type": "display_data"
    },
    {
     "name": "stdout",
     "output_type": "stream",
     "text": [
      "Epoch 509/1000: Train Loss = 0.5215\n"
     ]
    },
    {
     "data": {
      "application/vnd.jupyter.widget-view+json": {
       "model_id": "6fb16d279a0644d6b9949dedb22f2110",
       "version_major": 2,
       "version_minor": 0
      },
      "text/plain": [
       "Epoch 510:   0%|          | 0/48 [00:00<?, ?it/s]"
      ]
     },
     "metadata": {},
     "output_type": "display_data"
    },
    {
     "name": "stdout",
     "output_type": "stream",
     "text": [
      "Epoch 510/1000: Train Loss = 0.5203\n"
     ]
    },
    {
     "data": {
      "application/vnd.jupyter.widget-view+json": {
       "model_id": "cac0f510d61042cabae857d03507d3f6",
       "version_major": 2,
       "version_minor": 0
      },
      "text/plain": [
       "Epoch 511:   0%|          | 0/48 [00:00<?, ?it/s]"
      ]
     },
     "metadata": {},
     "output_type": "display_data"
    },
    {
     "name": "stdout",
     "output_type": "stream",
     "text": [
      "Epoch 511/1000: Train Loss = 0.5189\n"
     ]
    },
    {
     "data": {
      "application/vnd.jupyter.widget-view+json": {
       "model_id": "6d61b7b57fe5444cbce5fbcf30b432af",
       "version_major": 2,
       "version_minor": 0
      },
      "text/plain": [
       "Epoch 512:   0%|          | 0/48 [00:00<?, ?it/s]"
      ]
     },
     "metadata": {},
     "output_type": "display_data"
    },
    {
     "name": "stdout",
     "output_type": "stream",
     "text": [
      "Epoch 512/1000: Train Loss = 0.5197\n"
     ]
    },
    {
     "data": {
      "application/vnd.jupyter.widget-view+json": {
       "model_id": "8c5652563631468881bd6d45b07fa0ef",
       "version_major": 2,
       "version_minor": 0
      },
      "text/plain": [
       "Epoch 513:   0%|          | 0/48 [00:00<?, ?it/s]"
      ]
     },
     "metadata": {},
     "output_type": "display_data"
    },
    {
     "name": "stdout",
     "output_type": "stream",
     "text": [
      "Epoch 513/1000: Train Loss = 0.5274\n"
     ]
    },
    {
     "data": {
      "application/vnd.jupyter.widget-view+json": {
       "model_id": "fe2c4c8d5eea41dda22cbf283bf849b4",
       "version_major": 2,
       "version_minor": 0
      },
      "text/plain": [
       "Epoch 514:   0%|          | 0/48 [00:00<?, ?it/s]"
      ]
     },
     "metadata": {},
     "output_type": "display_data"
    },
    {
     "name": "stdout",
     "output_type": "stream",
     "text": [
      "Epoch 514/1000: Train Loss = 0.5234\n"
     ]
    },
    {
     "data": {
      "application/vnd.jupyter.widget-view+json": {
       "model_id": "4a23c795220148a1a8f2c9ccaa12eb7f",
       "version_major": 2,
       "version_minor": 0
      },
      "text/plain": [
       "Epoch 515:   0%|          | 0/48 [00:00<?, ?it/s]"
      ]
     },
     "metadata": {},
     "output_type": "display_data"
    },
    {
     "name": "stdout",
     "output_type": "stream",
     "text": [
      "Epoch 515/1000: Train Loss = 0.5163\n"
     ]
    },
    {
     "data": {
      "application/vnd.jupyter.widget-view+json": {
       "model_id": "10b6102fafee4f26a5252708a1bfa60e",
       "version_major": 2,
       "version_minor": 0
      },
      "text/plain": [
       "Epoch 516:   0%|          | 0/48 [00:00<?, ?it/s]"
      ]
     },
     "metadata": {},
     "output_type": "display_data"
    },
    {
     "name": "stdout",
     "output_type": "stream",
     "text": [
      "Epoch 516/1000: Train Loss = 0.5205\n"
     ]
    },
    {
     "data": {
      "application/vnd.jupyter.widget-view+json": {
       "model_id": "29375f007f9540ccab26b32060f2be58",
       "version_major": 2,
       "version_minor": 0
      },
      "text/plain": [
       "Epoch 517:   0%|          | 0/48 [00:00<?, ?it/s]"
      ]
     },
     "metadata": {},
     "output_type": "display_data"
    },
    {
     "name": "stdout",
     "output_type": "stream",
     "text": [
      "Epoch 517/1000: Train Loss = 0.5216\n"
     ]
    },
    {
     "data": {
      "application/vnd.jupyter.widget-view+json": {
       "model_id": "4c375745e45449f890b5ee046bb0f3e8",
       "version_major": 2,
       "version_minor": 0
      },
      "text/plain": [
       "Epoch 518:   0%|          | 0/48 [00:00<?, ?it/s]"
      ]
     },
     "metadata": {},
     "output_type": "display_data"
    },
    {
     "name": "stdout",
     "output_type": "stream",
     "text": [
      "Epoch 518/1000: Train Loss = 0.5220\n"
     ]
    },
    {
     "data": {
      "application/vnd.jupyter.widget-view+json": {
       "model_id": "60ae7f5e1c6e49b7b32a225f5bafb630",
       "version_major": 2,
       "version_minor": 0
      },
      "text/plain": [
       "Epoch 519:   0%|          | 0/48 [00:00<?, ?it/s]"
      ]
     },
     "metadata": {},
     "output_type": "display_data"
    },
    {
     "name": "stdout",
     "output_type": "stream",
     "text": [
      "Epoch 519/1000: Train Loss = 0.5208\n"
     ]
    },
    {
     "data": {
      "application/vnd.jupyter.widget-view+json": {
       "model_id": "d972a5f2a87f42d384c1f83d0d913ab9",
       "version_major": 2,
       "version_minor": 0
      },
      "text/plain": [
       "Epoch 520:   0%|          | 0/48 [00:00<?, ?it/s]"
      ]
     },
     "metadata": {},
     "output_type": "display_data"
    },
    {
     "name": "stdout",
     "output_type": "stream",
     "text": [
      "Epoch 520/1000: Train Loss = 0.5192\n"
     ]
    },
    {
     "data": {
      "application/vnd.jupyter.widget-view+json": {
       "model_id": "ebd379394b514407b831a255b5dd2b9a",
       "version_major": 2,
       "version_minor": 0
      },
      "text/plain": [
       "Epoch 521:   0%|          | 0/48 [00:00<?, ?it/s]"
      ]
     },
     "metadata": {},
     "output_type": "display_data"
    },
    {
     "name": "stdout",
     "output_type": "stream",
     "text": [
      "Epoch 521/1000: Train Loss = 0.5200\n"
     ]
    },
    {
     "data": {
      "application/vnd.jupyter.widget-view+json": {
       "model_id": "a34d8d1451fa40828aa99e726d30ce62",
       "version_major": 2,
       "version_minor": 0
      },
      "text/plain": [
       "Epoch 522:   0%|          | 0/48 [00:00<?, ?it/s]"
      ]
     },
     "metadata": {},
     "output_type": "display_data"
    },
    {
     "name": "stdout",
     "output_type": "stream",
     "text": [
      "Epoch 522/1000: Train Loss = 0.5305\n"
     ]
    },
    {
     "data": {
      "application/vnd.jupyter.widget-view+json": {
       "model_id": "81c5f8415c79437a8da9e85aad9e4fc4",
       "version_major": 2,
       "version_minor": 0
      },
      "text/plain": [
       "Epoch 523:   0%|          | 0/48 [00:00<?, ?it/s]"
      ]
     },
     "metadata": {},
     "output_type": "display_data"
    },
    {
     "name": "stdout",
     "output_type": "stream",
     "text": [
      "Epoch 523/1000: Train Loss = 0.5206\n"
     ]
    },
    {
     "data": {
      "application/vnd.jupyter.widget-view+json": {
       "model_id": "b08cca4ec92747c3934282c5f3cdbabe",
       "version_major": 2,
       "version_minor": 0
      },
      "text/plain": [
       "Epoch 524:   0%|          | 0/48 [00:00<?, ?it/s]"
      ]
     },
     "metadata": {},
     "output_type": "display_data"
    },
    {
     "name": "stdout",
     "output_type": "stream",
     "text": [
      "Epoch 524/1000: Train Loss = 0.5298\n"
     ]
    },
    {
     "data": {
      "application/vnd.jupyter.widget-view+json": {
       "model_id": "bd1c8e68b5a240af8aa607b53a22bda9",
       "version_major": 2,
       "version_minor": 0
      },
      "text/plain": [
       "Epoch 525:   0%|          | 0/48 [00:00<?, ?it/s]"
      ]
     },
     "metadata": {},
     "output_type": "display_data"
    },
    {
     "name": "stdout",
     "output_type": "stream",
     "text": [
      "Epoch 525/1000: Train Loss = 0.5199\n"
     ]
    },
    {
     "data": {
      "application/vnd.jupyter.widget-view+json": {
       "model_id": "b637f29ed9ac4cb5847f2a8c3990555f",
       "version_major": 2,
       "version_minor": 0
      },
      "text/plain": [
       "Epoch 526:   0%|          | 0/48 [00:00<?, ?it/s]"
      ]
     },
     "metadata": {},
     "output_type": "display_data"
    },
    {
     "name": "stdout",
     "output_type": "stream",
     "text": [
      "Epoch 526/1000: Train Loss = 0.5174\n"
     ]
    },
    {
     "data": {
      "application/vnd.jupyter.widget-view+json": {
       "model_id": "e71cbb9a7a8c4353ba939da32fbae19f",
       "version_major": 2,
       "version_minor": 0
      },
      "text/plain": [
       "Epoch 527:   0%|          | 0/48 [00:00<?, ?it/s]"
      ]
     },
     "metadata": {},
     "output_type": "display_data"
    },
    {
     "name": "stdout",
     "output_type": "stream",
     "text": [
      "Epoch 527/1000: Train Loss = 0.5193\n"
     ]
    },
    {
     "data": {
      "application/vnd.jupyter.widget-view+json": {
       "model_id": "a8c3d9854aa54fe289bbb958b35bcdc1",
       "version_major": 2,
       "version_minor": 0
      },
      "text/plain": [
       "Epoch 528:   0%|          | 0/48 [00:00<?, ?it/s]"
      ]
     },
     "metadata": {},
     "output_type": "display_data"
    },
    {
     "name": "stdout",
     "output_type": "stream",
     "text": [
      "Epoch 528/1000: Train Loss = 0.5205\n"
     ]
    },
    {
     "data": {
      "application/vnd.jupyter.widget-view+json": {
       "model_id": "efd5de9cc18a4f55a677b184e1d8469c",
       "version_major": 2,
       "version_minor": 0
      },
      "text/plain": [
       "Epoch 529:   0%|          | 0/48 [00:00<?, ?it/s]"
      ]
     },
     "metadata": {},
     "output_type": "display_data"
    },
    {
     "name": "stdout",
     "output_type": "stream",
     "text": [
      "Epoch 529/1000: Train Loss = 0.5285\n"
     ]
    },
    {
     "data": {
      "application/vnd.jupyter.widget-view+json": {
       "model_id": "8f99a8051a474f62876c75bacb61aa67",
       "version_major": 2,
       "version_minor": 0
      },
      "text/plain": [
       "Epoch 530:   0%|          | 0/48 [00:00<?, ?it/s]"
      ]
     },
     "metadata": {},
     "output_type": "display_data"
    },
    {
     "name": "stdout",
     "output_type": "stream",
     "text": [
      "Epoch 530/1000: Train Loss = 0.5161\n"
     ]
    },
    {
     "data": {
      "application/vnd.jupyter.widget-view+json": {
       "model_id": "e283151e3bb84b53a4f3fcc1368fe636",
       "version_major": 2,
       "version_minor": 0
      },
      "text/plain": [
       "Epoch 531:   0%|          | 0/48 [00:00<?, ?it/s]"
      ]
     },
     "metadata": {},
     "output_type": "display_data"
    },
    {
     "name": "stdout",
     "output_type": "stream",
     "text": [
      "Epoch 531/1000: Train Loss = 0.5267\n"
     ]
    },
    {
     "data": {
      "application/vnd.jupyter.widget-view+json": {
       "model_id": "032d4af0ef9545b885e2efd5b44ab472",
       "version_major": 2,
       "version_minor": 0
      },
      "text/plain": [
       "Epoch 532:   0%|          | 0/48 [00:00<?, ?it/s]"
      ]
     },
     "metadata": {},
     "output_type": "display_data"
    },
    {
     "name": "stdout",
     "output_type": "stream",
     "text": [
      "Epoch 532/1000: Train Loss = 0.5204\n"
     ]
    },
    {
     "data": {
      "application/vnd.jupyter.widget-view+json": {
       "model_id": "8be8e1b98a0a411b9e6d078dc2431f54",
       "version_major": 2,
       "version_minor": 0
      },
      "text/plain": [
       "Epoch 533:   0%|          | 0/48 [00:00<?, ?it/s]"
      ]
     },
     "metadata": {},
     "output_type": "display_data"
    },
    {
     "name": "stdout",
     "output_type": "stream",
     "text": [
      "Epoch 533/1000: Train Loss = 0.5198\n"
     ]
    },
    {
     "data": {
      "application/vnd.jupyter.widget-view+json": {
       "model_id": "8fcd4713da2f4b1fba1a0d3618079b14",
       "version_major": 2,
       "version_minor": 0
      },
      "text/plain": [
       "Epoch 534:   0%|          | 0/48 [00:00<?, ?it/s]"
      ]
     },
     "metadata": {},
     "output_type": "display_data"
    },
    {
     "name": "stdout",
     "output_type": "stream",
     "text": [
      "Epoch 534/1000: Train Loss = 0.5278\n"
     ]
    },
    {
     "data": {
      "application/vnd.jupyter.widget-view+json": {
       "model_id": "50f8d1ca6c5b4815a00811961077f24a",
       "version_major": 2,
       "version_minor": 0
      },
      "text/plain": [
       "Epoch 535:   0%|          | 0/48 [00:00<?, ?it/s]"
      ]
     },
     "metadata": {},
     "output_type": "display_data"
    },
    {
     "name": "stdout",
     "output_type": "stream",
     "text": [
      "Epoch 535/1000: Train Loss = 0.5206\n"
     ]
    },
    {
     "data": {
      "application/vnd.jupyter.widget-view+json": {
       "model_id": "54ea2630a2ac4504a6570b5040a6177f",
       "version_major": 2,
       "version_minor": 0
      },
      "text/plain": [
       "Epoch 536:   0%|          | 0/48 [00:00<?, ?it/s]"
      ]
     },
     "metadata": {},
     "output_type": "display_data"
    },
    {
     "name": "stdout",
     "output_type": "stream",
     "text": [
      "Epoch 536/1000: Train Loss = 0.5187\n"
     ]
    },
    {
     "data": {
      "application/vnd.jupyter.widget-view+json": {
       "model_id": "32d16f0bfaab41a79ddf2998f69660f5",
       "version_major": 2,
       "version_minor": 0
      },
      "text/plain": [
       "Epoch 537:   0%|          | 0/48 [00:00<?, ?it/s]"
      ]
     },
     "metadata": {},
     "output_type": "display_data"
    },
    {
     "name": "stdout",
     "output_type": "stream",
     "text": [
      "Epoch 537/1000: Train Loss = 0.5200\n"
     ]
    },
    {
     "data": {
      "application/vnd.jupyter.widget-view+json": {
       "model_id": "0f7cb12b788e4d78b7d5b90faa460671",
       "version_major": 2,
       "version_minor": 0
      },
      "text/plain": [
       "Epoch 538:   0%|          | 0/48 [00:00<?, ?it/s]"
      ]
     },
     "metadata": {},
     "output_type": "display_data"
    },
    {
     "name": "stdout",
     "output_type": "stream",
     "text": [
      "Epoch 538/1000: Train Loss = 0.5176\n"
     ]
    },
    {
     "data": {
      "application/vnd.jupyter.widget-view+json": {
       "model_id": "dfa9ae18cb464c0d9c558e47041051bb",
       "version_major": 2,
       "version_minor": 0
      },
      "text/plain": [
       "Epoch 539:   0%|          | 0/48 [00:00<?, ?it/s]"
      ]
     },
     "metadata": {},
     "output_type": "display_data"
    },
    {
     "name": "stdout",
     "output_type": "stream",
     "text": [
      "Epoch 539/1000: Train Loss = 0.5208\n"
     ]
    },
    {
     "data": {
      "application/vnd.jupyter.widget-view+json": {
       "model_id": "3187de3ee81946f1a7f03c777b61aeae",
       "version_major": 2,
       "version_minor": 0
      },
      "text/plain": [
       "Epoch 540:   0%|          | 0/48 [00:00<?, ?it/s]"
      ]
     },
     "metadata": {},
     "output_type": "display_data"
    },
    {
     "name": "stdout",
     "output_type": "stream",
     "text": [
      "Epoch 540/1000: Train Loss = 0.5205\n"
     ]
    },
    {
     "data": {
      "application/vnd.jupyter.widget-view+json": {
       "model_id": "9c9bab2e7f844469952f8caee9c84959",
       "version_major": 2,
       "version_minor": 0
      },
      "text/plain": [
       "Epoch 541:   0%|          | 0/48 [00:00<?, ?it/s]"
      ]
     },
     "metadata": {},
     "output_type": "display_data"
    },
    {
     "name": "stdout",
     "output_type": "stream",
     "text": [
      "Epoch 541/1000: Train Loss = 0.5202\n"
     ]
    },
    {
     "data": {
      "application/vnd.jupyter.widget-view+json": {
       "model_id": "b6e512c5378a4630ae247dfae393856b",
       "version_major": 2,
       "version_minor": 0
      },
      "text/plain": [
       "Epoch 542:   0%|          | 0/48 [00:00<?, ?it/s]"
      ]
     },
     "metadata": {},
     "output_type": "display_data"
    },
    {
     "name": "stdout",
     "output_type": "stream",
     "text": [
      "Epoch 542/1000: Train Loss = 0.5199\n"
     ]
    },
    {
     "data": {
      "application/vnd.jupyter.widget-view+json": {
       "model_id": "e0f823a455fb45559c855db775b55ca8",
       "version_major": 2,
       "version_minor": 0
      },
      "text/plain": [
       "Epoch 543:   0%|          | 0/48 [00:00<?, ?it/s]"
      ]
     },
     "metadata": {},
     "output_type": "display_data"
    },
    {
     "name": "stdout",
     "output_type": "stream",
     "text": [
      "Epoch 543/1000: Train Loss = 0.5204\n"
     ]
    },
    {
     "data": {
      "application/vnd.jupyter.widget-view+json": {
       "model_id": "eafa59a31f6e4bc48ef9b9e90f48e55f",
       "version_major": 2,
       "version_minor": 0
      },
      "text/plain": [
       "Epoch 544:   0%|          | 0/48 [00:00<?, ?it/s]"
      ]
     },
     "metadata": {},
     "output_type": "display_data"
    },
    {
     "name": "stdout",
     "output_type": "stream",
     "text": [
      "Epoch 544/1000: Train Loss = 0.5223\n"
     ]
    },
    {
     "data": {
      "application/vnd.jupyter.widget-view+json": {
       "model_id": "b158be881d82453292410fa68fa2a902",
       "version_major": 2,
       "version_minor": 0
      },
      "text/plain": [
       "Epoch 545:   0%|          | 0/48 [00:00<?, ?it/s]"
      ]
     },
     "metadata": {},
     "output_type": "display_data"
    },
    {
     "name": "stdout",
     "output_type": "stream",
     "text": [
      "Epoch 545/1000: Train Loss = 0.5193\n"
     ]
    },
    {
     "data": {
      "application/vnd.jupyter.widget-view+json": {
       "model_id": "356409ca0d76429f851539258c0aec6c",
       "version_major": 2,
       "version_minor": 0
      },
      "text/plain": [
       "Epoch 546:   0%|          | 0/48 [00:00<?, ?it/s]"
      ]
     },
     "metadata": {},
     "output_type": "display_data"
    },
    {
     "name": "stdout",
     "output_type": "stream",
     "text": [
      "Epoch 546/1000: Train Loss = 0.5260\n"
     ]
    },
    {
     "data": {
      "application/vnd.jupyter.widget-view+json": {
       "model_id": "1b53b0bef5464fe5b5bad5447791e04d",
       "version_major": 2,
       "version_minor": 0
      },
      "text/plain": [
       "Epoch 547:   0%|          | 0/48 [00:00<?, ?it/s]"
      ]
     },
     "metadata": {},
     "output_type": "display_data"
    },
    {
     "name": "stdout",
     "output_type": "stream",
     "text": [
      "Epoch 547/1000: Train Loss = 0.5172\n"
     ]
    },
    {
     "data": {
      "application/vnd.jupyter.widget-view+json": {
       "model_id": "dd668dd198b7410eb926c2245b9ab302",
       "version_major": 2,
       "version_minor": 0
      },
      "text/plain": [
       "Epoch 548:   0%|          | 0/48 [00:00<?, ?it/s]"
      ]
     },
     "metadata": {},
     "output_type": "display_data"
    },
    {
     "name": "stdout",
     "output_type": "stream",
     "text": [
      "Epoch 548/1000: Train Loss = 0.5235\n"
     ]
    },
    {
     "data": {
      "application/vnd.jupyter.widget-view+json": {
       "model_id": "78b6da22749744779fba9750a20b7bec",
       "version_major": 2,
       "version_minor": 0
      },
      "text/plain": [
       "Epoch 549:   0%|          | 0/48 [00:00<?, ?it/s]"
      ]
     },
     "metadata": {},
     "output_type": "display_data"
    },
    {
     "name": "stdout",
     "output_type": "stream",
     "text": [
      "Epoch 549/1000: Train Loss = 0.5187\n"
     ]
    },
    {
     "data": {
      "application/vnd.jupyter.widget-view+json": {
       "model_id": "20016719f0d04d3384ce0eeccf6c02c8",
       "version_major": 2,
       "version_minor": 0
      },
      "text/plain": [
       "Epoch 550:   0%|          | 0/48 [00:00<?, ?it/s]"
      ]
     },
     "metadata": {},
     "output_type": "display_data"
    },
    {
     "name": "stdout",
     "output_type": "stream",
     "text": [
      "\n",
      "Binary LSTM (Epoch 550) Evaluation Results:\n",
      "  Average Loss: 0.5675\n",
      "  AUC (Area Under Curve): 0.5122\n",
      "  β₀ (exact match): 0.0000 (0.00%)\n",
      "  β₁ (≤1 bit error): 0.3958 (39.58%)\n",
      "  β₂ (≤2 bit error): 0.6458 (64.58%)\n",
      "  β₃ (≤3 bit error): 0.7917 (79.17%)\n",
      "  β₄ (≤4 bit error): 0.8542 (85.42%)\n"
     ]
    },
    {
     "data": {
      "application/vnd.jupyter.widget-view+json": {
       "model_id": "98d83022cc48425abe2c05377a34e0d9",
       "version_major": 2,
       "version_minor": 0
      },
      "text/plain": [
       "Epoch 551:   0%|          | 0/48 [00:00<?, ?it/s]"
      ]
     },
     "metadata": {},
     "output_type": "display_data"
    },
    {
     "name": "stdout",
     "output_type": "stream",
     "text": [
      "Epoch 551/1000: Train Loss = 0.5195\n"
     ]
    },
    {
     "data": {
      "application/vnd.jupyter.widget-view+json": {
       "model_id": "a404280fd41149dfb95df83a50b968b6",
       "version_major": 2,
       "version_minor": 0
      },
      "text/plain": [
       "Epoch 552:   0%|          | 0/48 [00:00<?, ?it/s]"
      ]
     },
     "metadata": {},
     "output_type": "display_data"
    },
    {
     "name": "stdout",
     "output_type": "stream",
     "text": [
      "Epoch 552/1000: Train Loss = 0.5265\n"
     ]
    },
    {
     "data": {
      "application/vnd.jupyter.widget-view+json": {
       "model_id": "a0cdb694849441d992c9b5bb00cda1ad",
       "version_major": 2,
       "version_minor": 0
      },
      "text/plain": [
       "Epoch 553:   0%|          | 0/48 [00:00<?, ?it/s]"
      ]
     },
     "metadata": {},
     "output_type": "display_data"
    },
    {
     "name": "stdout",
     "output_type": "stream",
     "text": [
      "Epoch 553/1000: Train Loss = 0.5214\n"
     ]
    },
    {
     "data": {
      "application/vnd.jupyter.widget-view+json": {
       "model_id": "cc6cfe536c344239817893fcaa4f36b9",
       "version_major": 2,
       "version_minor": 0
      },
      "text/plain": [
       "Epoch 554:   0%|          | 0/48 [00:00<?, ?it/s]"
      ]
     },
     "metadata": {},
     "output_type": "display_data"
    },
    {
     "name": "stdout",
     "output_type": "stream",
     "text": [
      "Epoch 554/1000: Train Loss = 0.5185\n"
     ]
    },
    {
     "data": {
      "application/vnd.jupyter.widget-view+json": {
       "model_id": "0f7ee0e58b694defa225b937a3fc706c",
       "version_major": 2,
       "version_minor": 0
      },
      "text/plain": [
       "Epoch 555:   0%|          | 0/48 [00:00<?, ?it/s]"
      ]
     },
     "metadata": {},
     "output_type": "display_data"
    },
    {
     "name": "stdout",
     "output_type": "stream",
     "text": [
      "Epoch 555/1000: Train Loss = 0.5182\n"
     ]
    },
    {
     "data": {
      "application/vnd.jupyter.widget-view+json": {
       "model_id": "1cb33d13562d47d7b380601299a2dd0e",
       "version_major": 2,
       "version_minor": 0
      },
      "text/plain": [
       "Epoch 556:   0%|          | 0/48 [00:00<?, ?it/s]"
      ]
     },
     "metadata": {},
     "output_type": "display_data"
    },
    {
     "name": "stdout",
     "output_type": "stream",
     "text": [
      "Epoch 556/1000: Train Loss = 0.5277\n"
     ]
    },
    {
     "data": {
      "application/vnd.jupyter.widget-view+json": {
       "model_id": "edde9e505101452098b6e4add43b57a0",
       "version_major": 2,
       "version_minor": 0
      },
      "text/plain": [
       "Epoch 557:   0%|          | 0/48 [00:00<?, ?it/s]"
      ]
     },
     "metadata": {},
     "output_type": "display_data"
    },
    {
     "name": "stdout",
     "output_type": "stream",
     "text": [
      "Epoch 557/1000: Train Loss = 0.5169\n"
     ]
    },
    {
     "data": {
      "application/vnd.jupyter.widget-view+json": {
       "model_id": "ea2548a51eab48b8b822c33d19b6726f",
       "version_major": 2,
       "version_minor": 0
      },
      "text/plain": [
       "Epoch 558:   0%|          | 0/48 [00:00<?, ?it/s]"
      ]
     },
     "metadata": {},
     "output_type": "display_data"
    },
    {
     "name": "stdout",
     "output_type": "stream",
     "text": [
      "Epoch 558/1000: Train Loss = 0.5229\n"
     ]
    },
    {
     "data": {
      "application/vnd.jupyter.widget-view+json": {
       "model_id": "e7c00058f72840a781c8bb9323115635",
       "version_major": 2,
       "version_minor": 0
      },
      "text/plain": [
       "Epoch 559:   0%|          | 0/48 [00:00<?, ?it/s]"
      ]
     },
     "metadata": {},
     "output_type": "display_data"
    },
    {
     "name": "stdout",
     "output_type": "stream",
     "text": [
      "Epoch 559/1000: Train Loss = 0.5206\n"
     ]
    },
    {
     "data": {
      "application/vnd.jupyter.widget-view+json": {
       "model_id": "653d55b1df4e48568acf5de498f26ec6",
       "version_major": 2,
       "version_minor": 0
      },
      "text/plain": [
       "Epoch 560:   0%|          | 0/48 [00:00<?, ?it/s]"
      ]
     },
     "metadata": {},
     "output_type": "display_data"
    },
    {
     "name": "stdout",
     "output_type": "stream",
     "text": [
      "Epoch 560/1000: Train Loss = 0.5204\n"
     ]
    },
    {
     "data": {
      "application/vnd.jupyter.widget-view+json": {
       "model_id": "038c634bd4ac448092dd21eb4cd20eda",
       "version_major": 2,
       "version_minor": 0
      },
      "text/plain": [
       "Epoch 561:   0%|          | 0/48 [00:00<?, ?it/s]"
      ]
     },
     "metadata": {},
     "output_type": "display_data"
    },
    {
     "name": "stdout",
     "output_type": "stream",
     "text": [
      "Epoch 561/1000: Train Loss = 0.5269\n"
     ]
    },
    {
     "data": {
      "application/vnd.jupyter.widget-view+json": {
       "model_id": "492ce45a4c5a48f784b3b6dcbe5b7ae4",
       "version_major": 2,
       "version_minor": 0
      },
      "text/plain": [
       "Epoch 562:   0%|          | 0/48 [00:00<?, ?it/s]"
      ]
     },
     "metadata": {},
     "output_type": "display_data"
    },
    {
     "name": "stdout",
     "output_type": "stream",
     "text": [
      "Epoch 562/1000: Train Loss = 0.5210\n"
     ]
    },
    {
     "data": {
      "application/vnd.jupyter.widget-view+json": {
       "model_id": "ace6329c594c4fa4a2fe5d6ce0409e82",
       "version_major": 2,
       "version_minor": 0
      },
      "text/plain": [
       "Epoch 563:   0%|          | 0/48 [00:00<?, ?it/s]"
      ]
     },
     "metadata": {},
     "output_type": "display_data"
    },
    {
     "name": "stdout",
     "output_type": "stream",
     "text": [
      "Epoch 563/1000: Train Loss = 0.5181\n"
     ]
    },
    {
     "data": {
      "application/vnd.jupyter.widget-view+json": {
       "model_id": "fd85eec7d18a43a1881b03371f8cc477",
       "version_major": 2,
       "version_minor": 0
      },
      "text/plain": [
       "Epoch 564:   0%|          | 0/48 [00:00<?, ?it/s]"
      ]
     },
     "metadata": {},
     "output_type": "display_data"
    },
    {
     "name": "stdout",
     "output_type": "stream",
     "text": [
      "Epoch 564/1000: Train Loss = 0.5182\n"
     ]
    },
    {
     "data": {
      "application/vnd.jupyter.widget-view+json": {
       "model_id": "4362346da769459481a53c4e3e5afc53",
       "version_major": 2,
       "version_minor": 0
      },
      "text/plain": [
       "Epoch 565:   0%|          | 0/48 [00:00<?, ?it/s]"
      ]
     },
     "metadata": {},
     "output_type": "display_data"
    },
    {
     "name": "stdout",
     "output_type": "stream",
     "text": [
      "Epoch 565/1000: Train Loss = 0.5195\n"
     ]
    },
    {
     "data": {
      "application/vnd.jupyter.widget-view+json": {
       "model_id": "d7b1c6b3c1cd46719e9b0373f898143a",
       "version_major": 2,
       "version_minor": 0
      },
      "text/plain": [
       "Epoch 566:   0%|          | 0/48 [00:00<?, ?it/s]"
      ]
     },
     "metadata": {},
     "output_type": "display_data"
    },
    {
     "name": "stdout",
     "output_type": "stream",
     "text": [
      "Epoch 566/1000: Train Loss = 0.5215\n"
     ]
    },
    {
     "data": {
      "application/vnd.jupyter.widget-view+json": {
       "model_id": "5e4d23e63a264c1093e750cee871135b",
       "version_major": 2,
       "version_minor": 0
      },
      "text/plain": [
       "Epoch 567:   0%|          | 0/48 [00:00<?, ?it/s]"
      ]
     },
     "metadata": {},
     "output_type": "display_data"
    },
    {
     "name": "stdout",
     "output_type": "stream",
     "text": [
      "Epoch 567/1000: Train Loss = 0.5294\n"
     ]
    },
    {
     "data": {
      "application/vnd.jupyter.widget-view+json": {
       "model_id": "1841455d7d1443c6bd936c30e0bc047b",
       "version_major": 2,
       "version_minor": 0
      },
      "text/plain": [
       "Epoch 568:   0%|          | 0/48 [00:00<?, ?it/s]"
      ]
     },
     "metadata": {},
     "output_type": "display_data"
    },
    {
     "name": "stdout",
     "output_type": "stream",
     "text": [
      "Epoch 568/1000: Train Loss = 0.5184\n"
     ]
    },
    {
     "data": {
      "application/vnd.jupyter.widget-view+json": {
       "model_id": "dbf00097caab4e458c166e8f785d38eb",
       "version_major": 2,
       "version_minor": 0
      },
      "text/plain": [
       "Epoch 569:   0%|          | 0/48 [00:00<?, ?it/s]"
      ]
     },
     "metadata": {},
     "output_type": "display_data"
    },
    {
     "name": "stdout",
     "output_type": "stream",
     "text": [
      "Epoch 569/1000: Train Loss = 0.5211\n"
     ]
    },
    {
     "data": {
      "application/vnd.jupyter.widget-view+json": {
       "model_id": "a73721b126a046d0b28abbaf80769309",
       "version_major": 2,
       "version_minor": 0
      },
      "text/plain": [
       "Epoch 570:   0%|          | 0/48 [00:00<?, ?it/s]"
      ]
     },
     "metadata": {},
     "output_type": "display_data"
    },
    {
     "name": "stdout",
     "output_type": "stream",
     "text": [
      "Epoch 570/1000: Train Loss = 0.5204\n"
     ]
    },
    {
     "data": {
      "application/vnd.jupyter.widget-view+json": {
       "model_id": "18b0d19150be4fab9205bafb06d90447",
       "version_major": 2,
       "version_minor": 0
      },
      "text/plain": [
       "Epoch 571:   0%|          | 0/48 [00:00<?, ?it/s]"
      ]
     },
     "metadata": {},
     "output_type": "display_data"
    },
    {
     "name": "stdout",
     "output_type": "stream",
     "text": [
      "Epoch 571/1000: Train Loss = 0.5278\n"
     ]
    },
    {
     "data": {
      "application/vnd.jupyter.widget-view+json": {
       "model_id": "430c448f85aa465d836d10515cd9fb4d",
       "version_major": 2,
       "version_minor": 0
      },
      "text/plain": [
       "Epoch 572:   0%|          | 0/48 [00:00<?, ?it/s]"
      ]
     },
     "metadata": {},
     "output_type": "display_data"
    },
    {
     "name": "stdout",
     "output_type": "stream",
     "text": [
      "Epoch 572/1000: Train Loss = 0.5208\n"
     ]
    },
    {
     "data": {
      "application/vnd.jupyter.widget-view+json": {
       "model_id": "02b49ef16fa5462eb916336508098f66",
       "version_major": 2,
       "version_minor": 0
      },
      "text/plain": [
       "Epoch 573:   0%|          | 0/48 [00:00<?, ?it/s]"
      ]
     },
     "metadata": {},
     "output_type": "display_data"
    },
    {
     "name": "stdout",
     "output_type": "stream",
     "text": [
      "Epoch 573/1000: Train Loss = 0.5193\n"
     ]
    },
    {
     "data": {
      "application/vnd.jupyter.widget-view+json": {
       "model_id": "7eb01f40b74e4751a9a9d4a65a90abb0",
       "version_major": 2,
       "version_minor": 0
      },
      "text/plain": [
       "Epoch 574:   0%|          | 0/48 [00:00<?, ?it/s]"
      ]
     },
     "metadata": {},
     "output_type": "display_data"
    },
    {
     "name": "stdout",
     "output_type": "stream",
     "text": [
      "Epoch 574/1000: Train Loss = 0.5248\n"
     ]
    },
    {
     "data": {
      "application/vnd.jupyter.widget-view+json": {
       "model_id": "6a2cc4133dae402ca45bf8862ad82e1b",
       "version_major": 2,
       "version_minor": 0
      },
      "text/plain": [
       "Epoch 575:   0%|          | 0/48 [00:00<?, ?it/s]"
      ]
     },
     "metadata": {},
     "output_type": "display_data"
    },
    {
     "name": "stdout",
     "output_type": "stream",
     "text": [
      "Epoch 575/1000: Train Loss = 0.5192\n"
     ]
    },
    {
     "data": {
      "application/vnd.jupyter.widget-view+json": {
       "model_id": "2477daf334ef4098af7b135214d67358",
       "version_major": 2,
       "version_minor": 0
      },
      "text/plain": [
       "Epoch 576:   0%|          | 0/48 [00:00<?, ?it/s]"
      ]
     },
     "metadata": {},
     "output_type": "display_data"
    },
    {
     "name": "stdout",
     "output_type": "stream",
     "text": [
      "Epoch 576/1000: Train Loss = 0.5197\n"
     ]
    },
    {
     "data": {
      "application/vnd.jupyter.widget-view+json": {
       "model_id": "1eb9900faa584ac6ae365db259dd3931",
       "version_major": 2,
       "version_minor": 0
      },
      "text/plain": [
       "Epoch 577:   0%|          | 0/48 [00:00<?, ?it/s]"
      ]
     },
     "metadata": {},
     "output_type": "display_data"
    },
    {
     "name": "stdout",
     "output_type": "stream",
     "text": [
      "Epoch 577/1000: Train Loss = 0.5211\n"
     ]
    },
    {
     "data": {
      "application/vnd.jupyter.widget-view+json": {
       "model_id": "dba405fd353b4158a685e5b8cf0c6118",
       "version_major": 2,
       "version_minor": 0
      },
      "text/plain": [
       "Epoch 578:   0%|          | 0/48 [00:00<?, ?it/s]"
      ]
     },
     "metadata": {},
     "output_type": "display_data"
    },
    {
     "name": "stdout",
     "output_type": "stream",
     "text": [
      "Epoch 578/1000: Train Loss = 0.5190\n"
     ]
    },
    {
     "data": {
      "application/vnd.jupyter.widget-view+json": {
       "model_id": "61395fbd7f1346809377011a3ee4767e",
       "version_major": 2,
       "version_minor": 0
      },
      "text/plain": [
       "Epoch 579:   0%|          | 0/48 [00:00<?, ?it/s]"
      ]
     },
     "metadata": {},
     "output_type": "display_data"
    },
    {
     "name": "stdout",
     "output_type": "stream",
     "text": [
      "Epoch 579/1000: Train Loss = 0.5221\n"
     ]
    },
    {
     "data": {
      "application/vnd.jupyter.widget-view+json": {
       "model_id": "a01634c6ed7445359580a6ab3f0fd59e",
       "version_major": 2,
       "version_minor": 0
      },
      "text/plain": [
       "Epoch 580:   0%|          | 0/48 [00:00<?, ?it/s]"
      ]
     },
     "metadata": {},
     "output_type": "display_data"
    },
    {
     "name": "stdout",
     "output_type": "stream",
     "text": [
      "Epoch 580/1000: Train Loss = 0.5183\n"
     ]
    },
    {
     "data": {
      "application/vnd.jupyter.widget-view+json": {
       "model_id": "ba4779c281404bb8869f87a5004e492d",
       "version_major": 2,
       "version_minor": 0
      },
      "text/plain": [
       "Epoch 581:   0%|          | 0/48 [00:00<?, ?it/s]"
      ]
     },
     "metadata": {},
     "output_type": "display_data"
    },
    {
     "name": "stdout",
     "output_type": "stream",
     "text": [
      "Epoch 581/1000: Train Loss = 0.5282\n"
     ]
    },
    {
     "data": {
      "application/vnd.jupyter.widget-view+json": {
       "model_id": "8b572bca6eff4998b294f85a4b422e27",
       "version_major": 2,
       "version_minor": 0
      },
      "text/plain": [
       "Epoch 582:   0%|          | 0/48 [00:00<?, ?it/s]"
      ]
     },
     "metadata": {},
     "output_type": "display_data"
    },
    {
     "name": "stdout",
     "output_type": "stream",
     "text": [
      "Epoch 582/1000: Train Loss = 0.5191\n"
     ]
    },
    {
     "data": {
      "application/vnd.jupyter.widget-view+json": {
       "model_id": "651b51552b9a4ed189474af0c01e62db",
       "version_major": 2,
       "version_minor": 0
      },
      "text/plain": [
       "Epoch 583:   0%|          | 0/48 [00:00<?, ?it/s]"
      ]
     },
     "metadata": {},
     "output_type": "display_data"
    },
    {
     "name": "stdout",
     "output_type": "stream",
     "text": [
      "Epoch 583/1000: Train Loss = 0.5213\n"
     ]
    },
    {
     "data": {
      "application/vnd.jupyter.widget-view+json": {
       "model_id": "fb478c08120b404eb4f86465fbc54279",
       "version_major": 2,
       "version_minor": 0
      },
      "text/plain": [
       "Epoch 584:   0%|          | 0/48 [00:00<?, ?it/s]"
      ]
     },
     "metadata": {},
     "output_type": "display_data"
    },
    {
     "name": "stdout",
     "output_type": "stream",
     "text": [
      "Epoch 584/1000: Train Loss = 0.5209\n"
     ]
    },
    {
     "data": {
      "application/vnd.jupyter.widget-view+json": {
       "model_id": "e4c65f57f663479fa406cc2d3a3dfb35",
       "version_major": 2,
       "version_minor": 0
      },
      "text/plain": [
       "Epoch 585:   0%|          | 0/48 [00:00<?, ?it/s]"
      ]
     },
     "metadata": {},
     "output_type": "display_data"
    },
    {
     "name": "stdout",
     "output_type": "stream",
     "text": [
      "Epoch 585/1000: Train Loss = 0.5221\n"
     ]
    },
    {
     "data": {
      "application/vnd.jupyter.widget-view+json": {
       "model_id": "5ee405e973e74997b54151f8e02cfb77",
       "version_major": 2,
       "version_minor": 0
      },
      "text/plain": [
       "Epoch 586:   0%|          | 0/48 [00:00<?, ?it/s]"
      ]
     },
     "metadata": {},
     "output_type": "display_data"
    },
    {
     "name": "stdout",
     "output_type": "stream",
     "text": [
      "Epoch 586/1000: Train Loss = 0.5184\n"
     ]
    },
    {
     "data": {
      "application/vnd.jupyter.widget-view+json": {
       "model_id": "a5bd59fab71a4e2fbf22826ba3694323",
       "version_major": 2,
       "version_minor": 0
      },
      "text/plain": [
       "Epoch 587:   0%|          | 0/48 [00:00<?, ?it/s]"
      ]
     },
     "metadata": {},
     "output_type": "display_data"
    },
    {
     "name": "stdout",
     "output_type": "stream",
     "text": [
      "Epoch 587/1000: Train Loss = 0.5176\n"
     ]
    },
    {
     "data": {
      "application/vnd.jupyter.widget-view+json": {
       "model_id": "96efa56246594917a2d1a1f2bdffba5e",
       "version_major": 2,
       "version_minor": 0
      },
      "text/plain": [
       "Epoch 588:   0%|          | 0/48 [00:00<?, ?it/s]"
      ]
     },
     "metadata": {},
     "output_type": "display_data"
    },
    {
     "name": "stdout",
     "output_type": "stream",
     "text": [
      "Epoch 588/1000: Train Loss = 0.5181\n"
     ]
    },
    {
     "data": {
      "application/vnd.jupyter.widget-view+json": {
       "model_id": "520649d5ec01419ca636f38ee156c326",
       "version_major": 2,
       "version_minor": 0
      },
      "text/plain": [
       "Epoch 589:   0%|          | 0/48 [00:00<?, ?it/s]"
      ]
     },
     "metadata": {},
     "output_type": "display_data"
    },
    {
     "name": "stdout",
     "output_type": "stream",
     "text": [
      "Epoch 589/1000: Train Loss = 0.5181\n"
     ]
    },
    {
     "data": {
      "application/vnd.jupyter.widget-view+json": {
       "model_id": "72c4ee5b00694c379f518958f37f632e",
       "version_major": 2,
       "version_minor": 0
      },
      "text/plain": [
       "Epoch 590:   0%|          | 0/48 [00:00<?, ?it/s]"
      ]
     },
     "metadata": {},
     "output_type": "display_data"
    },
    {
     "name": "stdout",
     "output_type": "stream",
     "text": [
      "Epoch 590/1000: Train Loss = 0.5177\n"
     ]
    },
    {
     "data": {
      "application/vnd.jupyter.widget-view+json": {
       "model_id": "b620d8bcf344470ea978c2d8ef0aac15",
       "version_major": 2,
       "version_minor": 0
      },
      "text/plain": [
       "Epoch 591:   0%|          | 0/48 [00:00<?, ?it/s]"
      ]
     },
     "metadata": {},
     "output_type": "display_data"
    },
    {
     "name": "stdout",
     "output_type": "stream",
     "text": [
      "Epoch 591/1000: Train Loss = 0.5212\n"
     ]
    },
    {
     "data": {
      "application/vnd.jupyter.widget-view+json": {
       "model_id": "a3c77f8ad25d4d4a95afe70655636a35",
       "version_major": 2,
       "version_minor": 0
      },
      "text/plain": [
       "Epoch 592:   0%|          | 0/48 [00:00<?, ?it/s]"
      ]
     },
     "metadata": {},
     "output_type": "display_data"
    },
    {
     "name": "stdout",
     "output_type": "stream",
     "text": [
      "Epoch 592/1000: Train Loss = 0.5181\n"
     ]
    },
    {
     "data": {
      "application/vnd.jupyter.widget-view+json": {
       "model_id": "f99754e2c553408aafd6e3c79df2abfa",
       "version_major": 2,
       "version_minor": 0
      },
      "text/plain": [
       "Epoch 593:   0%|          | 0/48 [00:00<?, ?it/s]"
      ]
     },
     "metadata": {},
     "output_type": "display_data"
    },
    {
     "name": "stdout",
     "output_type": "stream",
     "text": [
      "Epoch 593/1000: Train Loss = 0.5210\n"
     ]
    },
    {
     "data": {
      "application/vnd.jupyter.widget-view+json": {
       "model_id": "49b019e5fc2941c7817cbfa2acbdc4b8",
       "version_major": 2,
       "version_minor": 0
      },
      "text/plain": [
       "Epoch 594:   0%|          | 0/48 [00:00<?, ?it/s]"
      ]
     },
     "metadata": {},
     "output_type": "display_data"
    },
    {
     "name": "stdout",
     "output_type": "stream",
     "text": [
      "Epoch 594/1000: Train Loss = 0.5197\n"
     ]
    },
    {
     "data": {
      "application/vnd.jupyter.widget-view+json": {
       "model_id": "a3de725a51314797909efa8213b78e0d",
       "version_major": 2,
       "version_minor": 0
      },
      "text/plain": [
       "Epoch 595:   0%|          | 0/48 [00:00<?, ?it/s]"
      ]
     },
     "metadata": {},
     "output_type": "display_data"
    },
    {
     "name": "stdout",
     "output_type": "stream",
     "text": [
      "Epoch 595/1000: Train Loss = 0.5188\n"
     ]
    },
    {
     "data": {
      "application/vnd.jupyter.widget-view+json": {
       "model_id": "7c919d6dae1742ae918beda21c8925be",
       "version_major": 2,
       "version_minor": 0
      },
      "text/plain": [
       "Epoch 596:   0%|          | 0/48 [00:00<?, ?it/s]"
      ]
     },
     "metadata": {},
     "output_type": "display_data"
    },
    {
     "name": "stdout",
     "output_type": "stream",
     "text": [
      "Epoch 596/1000: Train Loss = 0.5181\n"
     ]
    },
    {
     "data": {
      "application/vnd.jupyter.widget-view+json": {
       "model_id": "09c587ccdb994e35994aecad79591c74",
       "version_major": 2,
       "version_minor": 0
      },
      "text/plain": [
       "Epoch 597:   0%|          | 0/48 [00:00<?, ?it/s]"
      ]
     },
     "metadata": {},
     "output_type": "display_data"
    },
    {
     "name": "stdout",
     "output_type": "stream",
     "text": [
      "Epoch 597/1000: Train Loss = 0.5242\n"
     ]
    },
    {
     "data": {
      "application/vnd.jupyter.widget-view+json": {
       "model_id": "fe9809be22424725b42fffb55f915fde",
       "version_major": 2,
       "version_minor": 0
      },
      "text/plain": [
       "Epoch 598:   0%|          | 0/48 [00:00<?, ?it/s]"
      ]
     },
     "metadata": {},
     "output_type": "display_data"
    },
    {
     "name": "stdout",
     "output_type": "stream",
     "text": [
      "Epoch 598/1000: Train Loss = 0.5224\n"
     ]
    },
    {
     "data": {
      "application/vnd.jupyter.widget-view+json": {
       "model_id": "18c963035b0542f88881a3ff717c48ba",
       "version_major": 2,
       "version_minor": 0
      },
      "text/plain": [
       "Epoch 599:   0%|          | 0/48 [00:00<?, ?it/s]"
      ]
     },
     "metadata": {},
     "output_type": "display_data"
    },
    {
     "name": "stdout",
     "output_type": "stream",
     "text": [
      "Epoch 599/1000: Train Loss = 0.5202\n"
     ]
    },
    {
     "data": {
      "application/vnd.jupyter.widget-view+json": {
       "model_id": "5d0bd6f23035459d99cfd436be223efe",
       "version_major": 2,
       "version_minor": 0
      },
      "text/plain": [
       "Epoch 600:   0%|          | 0/48 [00:00<?, ?it/s]"
      ]
     },
     "metadata": {},
     "output_type": "display_data"
    },
    {
     "name": "stdout",
     "output_type": "stream",
     "text": [
      "\n",
      "Binary LSTM (Epoch 600) Evaluation Results:\n",
      "  Average Loss: 0.5710\n",
      "  AUC (Area Under Curve): 0.5043\n",
      "  β₀ (exact match): 0.0000 (0.00%)\n",
      "  β₁ (≤1 bit error): 0.3958 (39.58%)\n",
      "  β₂ (≤2 bit error): 0.6458 (64.58%)\n",
      "  β₃ (≤3 bit error): 0.7917 (79.17%)\n",
      "  β₄ (≤4 bit error): 0.8542 (85.42%)\n"
     ]
    },
    {
     "data": {
      "application/vnd.jupyter.widget-view+json": {
       "model_id": "c3af6bd1c50e4e5499bcec6c3e2d60d9",
       "version_major": 2,
       "version_minor": 0
      },
      "text/plain": [
       "Epoch 601:   0%|          | 0/48 [00:00<?, ?it/s]"
      ]
     },
     "metadata": {},
     "output_type": "display_data"
    },
    {
     "name": "stdout",
     "output_type": "stream",
     "text": [
      "Epoch 601/1000: Train Loss = 0.5191\n"
     ]
    },
    {
     "data": {
      "application/vnd.jupyter.widget-view+json": {
       "model_id": "f097d37a05ea438e87de068ade2acb91",
       "version_major": 2,
       "version_minor": 0
      },
      "text/plain": [
       "Epoch 602:   0%|          | 0/48 [00:00<?, ?it/s]"
      ]
     },
     "metadata": {},
     "output_type": "display_data"
    },
    {
     "name": "stdout",
     "output_type": "stream",
     "text": [
      "Epoch 602/1000: Train Loss = 0.5202\n"
     ]
    },
    {
     "data": {
      "application/vnd.jupyter.widget-view+json": {
       "model_id": "0f32ac1cf08c426197b310c73b4303ed",
       "version_major": 2,
       "version_minor": 0
      },
      "text/plain": [
       "Epoch 603:   0%|          | 0/48 [00:00<?, ?it/s]"
      ]
     },
     "metadata": {},
     "output_type": "display_data"
    },
    {
     "name": "stdout",
     "output_type": "stream",
     "text": [
      "Epoch 603/1000: Train Loss = 0.5195\n"
     ]
    },
    {
     "data": {
      "application/vnd.jupyter.widget-view+json": {
       "model_id": "1696dc3344e44cb1a2601f6bfeada447",
       "version_major": 2,
       "version_minor": 0
      },
      "text/plain": [
       "Epoch 604:   0%|          | 0/48 [00:00<?, ?it/s]"
      ]
     },
     "metadata": {},
     "output_type": "display_data"
    },
    {
     "name": "stdout",
     "output_type": "stream",
     "text": [
      "Epoch 604/1000: Train Loss = 0.5178\n"
     ]
    },
    {
     "data": {
      "application/vnd.jupyter.widget-view+json": {
       "model_id": "a95e864b7ba54218a31fddb3cb6d3117",
       "version_major": 2,
       "version_minor": 0
      },
      "text/plain": [
       "Epoch 605:   0%|          | 0/48 [00:00<?, ?it/s]"
      ]
     },
     "metadata": {},
     "output_type": "display_data"
    },
    {
     "name": "stdout",
     "output_type": "stream",
     "text": [
      "Epoch 605/1000: Train Loss = 0.5198\n"
     ]
    },
    {
     "data": {
      "application/vnd.jupyter.widget-view+json": {
       "model_id": "fde9de1a63f8435d99dd838b72885045",
       "version_major": 2,
       "version_minor": 0
      },
      "text/plain": [
       "Epoch 606:   0%|          | 0/48 [00:00<?, ?it/s]"
      ]
     },
     "metadata": {},
     "output_type": "display_data"
    },
    {
     "name": "stdout",
     "output_type": "stream",
     "text": [
      "Epoch 606/1000: Train Loss = 0.5182\n"
     ]
    },
    {
     "data": {
      "application/vnd.jupyter.widget-view+json": {
       "model_id": "3f31b2f19fb0446f8ec1e63b2a1619ad",
       "version_major": 2,
       "version_minor": 0
      },
      "text/plain": [
       "Epoch 607:   0%|          | 0/48 [00:00<?, ?it/s]"
      ]
     },
     "metadata": {},
     "output_type": "display_data"
    },
    {
     "name": "stdout",
     "output_type": "stream",
     "text": [
      "Epoch 607/1000: Train Loss = 0.5308\n"
     ]
    },
    {
     "data": {
      "application/vnd.jupyter.widget-view+json": {
       "model_id": "c01adfd6753345aa8a6ea873bcd82e07",
       "version_major": 2,
       "version_minor": 0
      },
      "text/plain": [
       "Epoch 608:   0%|          | 0/48 [00:00<?, ?it/s]"
      ]
     },
     "metadata": {},
     "output_type": "display_data"
    },
    {
     "name": "stdout",
     "output_type": "stream",
     "text": [
      "Epoch 608/1000: Train Loss = 0.5197\n"
     ]
    },
    {
     "data": {
      "application/vnd.jupyter.widget-view+json": {
       "model_id": "2146d1052cc946eda36d8178a977844a",
       "version_major": 2,
       "version_minor": 0
      },
      "text/plain": [
       "Epoch 609:   0%|          | 0/48 [00:00<?, ?it/s]"
      ]
     },
     "metadata": {},
     "output_type": "display_data"
    },
    {
     "name": "stdout",
     "output_type": "stream",
     "text": [
      "Epoch 609/1000: Train Loss = 0.5208\n"
     ]
    },
    {
     "data": {
      "application/vnd.jupyter.widget-view+json": {
       "model_id": "59ad16f78297478a88cc695802c5c039",
       "version_major": 2,
       "version_minor": 0
      },
      "text/plain": [
       "Epoch 610:   0%|          | 0/48 [00:00<?, ?it/s]"
      ]
     },
     "metadata": {},
     "output_type": "display_data"
    },
    {
     "name": "stdout",
     "output_type": "stream",
     "text": [
      "Epoch 610/1000: Train Loss = 0.5178\n"
     ]
    },
    {
     "data": {
      "application/vnd.jupyter.widget-view+json": {
       "model_id": "cae3782ef8c54450983105239e5c655a",
       "version_major": 2,
       "version_minor": 0
      },
      "text/plain": [
       "Epoch 611:   0%|          | 0/48 [00:00<?, ?it/s]"
      ]
     },
     "metadata": {},
     "output_type": "display_data"
    },
    {
     "name": "stdout",
     "output_type": "stream",
     "text": [
      "Epoch 611/1000: Train Loss = 0.5199\n"
     ]
    },
    {
     "data": {
      "application/vnd.jupyter.widget-view+json": {
       "model_id": "28841f1cf57f4d7486a6ba24b1a0bf4a",
       "version_major": 2,
       "version_minor": 0
      },
      "text/plain": [
       "Epoch 612:   0%|          | 0/48 [00:00<?, ?it/s]"
      ]
     },
     "metadata": {},
     "output_type": "display_data"
    },
    {
     "name": "stdout",
     "output_type": "stream",
     "text": [
      "Epoch 612/1000: Train Loss = 0.5208\n"
     ]
    },
    {
     "data": {
      "application/vnd.jupyter.widget-view+json": {
       "model_id": "29892cb0a57043359e6ec3e19ddd9032",
       "version_major": 2,
       "version_minor": 0
      },
      "text/plain": [
       "Epoch 613:   0%|          | 0/48 [00:00<?, ?it/s]"
      ]
     },
     "metadata": {},
     "output_type": "display_data"
    },
    {
     "name": "stdout",
     "output_type": "stream",
     "text": [
      "Epoch 613/1000: Train Loss = 0.5201\n"
     ]
    },
    {
     "data": {
      "application/vnd.jupyter.widget-view+json": {
       "model_id": "f0e3d907ee754523aa85fde4ee054435",
       "version_major": 2,
       "version_minor": 0
      },
      "text/plain": [
       "Epoch 614:   0%|          | 0/48 [00:00<?, ?it/s]"
      ]
     },
     "metadata": {},
     "output_type": "display_data"
    },
    {
     "name": "stdout",
     "output_type": "stream",
     "text": [
      "Epoch 614/1000: Train Loss = 0.5206\n"
     ]
    },
    {
     "data": {
      "application/vnd.jupyter.widget-view+json": {
       "model_id": "bea6419db5ae4eab95be589d174eef99",
       "version_major": 2,
       "version_minor": 0
      },
      "text/plain": [
       "Epoch 615:   0%|          | 0/48 [00:00<?, ?it/s]"
      ]
     },
     "metadata": {},
     "output_type": "display_data"
    },
    {
     "name": "stdout",
     "output_type": "stream",
     "text": [
      "Epoch 615/1000: Train Loss = 0.5183\n"
     ]
    },
    {
     "data": {
      "application/vnd.jupyter.widget-view+json": {
       "model_id": "b6af065a86214724b41a729a808c21e6",
       "version_major": 2,
       "version_minor": 0
      },
      "text/plain": [
       "Epoch 616:   0%|          | 0/48 [00:00<?, ?it/s]"
      ]
     },
     "metadata": {},
     "output_type": "display_data"
    },
    {
     "name": "stdout",
     "output_type": "stream",
     "text": [
      "Epoch 616/1000: Train Loss = 0.5198\n"
     ]
    },
    {
     "data": {
      "application/vnd.jupyter.widget-view+json": {
       "model_id": "0080b6dd49b940aaab9114c054777d6e",
       "version_major": 2,
       "version_minor": 0
      },
      "text/plain": [
       "Epoch 617:   0%|          | 0/48 [00:00<?, ?it/s]"
      ]
     },
     "metadata": {},
     "output_type": "display_data"
    },
    {
     "name": "stdout",
     "output_type": "stream",
     "text": [
      "Epoch 617/1000: Train Loss = 0.5213\n"
     ]
    },
    {
     "data": {
      "application/vnd.jupyter.widget-view+json": {
       "model_id": "f789d5679dad47d491e803657dc35a42",
       "version_major": 2,
       "version_minor": 0
      },
      "text/plain": [
       "Epoch 618:   0%|          | 0/48 [00:00<?, ?it/s]"
      ]
     },
     "metadata": {},
     "output_type": "display_data"
    },
    {
     "name": "stdout",
     "output_type": "stream",
     "text": [
      "Epoch 618/1000: Train Loss = 0.5249\n"
     ]
    },
    {
     "data": {
      "application/vnd.jupyter.widget-view+json": {
       "model_id": "141ff7dd3b424553adf62ca6eebf1af1",
       "version_major": 2,
       "version_minor": 0
      },
      "text/plain": [
       "Epoch 619:   0%|          | 0/48 [00:00<?, ?it/s]"
      ]
     },
     "metadata": {},
     "output_type": "display_data"
    },
    {
     "name": "stdout",
     "output_type": "stream",
     "text": [
      "Epoch 619/1000: Train Loss = 0.5203\n"
     ]
    },
    {
     "data": {
      "application/vnd.jupyter.widget-view+json": {
       "model_id": "20e3923d5b444e65b8afa429719f6790",
       "version_major": 2,
       "version_minor": 0
      },
      "text/plain": [
       "Epoch 620:   0%|          | 0/48 [00:00<?, ?it/s]"
      ]
     },
     "metadata": {},
     "output_type": "display_data"
    },
    {
     "name": "stdout",
     "output_type": "stream",
     "text": [
      "Epoch 620/1000: Train Loss = 0.5180\n"
     ]
    },
    {
     "data": {
      "application/vnd.jupyter.widget-view+json": {
       "model_id": "fdaf6bfc36a440d18febfb66c8ecc390",
       "version_major": 2,
       "version_minor": 0
      },
      "text/plain": [
       "Epoch 621:   0%|          | 0/48 [00:00<?, ?it/s]"
      ]
     },
     "metadata": {},
     "output_type": "display_data"
    },
    {
     "name": "stdout",
     "output_type": "stream",
     "text": [
      "Epoch 621/1000: Train Loss = 0.5183\n"
     ]
    },
    {
     "data": {
      "application/vnd.jupyter.widget-view+json": {
       "model_id": "8c54b58afd7047cea8f1847b0dc98347",
       "version_major": 2,
       "version_minor": 0
      },
      "text/plain": [
       "Epoch 622:   0%|          | 0/48 [00:00<?, ?it/s]"
      ]
     },
     "metadata": {},
     "output_type": "display_data"
    },
    {
     "name": "stdout",
     "output_type": "stream",
     "text": [
      "Epoch 622/1000: Train Loss = 0.5227\n"
     ]
    },
    {
     "data": {
      "application/vnd.jupyter.widget-view+json": {
       "model_id": "f056d0f22d6e45b98445262429371023",
       "version_major": 2,
       "version_minor": 0
      },
      "text/plain": [
       "Epoch 623:   0%|          | 0/48 [00:00<?, ?it/s]"
      ]
     },
     "metadata": {},
     "output_type": "display_data"
    },
    {
     "name": "stdout",
     "output_type": "stream",
     "text": [
      "Epoch 623/1000: Train Loss = 0.5183\n"
     ]
    },
    {
     "data": {
      "application/vnd.jupyter.widget-view+json": {
       "model_id": "d265791ae96b48e48ec65c0bdf1467b2",
       "version_major": 2,
       "version_minor": 0
      },
      "text/plain": [
       "Epoch 624:   0%|          | 0/48 [00:00<?, ?it/s]"
      ]
     },
     "metadata": {},
     "output_type": "display_data"
    },
    {
     "name": "stdout",
     "output_type": "stream",
     "text": [
      "Epoch 624/1000: Train Loss = 0.5275\n"
     ]
    },
    {
     "data": {
      "application/vnd.jupyter.widget-view+json": {
       "model_id": "b3aa8b8c83274d479dfdc0a92a0b83ae",
       "version_major": 2,
       "version_minor": 0
      },
      "text/plain": [
       "Epoch 625:   0%|          | 0/48 [00:00<?, ?it/s]"
      ]
     },
     "metadata": {},
     "output_type": "display_data"
    },
    {
     "name": "stdout",
     "output_type": "stream",
     "text": [
      "Epoch 625/1000: Train Loss = 0.5262\n"
     ]
    },
    {
     "data": {
      "application/vnd.jupyter.widget-view+json": {
       "model_id": "cdc50154737e4441b2e12811402331a1",
       "version_major": 2,
       "version_minor": 0
      },
      "text/plain": [
       "Epoch 626:   0%|          | 0/48 [00:00<?, ?it/s]"
      ]
     },
     "metadata": {},
     "output_type": "display_data"
    },
    {
     "name": "stdout",
     "output_type": "stream",
     "text": [
      "Epoch 626/1000: Train Loss = 0.5174\n"
     ]
    },
    {
     "data": {
      "application/vnd.jupyter.widget-view+json": {
       "model_id": "d167432aa83e4870959728712da8c738",
       "version_major": 2,
       "version_minor": 0
      },
      "text/plain": [
       "Epoch 627:   0%|          | 0/48 [00:00<?, ?it/s]"
      ]
     },
     "metadata": {},
     "output_type": "display_data"
    },
    {
     "name": "stdout",
     "output_type": "stream",
     "text": [
      "Epoch 627/1000: Train Loss = 0.5189\n"
     ]
    },
    {
     "data": {
      "application/vnd.jupyter.widget-view+json": {
       "model_id": "c8f766b64a164ed6b6b3df4bdb5c333a",
       "version_major": 2,
       "version_minor": 0
      },
      "text/plain": [
       "Epoch 628:   0%|          | 0/48 [00:00<?, ?it/s]"
      ]
     },
     "metadata": {},
     "output_type": "display_data"
    },
    {
     "name": "stdout",
     "output_type": "stream",
     "text": [
      "Epoch 628/1000: Train Loss = 0.5200\n"
     ]
    },
    {
     "data": {
      "application/vnd.jupyter.widget-view+json": {
       "model_id": "2b706325d3e7448ea545c722d3c6d5d8",
       "version_major": 2,
       "version_minor": 0
      },
      "text/plain": [
       "Epoch 629:   0%|          | 0/48 [00:00<?, ?it/s]"
      ]
     },
     "metadata": {},
     "output_type": "display_data"
    },
    {
     "name": "stdout",
     "output_type": "stream",
     "text": [
      "Epoch 629/1000: Train Loss = 0.5221\n"
     ]
    },
    {
     "data": {
      "application/vnd.jupyter.widget-view+json": {
       "model_id": "2678a65d13f046178a9bd2b4842b619a",
       "version_major": 2,
       "version_minor": 0
      },
      "text/plain": [
       "Epoch 630:   0%|          | 0/48 [00:00<?, ?it/s]"
      ]
     },
     "metadata": {},
     "output_type": "display_data"
    },
    {
     "name": "stdout",
     "output_type": "stream",
     "text": [
      "Epoch 630/1000: Train Loss = 0.5185\n"
     ]
    },
    {
     "data": {
      "application/vnd.jupyter.widget-view+json": {
       "model_id": "4b424b3ed5764c65a68bfd1e04fc2c17",
       "version_major": 2,
       "version_minor": 0
      },
      "text/plain": [
       "Epoch 631:   0%|          | 0/48 [00:00<?, ?it/s]"
      ]
     },
     "metadata": {},
     "output_type": "display_data"
    },
    {
     "name": "stdout",
     "output_type": "stream",
     "text": [
      "Epoch 631/1000: Train Loss = 0.5188\n"
     ]
    },
    {
     "data": {
      "application/vnd.jupyter.widget-view+json": {
       "model_id": "85bd8c3eec054a72b4f7ca2b31548914",
       "version_major": 2,
       "version_minor": 0
      },
      "text/plain": [
       "Epoch 632:   0%|          | 0/48 [00:00<?, ?it/s]"
      ]
     },
     "metadata": {},
     "output_type": "display_data"
    },
    {
     "name": "stdout",
     "output_type": "stream",
     "text": [
      "Epoch 632/1000: Train Loss = 0.5282\n"
     ]
    },
    {
     "data": {
      "application/vnd.jupyter.widget-view+json": {
       "model_id": "d09dce32be134d668efcba1350144355",
       "version_major": 2,
       "version_minor": 0
      },
      "text/plain": [
       "Epoch 633:   0%|          | 0/48 [00:00<?, ?it/s]"
      ]
     },
     "metadata": {},
     "output_type": "display_data"
    },
    {
     "name": "stdout",
     "output_type": "stream",
     "text": [
      "Epoch 633/1000: Train Loss = 0.5158\n"
     ]
    },
    {
     "data": {
      "application/vnd.jupyter.widget-view+json": {
       "model_id": "a1e3af5c432042ac9c7a7ec2ae3b0593",
       "version_major": 2,
       "version_minor": 0
      },
      "text/plain": [
       "Epoch 634:   0%|          | 0/48 [00:00<?, ?it/s]"
      ]
     },
     "metadata": {},
     "output_type": "display_data"
    },
    {
     "name": "stdout",
     "output_type": "stream",
     "text": [
      "Epoch 634/1000: Train Loss = 0.5258\n"
     ]
    },
    {
     "data": {
      "application/vnd.jupyter.widget-view+json": {
       "model_id": "17f65b2decac45918718fd9607c3b4d2",
       "version_major": 2,
       "version_minor": 0
      },
      "text/plain": [
       "Epoch 635:   0%|          | 0/48 [00:00<?, ?it/s]"
      ]
     },
     "metadata": {},
     "output_type": "display_data"
    },
    {
     "name": "stdout",
     "output_type": "stream",
     "text": [
      "Epoch 635/1000: Train Loss = 0.5196\n"
     ]
    },
    {
     "data": {
      "application/vnd.jupyter.widget-view+json": {
       "model_id": "8908b3b5f74544fba45552d83c0d88bf",
       "version_major": 2,
       "version_minor": 0
      },
      "text/plain": [
       "Epoch 636:   0%|          | 0/48 [00:00<?, ?it/s]"
      ]
     },
     "metadata": {},
     "output_type": "display_data"
    },
    {
     "name": "stdout",
     "output_type": "stream",
     "text": [
      "Epoch 636/1000: Train Loss = 0.5203\n"
     ]
    },
    {
     "data": {
      "application/vnd.jupyter.widget-view+json": {
       "model_id": "77bb757e4ddf49c297fb33b82f660041",
       "version_major": 2,
       "version_minor": 0
      },
      "text/plain": [
       "Epoch 637:   0%|          | 0/48 [00:00<?, ?it/s]"
      ]
     },
     "metadata": {},
     "output_type": "display_data"
    },
    {
     "name": "stdout",
     "output_type": "stream",
     "text": [
      "Epoch 637/1000: Train Loss = 0.5191\n"
     ]
    },
    {
     "data": {
      "application/vnd.jupyter.widget-view+json": {
       "model_id": "495328810928420fb3c661412c42ad51",
       "version_major": 2,
       "version_minor": 0
      },
      "text/plain": [
       "Epoch 638:   0%|          | 0/48 [00:00<?, ?it/s]"
      ]
     },
     "metadata": {},
     "output_type": "display_data"
    },
    {
     "name": "stdout",
     "output_type": "stream",
     "text": [
      "Epoch 638/1000: Train Loss = 0.5195\n"
     ]
    },
    {
     "data": {
      "application/vnd.jupyter.widget-view+json": {
       "model_id": "475b4892703d4e5aadef52c179a99145",
       "version_major": 2,
       "version_minor": 0
      },
      "text/plain": [
       "Epoch 639:   0%|          | 0/48 [00:00<?, ?it/s]"
      ]
     },
     "metadata": {},
     "output_type": "display_data"
    },
    {
     "name": "stdout",
     "output_type": "stream",
     "text": [
      "Epoch 639/1000: Train Loss = 0.5191\n"
     ]
    },
    {
     "data": {
      "application/vnd.jupyter.widget-view+json": {
       "model_id": "4395ae5a341c4c478eec01a55f6f9c00",
       "version_major": 2,
       "version_minor": 0
      },
      "text/plain": [
       "Epoch 640:   0%|          | 0/48 [00:00<?, ?it/s]"
      ]
     },
     "metadata": {},
     "output_type": "display_data"
    },
    {
     "name": "stdout",
     "output_type": "stream",
     "text": [
      "Epoch 640/1000: Train Loss = 0.5212\n"
     ]
    },
    {
     "data": {
      "application/vnd.jupyter.widget-view+json": {
       "model_id": "2d3c03da4a7843c6acdfc34325b61b1d",
       "version_major": 2,
       "version_minor": 0
      },
      "text/plain": [
       "Epoch 641:   0%|          | 0/48 [00:00<?, ?it/s]"
      ]
     },
     "metadata": {},
     "output_type": "display_data"
    },
    {
     "name": "stdout",
     "output_type": "stream",
     "text": [
      "Epoch 641/1000: Train Loss = 0.5194\n"
     ]
    },
    {
     "data": {
      "application/vnd.jupyter.widget-view+json": {
       "model_id": "f3e1b4ccdba84710bb58063364a505c1",
       "version_major": 2,
       "version_minor": 0
      },
      "text/plain": [
       "Epoch 642:   0%|          | 0/48 [00:00<?, ?it/s]"
      ]
     },
     "metadata": {},
     "output_type": "display_data"
    },
    {
     "name": "stdout",
     "output_type": "stream",
     "text": [
      "Epoch 642/1000: Train Loss = 0.5199\n"
     ]
    },
    {
     "data": {
      "application/vnd.jupyter.widget-view+json": {
       "model_id": "ddd4fd4d9d2242e0b0f450e6fece2a06",
       "version_major": 2,
       "version_minor": 0
      },
      "text/plain": [
       "Epoch 643:   0%|          | 0/48 [00:00<?, ?it/s]"
      ]
     },
     "metadata": {},
     "output_type": "display_data"
    },
    {
     "name": "stdout",
     "output_type": "stream",
     "text": [
      "Epoch 643/1000: Train Loss = 0.5280\n"
     ]
    },
    {
     "data": {
      "application/vnd.jupyter.widget-view+json": {
       "model_id": "285941fd45a34280bd370ef7a3da140d",
       "version_major": 2,
       "version_minor": 0
      },
      "text/plain": [
       "Epoch 644:   0%|          | 0/48 [00:00<?, ?it/s]"
      ]
     },
     "metadata": {},
     "output_type": "display_data"
    },
    {
     "name": "stdout",
     "output_type": "stream",
     "text": [
      "Epoch 644/1000: Train Loss = 0.5198\n"
     ]
    },
    {
     "data": {
      "application/vnd.jupyter.widget-view+json": {
       "model_id": "240034a0620e4b8ebac990af5a6857e2",
       "version_major": 2,
       "version_minor": 0
      },
      "text/plain": [
       "Epoch 645:   0%|          | 0/48 [00:00<?, ?it/s]"
      ]
     },
     "metadata": {},
     "output_type": "display_data"
    },
    {
     "name": "stdout",
     "output_type": "stream",
     "text": [
      "Epoch 645/1000: Train Loss = 0.5282\n"
     ]
    },
    {
     "data": {
      "application/vnd.jupyter.widget-view+json": {
       "model_id": "14c770d3107f4c8eaa3384f9f0a46f3c",
       "version_major": 2,
       "version_minor": 0
      },
      "text/plain": [
       "Epoch 646:   0%|          | 0/48 [00:00<?, ?it/s]"
      ]
     },
     "metadata": {},
     "output_type": "display_data"
    },
    {
     "name": "stdout",
     "output_type": "stream",
     "text": [
      "Epoch 646/1000: Train Loss = 0.5205\n"
     ]
    },
    {
     "data": {
      "application/vnd.jupyter.widget-view+json": {
       "model_id": "899b89fceb34424795977205d9a97d1e",
       "version_major": 2,
       "version_minor": 0
      },
      "text/plain": [
       "Epoch 647:   0%|          | 0/48 [00:00<?, ?it/s]"
      ]
     },
     "metadata": {},
     "output_type": "display_data"
    },
    {
     "name": "stdout",
     "output_type": "stream",
     "text": [
      "Epoch 647/1000: Train Loss = 0.5197\n"
     ]
    },
    {
     "data": {
      "application/vnd.jupyter.widget-view+json": {
       "model_id": "c5ff314b8fea432f9e8b85f92ea7b4c2",
       "version_major": 2,
       "version_minor": 0
      },
      "text/plain": [
       "Epoch 648:   0%|          | 0/48 [00:00<?, ?it/s]"
      ]
     },
     "metadata": {},
     "output_type": "display_data"
    },
    {
     "name": "stdout",
     "output_type": "stream",
     "text": [
      "Epoch 648/1000: Train Loss = 0.5217\n"
     ]
    },
    {
     "data": {
      "application/vnd.jupyter.widget-view+json": {
       "model_id": "b9322f77ffa043458ce8db227b937296",
       "version_major": 2,
       "version_minor": 0
      },
      "text/plain": [
       "Epoch 649:   0%|          | 0/48 [00:00<?, ?it/s]"
      ]
     },
     "metadata": {},
     "output_type": "display_data"
    },
    {
     "name": "stdout",
     "output_type": "stream",
     "text": [
      "Epoch 649/1000: Train Loss = 0.5206\n"
     ]
    },
    {
     "data": {
      "application/vnd.jupyter.widget-view+json": {
       "model_id": "e84f72fb410343cc910ad5868ea28086",
       "version_major": 2,
       "version_minor": 0
      },
      "text/plain": [
       "Epoch 650:   0%|          | 0/48 [00:00<?, ?it/s]"
      ]
     },
     "metadata": {},
     "output_type": "display_data"
    },
    {
     "name": "stdout",
     "output_type": "stream",
     "text": [
      "\n",
      "Binary LSTM (Epoch 650) Evaluation Results:\n",
      "  Average Loss: 0.5672\n",
      "  AUC (Area Under Curve): 0.4702\n",
      "  β₀ (exact match): 0.0000 (0.00%)\n",
      "  β₁ (≤1 bit error): 0.3958 (39.58%)\n",
      "  β₂ (≤2 bit error): 0.6458 (64.58%)\n",
      "  β₃ (≤3 bit error): 0.7917 (79.17%)\n",
      "  β₄ (≤4 bit error): 0.8542 (85.42%)\n"
     ]
    },
    {
     "data": {
      "application/vnd.jupyter.widget-view+json": {
       "model_id": "010ff4367f524f78b0659f68c9cb23fa",
       "version_major": 2,
       "version_minor": 0
      },
      "text/plain": [
       "Epoch 651:   0%|          | 0/48 [00:00<?, ?it/s]"
      ]
     },
     "metadata": {},
     "output_type": "display_data"
    },
    {
     "name": "stdout",
     "output_type": "stream",
     "text": [
      "Epoch 651/1000: Train Loss = 0.5181\n"
     ]
    },
    {
     "data": {
      "application/vnd.jupyter.widget-view+json": {
       "model_id": "45c87caa40e74718b9ef573f773d2957",
       "version_major": 2,
       "version_minor": 0
      },
      "text/plain": [
       "Epoch 652:   0%|          | 0/48 [00:00<?, ?it/s]"
      ]
     },
     "metadata": {},
     "output_type": "display_data"
    },
    {
     "name": "stdout",
     "output_type": "stream",
     "text": [
      "Epoch 652/1000: Train Loss = 0.5194\n"
     ]
    },
    {
     "data": {
      "application/vnd.jupyter.widget-view+json": {
       "model_id": "da990aec49024a8cbd52c17be6858b97",
       "version_major": 2,
       "version_minor": 0
      },
      "text/plain": [
       "Epoch 653:   0%|          | 0/48 [00:00<?, ?it/s]"
      ]
     },
     "metadata": {},
     "output_type": "display_data"
    },
    {
     "name": "stdout",
     "output_type": "stream",
     "text": [
      "Epoch 653/1000: Train Loss = 0.5259\n"
     ]
    },
    {
     "data": {
      "application/vnd.jupyter.widget-view+json": {
       "model_id": "c4aaac7326ac44ab90588dc60328d991",
       "version_major": 2,
       "version_minor": 0
      },
      "text/plain": [
       "Epoch 654:   0%|          | 0/48 [00:00<?, ?it/s]"
      ]
     },
     "metadata": {},
     "output_type": "display_data"
    },
    {
     "name": "stdout",
     "output_type": "stream",
     "text": [
      "Epoch 654/1000: Train Loss = 0.5199\n"
     ]
    },
    {
     "data": {
      "application/vnd.jupyter.widget-view+json": {
       "model_id": "82797190052048f5b12146311ea60ec8",
       "version_major": 2,
       "version_minor": 0
      },
      "text/plain": [
       "Epoch 655:   0%|          | 0/48 [00:00<?, ?it/s]"
      ]
     },
     "metadata": {},
     "output_type": "display_data"
    },
    {
     "name": "stdout",
     "output_type": "stream",
     "text": [
      "Epoch 655/1000: Train Loss = 0.5280\n"
     ]
    },
    {
     "data": {
      "application/vnd.jupyter.widget-view+json": {
       "model_id": "1bca2843bdef4a99bc4bf9ed45938914",
       "version_major": 2,
       "version_minor": 0
      },
      "text/plain": [
       "Epoch 656:   0%|          | 0/48 [00:00<?, ?it/s]"
      ]
     },
     "metadata": {},
     "output_type": "display_data"
    },
    {
     "name": "stdout",
     "output_type": "stream",
     "text": [
      "Epoch 656/1000: Train Loss = 0.5205\n"
     ]
    },
    {
     "data": {
      "application/vnd.jupyter.widget-view+json": {
       "model_id": "21957ce7e647445580b99adbb6497ddf",
       "version_major": 2,
       "version_minor": 0
      },
      "text/plain": [
       "Epoch 657:   0%|          | 0/48 [00:00<?, ?it/s]"
      ]
     },
     "metadata": {},
     "output_type": "display_data"
    },
    {
     "name": "stdout",
     "output_type": "stream",
     "text": [
      "Epoch 657/1000: Train Loss = 0.5262\n"
     ]
    },
    {
     "data": {
      "application/vnd.jupyter.widget-view+json": {
       "model_id": "2eaaefe091f448369886cbb1813113e9",
       "version_major": 2,
       "version_minor": 0
      },
      "text/plain": [
       "Epoch 658:   0%|          | 0/48 [00:00<?, ?it/s]"
      ]
     },
     "metadata": {},
     "output_type": "display_data"
    },
    {
     "name": "stdout",
     "output_type": "stream",
     "text": [
      "Epoch 658/1000: Train Loss = 0.5206\n"
     ]
    },
    {
     "data": {
      "application/vnd.jupyter.widget-view+json": {
       "model_id": "a6a40eb4e5614604aed5c326b9ff1feb",
       "version_major": 2,
       "version_minor": 0
      },
      "text/plain": [
       "Epoch 659:   0%|          | 0/48 [00:00<?, ?it/s]"
      ]
     },
     "metadata": {},
     "output_type": "display_data"
    },
    {
     "name": "stdout",
     "output_type": "stream",
     "text": [
      "Epoch 659/1000: Train Loss = 0.5202\n"
     ]
    },
    {
     "data": {
      "application/vnd.jupyter.widget-view+json": {
       "model_id": "551a4ea691bf4288a737a637728c07b3",
       "version_major": 2,
       "version_minor": 0
      },
      "text/plain": [
       "Epoch 660:   0%|          | 0/48 [00:00<?, ?it/s]"
      ]
     },
     "metadata": {},
     "output_type": "display_data"
    },
    {
     "name": "stdout",
     "output_type": "stream",
     "text": [
      "Epoch 660/1000: Train Loss = 0.5180\n"
     ]
    },
    {
     "data": {
      "application/vnd.jupyter.widget-view+json": {
       "model_id": "cc6fd7444dac4b7ca6f85a944522cd84",
       "version_major": 2,
       "version_minor": 0
      },
      "text/plain": [
       "Epoch 661:   0%|          | 0/48 [00:00<?, ?it/s]"
      ]
     },
     "metadata": {},
     "output_type": "display_data"
    },
    {
     "name": "stdout",
     "output_type": "stream",
     "text": [
      "Epoch 661/1000: Train Loss = 0.5198\n"
     ]
    },
    {
     "data": {
      "application/vnd.jupyter.widget-view+json": {
       "model_id": "e1b1329a9c1348a7b659233f59834a9b",
       "version_major": 2,
       "version_minor": 0
      },
      "text/plain": [
       "Epoch 662:   0%|          | 0/48 [00:00<?, ?it/s]"
      ]
     },
     "metadata": {},
     "output_type": "display_data"
    },
    {
     "name": "stdout",
     "output_type": "stream",
     "text": [
      "Epoch 662/1000: Train Loss = 0.5275\n"
     ]
    },
    {
     "data": {
      "application/vnd.jupyter.widget-view+json": {
       "model_id": "9a12eacad0cb4dff8ac7da406ece16c3",
       "version_major": 2,
       "version_minor": 0
      },
      "text/plain": [
       "Epoch 663:   0%|          | 0/48 [00:00<?, ?it/s]"
      ]
     },
     "metadata": {},
     "output_type": "display_data"
    },
    {
     "name": "stdout",
     "output_type": "stream",
     "text": [
      "Epoch 663/1000: Train Loss = 0.5196\n"
     ]
    },
    {
     "data": {
      "application/vnd.jupyter.widget-view+json": {
       "model_id": "cad8173a1a204b77b6520475a8909512",
       "version_major": 2,
       "version_minor": 0
      },
      "text/plain": [
       "Epoch 664:   0%|          | 0/48 [00:00<?, ?it/s]"
      ]
     },
     "metadata": {},
     "output_type": "display_data"
    },
    {
     "name": "stdout",
     "output_type": "stream",
     "text": [
      "Epoch 664/1000: Train Loss = 0.5199\n"
     ]
    },
    {
     "data": {
      "application/vnd.jupyter.widget-view+json": {
       "model_id": "9e08eb693c274c0e950326287d2f7f92",
       "version_major": 2,
       "version_minor": 0
      },
      "text/plain": [
       "Epoch 665:   0%|          | 0/48 [00:00<?, ?it/s]"
      ]
     },
     "metadata": {},
     "output_type": "display_data"
    },
    {
     "name": "stdout",
     "output_type": "stream",
     "text": [
      "Epoch 665/1000: Train Loss = 0.5193\n"
     ]
    },
    {
     "data": {
      "application/vnd.jupyter.widget-view+json": {
       "model_id": "f7ac605a1cd448c98977844eb45cb35f",
       "version_major": 2,
       "version_minor": 0
      },
      "text/plain": [
       "Epoch 666:   0%|          | 0/48 [00:00<?, ?it/s]"
      ]
     },
     "metadata": {},
     "output_type": "display_data"
    },
    {
     "name": "stdout",
     "output_type": "stream",
     "text": [
      "Epoch 666/1000: Train Loss = 0.5256\n"
     ]
    },
    {
     "data": {
      "application/vnd.jupyter.widget-view+json": {
       "model_id": "439074b432a94d509176dab79cd54356",
       "version_major": 2,
       "version_minor": 0
      },
      "text/plain": [
       "Epoch 667:   0%|          | 0/48 [00:00<?, ?it/s]"
      ]
     },
     "metadata": {},
     "output_type": "display_data"
    },
    {
     "name": "stdout",
     "output_type": "stream",
     "text": [
      "Epoch 667/1000: Train Loss = 0.5176\n"
     ]
    },
    {
     "data": {
      "application/vnd.jupyter.widget-view+json": {
       "model_id": "70e7caeb48724e4ba57bf082ef1f4878",
       "version_major": 2,
       "version_minor": 0
      },
      "text/plain": [
       "Epoch 668:   0%|          | 0/48 [00:00<?, ?it/s]"
      ]
     },
     "metadata": {},
     "output_type": "display_data"
    },
    {
     "name": "stdout",
     "output_type": "stream",
     "text": [
      "Epoch 668/1000: Train Loss = 0.5268\n"
     ]
    },
    {
     "data": {
      "application/vnd.jupyter.widget-view+json": {
       "model_id": "6169504116324c178a25da18a0f591ab",
       "version_major": 2,
       "version_minor": 0
      },
      "text/plain": [
       "Epoch 669:   0%|          | 0/48 [00:00<?, ?it/s]"
      ]
     },
     "metadata": {},
     "output_type": "display_data"
    },
    {
     "name": "stdout",
     "output_type": "stream",
     "text": [
      "Epoch 669/1000: Train Loss = 0.5184\n"
     ]
    },
    {
     "data": {
      "application/vnd.jupyter.widget-view+json": {
       "model_id": "a35b89e48050410fb83f7d624aacae80",
       "version_major": 2,
       "version_minor": 0
      },
      "text/plain": [
       "Epoch 670:   0%|          | 0/48 [00:00<?, ?it/s]"
      ]
     },
     "metadata": {},
     "output_type": "display_data"
    },
    {
     "name": "stdout",
     "output_type": "stream",
     "text": [
      "Epoch 670/1000: Train Loss = 0.5195\n"
     ]
    },
    {
     "data": {
      "application/vnd.jupyter.widget-view+json": {
       "model_id": "d33e4463e6a14e1eb77d814945cedbc8",
       "version_major": 2,
       "version_minor": 0
      },
      "text/plain": [
       "Epoch 671:   0%|          | 0/48 [00:00<?, ?it/s]"
      ]
     },
     "metadata": {},
     "output_type": "display_data"
    },
    {
     "name": "stdout",
     "output_type": "stream",
     "text": [
      "Epoch 671/1000: Train Loss = 0.5191\n"
     ]
    },
    {
     "data": {
      "application/vnd.jupyter.widget-view+json": {
       "model_id": "4d447c7f77ab4d8babf8e6373ecaa805",
       "version_major": 2,
       "version_minor": 0
      },
      "text/plain": [
       "Epoch 672:   0%|          | 0/48 [00:00<?, ?it/s]"
      ]
     },
     "metadata": {},
     "output_type": "display_data"
    },
    {
     "name": "stdout",
     "output_type": "stream",
     "text": [
      "Epoch 672/1000: Train Loss = 0.5187\n"
     ]
    },
    {
     "data": {
      "application/vnd.jupyter.widget-view+json": {
       "model_id": "a0e9df2e13c44c2ea460d28396484703",
       "version_major": 2,
       "version_minor": 0
      },
      "text/plain": [
       "Epoch 673:   0%|          | 0/48 [00:00<?, ?it/s]"
      ]
     },
     "metadata": {},
     "output_type": "display_data"
    },
    {
     "name": "stdout",
     "output_type": "stream",
     "text": [
      "Epoch 673/1000: Train Loss = 0.5198\n"
     ]
    },
    {
     "data": {
      "application/vnd.jupyter.widget-view+json": {
       "model_id": "27e001cff18a4334b47d89c95bc8d55d",
       "version_major": 2,
       "version_minor": 0
      },
      "text/plain": [
       "Epoch 674:   0%|          | 0/48 [00:00<?, ?it/s]"
      ]
     },
     "metadata": {},
     "output_type": "display_data"
    },
    {
     "name": "stdout",
     "output_type": "stream",
     "text": [
      "Epoch 674/1000: Train Loss = 0.5271\n"
     ]
    },
    {
     "data": {
      "application/vnd.jupyter.widget-view+json": {
       "model_id": "54ddd1953f284b0fadeb6a110e30b3c6",
       "version_major": 2,
       "version_minor": 0
      },
      "text/plain": [
       "Epoch 675:   0%|          | 0/48 [00:00<?, ?it/s]"
      ]
     },
     "metadata": {},
     "output_type": "display_data"
    },
    {
     "name": "stdout",
     "output_type": "stream",
     "text": [
      "Epoch 675/1000: Train Loss = 0.5186\n"
     ]
    },
    {
     "data": {
      "application/vnd.jupyter.widget-view+json": {
       "model_id": "b678f1d38f2d48dd881cb8107f325252",
       "version_major": 2,
       "version_minor": 0
      },
      "text/plain": [
       "Epoch 676:   0%|          | 0/48 [00:00<?, ?it/s]"
      ]
     },
     "metadata": {},
     "output_type": "display_data"
    },
    {
     "name": "stdout",
     "output_type": "stream",
     "text": [
      "Epoch 676/1000: Train Loss = 0.5244\n"
     ]
    },
    {
     "data": {
      "application/vnd.jupyter.widget-view+json": {
       "model_id": "6f91045b2a974ff58058cf6b3d1edd1a",
       "version_major": 2,
       "version_minor": 0
      },
      "text/plain": [
       "Epoch 677:   0%|          | 0/48 [00:00<?, ?it/s]"
      ]
     },
     "metadata": {},
     "output_type": "display_data"
    },
    {
     "name": "stdout",
     "output_type": "stream",
     "text": [
      "Epoch 677/1000: Train Loss = 0.5175\n"
     ]
    },
    {
     "data": {
      "application/vnd.jupyter.widget-view+json": {
       "model_id": "d97dbff456b34430bb26d02b3540cbc1",
       "version_major": 2,
       "version_minor": 0
      },
      "text/plain": [
       "Epoch 678:   0%|          | 0/48 [00:00<?, ?it/s]"
      ]
     },
     "metadata": {},
     "output_type": "display_data"
    },
    {
     "name": "stdout",
     "output_type": "stream",
     "text": [
      "Epoch 678/1000: Train Loss = 0.5177\n"
     ]
    },
    {
     "data": {
      "application/vnd.jupyter.widget-view+json": {
       "model_id": "61b6df0690ef457ea946a65a5b0449b4",
       "version_major": 2,
       "version_minor": 0
      },
      "text/plain": [
       "Epoch 679:   0%|          | 0/48 [00:00<?, ?it/s]"
      ]
     },
     "metadata": {},
     "output_type": "display_data"
    },
    {
     "name": "stdout",
     "output_type": "stream",
     "text": [
      "Epoch 679/1000: Train Loss = 0.5189\n"
     ]
    },
    {
     "data": {
      "application/vnd.jupyter.widget-view+json": {
       "model_id": "1fe95c7ea9444b91a3068d84f33badf4",
       "version_major": 2,
       "version_minor": 0
      },
      "text/plain": [
       "Epoch 680:   0%|          | 0/48 [00:00<?, ?it/s]"
      ]
     },
     "metadata": {},
     "output_type": "display_data"
    },
    {
     "name": "stdout",
     "output_type": "stream",
     "text": [
      "Epoch 680/1000: Train Loss = 0.5205\n"
     ]
    },
    {
     "data": {
      "application/vnd.jupyter.widget-view+json": {
       "model_id": "dd04c646861d4fc79ce9295998b7fe32",
       "version_major": 2,
       "version_minor": 0
      },
      "text/plain": [
       "Epoch 681:   0%|          | 0/48 [00:00<?, ?it/s]"
      ]
     },
     "metadata": {},
     "output_type": "display_data"
    },
    {
     "name": "stdout",
     "output_type": "stream",
     "text": [
      "Epoch 681/1000: Train Loss = 0.5257\n"
     ]
    },
    {
     "data": {
      "application/vnd.jupyter.widget-view+json": {
       "model_id": "cbcd7b7a8cb340ca8451be78887f7a4f",
       "version_major": 2,
       "version_minor": 0
      },
      "text/plain": [
       "Epoch 682:   0%|          | 0/48 [00:00<?, ?it/s]"
      ]
     },
     "metadata": {},
     "output_type": "display_data"
    },
    {
     "name": "stdout",
     "output_type": "stream",
     "text": [
      "Epoch 682/1000: Train Loss = 0.5193\n"
     ]
    },
    {
     "data": {
      "application/vnd.jupyter.widget-view+json": {
       "model_id": "866c12e56eb04598a86a08a24b88b846",
       "version_major": 2,
       "version_minor": 0
      },
      "text/plain": [
       "Epoch 683:   0%|          | 0/48 [00:00<?, ?it/s]"
      ]
     },
     "metadata": {},
     "output_type": "display_data"
    },
    {
     "name": "stdout",
     "output_type": "stream",
     "text": [
      "Epoch 683/1000: Train Loss = 0.5211\n"
     ]
    },
    {
     "data": {
      "application/vnd.jupyter.widget-view+json": {
       "model_id": "2365a4d1e415494d8ab55c9edab339d8",
       "version_major": 2,
       "version_minor": 0
      },
      "text/plain": [
       "Epoch 684:   0%|          | 0/48 [00:00<?, ?it/s]"
      ]
     },
     "metadata": {},
     "output_type": "display_data"
    },
    {
     "name": "stdout",
     "output_type": "stream",
     "text": [
      "Epoch 684/1000: Train Loss = 0.5178\n"
     ]
    },
    {
     "data": {
      "application/vnd.jupyter.widget-view+json": {
       "model_id": "f4e4b4a4d3724daeac7793577416210a",
       "version_major": 2,
       "version_minor": 0
      },
      "text/plain": [
       "Epoch 685:   0%|          | 0/48 [00:00<?, ?it/s]"
      ]
     },
     "metadata": {},
     "output_type": "display_data"
    },
    {
     "name": "stdout",
     "output_type": "stream",
     "text": [
      "Epoch 685/1000: Train Loss = 0.5188\n"
     ]
    },
    {
     "data": {
      "application/vnd.jupyter.widget-view+json": {
       "model_id": "2316b4da30d345d387803ea8ba28d7ca",
       "version_major": 2,
       "version_minor": 0
      },
      "text/plain": [
       "Epoch 686:   0%|          | 0/48 [00:00<?, ?it/s]"
      ]
     },
     "metadata": {},
     "output_type": "display_data"
    },
    {
     "name": "stdout",
     "output_type": "stream",
     "text": [
      "Epoch 686/1000: Train Loss = 0.5279\n"
     ]
    },
    {
     "data": {
      "application/vnd.jupyter.widget-view+json": {
       "model_id": "3271b3238d8a4dbdb0d833e8f07c37ed",
       "version_major": 2,
       "version_minor": 0
      },
      "text/plain": [
       "Epoch 687:   0%|          | 0/48 [00:00<?, ?it/s]"
      ]
     },
     "metadata": {},
     "output_type": "display_data"
    },
    {
     "name": "stdout",
     "output_type": "stream",
     "text": [
      "Epoch 687/1000: Train Loss = 0.5182\n"
     ]
    },
    {
     "data": {
      "application/vnd.jupyter.widget-view+json": {
       "model_id": "5c0461aa61ef4b6a942e3b28ddaa5e4e",
       "version_major": 2,
       "version_minor": 0
      },
      "text/plain": [
       "Epoch 688:   0%|          | 0/48 [00:00<?, ?it/s]"
      ]
     },
     "metadata": {},
     "output_type": "display_data"
    },
    {
     "name": "stdout",
     "output_type": "stream",
     "text": [
      "Epoch 688/1000: Train Loss = 0.5196\n"
     ]
    },
    {
     "data": {
      "application/vnd.jupyter.widget-view+json": {
       "model_id": "fedeeb080b7341f9926c2fe051bf08f6",
       "version_major": 2,
       "version_minor": 0
      },
      "text/plain": [
       "Epoch 689:   0%|          | 0/48 [00:00<?, ?it/s]"
      ]
     },
     "metadata": {},
     "output_type": "display_data"
    },
    {
     "name": "stdout",
     "output_type": "stream",
     "text": [
      "Epoch 689/1000: Train Loss = 0.5192\n"
     ]
    },
    {
     "data": {
      "application/vnd.jupyter.widget-view+json": {
       "model_id": "b7dc68254aa04f7ea50bb585bde6e257",
       "version_major": 2,
       "version_minor": 0
      },
      "text/plain": [
       "Epoch 690:   0%|          | 0/48 [00:00<?, ?it/s]"
      ]
     },
     "metadata": {},
     "output_type": "display_data"
    },
    {
     "name": "stdout",
     "output_type": "stream",
     "text": [
      "Epoch 690/1000: Train Loss = 0.5199\n"
     ]
    },
    {
     "data": {
      "application/vnd.jupyter.widget-view+json": {
       "model_id": "cc6f932e227241c4b1765613bf9fec0c",
       "version_major": 2,
       "version_minor": 0
      },
      "text/plain": [
       "Epoch 691:   0%|          | 0/48 [00:00<?, ?it/s]"
      ]
     },
     "metadata": {},
     "output_type": "display_data"
    },
    {
     "name": "stdout",
     "output_type": "stream",
     "text": [
      "Epoch 691/1000: Train Loss = 0.5183\n"
     ]
    },
    {
     "data": {
      "application/vnd.jupyter.widget-view+json": {
       "model_id": "6e1687783fcc47e49703df62145d4b87",
       "version_major": 2,
       "version_minor": 0
      },
      "text/plain": [
       "Epoch 692:   0%|          | 0/48 [00:00<?, ?it/s]"
      ]
     },
     "metadata": {},
     "output_type": "display_data"
    },
    {
     "name": "stdout",
     "output_type": "stream",
     "text": [
      "Epoch 692/1000: Train Loss = 0.5281\n"
     ]
    },
    {
     "data": {
      "application/vnd.jupyter.widget-view+json": {
       "model_id": "5536dbf713054362bafbfd918538cf5c",
       "version_major": 2,
       "version_minor": 0
      },
      "text/plain": [
       "Epoch 693:   0%|          | 0/48 [00:00<?, ?it/s]"
      ]
     },
     "metadata": {},
     "output_type": "display_data"
    },
    {
     "name": "stdout",
     "output_type": "stream",
     "text": [
      "Epoch 693/1000: Train Loss = 0.5251\n"
     ]
    },
    {
     "data": {
      "application/vnd.jupyter.widget-view+json": {
       "model_id": "c73cd7586c7d47a4aca49ce3e0a24d0c",
       "version_major": 2,
       "version_minor": 0
      },
      "text/plain": [
       "Epoch 694:   0%|          | 0/48 [00:00<?, ?it/s]"
      ]
     },
     "metadata": {},
     "output_type": "display_data"
    },
    {
     "name": "stdout",
     "output_type": "stream",
     "text": [
      "Epoch 694/1000: Train Loss = 0.5259\n"
     ]
    },
    {
     "data": {
      "application/vnd.jupyter.widget-view+json": {
       "model_id": "34d2c7689ea34e04b2f20f157d41672f",
       "version_major": 2,
       "version_minor": 0
      },
      "text/plain": [
       "Epoch 695:   0%|          | 0/48 [00:00<?, ?it/s]"
      ]
     },
     "metadata": {},
     "output_type": "display_data"
    },
    {
     "name": "stdout",
     "output_type": "stream",
     "text": [
      "Epoch 695/1000: Train Loss = 0.5197\n"
     ]
    },
    {
     "data": {
      "application/vnd.jupyter.widget-view+json": {
       "model_id": "52add7ead322413f9d67e964fe3f8b0c",
       "version_major": 2,
       "version_minor": 0
      },
      "text/plain": [
       "Epoch 696:   0%|          | 0/48 [00:00<?, ?it/s]"
      ]
     },
     "metadata": {},
     "output_type": "display_data"
    },
    {
     "name": "stdout",
     "output_type": "stream",
     "text": [
      "Epoch 696/1000: Train Loss = 0.5215\n"
     ]
    },
    {
     "data": {
      "application/vnd.jupyter.widget-view+json": {
       "model_id": "3dca05bb831e48999df03945b1f4df04",
       "version_major": 2,
       "version_minor": 0
      },
      "text/plain": [
       "Epoch 697:   0%|          | 0/48 [00:00<?, ?it/s]"
      ]
     },
     "metadata": {},
     "output_type": "display_data"
    },
    {
     "name": "stdout",
     "output_type": "stream",
     "text": [
      "Epoch 697/1000: Train Loss = 0.5243\n"
     ]
    },
    {
     "data": {
      "application/vnd.jupyter.widget-view+json": {
       "model_id": "138f024355eb4623ab169752238309ec",
       "version_major": 2,
       "version_minor": 0
      },
      "text/plain": [
       "Epoch 698:   0%|          | 0/48 [00:00<?, ?it/s]"
      ]
     },
     "metadata": {},
     "output_type": "display_data"
    },
    {
     "name": "stdout",
     "output_type": "stream",
     "text": [
      "Epoch 698/1000: Train Loss = 0.5283\n"
     ]
    },
    {
     "data": {
      "application/vnd.jupyter.widget-view+json": {
       "model_id": "cb42223069e04505ab74933c26a9f737",
       "version_major": 2,
       "version_minor": 0
      },
      "text/plain": [
       "Epoch 699:   0%|          | 0/48 [00:00<?, ?it/s]"
      ]
     },
     "metadata": {},
     "output_type": "display_data"
    },
    {
     "name": "stdout",
     "output_type": "stream",
     "text": [
      "Epoch 699/1000: Train Loss = 0.5207\n"
     ]
    },
    {
     "data": {
      "application/vnd.jupyter.widget-view+json": {
       "model_id": "9114647bab9d403c895e0a08f5fe1785",
       "version_major": 2,
       "version_minor": 0
      },
      "text/plain": [
       "Epoch 700:   0%|          | 0/48 [00:00<?, ?it/s]"
      ]
     },
     "metadata": {},
     "output_type": "display_data"
    },
    {
     "name": "stdout",
     "output_type": "stream",
     "text": [
      "\n",
      "Binary LSTM (Epoch 700) Evaluation Results:\n",
      "  Average Loss: 0.5671\n",
      "  AUC (Area Under Curve): 0.5000\n",
      "  β₀ (exact match): 0.0000 (0.00%)\n",
      "  β₁ (≤1 bit error): 0.3958 (39.58%)\n",
      "  β₂ (≤2 bit error): 0.6458 (64.58%)\n",
      "  β₃ (≤3 bit error): 0.7917 (79.17%)\n",
      "  β₄ (≤4 bit error): 0.8542 (85.42%)\n"
     ]
    },
    {
     "data": {
      "application/vnd.jupyter.widget-view+json": {
       "model_id": "1453bb230b8f47d793d75b40ff480be6",
       "version_major": 2,
       "version_minor": 0
      },
      "text/plain": [
       "Epoch 701:   0%|          | 0/48 [00:00<?, ?it/s]"
      ]
     },
     "metadata": {},
     "output_type": "display_data"
    },
    {
     "name": "stdout",
     "output_type": "stream",
     "text": [
      "Epoch 701/1000: Train Loss = 0.5188\n"
     ]
    },
    {
     "data": {
      "application/vnd.jupyter.widget-view+json": {
       "model_id": "a8a4c652cdc74826bc3ab0aff8a82028",
       "version_major": 2,
       "version_minor": 0
      },
      "text/plain": [
       "Epoch 702:   0%|          | 0/48 [00:00<?, ?it/s]"
      ]
     },
     "metadata": {},
     "output_type": "display_data"
    },
    {
     "name": "stdout",
     "output_type": "stream",
     "text": [
      "Epoch 702/1000: Train Loss = 0.5179\n"
     ]
    },
    {
     "data": {
      "application/vnd.jupyter.widget-view+json": {
       "model_id": "bac36faa29304a69a381c175afe2c718",
       "version_major": 2,
       "version_minor": 0
      },
      "text/plain": [
       "Epoch 703:   0%|          | 0/48 [00:00<?, ?it/s]"
      ]
     },
     "metadata": {},
     "output_type": "display_data"
    },
    {
     "name": "stdout",
     "output_type": "stream",
     "text": [
      "Epoch 703/1000: Train Loss = 0.5173\n"
     ]
    },
    {
     "data": {
      "application/vnd.jupyter.widget-view+json": {
       "model_id": "f8da06c132834533a6cca6b2874cc1eb",
       "version_major": 2,
       "version_minor": 0
      },
      "text/plain": [
       "Epoch 704:   0%|          | 0/48 [00:00<?, ?it/s]"
      ]
     },
     "metadata": {},
     "output_type": "display_data"
    },
    {
     "name": "stdout",
     "output_type": "stream",
     "text": [
      "Epoch 704/1000: Train Loss = 0.5187\n"
     ]
    },
    {
     "data": {
      "application/vnd.jupyter.widget-view+json": {
       "model_id": "d73b36cb2bb54c82b10b7689197cb1c1",
       "version_major": 2,
       "version_minor": 0
      },
      "text/plain": [
       "Epoch 705:   0%|          | 0/48 [00:00<?, ?it/s]"
      ]
     },
     "metadata": {},
     "output_type": "display_data"
    },
    {
     "name": "stdout",
     "output_type": "stream",
     "text": [
      "Epoch 705/1000: Train Loss = 0.5217\n"
     ]
    },
    {
     "data": {
      "application/vnd.jupyter.widget-view+json": {
       "model_id": "15fe0571ef2a407fb57feb300c61791a",
       "version_major": 2,
       "version_minor": 0
      },
      "text/plain": [
       "Epoch 706:   0%|          | 0/48 [00:00<?, ?it/s]"
      ]
     },
     "metadata": {},
     "output_type": "display_data"
    },
    {
     "name": "stdout",
     "output_type": "stream",
     "text": [
      "Epoch 706/1000: Train Loss = 0.5261\n"
     ]
    },
    {
     "data": {
      "application/vnd.jupyter.widget-view+json": {
       "model_id": "1dcf732a772e4d8885a70524a0a5a49e",
       "version_major": 2,
       "version_minor": 0
      },
      "text/plain": [
       "Epoch 707:   0%|          | 0/48 [00:00<?, ?it/s]"
      ]
     },
     "metadata": {},
     "output_type": "display_data"
    },
    {
     "name": "stdout",
     "output_type": "stream",
     "text": [
      "Epoch 707/1000: Train Loss = 0.5171\n"
     ]
    },
    {
     "data": {
      "application/vnd.jupyter.widget-view+json": {
       "model_id": "3a816b24c34c4306b173909d05831002",
       "version_major": 2,
       "version_minor": 0
      },
      "text/plain": [
       "Epoch 708:   0%|          | 0/48 [00:00<?, ?it/s]"
      ]
     },
     "metadata": {},
     "output_type": "display_data"
    },
    {
     "name": "stdout",
     "output_type": "stream",
     "text": [
      "Epoch 708/1000: Train Loss = 0.5199\n"
     ]
    },
    {
     "data": {
      "application/vnd.jupyter.widget-view+json": {
       "model_id": "bb8114f289a04aea9de2c66e675f6f8f",
       "version_major": 2,
       "version_minor": 0
      },
      "text/plain": [
       "Epoch 709:   0%|          | 0/48 [00:00<?, ?it/s]"
      ]
     },
     "metadata": {},
     "output_type": "display_data"
    },
    {
     "name": "stdout",
     "output_type": "stream",
     "text": [
      "Epoch 709/1000: Train Loss = 0.5281\n"
     ]
    },
    {
     "data": {
      "application/vnd.jupyter.widget-view+json": {
       "model_id": "a173fa84859b4942916bef4608cc067b",
       "version_major": 2,
       "version_minor": 0
      },
      "text/plain": [
       "Epoch 710:   0%|          | 0/48 [00:00<?, ?it/s]"
      ]
     },
     "metadata": {},
     "output_type": "display_data"
    },
    {
     "name": "stdout",
     "output_type": "stream",
     "text": [
      "Epoch 710/1000: Train Loss = 0.5199\n"
     ]
    },
    {
     "data": {
      "application/vnd.jupyter.widget-view+json": {
       "model_id": "19d88ba1d6cd47aabcee6750ae3737b3",
       "version_major": 2,
       "version_minor": 0
      },
      "text/plain": [
       "Epoch 711:   0%|          | 0/48 [00:00<?, ?it/s]"
      ]
     },
     "metadata": {},
     "output_type": "display_data"
    },
    {
     "name": "stdout",
     "output_type": "stream",
     "text": [
      "Epoch 711/1000: Train Loss = 0.5207\n"
     ]
    },
    {
     "data": {
      "application/vnd.jupyter.widget-view+json": {
       "model_id": "0574d03cbedd4bd8b2bd8adc08e0d4ca",
       "version_major": 2,
       "version_minor": 0
      },
      "text/plain": [
       "Epoch 712:   0%|          | 0/48 [00:00<?, ?it/s]"
      ]
     },
     "metadata": {},
     "output_type": "display_data"
    },
    {
     "name": "stdout",
     "output_type": "stream",
     "text": [
      "Epoch 712/1000: Train Loss = 0.5279\n"
     ]
    },
    {
     "data": {
      "application/vnd.jupyter.widget-view+json": {
       "model_id": "ef6e84c911894c3a9b1b17334311940e",
       "version_major": 2,
       "version_minor": 0
      },
      "text/plain": [
       "Epoch 713:   0%|          | 0/48 [00:00<?, ?it/s]"
      ]
     },
     "metadata": {},
     "output_type": "display_data"
    },
    {
     "name": "stdout",
     "output_type": "stream",
     "text": [
      "Epoch 713/1000: Train Loss = 0.5201\n"
     ]
    },
    {
     "data": {
      "application/vnd.jupyter.widget-view+json": {
       "model_id": "d5f394b7ad33446d9299df8bf74a546a",
       "version_major": 2,
       "version_minor": 0
      },
      "text/plain": [
       "Epoch 714:   0%|          | 0/48 [00:00<?, ?it/s]"
      ]
     },
     "metadata": {},
     "output_type": "display_data"
    },
    {
     "name": "stdout",
     "output_type": "stream",
     "text": [
      "Epoch 714/1000: Train Loss = 0.5198\n"
     ]
    },
    {
     "data": {
      "application/vnd.jupyter.widget-view+json": {
       "model_id": "8827b505558c4f52a91e46eb28f9fbca",
       "version_major": 2,
       "version_minor": 0
      },
      "text/plain": [
       "Epoch 715:   0%|          | 0/48 [00:00<?, ?it/s]"
      ]
     },
     "metadata": {},
     "output_type": "display_data"
    },
    {
     "name": "stdout",
     "output_type": "stream",
     "text": [
      "Epoch 715/1000: Train Loss = 0.5190\n"
     ]
    },
    {
     "data": {
      "application/vnd.jupyter.widget-view+json": {
       "model_id": "9965d1522bf64c6ab758699733b91aa4",
       "version_major": 2,
       "version_minor": 0
      },
      "text/plain": [
       "Epoch 716:   0%|          | 0/48 [00:00<?, ?it/s]"
      ]
     },
     "metadata": {},
     "output_type": "display_data"
    },
    {
     "name": "stdout",
     "output_type": "stream",
     "text": [
      "Epoch 716/1000: Train Loss = 0.5166\n"
     ]
    },
    {
     "data": {
      "application/vnd.jupyter.widget-view+json": {
       "model_id": "9f66abba58cf4a728c53c2f399f28e2b",
       "version_major": 2,
       "version_minor": 0
      },
      "text/plain": [
       "Epoch 717:   0%|          | 0/48 [00:00<?, ?it/s]"
      ]
     },
     "metadata": {},
     "output_type": "display_data"
    },
    {
     "name": "stdout",
     "output_type": "stream",
     "text": [
      "Epoch 717/1000: Train Loss = 0.5181\n"
     ]
    },
    {
     "data": {
      "application/vnd.jupyter.widget-view+json": {
       "model_id": "7f011d10fe03451b96a98c5a1d05a2e0",
       "version_major": 2,
       "version_minor": 0
      },
      "text/plain": [
       "Epoch 718:   0%|          | 0/48 [00:00<?, ?it/s]"
      ]
     },
     "metadata": {},
     "output_type": "display_data"
    },
    {
     "name": "stdout",
     "output_type": "stream",
     "text": [
      "Epoch 718/1000: Train Loss = 0.5178\n"
     ]
    },
    {
     "data": {
      "application/vnd.jupyter.widget-view+json": {
       "model_id": "cf20b2fedf81469da76f2de8f93c0223",
       "version_major": 2,
       "version_minor": 0
      },
      "text/plain": [
       "Epoch 719:   0%|          | 0/48 [00:00<?, ?it/s]"
      ]
     },
     "metadata": {},
     "output_type": "display_data"
    },
    {
     "name": "stdout",
     "output_type": "stream",
     "text": [
      "Epoch 719/1000: Train Loss = 0.5170\n"
     ]
    },
    {
     "data": {
      "application/vnd.jupyter.widget-view+json": {
       "model_id": "0b62363313104c29895d68c7c1c70d22",
       "version_major": 2,
       "version_minor": 0
      },
      "text/plain": [
       "Epoch 720:   0%|          | 0/48 [00:00<?, ?it/s]"
      ]
     },
     "metadata": {},
     "output_type": "display_data"
    },
    {
     "name": "stdout",
     "output_type": "stream",
     "text": [
      "Epoch 720/1000: Train Loss = 0.5186\n"
     ]
    },
    {
     "data": {
      "application/vnd.jupyter.widget-view+json": {
       "model_id": "d7da1c2cf2684385a0f0ca6d018d8117",
       "version_major": 2,
       "version_minor": 0
      },
      "text/plain": [
       "Epoch 721:   0%|          | 0/48 [00:00<?, ?it/s]"
      ]
     },
     "metadata": {},
     "output_type": "display_data"
    },
    {
     "name": "stdout",
     "output_type": "stream",
     "text": [
      "Epoch 721/1000: Train Loss = 0.5201\n"
     ]
    },
    {
     "data": {
      "application/vnd.jupyter.widget-view+json": {
       "model_id": "3ca897fec7f64ff3a43b972ce4cf088f",
       "version_major": 2,
       "version_minor": 0
      },
      "text/plain": [
       "Epoch 722:   0%|          | 0/48 [00:00<?, ?it/s]"
      ]
     },
     "metadata": {},
     "output_type": "display_data"
    },
    {
     "name": "stdout",
     "output_type": "stream",
     "text": [
      "Epoch 722/1000: Train Loss = 0.5265\n"
     ]
    },
    {
     "data": {
      "application/vnd.jupyter.widget-view+json": {
       "model_id": "ef79d5dcc0fa4747b9945a12c9aafeec",
       "version_major": 2,
       "version_minor": 0
      },
      "text/plain": [
       "Epoch 723:   0%|          | 0/48 [00:00<?, ?it/s]"
      ]
     },
     "metadata": {},
     "output_type": "display_data"
    },
    {
     "name": "stdout",
     "output_type": "stream",
     "text": [
      "Epoch 723/1000: Train Loss = 0.5292\n"
     ]
    },
    {
     "data": {
      "application/vnd.jupyter.widget-view+json": {
       "model_id": "b9880aab1afe43d9b143fabb384dcc9f",
       "version_major": 2,
       "version_minor": 0
      },
      "text/plain": [
       "Epoch 724:   0%|          | 0/48 [00:00<?, ?it/s]"
      ]
     },
     "metadata": {},
     "output_type": "display_data"
    },
    {
     "name": "stdout",
     "output_type": "stream",
     "text": [
      "Epoch 724/1000: Train Loss = 0.5190\n"
     ]
    },
    {
     "data": {
      "application/vnd.jupyter.widget-view+json": {
       "model_id": "a361d1c368bc47b6a8181c53206e535b",
       "version_major": 2,
       "version_minor": 0
      },
      "text/plain": [
       "Epoch 725:   0%|          | 0/48 [00:00<?, ?it/s]"
      ]
     },
     "metadata": {},
     "output_type": "display_data"
    },
    {
     "name": "stdout",
     "output_type": "stream",
     "text": [
      "Epoch 725/1000: Train Loss = 0.5242\n"
     ]
    },
    {
     "data": {
      "application/vnd.jupyter.widget-view+json": {
       "model_id": "1bb4219dfe514bfa8655e98012b4ba9d",
       "version_major": 2,
       "version_minor": 0
      },
      "text/plain": [
       "Epoch 726:   0%|          | 0/48 [00:00<?, ?it/s]"
      ]
     },
     "metadata": {},
     "output_type": "display_data"
    },
    {
     "name": "stdout",
     "output_type": "stream",
     "text": [
      "Epoch 726/1000: Train Loss = 0.5207\n"
     ]
    },
    {
     "data": {
      "application/vnd.jupyter.widget-view+json": {
       "model_id": "9ae7717ebff948818c7a2d102b6f5a97",
       "version_major": 2,
       "version_minor": 0
      },
      "text/plain": [
       "Epoch 727:   0%|          | 0/48 [00:00<?, ?it/s]"
      ]
     },
     "metadata": {},
     "output_type": "display_data"
    },
    {
     "name": "stdout",
     "output_type": "stream",
     "text": [
      "Epoch 727/1000: Train Loss = 0.5175\n"
     ]
    },
    {
     "data": {
      "application/vnd.jupyter.widget-view+json": {
       "model_id": "93cb945f2c034c8e8675ffdbb19186d3",
       "version_major": 2,
       "version_minor": 0
      },
      "text/plain": [
       "Epoch 728:   0%|          | 0/48 [00:00<?, ?it/s]"
      ]
     },
     "metadata": {},
     "output_type": "display_data"
    },
    {
     "name": "stdout",
     "output_type": "stream",
     "text": [
      "Epoch 728/1000: Train Loss = 0.5182\n"
     ]
    },
    {
     "data": {
      "application/vnd.jupyter.widget-view+json": {
       "model_id": "75629217c7da4dd086eeff5409da775f",
       "version_major": 2,
       "version_minor": 0
      },
      "text/plain": [
       "Epoch 729:   0%|          | 0/48 [00:00<?, ?it/s]"
      ]
     },
     "metadata": {},
     "output_type": "display_data"
    },
    {
     "name": "stdout",
     "output_type": "stream",
     "text": [
      "Epoch 729/1000: Train Loss = 0.5204\n"
     ]
    },
    {
     "data": {
      "application/vnd.jupyter.widget-view+json": {
       "model_id": "9e133876ed0b425ea1a470fc87f1f504",
       "version_major": 2,
       "version_minor": 0
      },
      "text/plain": [
       "Epoch 730:   0%|          | 0/48 [00:00<?, ?it/s]"
      ]
     },
     "metadata": {},
     "output_type": "display_data"
    },
    {
     "name": "stdout",
     "output_type": "stream",
     "text": [
      "Epoch 730/1000: Train Loss = 0.5258\n"
     ]
    },
    {
     "data": {
      "application/vnd.jupyter.widget-view+json": {
       "model_id": "3d74ef3388364846bff8b52c6f0a6410",
       "version_major": 2,
       "version_minor": 0
      },
      "text/plain": [
       "Epoch 731:   0%|          | 0/48 [00:00<?, ?it/s]"
      ]
     },
     "metadata": {},
     "output_type": "display_data"
    },
    {
     "name": "stdout",
     "output_type": "stream",
     "text": [
      "Epoch 731/1000: Train Loss = 0.5202\n"
     ]
    },
    {
     "data": {
      "application/vnd.jupyter.widget-view+json": {
       "model_id": "7a5029f83739436790fa63521c820523",
       "version_major": 2,
       "version_minor": 0
      },
      "text/plain": [
       "Epoch 732:   0%|          | 0/48 [00:00<?, ?it/s]"
      ]
     },
     "metadata": {},
     "output_type": "display_data"
    },
    {
     "name": "stdout",
     "output_type": "stream",
     "text": [
      "Epoch 732/1000: Train Loss = 0.5259\n"
     ]
    },
    {
     "data": {
      "application/vnd.jupyter.widget-view+json": {
       "model_id": "7ffaa898a20d4420a901ea1c0dd2b780",
       "version_major": 2,
       "version_minor": 0
      },
      "text/plain": [
       "Epoch 733:   0%|          | 0/48 [00:00<?, ?it/s]"
      ]
     },
     "metadata": {},
     "output_type": "display_data"
    },
    {
     "name": "stdout",
     "output_type": "stream",
     "text": [
      "Epoch 733/1000: Train Loss = 0.5198\n"
     ]
    },
    {
     "data": {
      "application/vnd.jupyter.widget-view+json": {
       "model_id": "e319f520701d4c8391d21fbeae2d19fe",
       "version_major": 2,
       "version_minor": 0
      },
      "text/plain": [
       "Epoch 734:   0%|          | 0/48 [00:00<?, ?it/s]"
      ]
     },
     "metadata": {},
     "output_type": "display_data"
    },
    {
     "name": "stdout",
     "output_type": "stream",
     "text": [
      "Epoch 734/1000: Train Loss = 0.5252\n"
     ]
    },
    {
     "data": {
      "application/vnd.jupyter.widget-view+json": {
       "model_id": "62e9ec25b589472ea760be974b2a59f3",
       "version_major": 2,
       "version_minor": 0
      },
      "text/plain": [
       "Epoch 735:   0%|          | 0/48 [00:00<?, ?it/s]"
      ]
     },
     "metadata": {},
     "output_type": "display_data"
    },
    {
     "name": "stdout",
     "output_type": "stream",
     "text": [
      "Epoch 735/1000: Train Loss = 0.5184\n"
     ]
    },
    {
     "data": {
      "application/vnd.jupyter.widget-view+json": {
       "model_id": "c9763f320f7d4802a4adab0facafd8b3",
       "version_major": 2,
       "version_minor": 0
      },
      "text/plain": [
       "Epoch 736:   0%|          | 0/48 [00:00<?, ?it/s]"
      ]
     },
     "metadata": {},
     "output_type": "display_data"
    },
    {
     "name": "stdout",
     "output_type": "stream",
     "text": [
      "Epoch 736/1000: Train Loss = 0.5178\n"
     ]
    },
    {
     "data": {
      "application/vnd.jupyter.widget-view+json": {
       "model_id": "7a143fbf0e8f4150a2c6a8b7308a9334",
       "version_major": 2,
       "version_minor": 0
      },
      "text/plain": [
       "Epoch 737:   0%|          | 0/48 [00:00<?, ?it/s]"
      ]
     },
     "metadata": {},
     "output_type": "display_data"
    },
    {
     "name": "stdout",
     "output_type": "stream",
     "text": [
      "Epoch 737/1000: Train Loss = 0.5194\n"
     ]
    },
    {
     "data": {
      "application/vnd.jupyter.widget-view+json": {
       "model_id": "952b0cf64d844756bc305274d38c7197",
       "version_major": 2,
       "version_minor": 0
      },
      "text/plain": [
       "Epoch 738:   0%|          | 0/48 [00:00<?, ?it/s]"
      ]
     },
     "metadata": {},
     "output_type": "display_data"
    },
    {
     "name": "stdout",
     "output_type": "stream",
     "text": [
      "Epoch 738/1000: Train Loss = 0.5227\n"
     ]
    },
    {
     "data": {
      "application/vnd.jupyter.widget-view+json": {
       "model_id": "22d9a1af825c4b6686233c971b097423",
       "version_major": 2,
       "version_minor": 0
      },
      "text/plain": [
       "Epoch 739:   0%|          | 0/48 [00:00<?, ?it/s]"
      ]
     },
     "metadata": {},
     "output_type": "display_data"
    },
    {
     "name": "stdout",
     "output_type": "stream",
     "text": [
      "Epoch 739/1000: Train Loss = 0.5182\n"
     ]
    },
    {
     "data": {
      "application/vnd.jupyter.widget-view+json": {
       "model_id": "d41bcbeea0ef4cf3975cef5830f10bcd",
       "version_major": 2,
       "version_minor": 0
      },
      "text/plain": [
       "Epoch 740:   0%|          | 0/48 [00:00<?, ?it/s]"
      ]
     },
     "metadata": {},
     "output_type": "display_data"
    },
    {
     "name": "stdout",
     "output_type": "stream",
     "text": [
      "Epoch 740/1000: Train Loss = 0.5216\n"
     ]
    },
    {
     "data": {
      "application/vnd.jupyter.widget-view+json": {
       "model_id": "558f7d9c9a054ef5983eace1ec3b961a",
       "version_major": 2,
       "version_minor": 0
      },
      "text/plain": [
       "Epoch 741:   0%|          | 0/48 [00:00<?, ?it/s]"
      ]
     },
     "metadata": {},
     "output_type": "display_data"
    },
    {
     "name": "stdout",
     "output_type": "stream",
     "text": [
      "Epoch 741/1000: Train Loss = 0.5197\n"
     ]
    },
    {
     "data": {
      "application/vnd.jupyter.widget-view+json": {
       "model_id": "2dd9716b988141578bf1309ac51f3af5",
       "version_major": 2,
       "version_minor": 0
      },
      "text/plain": [
       "Epoch 742:   0%|          | 0/48 [00:00<?, ?it/s]"
      ]
     },
     "metadata": {},
     "output_type": "display_data"
    },
    {
     "name": "stdout",
     "output_type": "stream",
     "text": [
      "Epoch 742/1000: Train Loss = 0.5204\n"
     ]
    },
    {
     "data": {
      "application/vnd.jupyter.widget-view+json": {
       "model_id": "149890336cf2476babfb97ec74d74905",
       "version_major": 2,
       "version_minor": 0
      },
      "text/plain": [
       "Epoch 743:   0%|          | 0/48 [00:00<?, ?it/s]"
      ]
     },
     "metadata": {},
     "output_type": "display_data"
    },
    {
     "name": "stdout",
     "output_type": "stream",
     "text": [
      "Epoch 743/1000: Train Loss = 0.5212\n"
     ]
    },
    {
     "data": {
      "application/vnd.jupyter.widget-view+json": {
       "model_id": "4d3a05cd14de4a9380bb6c2bfbb1c72f",
       "version_major": 2,
       "version_minor": 0
      },
      "text/plain": [
       "Epoch 744:   0%|          | 0/48 [00:00<?, ?it/s]"
      ]
     },
     "metadata": {},
     "output_type": "display_data"
    },
    {
     "name": "stdout",
     "output_type": "stream",
     "text": [
      "Epoch 744/1000: Train Loss = 0.5203\n"
     ]
    },
    {
     "data": {
      "application/vnd.jupyter.widget-view+json": {
       "model_id": "420dab2452da41b89fdc0a505894ad81",
       "version_major": 2,
       "version_minor": 0
      },
      "text/plain": [
       "Epoch 745:   0%|          | 0/48 [00:00<?, ?it/s]"
      ]
     },
     "metadata": {},
     "output_type": "display_data"
    },
    {
     "name": "stdout",
     "output_type": "stream",
     "text": [
      "Epoch 745/1000: Train Loss = 0.5182\n"
     ]
    },
    {
     "data": {
      "application/vnd.jupyter.widget-view+json": {
       "model_id": "5186d395f6ae4325a282e262544a3175",
       "version_major": 2,
       "version_minor": 0
      },
      "text/plain": [
       "Epoch 746:   0%|          | 0/48 [00:00<?, ?it/s]"
      ]
     },
     "metadata": {},
     "output_type": "display_data"
    },
    {
     "name": "stdout",
     "output_type": "stream",
     "text": [
      "Epoch 746/1000: Train Loss = 0.5195\n"
     ]
    },
    {
     "data": {
      "application/vnd.jupyter.widget-view+json": {
       "model_id": "75192d05950c44e9b885b8414c82a76c",
       "version_major": 2,
       "version_minor": 0
      },
      "text/plain": [
       "Epoch 747:   0%|          | 0/48 [00:00<?, ?it/s]"
      ]
     },
     "metadata": {},
     "output_type": "display_data"
    },
    {
     "name": "stdout",
     "output_type": "stream",
     "text": [
      "Epoch 747/1000: Train Loss = 0.5182\n"
     ]
    },
    {
     "data": {
      "application/vnd.jupyter.widget-view+json": {
       "model_id": "5527428bb2214fab8252ff90ec5217b0",
       "version_major": 2,
       "version_minor": 0
      },
      "text/plain": [
       "Epoch 748:   0%|          | 0/48 [00:00<?, ?it/s]"
      ]
     },
     "metadata": {},
     "output_type": "display_data"
    },
    {
     "name": "stdout",
     "output_type": "stream",
     "text": [
      "Epoch 748/1000: Train Loss = 0.5277\n"
     ]
    },
    {
     "data": {
      "application/vnd.jupyter.widget-view+json": {
       "model_id": "adeda8028ce646f6b58e5e61c2ebd6b7",
       "version_major": 2,
       "version_minor": 0
      },
      "text/plain": [
       "Epoch 749:   0%|          | 0/48 [00:00<?, ?it/s]"
      ]
     },
     "metadata": {},
     "output_type": "display_data"
    },
    {
     "name": "stdout",
     "output_type": "stream",
     "text": [
      "Epoch 749/1000: Train Loss = 0.5161\n"
     ]
    },
    {
     "data": {
      "application/vnd.jupyter.widget-view+json": {
       "model_id": "f8fa21517d8a4e258664b7afab488127",
       "version_major": 2,
       "version_minor": 0
      },
      "text/plain": [
       "Epoch 750:   0%|          | 0/48 [00:00<?, ?it/s]"
      ]
     },
     "metadata": {},
     "output_type": "display_data"
    },
    {
     "name": "stdout",
     "output_type": "stream",
     "text": [
      "\n",
      "Binary LSTM (Epoch 750) Evaluation Results:\n",
      "  Average Loss: 0.5662\n",
      "  AUC (Area Under Curve): 0.5021\n",
      "  β₀ (exact match): 0.0000 (0.00%)\n",
      "  β₁ (≤1 bit error): 0.3958 (39.58%)\n",
      "  β₂ (≤2 bit error): 0.6458 (64.58%)\n",
      "  β₃ (≤3 bit error): 0.7917 (79.17%)\n",
      "  β₄ (≤4 bit error): 0.8542 (85.42%)\n"
     ]
    },
    {
     "data": {
      "application/vnd.jupyter.widget-view+json": {
       "model_id": "c5b3f5b86aa341598ccaed85da54b8b3",
       "version_major": 2,
       "version_minor": 0
      },
      "text/plain": [
       "Epoch 751:   0%|          | 0/48 [00:00<?, ?it/s]"
      ]
     },
     "metadata": {},
     "output_type": "display_data"
    },
    {
     "name": "stdout",
     "output_type": "stream",
     "text": [
      "Epoch 751/1000: Train Loss = 0.5261\n"
     ]
    },
    {
     "data": {
      "application/vnd.jupyter.widget-view+json": {
       "model_id": "99e4b72bcda0485c86472da5460aa382",
       "version_major": 2,
       "version_minor": 0
      },
      "text/plain": [
       "Epoch 752:   0%|          | 0/48 [00:00<?, ?it/s]"
      ]
     },
     "metadata": {},
     "output_type": "display_data"
    },
    {
     "name": "stdout",
     "output_type": "stream",
     "text": [
      "Epoch 752/1000: Train Loss = 0.5197\n"
     ]
    },
    {
     "data": {
      "application/vnd.jupyter.widget-view+json": {
       "model_id": "af30a7332fe6470cbe4bd2aef90afa7b",
       "version_major": 2,
       "version_minor": 0
      },
      "text/plain": [
       "Epoch 753:   0%|          | 0/48 [00:00<?, ?it/s]"
      ]
     },
     "metadata": {},
     "output_type": "display_data"
    },
    {
     "name": "stdout",
     "output_type": "stream",
     "text": [
      "Epoch 753/1000: Train Loss = 0.5143\n"
     ]
    },
    {
     "data": {
      "application/vnd.jupyter.widget-view+json": {
       "model_id": "8086e9db0d3940d89541e021f533a38f",
       "version_major": 2,
       "version_minor": 0
      },
      "text/plain": [
       "Epoch 754:   0%|          | 0/48 [00:00<?, ?it/s]"
      ]
     },
     "metadata": {},
     "output_type": "display_data"
    },
    {
     "name": "stdout",
     "output_type": "stream",
     "text": [
      "Epoch 754/1000: Train Loss = 0.5282\n"
     ]
    },
    {
     "data": {
      "application/vnd.jupyter.widget-view+json": {
       "model_id": "957c9abc4dbd47048c29be3cd462ffe9",
       "version_major": 2,
       "version_minor": 0
      },
      "text/plain": [
       "Epoch 755:   0%|          | 0/48 [00:00<?, ?it/s]"
      ]
     },
     "metadata": {},
     "output_type": "display_data"
    },
    {
     "name": "stdout",
     "output_type": "stream",
     "text": [
      "Epoch 755/1000: Train Loss = 0.5272\n"
     ]
    },
    {
     "data": {
      "application/vnd.jupyter.widget-view+json": {
       "model_id": "025bda327f714c9f9e90efe2e50e0efa",
       "version_major": 2,
       "version_minor": 0
      },
      "text/plain": [
       "Epoch 756:   0%|          | 0/48 [00:00<?, ?it/s]"
      ]
     },
     "metadata": {},
     "output_type": "display_data"
    },
    {
     "name": "stdout",
     "output_type": "stream",
     "text": [
      "Epoch 756/1000: Train Loss = 0.5176\n"
     ]
    },
    {
     "data": {
      "application/vnd.jupyter.widget-view+json": {
       "model_id": "e5100734f2b84781a3b362a4594a8dab",
       "version_major": 2,
       "version_minor": 0
      },
      "text/plain": [
       "Epoch 757:   0%|          | 0/48 [00:00<?, ?it/s]"
      ]
     },
     "metadata": {},
     "output_type": "display_data"
    },
    {
     "name": "stdout",
     "output_type": "stream",
     "text": [
      "Epoch 757/1000: Train Loss = 0.5204\n"
     ]
    },
    {
     "data": {
      "application/vnd.jupyter.widget-view+json": {
       "model_id": "e7450ca24ae94fc6ad71d8d25ea20235",
       "version_major": 2,
       "version_minor": 0
      },
      "text/plain": [
       "Epoch 758:   0%|          | 0/48 [00:00<?, ?it/s]"
      ]
     },
     "metadata": {},
     "output_type": "display_data"
    },
    {
     "name": "stdout",
     "output_type": "stream",
     "text": [
      "Epoch 758/1000: Train Loss = 0.5199\n"
     ]
    },
    {
     "data": {
      "application/vnd.jupyter.widget-view+json": {
       "model_id": "8d53b29f9cdc40b5808ffa7b125b2559",
       "version_major": 2,
       "version_minor": 0
      },
      "text/plain": [
       "Epoch 759:   0%|          | 0/48 [00:00<?, ?it/s]"
      ]
     },
     "metadata": {},
     "output_type": "display_data"
    },
    {
     "name": "stdout",
     "output_type": "stream",
     "text": [
      "Epoch 759/1000: Train Loss = 0.5185\n"
     ]
    },
    {
     "data": {
      "application/vnd.jupyter.widget-view+json": {
       "model_id": "04442be82cc846e092cc426cf1a393f5",
       "version_major": 2,
       "version_minor": 0
      },
      "text/plain": [
       "Epoch 760:   0%|          | 0/48 [00:00<?, ?it/s]"
      ]
     },
     "metadata": {},
     "output_type": "display_data"
    },
    {
     "name": "stdout",
     "output_type": "stream",
     "text": [
      "Epoch 760/1000: Train Loss = 0.5202\n"
     ]
    },
    {
     "data": {
      "application/vnd.jupyter.widget-view+json": {
       "model_id": "c77ecb533eea471ca1e83605ea210d9d",
       "version_major": 2,
       "version_minor": 0
      },
      "text/plain": [
       "Epoch 761:   0%|          | 0/48 [00:00<?, ?it/s]"
      ]
     },
     "metadata": {},
     "output_type": "display_data"
    },
    {
     "name": "stdout",
     "output_type": "stream",
     "text": [
      "Epoch 761/1000: Train Loss = 0.5186\n"
     ]
    },
    {
     "data": {
      "application/vnd.jupyter.widget-view+json": {
       "model_id": "73fc57aea6094a43a7d25f68687fc442",
       "version_major": 2,
       "version_minor": 0
      },
      "text/plain": [
       "Epoch 762:   0%|          | 0/48 [00:00<?, ?it/s]"
      ]
     },
     "metadata": {},
     "output_type": "display_data"
    },
    {
     "name": "stdout",
     "output_type": "stream",
     "text": [
      "Epoch 762/1000: Train Loss = 0.5199\n"
     ]
    },
    {
     "data": {
      "application/vnd.jupyter.widget-view+json": {
       "model_id": "0af7dc368779404b8df1f3d74363efdf",
       "version_major": 2,
       "version_minor": 0
      },
      "text/plain": [
       "Epoch 763:   0%|          | 0/48 [00:00<?, ?it/s]"
      ]
     },
     "metadata": {},
     "output_type": "display_data"
    },
    {
     "name": "stdout",
     "output_type": "stream",
     "text": [
      "Epoch 763/1000: Train Loss = 0.5169\n"
     ]
    },
    {
     "data": {
      "application/vnd.jupyter.widget-view+json": {
       "model_id": "ca4ef51dfd61453daafa54494cb1ea38",
       "version_major": 2,
       "version_minor": 0
      },
      "text/plain": [
       "Epoch 764:   0%|          | 0/48 [00:00<?, ?it/s]"
      ]
     },
     "metadata": {},
     "output_type": "display_data"
    },
    {
     "name": "stdout",
     "output_type": "stream",
     "text": [
      "Epoch 764/1000: Train Loss = 0.5247\n"
     ]
    },
    {
     "data": {
      "application/vnd.jupyter.widget-view+json": {
       "model_id": "a24ebbfed462438697021b4cf8f92a6e",
       "version_major": 2,
       "version_minor": 0
      },
      "text/plain": [
       "Epoch 765:   0%|          | 0/48 [00:00<?, ?it/s]"
      ]
     },
     "metadata": {},
     "output_type": "display_data"
    },
    {
     "name": "stdout",
     "output_type": "stream",
     "text": [
      "Epoch 765/1000: Train Loss = 0.5148\n"
     ]
    },
    {
     "data": {
      "application/vnd.jupyter.widget-view+json": {
       "model_id": "bfa657150c01400c89db8cbeeb7ec73a",
       "version_major": 2,
       "version_minor": 0
      },
      "text/plain": [
       "Epoch 766:   0%|          | 0/48 [00:00<?, ?it/s]"
      ]
     },
     "metadata": {},
     "output_type": "display_data"
    },
    {
     "name": "stdout",
     "output_type": "stream",
     "text": [
      "Epoch 766/1000: Train Loss = 0.5192\n"
     ]
    },
    {
     "data": {
      "application/vnd.jupyter.widget-view+json": {
       "model_id": "f80725b7d9344cafbbd398d69ab192a8",
       "version_major": 2,
       "version_minor": 0
      },
      "text/plain": [
       "Epoch 767:   0%|          | 0/48 [00:00<?, ?it/s]"
      ]
     },
     "metadata": {},
     "output_type": "display_data"
    },
    {
     "name": "stdout",
     "output_type": "stream",
     "text": [
      "Epoch 767/1000: Train Loss = 0.5204\n"
     ]
    },
    {
     "data": {
      "application/vnd.jupyter.widget-view+json": {
       "model_id": "db3c045d06c24855a537646e412f80fc",
       "version_major": 2,
       "version_minor": 0
      },
      "text/plain": [
       "Epoch 768:   0%|          | 0/48 [00:00<?, ?it/s]"
      ]
     },
     "metadata": {},
     "output_type": "display_data"
    },
    {
     "name": "stdout",
     "output_type": "stream",
     "text": [
      "Epoch 768/1000: Train Loss = 0.5180\n"
     ]
    },
    {
     "data": {
      "application/vnd.jupyter.widget-view+json": {
       "model_id": "964b969e09e24ecbabe1dbc1c4e4730c",
       "version_major": 2,
       "version_minor": 0
      },
      "text/plain": [
       "Epoch 769:   0%|          | 0/48 [00:00<?, ?it/s]"
      ]
     },
     "metadata": {},
     "output_type": "display_data"
    },
    {
     "name": "stdout",
     "output_type": "stream",
     "text": [
      "Epoch 769/1000: Train Loss = 0.5278\n"
     ]
    },
    {
     "data": {
      "application/vnd.jupyter.widget-view+json": {
       "model_id": "d9feef5b49da4fa5aa29c0cb4dd20f24",
       "version_major": 2,
       "version_minor": 0
      },
      "text/plain": [
       "Epoch 770:   0%|          | 0/48 [00:00<?, ?it/s]"
      ]
     },
     "metadata": {},
     "output_type": "display_data"
    },
    {
     "name": "stdout",
     "output_type": "stream",
     "text": [
      "Epoch 770/1000: Train Loss = 0.5198\n"
     ]
    },
    {
     "data": {
      "application/vnd.jupyter.widget-view+json": {
       "model_id": "1bf9446009bf441884ff048c445ffff8",
       "version_major": 2,
       "version_minor": 0
      },
      "text/plain": [
       "Epoch 771:   0%|          | 0/48 [00:00<?, ?it/s]"
      ]
     },
     "metadata": {},
     "output_type": "display_data"
    },
    {
     "name": "stdout",
     "output_type": "stream",
     "text": [
      "Epoch 771/1000: Train Loss = 0.5196\n"
     ]
    },
    {
     "data": {
      "application/vnd.jupyter.widget-view+json": {
       "model_id": "6f41316525c4479981e3ade8b1e03676",
       "version_major": 2,
       "version_minor": 0
      },
      "text/plain": [
       "Epoch 772:   0%|          | 0/48 [00:00<?, ?it/s]"
      ]
     },
     "metadata": {},
     "output_type": "display_data"
    },
    {
     "name": "stdout",
     "output_type": "stream",
     "text": [
      "Epoch 772/1000: Train Loss = 0.5200\n"
     ]
    },
    {
     "data": {
      "application/vnd.jupyter.widget-view+json": {
       "model_id": "5baea08abdae4bd5941c3cf5607ea24e",
       "version_major": 2,
       "version_minor": 0
      },
      "text/plain": [
       "Epoch 773:   0%|          | 0/48 [00:00<?, ?it/s]"
      ]
     },
     "metadata": {},
     "output_type": "display_data"
    },
    {
     "name": "stdout",
     "output_type": "stream",
     "text": [
      "Epoch 773/1000: Train Loss = 0.5185\n"
     ]
    },
    {
     "data": {
      "application/vnd.jupyter.widget-view+json": {
       "model_id": "db0b0229d6c643e4b299e7640a60b3c0",
       "version_major": 2,
       "version_minor": 0
      },
      "text/plain": [
       "Epoch 774:   0%|          | 0/48 [00:00<?, ?it/s]"
      ]
     },
     "metadata": {},
     "output_type": "display_data"
    },
    {
     "name": "stdout",
     "output_type": "stream",
     "text": [
      "Epoch 774/1000: Train Loss = 0.5193\n"
     ]
    },
    {
     "data": {
      "application/vnd.jupyter.widget-view+json": {
       "model_id": "61c5419012434306a4a47b672f7aa11a",
       "version_major": 2,
       "version_minor": 0
      },
      "text/plain": [
       "Epoch 775:   0%|          | 0/48 [00:00<?, ?it/s]"
      ]
     },
     "metadata": {},
     "output_type": "display_data"
    },
    {
     "name": "stdout",
     "output_type": "stream",
     "text": [
      "Epoch 775/1000: Train Loss = 0.5226\n"
     ]
    },
    {
     "data": {
      "application/vnd.jupyter.widget-view+json": {
       "model_id": "15630b6bb4dd4ae7aab08c13f5a036ac",
       "version_major": 2,
       "version_minor": 0
      },
      "text/plain": [
       "Epoch 776:   0%|          | 0/48 [00:00<?, ?it/s]"
      ]
     },
     "metadata": {},
     "output_type": "display_data"
    },
    {
     "name": "stdout",
     "output_type": "stream",
     "text": [
      "Epoch 776/1000: Train Loss = 0.5202\n"
     ]
    },
    {
     "data": {
      "application/vnd.jupyter.widget-view+json": {
       "model_id": "1ff495bdfced4249920c46f72eccd283",
       "version_major": 2,
       "version_minor": 0
      },
      "text/plain": [
       "Epoch 777:   0%|          | 0/48 [00:00<?, ?it/s]"
      ]
     },
     "metadata": {},
     "output_type": "display_data"
    },
    {
     "name": "stdout",
     "output_type": "stream",
     "text": [
      "Epoch 777/1000: Train Loss = 0.5196\n"
     ]
    },
    {
     "data": {
      "application/vnd.jupyter.widget-view+json": {
       "model_id": "acba7f7d19ae4030881a294b683ff3a5",
       "version_major": 2,
       "version_minor": 0
      },
      "text/plain": [
       "Epoch 778:   0%|          | 0/48 [00:00<?, ?it/s]"
      ]
     },
     "metadata": {},
     "output_type": "display_data"
    },
    {
     "name": "stdout",
     "output_type": "stream",
     "text": [
      "Epoch 778/1000: Train Loss = 0.5186\n"
     ]
    },
    {
     "data": {
      "application/vnd.jupyter.widget-view+json": {
       "model_id": "46992d274a1b49d38c15a6d2d461688a",
       "version_major": 2,
       "version_minor": 0
      },
      "text/plain": [
       "Epoch 779:   0%|          | 0/48 [00:00<?, ?it/s]"
      ]
     },
     "metadata": {},
     "output_type": "display_data"
    },
    {
     "name": "stdout",
     "output_type": "stream",
     "text": [
      "Epoch 779/1000: Train Loss = 0.5293\n"
     ]
    },
    {
     "data": {
      "application/vnd.jupyter.widget-view+json": {
       "model_id": "aa83fa4d79c34393af15753d18a540e4",
       "version_major": 2,
       "version_minor": 0
      },
      "text/plain": [
       "Epoch 780:   0%|          | 0/48 [00:00<?, ?it/s]"
      ]
     },
     "metadata": {},
     "output_type": "display_data"
    },
    {
     "name": "stdout",
     "output_type": "stream",
     "text": [
      "Epoch 780/1000: Train Loss = 0.5187\n"
     ]
    },
    {
     "data": {
      "application/vnd.jupyter.widget-view+json": {
       "model_id": "5015dc3588b04e93be388428b151815d",
       "version_major": 2,
       "version_minor": 0
      },
      "text/plain": [
       "Epoch 781:   0%|          | 0/48 [00:00<?, ?it/s]"
      ]
     },
     "metadata": {},
     "output_type": "display_data"
    },
    {
     "name": "stdout",
     "output_type": "stream",
     "text": [
      "Epoch 781/1000: Train Loss = 0.5176\n"
     ]
    },
    {
     "data": {
      "application/vnd.jupyter.widget-view+json": {
       "model_id": "a279a8e9d30c42ba89bdd8bfad9ed389",
       "version_major": 2,
       "version_minor": 0
      },
      "text/plain": [
       "Epoch 782:   0%|          | 0/48 [00:00<?, ?it/s]"
      ]
     },
     "metadata": {},
     "output_type": "display_data"
    },
    {
     "name": "stdout",
     "output_type": "stream",
     "text": [
      "Epoch 782/1000: Train Loss = 0.5188\n"
     ]
    },
    {
     "data": {
      "application/vnd.jupyter.widget-view+json": {
       "model_id": "212c766eac724bf28ff16987fc0ce0f2",
       "version_major": 2,
       "version_minor": 0
      },
      "text/plain": [
       "Epoch 783:   0%|          | 0/48 [00:00<?, ?it/s]"
      ]
     },
     "metadata": {},
     "output_type": "display_data"
    },
    {
     "name": "stdout",
     "output_type": "stream",
     "text": [
      "Epoch 783/1000: Train Loss = 0.5263\n"
     ]
    },
    {
     "data": {
      "application/vnd.jupyter.widget-view+json": {
       "model_id": "c6a06994de144391b4704fc16a7206b2",
       "version_major": 2,
       "version_minor": 0
      },
      "text/plain": [
       "Epoch 784:   0%|          | 0/48 [00:00<?, ?it/s]"
      ]
     },
     "metadata": {},
     "output_type": "display_data"
    },
    {
     "name": "stdout",
     "output_type": "stream",
     "text": [
      "Epoch 784/1000: Train Loss = 0.5201\n"
     ]
    },
    {
     "data": {
      "application/vnd.jupyter.widget-view+json": {
       "model_id": "8c761e90c66341bb8d4303a0c5b4fa92",
       "version_major": 2,
       "version_minor": 0
      },
      "text/plain": [
       "Epoch 785:   0%|          | 0/48 [00:00<?, ?it/s]"
      ]
     },
     "metadata": {},
     "output_type": "display_data"
    },
    {
     "name": "stdout",
     "output_type": "stream",
     "text": [
      "Epoch 785/1000: Train Loss = 0.5192\n"
     ]
    },
    {
     "data": {
      "application/vnd.jupyter.widget-view+json": {
       "model_id": "08184664c1864907a29ce07d7217cad5",
       "version_major": 2,
       "version_minor": 0
      },
      "text/plain": [
       "Epoch 786:   0%|          | 0/48 [00:00<?, ?it/s]"
      ]
     },
     "metadata": {},
     "output_type": "display_data"
    },
    {
     "name": "stdout",
     "output_type": "stream",
     "text": [
      "Epoch 786/1000: Train Loss = 0.5195\n"
     ]
    },
    {
     "data": {
      "application/vnd.jupyter.widget-view+json": {
       "model_id": "792a24157422424fb1a350758fd0cebf",
       "version_major": 2,
       "version_minor": 0
      },
      "text/plain": [
       "Epoch 787:   0%|          | 0/48 [00:00<?, ?it/s]"
      ]
     },
     "metadata": {},
     "output_type": "display_data"
    },
    {
     "name": "stdout",
     "output_type": "stream",
     "text": [
      "Epoch 787/1000: Train Loss = 0.5213\n"
     ]
    },
    {
     "data": {
      "application/vnd.jupyter.widget-view+json": {
       "model_id": "d6256f42644446aca9ed175d506e4fca",
       "version_major": 2,
       "version_minor": 0
      },
      "text/plain": [
       "Epoch 788:   0%|          | 0/48 [00:00<?, ?it/s]"
      ]
     },
     "metadata": {},
     "output_type": "display_data"
    },
    {
     "name": "stdout",
     "output_type": "stream",
     "text": [
      "Epoch 788/1000: Train Loss = 0.5266\n"
     ]
    },
    {
     "data": {
      "application/vnd.jupyter.widget-view+json": {
       "model_id": "380ed986b02d4945acf8b782fde40c83",
       "version_major": 2,
       "version_minor": 0
      },
      "text/plain": [
       "Epoch 789:   0%|          | 0/48 [00:00<?, ?it/s]"
      ]
     },
     "metadata": {},
     "output_type": "display_data"
    },
    {
     "name": "stdout",
     "output_type": "stream",
     "text": [
      "Epoch 789/1000: Train Loss = 0.5183\n"
     ]
    },
    {
     "data": {
      "application/vnd.jupyter.widget-view+json": {
       "model_id": "b4748cd7da6c4e1a973ae78ed064830b",
       "version_major": 2,
       "version_minor": 0
      },
      "text/plain": [
       "Epoch 790:   0%|          | 0/48 [00:00<?, ?it/s]"
      ]
     },
     "metadata": {},
     "output_type": "display_data"
    },
    {
     "name": "stdout",
     "output_type": "stream",
     "text": [
      "Epoch 790/1000: Train Loss = 0.5285\n"
     ]
    },
    {
     "data": {
      "application/vnd.jupyter.widget-view+json": {
       "model_id": "340d915a46b44a60856ff419eda1560c",
       "version_major": 2,
       "version_minor": 0
      },
      "text/plain": [
       "Epoch 791:   0%|          | 0/48 [00:00<?, ?it/s]"
      ]
     },
     "metadata": {},
     "output_type": "display_data"
    },
    {
     "name": "stdout",
     "output_type": "stream",
     "text": [
      "Epoch 791/1000: Train Loss = 0.5173\n"
     ]
    },
    {
     "data": {
      "application/vnd.jupyter.widget-view+json": {
       "model_id": "264c3615f59440bd84e00465730d5776",
       "version_major": 2,
       "version_minor": 0
      },
      "text/plain": [
       "Epoch 792:   0%|          | 0/48 [00:00<?, ?it/s]"
      ]
     },
     "metadata": {},
     "output_type": "display_data"
    },
    {
     "name": "stdout",
     "output_type": "stream",
     "text": [
      "Epoch 792/1000: Train Loss = 0.5178\n"
     ]
    },
    {
     "data": {
      "application/vnd.jupyter.widget-view+json": {
       "model_id": "6ace3266fe5c4293839cf033f373f0c9",
       "version_major": 2,
       "version_minor": 0
      },
      "text/plain": [
       "Epoch 793:   0%|          | 0/48 [00:00<?, ?it/s]"
      ]
     },
     "metadata": {},
     "output_type": "display_data"
    },
    {
     "name": "stdout",
     "output_type": "stream",
     "text": [
      "Epoch 793/1000: Train Loss = 0.5253\n"
     ]
    },
    {
     "data": {
      "application/vnd.jupyter.widget-view+json": {
       "model_id": "266ab67cdbb24bd089a508e6fa3e5f56",
       "version_major": 2,
       "version_minor": 0
      },
      "text/plain": [
       "Epoch 794:   0%|          | 0/48 [00:00<?, ?it/s]"
      ]
     },
     "metadata": {},
     "output_type": "display_data"
    },
    {
     "name": "stdout",
     "output_type": "stream",
     "text": [
      "Epoch 794/1000: Train Loss = 0.5192\n"
     ]
    },
    {
     "data": {
      "application/vnd.jupyter.widget-view+json": {
       "model_id": "2d00f1c70380419f868163de61f25558",
       "version_major": 2,
       "version_minor": 0
      },
      "text/plain": [
       "Epoch 795:   0%|          | 0/48 [00:00<?, ?it/s]"
      ]
     },
     "metadata": {},
     "output_type": "display_data"
    },
    {
     "name": "stdout",
     "output_type": "stream",
     "text": [
      "Epoch 795/1000: Train Loss = 0.5284\n"
     ]
    },
    {
     "data": {
      "application/vnd.jupyter.widget-view+json": {
       "model_id": "68d4974184bf4f84adf931e882269e08",
       "version_major": 2,
       "version_minor": 0
      },
      "text/plain": [
       "Epoch 796:   0%|          | 0/48 [00:00<?, ?it/s]"
      ]
     },
     "metadata": {},
     "output_type": "display_data"
    },
    {
     "name": "stdout",
     "output_type": "stream",
     "text": [
      "Epoch 796/1000: Train Loss = 0.5212\n"
     ]
    },
    {
     "data": {
      "application/vnd.jupyter.widget-view+json": {
       "model_id": "b2a419b4edad40dcaf773f71c04081fb",
       "version_major": 2,
       "version_minor": 0
      },
      "text/plain": [
       "Epoch 797:   0%|          | 0/48 [00:00<?, ?it/s]"
      ]
     },
     "metadata": {},
     "output_type": "display_data"
    },
    {
     "name": "stdout",
     "output_type": "stream",
     "text": [
      "Epoch 797/1000: Train Loss = 0.5178\n"
     ]
    },
    {
     "data": {
      "application/vnd.jupyter.widget-view+json": {
       "model_id": "4d0c706b11a84a3b9d483d65e666b67f",
       "version_major": 2,
       "version_minor": 0
      },
      "text/plain": [
       "Epoch 798:   0%|          | 0/48 [00:00<?, ?it/s]"
      ]
     },
     "metadata": {},
     "output_type": "display_data"
    },
    {
     "name": "stdout",
     "output_type": "stream",
     "text": [
      "Epoch 798/1000: Train Loss = 0.5191\n"
     ]
    },
    {
     "data": {
      "application/vnd.jupyter.widget-view+json": {
       "model_id": "56e4a7551ad54382abe65560560b3949",
       "version_major": 2,
       "version_minor": 0
      },
      "text/plain": [
       "Epoch 799:   0%|          | 0/48 [00:00<?, ?it/s]"
      ]
     },
     "metadata": {},
     "output_type": "display_data"
    },
    {
     "name": "stdout",
     "output_type": "stream",
     "text": [
      "Epoch 799/1000: Train Loss = 0.5211\n"
     ]
    },
    {
     "data": {
      "application/vnd.jupyter.widget-view+json": {
       "model_id": "5e967ee37c7e4c7bab05bddb6630cb1d",
       "version_major": 2,
       "version_minor": 0
      },
      "text/plain": [
       "Epoch 800:   0%|          | 0/48 [00:00<?, ?it/s]"
      ]
     },
     "metadata": {},
     "output_type": "display_data"
    },
    {
     "name": "stdout",
     "output_type": "stream",
     "text": [
      "\n",
      "Binary LSTM (Epoch 800) Evaluation Results:\n",
      "  Average Loss: 0.5693\n",
      "  AUC (Area Under Curve): 0.5092\n",
      "  β₀ (exact match): 0.0000 (0.00%)\n",
      "  β₁ (≤1 bit error): 0.3958 (39.58%)\n",
      "  β₂ (≤2 bit error): 0.6458 (64.58%)\n",
      "  β₃ (≤3 bit error): 0.7917 (79.17%)\n",
      "  β₄ (≤4 bit error): 0.8542 (85.42%)\n"
     ]
    },
    {
     "data": {
      "application/vnd.jupyter.widget-view+json": {
       "model_id": "ed265cb30a224461a76c78d6886ffb7d",
       "version_major": 2,
       "version_minor": 0
      },
      "text/plain": [
       "Epoch 801:   0%|          | 0/48 [00:00<?, ?it/s]"
      ]
     },
     "metadata": {},
     "output_type": "display_data"
    },
    {
     "name": "stdout",
     "output_type": "stream",
     "text": [
      "Epoch 801/1000: Train Loss = 0.5214\n"
     ]
    },
    {
     "data": {
      "application/vnd.jupyter.widget-view+json": {
       "model_id": "2b3e540f9ff9495d9225b027b90fe479",
       "version_major": 2,
       "version_minor": 0
      },
      "text/plain": [
       "Epoch 802:   0%|          | 0/48 [00:00<?, ?it/s]"
      ]
     },
     "metadata": {},
     "output_type": "display_data"
    },
    {
     "name": "stdout",
     "output_type": "stream",
     "text": [
      "Epoch 802/1000: Train Loss = 0.5187\n"
     ]
    },
    {
     "data": {
      "application/vnd.jupyter.widget-view+json": {
       "model_id": "6a8b3572f3344b448aa70c7ab72d4599",
       "version_major": 2,
       "version_minor": 0
      },
      "text/plain": [
       "Epoch 803:   0%|          | 0/48 [00:00<?, ?it/s]"
      ]
     },
     "metadata": {},
     "output_type": "display_data"
    },
    {
     "name": "stdout",
     "output_type": "stream",
     "text": [
      "Epoch 803/1000: Train Loss = 0.5223\n"
     ]
    },
    {
     "data": {
      "application/vnd.jupyter.widget-view+json": {
       "model_id": "a468ba6dc5d14872b9bfc2e5eb60d97a",
       "version_major": 2,
       "version_minor": 0
      },
      "text/plain": [
       "Epoch 804:   0%|          | 0/48 [00:00<?, ?it/s]"
      ]
     },
     "metadata": {},
     "output_type": "display_data"
    },
    {
     "name": "stdout",
     "output_type": "stream",
     "text": [
      "Epoch 804/1000: Train Loss = 0.5180\n"
     ]
    },
    {
     "data": {
      "application/vnd.jupyter.widget-view+json": {
       "model_id": "b20e188924454339a716a507f0dafccb",
       "version_major": 2,
       "version_minor": 0
      },
      "text/plain": [
       "Epoch 805:   0%|          | 0/48 [00:00<?, ?it/s]"
      ]
     },
     "metadata": {},
     "output_type": "display_data"
    },
    {
     "name": "stdout",
     "output_type": "stream",
     "text": [
      "Epoch 805/1000: Train Loss = 0.5192\n"
     ]
    },
    {
     "data": {
      "application/vnd.jupyter.widget-view+json": {
       "model_id": "7e4120fcca53408d91122be2fe5716c4",
       "version_major": 2,
       "version_minor": 0
      },
      "text/plain": [
       "Epoch 806:   0%|          | 0/48 [00:00<?, ?it/s]"
      ]
     },
     "metadata": {},
     "output_type": "display_data"
    },
    {
     "name": "stdout",
     "output_type": "stream",
     "text": [
      "Epoch 806/1000: Train Loss = 0.5205\n"
     ]
    },
    {
     "data": {
      "application/vnd.jupyter.widget-view+json": {
       "model_id": "4354c75cb3e64347b0b889dd8f0b7126",
       "version_major": 2,
       "version_minor": 0
      },
      "text/plain": [
       "Epoch 807:   0%|          | 0/48 [00:00<?, ?it/s]"
      ]
     },
     "metadata": {},
     "output_type": "display_data"
    },
    {
     "name": "stdout",
     "output_type": "stream",
     "text": [
      "Epoch 807/1000: Train Loss = 0.5207\n"
     ]
    },
    {
     "data": {
      "application/vnd.jupyter.widget-view+json": {
       "model_id": "dcaec8cd300447419ab3f9e8fd6209e7",
       "version_major": 2,
       "version_minor": 0
      },
      "text/plain": [
       "Epoch 808:   0%|          | 0/48 [00:00<?, ?it/s]"
      ]
     },
     "metadata": {},
     "output_type": "display_data"
    },
    {
     "name": "stdout",
     "output_type": "stream",
     "text": [
      "Epoch 808/1000: Train Loss = 0.5223\n"
     ]
    },
    {
     "data": {
      "application/vnd.jupyter.widget-view+json": {
       "model_id": "4755a83a864a481cb4203f71531e354f",
       "version_major": 2,
       "version_minor": 0
      },
      "text/plain": [
       "Epoch 809:   0%|          | 0/48 [00:00<?, ?it/s]"
      ]
     },
     "metadata": {},
     "output_type": "display_data"
    },
    {
     "name": "stdout",
     "output_type": "stream",
     "text": [
      "Epoch 809/1000: Train Loss = 0.5202\n"
     ]
    },
    {
     "data": {
      "application/vnd.jupyter.widget-view+json": {
       "model_id": "75b2db0b9d9d40c092ee2070386215d7",
       "version_major": 2,
       "version_minor": 0
      },
      "text/plain": [
       "Epoch 810:   0%|          | 0/48 [00:00<?, ?it/s]"
      ]
     },
     "metadata": {},
     "output_type": "display_data"
    },
    {
     "name": "stdout",
     "output_type": "stream",
     "text": [
      "Epoch 810/1000: Train Loss = 0.5190\n"
     ]
    },
    {
     "data": {
      "application/vnd.jupyter.widget-view+json": {
       "model_id": "76eb75a4876440e69843c2477683db19",
       "version_major": 2,
       "version_minor": 0
      },
      "text/plain": [
       "Epoch 811:   0%|          | 0/48 [00:00<?, ?it/s]"
      ]
     },
     "metadata": {},
     "output_type": "display_data"
    },
    {
     "name": "stdout",
     "output_type": "stream",
     "text": [
      "Epoch 811/1000: Train Loss = 0.5197\n"
     ]
    },
    {
     "data": {
      "application/vnd.jupyter.widget-view+json": {
       "model_id": "8214169399024d6f89f26f509f2ead30",
       "version_major": 2,
       "version_minor": 0
      },
      "text/plain": [
       "Epoch 812:   0%|          | 0/48 [00:00<?, ?it/s]"
      ]
     },
     "metadata": {},
     "output_type": "display_data"
    },
    {
     "name": "stdout",
     "output_type": "stream",
     "text": [
      "Epoch 812/1000: Train Loss = 0.5206\n"
     ]
    },
    {
     "data": {
      "application/vnd.jupyter.widget-view+json": {
       "model_id": "3a2f7d8ab5814f5ba87eff7232eee0bf",
       "version_major": 2,
       "version_minor": 0
      },
      "text/plain": [
       "Epoch 813:   0%|          | 0/48 [00:00<?, ?it/s]"
      ]
     },
     "metadata": {},
     "output_type": "display_data"
    },
    {
     "name": "stdout",
     "output_type": "stream",
     "text": [
      "Epoch 813/1000: Train Loss = 0.5191\n"
     ]
    },
    {
     "data": {
      "application/vnd.jupyter.widget-view+json": {
       "model_id": "ef641e815b19404db674430324aa2922",
       "version_major": 2,
       "version_minor": 0
      },
      "text/plain": [
       "Epoch 814:   0%|          | 0/48 [00:00<?, ?it/s]"
      ]
     },
     "metadata": {},
     "output_type": "display_data"
    },
    {
     "name": "stdout",
     "output_type": "stream",
     "text": [
      "Epoch 814/1000: Train Loss = 0.5179\n"
     ]
    },
    {
     "data": {
      "application/vnd.jupyter.widget-view+json": {
       "model_id": "a43af80d608647f1bd099ca3ea1b14bb",
       "version_major": 2,
       "version_minor": 0
      },
      "text/plain": [
       "Epoch 815:   0%|          | 0/48 [00:00<?, ?it/s]"
      ]
     },
     "metadata": {},
     "output_type": "display_data"
    },
    {
     "name": "stdout",
     "output_type": "stream",
     "text": [
      "Epoch 815/1000: Train Loss = 0.5182\n"
     ]
    },
    {
     "data": {
      "application/vnd.jupyter.widget-view+json": {
       "model_id": "a73a42a2c36b451292397a4371bd7cba",
       "version_major": 2,
       "version_minor": 0
      },
      "text/plain": [
       "Epoch 816:   0%|          | 0/48 [00:00<?, ?it/s]"
      ]
     },
     "metadata": {},
     "output_type": "display_data"
    },
    {
     "name": "stdout",
     "output_type": "stream",
     "text": [
      "Epoch 816/1000: Train Loss = 0.5190\n"
     ]
    },
    {
     "data": {
      "application/vnd.jupyter.widget-view+json": {
       "model_id": "060af6a6b50146778cbae2795b3de54e",
       "version_major": 2,
       "version_minor": 0
      },
      "text/plain": [
       "Epoch 817:   0%|          | 0/48 [00:00<?, ?it/s]"
      ]
     },
     "metadata": {},
     "output_type": "display_data"
    },
    {
     "name": "stdout",
     "output_type": "stream",
     "text": [
      "Epoch 817/1000: Train Loss = 0.5210\n"
     ]
    },
    {
     "data": {
      "application/vnd.jupyter.widget-view+json": {
       "model_id": "63d02d6406af40deb0ca36516413bd82",
       "version_major": 2,
       "version_minor": 0
      },
      "text/plain": [
       "Epoch 818:   0%|          | 0/48 [00:00<?, ?it/s]"
      ]
     },
     "metadata": {},
     "output_type": "display_data"
    },
    {
     "name": "stdout",
     "output_type": "stream",
     "text": [
      "Epoch 818/1000: Train Loss = 0.5198\n"
     ]
    },
    {
     "data": {
      "application/vnd.jupyter.widget-view+json": {
       "model_id": "ac864ce6fe7a42dfb15f8b61da2982e1",
       "version_major": 2,
       "version_minor": 0
      },
      "text/plain": [
       "Epoch 819:   0%|          | 0/48 [00:00<?, ?it/s]"
      ]
     },
     "metadata": {},
     "output_type": "display_data"
    },
    {
     "name": "stdout",
     "output_type": "stream",
     "text": [
      "Epoch 819/1000: Train Loss = 0.5227\n"
     ]
    },
    {
     "data": {
      "application/vnd.jupyter.widget-view+json": {
       "model_id": "37e2609d3b3642098946c9801f421929",
       "version_major": 2,
       "version_minor": 0
      },
      "text/plain": [
       "Epoch 820:   0%|          | 0/48 [00:00<?, ?it/s]"
      ]
     },
     "metadata": {},
     "output_type": "display_data"
    },
    {
     "name": "stdout",
     "output_type": "stream",
     "text": [
      "Epoch 820/1000: Train Loss = 0.5202\n"
     ]
    },
    {
     "data": {
      "application/vnd.jupyter.widget-view+json": {
       "model_id": "b0b807021d4a40ecbfb3b3b6bed083f1",
       "version_major": 2,
       "version_minor": 0
      },
      "text/plain": [
       "Epoch 821:   0%|          | 0/48 [00:00<?, ?it/s]"
      ]
     },
     "metadata": {},
     "output_type": "display_data"
    },
    {
     "name": "stdout",
     "output_type": "stream",
     "text": [
      "Epoch 821/1000: Train Loss = 0.5290\n"
     ]
    },
    {
     "data": {
      "application/vnd.jupyter.widget-view+json": {
       "model_id": "af6536fca158462b959842ba7e7dbc29",
       "version_major": 2,
       "version_minor": 0
      },
      "text/plain": [
       "Epoch 822:   0%|          | 0/48 [00:00<?, ?it/s]"
      ]
     },
     "metadata": {},
     "output_type": "display_data"
    },
    {
     "name": "stdout",
     "output_type": "stream",
     "text": [
      "Epoch 822/1000: Train Loss = 0.5205\n"
     ]
    },
    {
     "data": {
      "application/vnd.jupyter.widget-view+json": {
       "model_id": "ff223af4ce034edc9992411618d8cfa9",
       "version_major": 2,
       "version_minor": 0
      },
      "text/plain": [
       "Epoch 823:   0%|          | 0/48 [00:00<?, ?it/s]"
      ]
     },
     "metadata": {},
     "output_type": "display_data"
    },
    {
     "name": "stdout",
     "output_type": "stream",
     "text": [
      "Epoch 823/1000: Train Loss = 0.5198\n"
     ]
    },
    {
     "data": {
      "application/vnd.jupyter.widget-view+json": {
       "model_id": "3b404bf47e0a47f386d1928c05b321cc",
       "version_major": 2,
       "version_minor": 0
      },
      "text/plain": [
       "Epoch 824:   0%|          | 0/48 [00:00<?, ?it/s]"
      ]
     },
     "metadata": {},
     "output_type": "display_data"
    },
    {
     "name": "stdout",
     "output_type": "stream",
     "text": [
      "Epoch 824/1000: Train Loss = 0.5217\n"
     ]
    },
    {
     "data": {
      "application/vnd.jupyter.widget-view+json": {
       "model_id": "60655e258e724dc4894305c0c86386c0",
       "version_major": 2,
       "version_minor": 0
      },
      "text/plain": [
       "Epoch 825:   0%|          | 0/48 [00:00<?, ?it/s]"
      ]
     },
     "metadata": {},
     "output_type": "display_data"
    },
    {
     "name": "stdout",
     "output_type": "stream",
     "text": [
      "Epoch 825/1000: Train Loss = 0.5226\n"
     ]
    },
    {
     "data": {
      "application/vnd.jupyter.widget-view+json": {
       "model_id": "ce59972a874e4d119ee6a58abb04d67f",
       "version_major": 2,
       "version_minor": 0
      },
      "text/plain": [
       "Epoch 826:   0%|          | 0/48 [00:00<?, ?it/s]"
      ]
     },
     "metadata": {},
     "output_type": "display_data"
    },
    {
     "name": "stdout",
     "output_type": "stream",
     "text": [
      "Epoch 826/1000: Train Loss = 0.5186\n"
     ]
    },
    {
     "data": {
      "application/vnd.jupyter.widget-view+json": {
       "model_id": "c3d5f1ced1244dbcbb1cf62eb2347bb1",
       "version_major": 2,
       "version_minor": 0
      },
      "text/plain": [
       "Epoch 827:   0%|          | 0/48 [00:00<?, ?it/s]"
      ]
     },
     "metadata": {},
     "output_type": "display_data"
    },
    {
     "name": "stdout",
     "output_type": "stream",
     "text": [
      "Epoch 827/1000: Train Loss = 0.5209\n"
     ]
    },
    {
     "data": {
      "application/vnd.jupyter.widget-view+json": {
       "model_id": "f907b041799044ef8d9cc5beb53b503c",
       "version_major": 2,
       "version_minor": 0
      },
      "text/plain": [
       "Epoch 828:   0%|          | 0/48 [00:00<?, ?it/s]"
      ]
     },
     "metadata": {},
     "output_type": "display_data"
    },
    {
     "name": "stdout",
     "output_type": "stream",
     "text": [
      "Epoch 828/1000: Train Loss = 0.5196\n"
     ]
    },
    {
     "data": {
      "application/vnd.jupyter.widget-view+json": {
       "model_id": "2e0689a918b94f5594a2fbb79904783e",
       "version_major": 2,
       "version_minor": 0
      },
      "text/plain": [
       "Epoch 829:   0%|          | 0/48 [00:00<?, ?it/s]"
      ]
     },
     "metadata": {},
     "output_type": "display_data"
    },
    {
     "name": "stdout",
     "output_type": "stream",
     "text": [
      "Epoch 829/1000: Train Loss = 0.5179\n"
     ]
    },
    {
     "data": {
      "application/vnd.jupyter.widget-view+json": {
       "model_id": "186facd19dce4d75a05fac8edef8a775",
       "version_major": 2,
       "version_minor": 0
      },
      "text/plain": [
       "Epoch 830:   0%|          | 0/48 [00:00<?, ?it/s]"
      ]
     },
     "metadata": {},
     "output_type": "display_data"
    },
    {
     "name": "stdout",
     "output_type": "stream",
     "text": [
      "Epoch 830/1000: Train Loss = 0.5187\n"
     ]
    },
    {
     "data": {
      "application/vnd.jupyter.widget-view+json": {
       "model_id": "c391f44235294417bb2b6cd003542185",
       "version_major": 2,
       "version_minor": 0
      },
      "text/plain": [
       "Epoch 831:   0%|          | 0/48 [00:00<?, ?it/s]"
      ]
     },
     "metadata": {},
     "output_type": "display_data"
    },
    {
     "name": "stdout",
     "output_type": "stream",
     "text": [
      "Epoch 831/1000: Train Loss = 0.5216\n"
     ]
    },
    {
     "data": {
      "application/vnd.jupyter.widget-view+json": {
       "model_id": "1623623493e94b91878365a1890a883b",
       "version_major": 2,
       "version_minor": 0
      },
      "text/plain": [
       "Epoch 832:   0%|          | 0/48 [00:00<?, ?it/s]"
      ]
     },
     "metadata": {},
     "output_type": "display_data"
    },
    {
     "name": "stdout",
     "output_type": "stream",
     "text": [
      "Epoch 832/1000: Train Loss = 0.5196\n"
     ]
    },
    {
     "data": {
      "application/vnd.jupyter.widget-view+json": {
       "model_id": "311725f5798b4d7c8f925296b3222532",
       "version_major": 2,
       "version_minor": 0
      },
      "text/plain": [
       "Epoch 833:   0%|          | 0/48 [00:00<?, ?it/s]"
      ]
     },
     "metadata": {},
     "output_type": "display_data"
    },
    {
     "name": "stdout",
     "output_type": "stream",
     "text": [
      "Epoch 833/1000: Train Loss = 0.5182\n"
     ]
    },
    {
     "data": {
      "application/vnd.jupyter.widget-view+json": {
       "model_id": "a95ef0bc37934b9395da5e0416017625",
       "version_major": 2,
       "version_minor": 0
      },
      "text/plain": [
       "Epoch 834:   0%|          | 0/48 [00:00<?, ?it/s]"
      ]
     },
     "metadata": {},
     "output_type": "display_data"
    },
    {
     "name": "stdout",
     "output_type": "stream",
     "text": [
      "Epoch 834/1000: Train Loss = 0.5178\n"
     ]
    },
    {
     "data": {
      "application/vnd.jupyter.widget-view+json": {
       "model_id": "0aa715a8ef85460e9bc344997d323c52",
       "version_major": 2,
       "version_minor": 0
      },
      "text/plain": [
       "Epoch 835:   0%|          | 0/48 [00:00<?, ?it/s]"
      ]
     },
     "metadata": {},
     "output_type": "display_data"
    },
    {
     "name": "stdout",
     "output_type": "stream",
     "text": [
      "Epoch 835/1000: Train Loss = 0.5181\n"
     ]
    },
    {
     "data": {
      "application/vnd.jupyter.widget-view+json": {
       "model_id": "acfcfa0011d5411393470a32aa562186",
       "version_major": 2,
       "version_minor": 0
      },
      "text/plain": [
       "Epoch 836:   0%|          | 0/48 [00:00<?, ?it/s]"
      ]
     },
     "metadata": {},
     "output_type": "display_data"
    },
    {
     "name": "stdout",
     "output_type": "stream",
     "text": [
      "Epoch 836/1000: Train Loss = 0.5192\n"
     ]
    },
    {
     "data": {
      "application/vnd.jupyter.widget-view+json": {
       "model_id": "9afdd0c3a9d94b4eb57b58a35b679a9b",
       "version_major": 2,
       "version_minor": 0
      },
      "text/plain": [
       "Epoch 837:   0%|          | 0/48 [00:00<?, ?it/s]"
      ]
     },
     "metadata": {},
     "output_type": "display_data"
    },
    {
     "name": "stdout",
     "output_type": "stream",
     "text": [
      "Epoch 837/1000: Train Loss = 0.5187\n"
     ]
    },
    {
     "data": {
      "application/vnd.jupyter.widget-view+json": {
       "model_id": "be3c4f3fac7e40e3ac328eab6ce73baf",
       "version_major": 2,
       "version_minor": 0
      },
      "text/plain": [
       "Epoch 838:   0%|          | 0/48 [00:00<?, ?it/s]"
      ]
     },
     "metadata": {},
     "output_type": "display_data"
    },
    {
     "name": "stdout",
     "output_type": "stream",
     "text": [
      "Epoch 838/1000: Train Loss = 0.5194\n"
     ]
    },
    {
     "data": {
      "application/vnd.jupyter.widget-view+json": {
       "model_id": "ff1fb41f7a63437587b9af626a727fba",
       "version_major": 2,
       "version_minor": 0
      },
      "text/plain": [
       "Epoch 839:   0%|          | 0/48 [00:00<?, ?it/s]"
      ]
     },
     "metadata": {},
     "output_type": "display_data"
    },
    {
     "name": "stdout",
     "output_type": "stream",
     "text": [
      "Epoch 839/1000: Train Loss = 0.5192\n"
     ]
    },
    {
     "data": {
      "application/vnd.jupyter.widget-view+json": {
       "model_id": "6348adab133243f18ffa44cf48bb86a3",
       "version_major": 2,
       "version_minor": 0
      },
      "text/plain": [
       "Epoch 840:   0%|          | 0/48 [00:00<?, ?it/s]"
      ]
     },
     "metadata": {},
     "output_type": "display_data"
    },
    {
     "name": "stdout",
     "output_type": "stream",
     "text": [
      "Epoch 840/1000: Train Loss = 0.5272\n"
     ]
    },
    {
     "data": {
      "application/vnd.jupyter.widget-view+json": {
       "model_id": "1735f2408a5d412690b5794ef14f5f20",
       "version_major": 2,
       "version_minor": 0
      },
      "text/plain": [
       "Epoch 841:   0%|          | 0/48 [00:00<?, ?it/s]"
      ]
     },
     "metadata": {},
     "output_type": "display_data"
    },
    {
     "name": "stdout",
     "output_type": "stream",
     "text": [
      "Epoch 841/1000: Train Loss = 0.5190\n"
     ]
    },
    {
     "data": {
      "application/vnd.jupyter.widget-view+json": {
       "model_id": "5b064fad18184848a9d4a3f98b6a3dea",
       "version_major": 2,
       "version_minor": 0
      },
      "text/plain": [
       "Epoch 842:   0%|          | 0/48 [00:00<?, ?it/s]"
      ]
     },
     "metadata": {},
     "output_type": "display_data"
    },
    {
     "name": "stdout",
     "output_type": "stream",
     "text": [
      "Epoch 842/1000: Train Loss = 0.5174\n"
     ]
    },
    {
     "data": {
      "application/vnd.jupyter.widget-view+json": {
       "model_id": "191d0a917094470cb184cd4c631cb026",
       "version_major": 2,
       "version_minor": 0
      },
      "text/plain": [
       "Epoch 843:   0%|          | 0/48 [00:00<?, ?it/s]"
      ]
     },
     "metadata": {},
     "output_type": "display_data"
    },
    {
     "name": "stdout",
     "output_type": "stream",
     "text": [
      "Epoch 843/1000: Train Loss = 0.5287\n"
     ]
    },
    {
     "data": {
      "application/vnd.jupyter.widget-view+json": {
       "model_id": "9d3016edb14d44039e2654587deec830",
       "version_major": 2,
       "version_minor": 0
      },
      "text/plain": [
       "Epoch 844:   0%|          | 0/48 [00:00<?, ?it/s]"
      ]
     },
     "metadata": {},
     "output_type": "display_data"
    },
    {
     "name": "stdout",
     "output_type": "stream",
     "text": [
      "Epoch 844/1000: Train Loss = 0.5217\n"
     ]
    },
    {
     "data": {
      "application/vnd.jupyter.widget-view+json": {
       "model_id": "bbfaedfed752498b847cea62f2cc329c",
       "version_major": 2,
       "version_minor": 0
      },
      "text/plain": [
       "Epoch 845:   0%|          | 0/48 [00:00<?, ?it/s]"
      ]
     },
     "metadata": {},
     "output_type": "display_data"
    },
    {
     "name": "stdout",
     "output_type": "stream",
     "text": [
      "Epoch 845/1000: Train Loss = 0.5219\n"
     ]
    },
    {
     "data": {
      "application/vnd.jupyter.widget-view+json": {
       "model_id": "0f79f51869d142329f6f474877f3ff95",
       "version_major": 2,
       "version_minor": 0
      },
      "text/plain": [
       "Epoch 846:   0%|          | 0/48 [00:00<?, ?it/s]"
      ]
     },
     "metadata": {},
     "output_type": "display_data"
    },
    {
     "name": "stdout",
     "output_type": "stream",
     "text": [
      "Epoch 846/1000: Train Loss = 0.5204\n"
     ]
    },
    {
     "data": {
      "application/vnd.jupyter.widget-view+json": {
       "model_id": "18dd151c771e48838335ac2dc792d360",
       "version_major": 2,
       "version_minor": 0
      },
      "text/plain": [
       "Epoch 847:   0%|          | 0/48 [00:00<?, ?it/s]"
      ]
     },
     "metadata": {},
     "output_type": "display_data"
    },
    {
     "name": "stdout",
     "output_type": "stream",
     "text": [
      "Epoch 847/1000: Train Loss = 0.5202\n"
     ]
    },
    {
     "data": {
      "application/vnd.jupyter.widget-view+json": {
       "model_id": "1ca91f7ee701435eb022dafca34c099c",
       "version_major": 2,
       "version_minor": 0
      },
      "text/plain": [
       "Epoch 848:   0%|          | 0/48 [00:00<?, ?it/s]"
      ]
     },
     "metadata": {},
     "output_type": "display_data"
    },
    {
     "name": "stdout",
     "output_type": "stream",
     "text": [
      "Epoch 848/1000: Train Loss = 0.5291\n"
     ]
    },
    {
     "data": {
      "application/vnd.jupyter.widget-view+json": {
       "model_id": "ebb26db18ac64bf8a3d3884a29806995",
       "version_major": 2,
       "version_minor": 0
      },
      "text/plain": [
       "Epoch 849:   0%|          | 0/48 [00:00<?, ?it/s]"
      ]
     },
     "metadata": {},
     "output_type": "display_data"
    },
    {
     "name": "stdout",
     "output_type": "stream",
     "text": [
      "Epoch 849/1000: Train Loss = 0.5211\n"
     ]
    },
    {
     "data": {
      "application/vnd.jupyter.widget-view+json": {
       "model_id": "6fa4eaaeed1948b0acd9d46d89cbfcd2",
       "version_major": 2,
       "version_minor": 0
      },
      "text/plain": [
       "Epoch 850:   0%|          | 0/48 [00:00<?, ?it/s]"
      ]
     },
     "metadata": {},
     "output_type": "display_data"
    },
    {
     "name": "stdout",
     "output_type": "stream",
     "text": [
      "\n",
      "Binary LSTM (Epoch 850) Evaluation Results:\n",
      "  Average Loss: 0.5670\n",
      "  AUC (Area Under Curve): 0.5162\n",
      "  β₀ (exact match): 0.0000 (0.00%)\n",
      "  β₁ (≤1 bit error): 0.3958 (39.58%)\n",
      "  β₂ (≤2 bit error): 0.6458 (64.58%)\n",
      "  β₃ (≤3 bit error): 0.7917 (79.17%)\n",
      "  β₄ (≤4 bit error): 0.8542 (85.42%)\n"
     ]
    },
    {
     "data": {
      "application/vnd.jupyter.widget-view+json": {
       "model_id": "717f9c1840fe445ebeb27f7a350dc22f",
       "version_major": 2,
       "version_minor": 0
      },
      "text/plain": [
       "Epoch 851:   0%|          | 0/48 [00:00<?, ?it/s]"
      ]
     },
     "metadata": {},
     "output_type": "display_data"
    },
    {
     "name": "stdout",
     "output_type": "stream",
     "text": [
      "Epoch 851/1000: Train Loss = 0.5206\n"
     ]
    },
    {
     "data": {
      "application/vnd.jupyter.widget-view+json": {
       "model_id": "41fe80d4e63f4de885ed230802f12f58",
       "version_major": 2,
       "version_minor": 0
      },
      "text/plain": [
       "Epoch 852:   0%|          | 0/48 [00:00<?, ?it/s]"
      ]
     },
     "metadata": {},
     "output_type": "display_data"
    },
    {
     "name": "stdout",
     "output_type": "stream",
     "text": [
      "Epoch 852/1000: Train Loss = 0.5304\n"
     ]
    },
    {
     "data": {
      "application/vnd.jupyter.widget-view+json": {
       "model_id": "2551dc1cb2d94f8dbf1325527b023b33",
       "version_major": 2,
       "version_minor": 0
      },
      "text/plain": [
       "Epoch 853:   0%|          | 0/48 [00:00<?, ?it/s]"
      ]
     },
     "metadata": {},
     "output_type": "display_data"
    },
    {
     "name": "stdout",
     "output_type": "stream",
     "text": [
      "Epoch 853/1000: Train Loss = 0.5205\n"
     ]
    },
    {
     "data": {
      "application/vnd.jupyter.widget-view+json": {
       "model_id": "156e0af77a314a9795629e40fa4b478f",
       "version_major": 2,
       "version_minor": 0
      },
      "text/plain": [
       "Epoch 854:   0%|          | 0/48 [00:00<?, ?it/s]"
      ]
     },
     "metadata": {},
     "output_type": "display_data"
    },
    {
     "name": "stdout",
     "output_type": "stream",
     "text": [
      "Epoch 854/1000: Train Loss = 0.5189\n"
     ]
    },
    {
     "data": {
      "application/vnd.jupyter.widget-view+json": {
       "model_id": "06327ee44e614f148d190dba44aae2af",
       "version_major": 2,
       "version_minor": 0
      },
      "text/plain": [
       "Epoch 855:   0%|          | 0/48 [00:00<?, ?it/s]"
      ]
     },
     "metadata": {},
     "output_type": "display_data"
    },
    {
     "name": "stdout",
     "output_type": "stream",
     "text": [
      "Epoch 855/1000: Train Loss = 0.5212\n"
     ]
    },
    {
     "data": {
      "application/vnd.jupyter.widget-view+json": {
       "model_id": "54481c12bdc74e929f06ca22d8c89649",
       "version_major": 2,
       "version_minor": 0
      },
      "text/plain": [
       "Epoch 856:   0%|          | 0/48 [00:00<?, ?it/s]"
      ]
     },
     "metadata": {},
     "output_type": "display_data"
    },
    {
     "name": "stdout",
     "output_type": "stream",
     "text": [
      "Epoch 856/1000: Train Loss = 0.5205\n"
     ]
    },
    {
     "data": {
      "application/vnd.jupyter.widget-view+json": {
       "model_id": "b6bed7c2bf75408cbf7ee8029d3d1fa7",
       "version_major": 2,
       "version_minor": 0
      },
      "text/plain": [
       "Epoch 857:   0%|          | 0/48 [00:00<?, ?it/s]"
      ]
     },
     "metadata": {},
     "output_type": "display_data"
    },
    {
     "name": "stdout",
     "output_type": "stream",
     "text": [
      "Epoch 857/1000: Train Loss = 0.5209\n"
     ]
    },
    {
     "data": {
      "application/vnd.jupyter.widget-view+json": {
       "model_id": "00285c29d0d148fdbf460348ff0396a6",
       "version_major": 2,
       "version_minor": 0
      },
      "text/plain": [
       "Epoch 858:   0%|          | 0/48 [00:00<?, ?it/s]"
      ]
     },
     "metadata": {},
     "output_type": "display_data"
    },
    {
     "name": "stdout",
     "output_type": "stream",
     "text": [
      "Epoch 858/1000: Train Loss = 0.5266\n"
     ]
    },
    {
     "data": {
      "application/vnd.jupyter.widget-view+json": {
       "model_id": "9852998369a54869a12b59f99e2beeae",
       "version_major": 2,
       "version_minor": 0
      },
      "text/plain": [
       "Epoch 859:   0%|          | 0/48 [00:00<?, ?it/s]"
      ]
     },
     "metadata": {},
     "output_type": "display_data"
    },
    {
     "name": "stdout",
     "output_type": "stream",
     "text": [
      "Epoch 859/1000: Train Loss = 0.5184\n"
     ]
    },
    {
     "data": {
      "application/vnd.jupyter.widget-view+json": {
       "model_id": "93a9fee541f14c02a48542d9116f1694",
       "version_major": 2,
       "version_minor": 0
      },
      "text/plain": [
       "Epoch 860:   0%|          | 0/48 [00:00<?, ?it/s]"
      ]
     },
     "metadata": {},
     "output_type": "display_data"
    },
    {
     "name": "stdout",
     "output_type": "stream",
     "text": [
      "Epoch 860/1000: Train Loss = 0.5166\n"
     ]
    },
    {
     "data": {
      "application/vnd.jupyter.widget-view+json": {
       "model_id": "df8da755d41f42dbb5f7fff0e8f151ef",
       "version_major": 2,
       "version_minor": 0
      },
      "text/plain": [
       "Epoch 861:   0%|          | 0/48 [00:00<?, ?it/s]"
      ]
     },
     "metadata": {},
     "output_type": "display_data"
    },
    {
     "name": "stdout",
     "output_type": "stream",
     "text": [
      "Epoch 861/1000: Train Loss = 0.5207\n"
     ]
    },
    {
     "data": {
      "application/vnd.jupyter.widget-view+json": {
       "model_id": "5056750cc5804648a4e7dac92fccdb47",
       "version_major": 2,
       "version_minor": 0
      },
      "text/plain": [
       "Epoch 862:   0%|          | 0/48 [00:00<?, ?it/s]"
      ]
     },
     "metadata": {},
     "output_type": "display_data"
    },
    {
     "name": "stdout",
     "output_type": "stream",
     "text": [
      "Epoch 862/1000: Train Loss = 0.5180\n"
     ]
    },
    {
     "data": {
      "application/vnd.jupyter.widget-view+json": {
       "model_id": "fdb84e5530ff497b8c440d23b195c117",
       "version_major": 2,
       "version_minor": 0
      },
      "text/plain": [
       "Epoch 863:   0%|          | 0/48 [00:00<?, ?it/s]"
      ]
     },
     "metadata": {},
     "output_type": "display_data"
    },
    {
     "name": "stdout",
     "output_type": "stream",
     "text": [
      "Epoch 863/1000: Train Loss = 0.5200\n"
     ]
    },
    {
     "data": {
      "application/vnd.jupyter.widget-view+json": {
       "model_id": "0a62077afa6844ef869c20136ac99c99",
       "version_major": 2,
       "version_minor": 0
      },
      "text/plain": [
       "Epoch 864:   0%|          | 0/48 [00:00<?, ?it/s]"
      ]
     },
     "metadata": {},
     "output_type": "display_data"
    },
    {
     "name": "stdout",
     "output_type": "stream",
     "text": [
      "Epoch 864/1000: Train Loss = 0.5190\n"
     ]
    },
    {
     "data": {
      "application/vnd.jupyter.widget-view+json": {
       "model_id": "0d97ae36c7bd418c806f0fea636044df",
       "version_major": 2,
       "version_minor": 0
      },
      "text/plain": [
       "Epoch 865:   0%|          | 0/48 [00:00<?, ?it/s]"
      ]
     },
     "metadata": {},
     "output_type": "display_data"
    },
    {
     "name": "stdout",
     "output_type": "stream",
     "text": [
      "Epoch 865/1000: Train Loss = 0.5250\n"
     ]
    },
    {
     "data": {
      "application/vnd.jupyter.widget-view+json": {
       "model_id": "dc4f3c453b5447549fda3a94a68172bd",
       "version_major": 2,
       "version_minor": 0
      },
      "text/plain": [
       "Epoch 866:   0%|          | 0/48 [00:00<?, ?it/s]"
      ]
     },
     "metadata": {},
     "output_type": "display_data"
    },
    {
     "name": "stdout",
     "output_type": "stream",
     "text": [
      "Epoch 866/1000: Train Loss = 0.5305\n"
     ]
    },
    {
     "data": {
      "application/vnd.jupyter.widget-view+json": {
       "model_id": "b0bad8de6c14470daf07939897d6e85d",
       "version_major": 2,
       "version_minor": 0
      },
      "text/plain": [
       "Epoch 867:   0%|          | 0/48 [00:00<?, ?it/s]"
      ]
     },
     "metadata": {},
     "output_type": "display_data"
    },
    {
     "name": "stdout",
     "output_type": "stream",
     "text": [
      "Epoch 867/1000: Train Loss = 0.5188\n"
     ]
    },
    {
     "data": {
      "application/vnd.jupyter.widget-view+json": {
       "model_id": "4a6425e742a048f8bdcc54b0cbd580ed",
       "version_major": 2,
       "version_minor": 0
      },
      "text/plain": [
       "Epoch 868:   0%|          | 0/48 [00:00<?, ?it/s]"
      ]
     },
     "metadata": {},
     "output_type": "display_data"
    },
    {
     "name": "stdout",
     "output_type": "stream",
     "text": [
      "Epoch 868/1000: Train Loss = 0.5199\n"
     ]
    },
    {
     "data": {
      "application/vnd.jupyter.widget-view+json": {
       "model_id": "5d800fe19e17460097e5f0a3d18597d6",
       "version_major": 2,
       "version_minor": 0
      },
      "text/plain": [
       "Epoch 869:   0%|          | 0/48 [00:00<?, ?it/s]"
      ]
     },
     "metadata": {},
     "output_type": "display_data"
    },
    {
     "name": "stdout",
     "output_type": "stream",
     "text": [
      "Epoch 869/1000: Train Loss = 0.5207\n"
     ]
    },
    {
     "data": {
      "application/vnd.jupyter.widget-view+json": {
       "model_id": "0c67be7fb1a1409caca48f6b18854fe2",
       "version_major": 2,
       "version_minor": 0
      },
      "text/plain": [
       "Epoch 870:   0%|          | 0/48 [00:00<?, ?it/s]"
      ]
     },
     "metadata": {},
     "output_type": "display_data"
    },
    {
     "name": "stdout",
     "output_type": "stream",
     "text": [
      "Epoch 870/1000: Train Loss = 0.5266\n"
     ]
    },
    {
     "data": {
      "application/vnd.jupyter.widget-view+json": {
       "model_id": "24d446e8d6c6459aae6ba7873f760b2c",
       "version_major": 2,
       "version_minor": 0
      },
      "text/plain": [
       "Epoch 871:   0%|          | 0/48 [00:00<?, ?it/s]"
      ]
     },
     "metadata": {},
     "output_type": "display_data"
    },
    {
     "name": "stdout",
     "output_type": "stream",
     "text": [
      "Epoch 871/1000: Train Loss = 0.5249\n"
     ]
    },
    {
     "data": {
      "application/vnd.jupyter.widget-view+json": {
       "model_id": "cd32078999574f9e8ddf9fd6bcaf596e",
       "version_major": 2,
       "version_minor": 0
      },
      "text/plain": [
       "Epoch 872:   0%|          | 0/48 [00:00<?, ?it/s]"
      ]
     },
     "metadata": {},
     "output_type": "display_data"
    },
    {
     "name": "stdout",
     "output_type": "stream",
     "text": [
      "Epoch 872/1000: Train Loss = 0.5178\n"
     ]
    },
    {
     "data": {
      "application/vnd.jupyter.widget-view+json": {
       "model_id": "e352e033037345cc9f632106999f0f0e",
       "version_major": 2,
       "version_minor": 0
      },
      "text/plain": [
       "Epoch 873:   0%|          | 0/48 [00:00<?, ?it/s]"
      ]
     },
     "metadata": {},
     "output_type": "display_data"
    },
    {
     "name": "stdout",
     "output_type": "stream",
     "text": [
      "Epoch 873/1000: Train Loss = 0.5203\n"
     ]
    },
    {
     "data": {
      "application/vnd.jupyter.widget-view+json": {
       "model_id": "6101e34034d5436ca259bed198b4491d",
       "version_major": 2,
       "version_minor": 0
      },
      "text/plain": [
       "Epoch 874:   0%|          | 0/48 [00:00<?, ?it/s]"
      ]
     },
     "metadata": {},
     "output_type": "display_data"
    },
    {
     "name": "stdout",
     "output_type": "stream",
     "text": [
      "Epoch 874/1000: Train Loss = 0.5197\n"
     ]
    },
    {
     "data": {
      "application/vnd.jupyter.widget-view+json": {
       "model_id": "e9c510a971a54f5e88fa86fd7857092d",
       "version_major": 2,
       "version_minor": 0
      },
      "text/plain": [
       "Epoch 875:   0%|          | 0/48 [00:00<?, ?it/s]"
      ]
     },
     "metadata": {},
     "output_type": "display_data"
    },
    {
     "name": "stdout",
     "output_type": "stream",
     "text": [
      "Epoch 875/1000: Train Loss = 0.5254\n"
     ]
    },
    {
     "data": {
      "application/vnd.jupyter.widget-view+json": {
       "model_id": "fd9abd078f7b4fdd95c715160f38b565",
       "version_major": 2,
       "version_minor": 0
      },
      "text/plain": [
       "Epoch 876:   0%|          | 0/48 [00:00<?, ?it/s]"
      ]
     },
     "metadata": {},
     "output_type": "display_data"
    },
    {
     "name": "stdout",
     "output_type": "stream",
     "text": [
      "Epoch 876/1000: Train Loss = 0.5187\n"
     ]
    },
    {
     "data": {
      "application/vnd.jupyter.widget-view+json": {
       "model_id": "00e64e25f98447e8b5fe62317f3bbafc",
       "version_major": 2,
       "version_minor": 0
      },
      "text/plain": [
       "Epoch 877:   0%|          | 0/48 [00:00<?, ?it/s]"
      ]
     },
     "metadata": {},
     "output_type": "display_data"
    },
    {
     "name": "stdout",
     "output_type": "stream",
     "text": [
      "Epoch 877/1000: Train Loss = 0.5164\n"
     ]
    },
    {
     "data": {
      "application/vnd.jupyter.widget-view+json": {
       "model_id": "c91a3206d979451daa5fdbb8db73d9fc",
       "version_major": 2,
       "version_minor": 0
      },
      "text/plain": [
       "Epoch 878:   0%|          | 0/48 [00:00<?, ?it/s]"
      ]
     },
     "metadata": {},
     "output_type": "display_data"
    },
    {
     "name": "stdout",
     "output_type": "stream",
     "text": [
      "Epoch 878/1000: Train Loss = 0.5225\n"
     ]
    },
    {
     "data": {
      "application/vnd.jupyter.widget-view+json": {
       "model_id": "85971975c3ea47c0a0bebdb06ed000c1",
       "version_major": 2,
       "version_minor": 0
      },
      "text/plain": [
       "Epoch 879:   0%|          | 0/48 [00:00<?, ?it/s]"
      ]
     },
     "metadata": {},
     "output_type": "display_data"
    },
    {
     "name": "stdout",
     "output_type": "stream",
     "text": [
      "Epoch 879/1000: Train Loss = 0.5200\n"
     ]
    },
    {
     "data": {
      "application/vnd.jupyter.widget-view+json": {
       "model_id": "0be2a1a59b1c4bbdbc72bfb0d577d232",
       "version_major": 2,
       "version_minor": 0
      },
      "text/plain": [
       "Epoch 880:   0%|          | 0/48 [00:00<?, ?it/s]"
      ]
     },
     "metadata": {},
     "output_type": "display_data"
    },
    {
     "name": "stdout",
     "output_type": "stream",
     "text": [
      "Epoch 880/1000: Train Loss = 0.5196\n"
     ]
    },
    {
     "data": {
      "application/vnd.jupyter.widget-view+json": {
       "model_id": "16da8e8e54c04f31abf341b9d4c8ca1a",
       "version_major": 2,
       "version_minor": 0
      },
      "text/plain": [
       "Epoch 881:   0%|          | 0/48 [00:00<?, ?it/s]"
      ]
     },
     "metadata": {},
     "output_type": "display_data"
    },
    {
     "name": "stdout",
     "output_type": "stream",
     "text": [
      "Epoch 881/1000: Train Loss = 0.5265\n"
     ]
    },
    {
     "data": {
      "application/vnd.jupyter.widget-view+json": {
       "model_id": "caa2390186f842c581c3a27660561c60",
       "version_major": 2,
       "version_minor": 0
      },
      "text/plain": [
       "Epoch 882:   0%|          | 0/48 [00:00<?, ?it/s]"
      ]
     },
     "metadata": {},
     "output_type": "display_data"
    },
    {
     "name": "stdout",
     "output_type": "stream",
     "text": [
      "Epoch 882/1000: Train Loss = 0.5189\n"
     ]
    },
    {
     "data": {
      "application/vnd.jupyter.widget-view+json": {
       "model_id": "74bb4c585c824bb3b66deea758808aa6",
       "version_major": 2,
       "version_minor": 0
      },
      "text/plain": [
       "Epoch 883:   0%|          | 0/48 [00:00<?, ?it/s]"
      ]
     },
     "metadata": {},
     "output_type": "display_data"
    },
    {
     "name": "stdout",
     "output_type": "stream",
     "text": [
      "Epoch 883/1000: Train Loss = 0.5211\n"
     ]
    },
    {
     "data": {
      "application/vnd.jupyter.widget-view+json": {
       "model_id": "b1335013f15146868deb212eacae83e4",
       "version_major": 2,
       "version_minor": 0
      },
      "text/plain": [
       "Epoch 884:   0%|          | 0/48 [00:00<?, ?it/s]"
      ]
     },
     "metadata": {},
     "output_type": "display_data"
    },
    {
     "name": "stdout",
     "output_type": "stream",
     "text": [
      "Epoch 884/1000: Train Loss = 0.5287\n"
     ]
    },
    {
     "data": {
      "application/vnd.jupyter.widget-view+json": {
       "model_id": "41ea2e7ac480425dacf468b515e7e010",
       "version_major": 2,
       "version_minor": 0
      },
      "text/plain": [
       "Epoch 885:   0%|          | 0/48 [00:00<?, ?it/s]"
      ]
     },
     "metadata": {},
     "output_type": "display_data"
    },
    {
     "name": "stdout",
     "output_type": "stream",
     "text": [
      "Epoch 885/1000: Train Loss = 0.5214\n"
     ]
    },
    {
     "data": {
      "application/vnd.jupyter.widget-view+json": {
       "model_id": "dbe494cbb8824861b72f37a0e56db27b",
       "version_major": 2,
       "version_minor": 0
      },
      "text/plain": [
       "Epoch 886:   0%|          | 0/48 [00:00<?, ?it/s]"
      ]
     },
     "metadata": {},
     "output_type": "display_data"
    },
    {
     "name": "stdout",
     "output_type": "stream",
     "text": [
      "Epoch 886/1000: Train Loss = 0.5216\n"
     ]
    },
    {
     "data": {
      "application/vnd.jupyter.widget-view+json": {
       "model_id": "46a7776fd3c94c5dbf9b327cb0ebe8ef",
       "version_major": 2,
       "version_minor": 0
      },
      "text/plain": [
       "Epoch 887:   0%|          | 0/48 [00:00<?, ?it/s]"
      ]
     },
     "metadata": {},
     "output_type": "display_data"
    },
    {
     "name": "stdout",
     "output_type": "stream",
     "text": [
      "Epoch 887/1000: Train Loss = 0.5181\n"
     ]
    },
    {
     "data": {
      "application/vnd.jupyter.widget-view+json": {
       "model_id": "c91e7c5806364f98ba5d87a544df8374",
       "version_major": 2,
       "version_minor": 0
      },
      "text/plain": [
       "Epoch 888:   0%|          | 0/48 [00:00<?, ?it/s]"
      ]
     },
     "metadata": {},
     "output_type": "display_data"
    },
    {
     "name": "stdout",
     "output_type": "stream",
     "text": [
      "Epoch 888/1000: Train Loss = 0.5201\n"
     ]
    },
    {
     "data": {
      "application/vnd.jupyter.widget-view+json": {
       "model_id": "229d10b9c1564067895dcc1f2a12d65b",
       "version_major": 2,
       "version_minor": 0
      },
      "text/plain": [
       "Epoch 889:   0%|          | 0/48 [00:00<?, ?it/s]"
      ]
     },
     "metadata": {},
     "output_type": "display_data"
    },
    {
     "name": "stdout",
     "output_type": "stream",
     "text": [
      "Epoch 889/1000: Train Loss = 0.5276\n"
     ]
    },
    {
     "data": {
      "application/vnd.jupyter.widget-view+json": {
       "model_id": "2d9fa6db987c4c37adc95a88bbcf5700",
       "version_major": 2,
       "version_minor": 0
      },
      "text/plain": [
       "Epoch 890:   0%|          | 0/48 [00:00<?, ?it/s]"
      ]
     },
     "metadata": {},
     "output_type": "display_data"
    },
    {
     "name": "stdout",
     "output_type": "stream",
     "text": [
      "Epoch 890/1000: Train Loss = 0.5209\n"
     ]
    },
    {
     "data": {
      "application/vnd.jupyter.widget-view+json": {
       "model_id": "0dbc3f39100a498496c7334aac2575f7",
       "version_major": 2,
       "version_minor": 0
      },
      "text/plain": [
       "Epoch 891:   0%|          | 0/48 [00:00<?, ?it/s]"
      ]
     },
     "metadata": {},
     "output_type": "display_data"
    },
    {
     "name": "stdout",
     "output_type": "stream",
     "text": [
      "Epoch 891/1000: Train Loss = 0.5193\n"
     ]
    },
    {
     "data": {
      "application/vnd.jupyter.widget-view+json": {
       "model_id": "6cad74e33c1a4ddbbfb471fb72677fcd",
       "version_major": 2,
       "version_minor": 0
      },
      "text/plain": [
       "Epoch 892:   0%|          | 0/48 [00:00<?, ?it/s]"
      ]
     },
     "metadata": {},
     "output_type": "display_data"
    },
    {
     "name": "stdout",
     "output_type": "stream",
     "text": [
      "Epoch 892/1000: Train Loss = 0.5211\n"
     ]
    },
    {
     "data": {
      "application/vnd.jupyter.widget-view+json": {
       "model_id": "c137c595f99f464b86c55460273cd134",
       "version_major": 2,
       "version_minor": 0
      },
      "text/plain": [
       "Epoch 893:   0%|          | 0/48 [00:00<?, ?it/s]"
      ]
     },
     "metadata": {},
     "output_type": "display_data"
    },
    {
     "name": "stdout",
     "output_type": "stream",
     "text": [
      "Epoch 893/1000: Train Loss = 0.5184\n"
     ]
    },
    {
     "data": {
      "application/vnd.jupyter.widget-view+json": {
       "model_id": "f28750c040384e4a84ac858a13aa79a6",
       "version_major": 2,
       "version_minor": 0
      },
      "text/plain": [
       "Epoch 894:   0%|          | 0/48 [00:00<?, ?it/s]"
      ]
     },
     "metadata": {},
     "output_type": "display_data"
    },
    {
     "name": "stdout",
     "output_type": "stream",
     "text": [
      "Epoch 894/1000: Train Loss = 0.5222\n"
     ]
    },
    {
     "data": {
      "application/vnd.jupyter.widget-view+json": {
       "model_id": "ac1a3c65ceac4626ac62d443e3b90de7",
       "version_major": 2,
       "version_minor": 0
      },
      "text/plain": [
       "Epoch 895:   0%|          | 0/48 [00:00<?, ?it/s]"
      ]
     },
     "metadata": {},
     "output_type": "display_data"
    },
    {
     "name": "stdout",
     "output_type": "stream",
     "text": [
      "Epoch 895/1000: Train Loss = 0.5292\n"
     ]
    },
    {
     "data": {
      "application/vnd.jupyter.widget-view+json": {
       "model_id": "385768c944fe4abd976072c814a8b051",
       "version_major": 2,
       "version_minor": 0
      },
      "text/plain": [
       "Epoch 896:   0%|          | 0/48 [00:00<?, ?it/s]"
      ]
     },
     "metadata": {},
     "output_type": "display_data"
    },
    {
     "name": "stdout",
     "output_type": "stream",
     "text": [
      "Epoch 896/1000: Train Loss = 0.5265\n"
     ]
    },
    {
     "data": {
      "application/vnd.jupyter.widget-view+json": {
       "model_id": "bd9ef7364cc24231a7d061da74f12dae",
       "version_major": 2,
       "version_minor": 0
      },
      "text/plain": [
       "Epoch 897:   0%|          | 0/48 [00:00<?, ?it/s]"
      ]
     },
     "metadata": {},
     "output_type": "display_data"
    },
    {
     "name": "stdout",
     "output_type": "stream",
     "text": [
      "Epoch 897/1000: Train Loss = 0.5184\n"
     ]
    },
    {
     "data": {
      "application/vnd.jupyter.widget-view+json": {
       "model_id": "91ad3efabe294fd985edcbd7610752f3",
       "version_major": 2,
       "version_minor": 0
      },
      "text/plain": [
       "Epoch 898:   0%|          | 0/48 [00:00<?, ?it/s]"
      ]
     },
     "metadata": {},
     "output_type": "display_data"
    },
    {
     "name": "stdout",
     "output_type": "stream",
     "text": [
      "Epoch 898/1000: Train Loss = 0.5187\n"
     ]
    },
    {
     "data": {
      "application/vnd.jupyter.widget-view+json": {
       "model_id": "d74667367a124d43abbdf922b4a7c285",
       "version_major": 2,
       "version_minor": 0
      },
      "text/plain": [
       "Epoch 899:   0%|          | 0/48 [00:00<?, ?it/s]"
      ]
     },
     "metadata": {},
     "output_type": "display_data"
    },
    {
     "name": "stdout",
     "output_type": "stream",
     "text": [
      "Epoch 899/1000: Train Loss = 0.5193\n"
     ]
    },
    {
     "data": {
      "application/vnd.jupyter.widget-view+json": {
       "model_id": "1fa4ce8b940249f8b3e1d020a9bebe81",
       "version_major": 2,
       "version_minor": 0
      },
      "text/plain": [
       "Epoch 900:   0%|          | 0/48 [00:00<?, ?it/s]"
      ]
     },
     "metadata": {},
     "output_type": "display_data"
    },
    {
     "name": "stdout",
     "output_type": "stream",
     "text": [
      "\n",
      "Binary LSTM (Epoch 900) Evaluation Results:\n",
      "  Average Loss: 0.5692\n",
      "  AUC (Area Under Curve): 0.5000\n",
      "  β₀ (exact match): 0.0000 (0.00%)\n",
      "  β₁ (≤1 bit error): 0.3958 (39.58%)\n",
      "  β₂ (≤2 bit error): 0.6458 (64.58%)\n",
      "  β₃ (≤3 bit error): 0.7917 (79.17%)\n",
      "  β₄ (≤4 bit error): 0.8542 (85.42%)\n"
     ]
    },
    {
     "data": {
      "application/vnd.jupyter.widget-view+json": {
       "model_id": "121defbdd1f34f54bbddf8069f429aca",
       "version_major": 2,
       "version_minor": 0
      },
      "text/plain": [
       "Epoch 901:   0%|          | 0/48 [00:00<?, ?it/s]"
      ]
     },
     "metadata": {},
     "output_type": "display_data"
    },
    {
     "name": "stdout",
     "output_type": "stream",
     "text": [
      "Epoch 901/1000: Train Loss = 0.5259\n"
     ]
    },
    {
     "data": {
      "application/vnd.jupyter.widget-view+json": {
       "model_id": "188a3d514ad943088dfae6d4415df903",
       "version_major": 2,
       "version_minor": 0
      },
      "text/plain": [
       "Epoch 902:   0%|          | 0/48 [00:00<?, ?it/s]"
      ]
     },
     "metadata": {},
     "output_type": "display_data"
    },
    {
     "name": "stdout",
     "output_type": "stream",
     "text": [
      "Epoch 902/1000: Train Loss = 0.5232\n"
     ]
    },
    {
     "data": {
      "application/vnd.jupyter.widget-view+json": {
       "model_id": "fb79cd42767748c2b90503db4c77b81c",
       "version_major": 2,
       "version_minor": 0
      },
      "text/plain": [
       "Epoch 903:   0%|          | 0/48 [00:00<?, ?it/s]"
      ]
     },
     "metadata": {},
     "output_type": "display_data"
    },
    {
     "name": "stdout",
     "output_type": "stream",
     "text": [
      "Epoch 903/1000: Train Loss = 0.5184\n"
     ]
    },
    {
     "data": {
      "application/vnd.jupyter.widget-view+json": {
       "model_id": "95838cdc05d6488891c4a6e98036d126",
       "version_major": 2,
       "version_minor": 0
      },
      "text/plain": [
       "Epoch 904:   0%|          | 0/48 [00:00<?, ?it/s]"
      ]
     },
     "metadata": {},
     "output_type": "display_data"
    },
    {
     "name": "stdout",
     "output_type": "stream",
     "text": [
      "Epoch 904/1000: Train Loss = 0.5200\n"
     ]
    },
    {
     "data": {
      "application/vnd.jupyter.widget-view+json": {
       "model_id": "56dcca319cdc4810bbeebf806c20b3fe",
       "version_major": 2,
       "version_minor": 0
      },
      "text/plain": [
       "Epoch 905:   0%|          | 0/48 [00:00<?, ?it/s]"
      ]
     },
     "metadata": {},
     "output_type": "display_data"
    },
    {
     "name": "stdout",
     "output_type": "stream",
     "text": [
      "Epoch 905/1000: Train Loss = 0.5216\n"
     ]
    },
    {
     "data": {
      "application/vnd.jupyter.widget-view+json": {
       "model_id": "b1fc7a2fa854403b9c6fbd0819eb30ed",
       "version_major": 2,
       "version_minor": 0
      },
      "text/plain": [
       "Epoch 906:   0%|          | 0/48 [00:00<?, ?it/s]"
      ]
     },
     "metadata": {},
     "output_type": "display_data"
    },
    {
     "name": "stdout",
     "output_type": "stream",
     "text": [
      "Epoch 906/1000: Train Loss = 0.5201\n"
     ]
    },
    {
     "data": {
      "application/vnd.jupyter.widget-view+json": {
       "model_id": "a71c6f15203847c8b39b1f30428f1cb4",
       "version_major": 2,
       "version_minor": 0
      },
      "text/plain": [
       "Epoch 907:   0%|          | 0/48 [00:00<?, ?it/s]"
      ]
     },
     "metadata": {},
     "output_type": "display_data"
    },
    {
     "name": "stdout",
     "output_type": "stream",
     "text": [
      "Epoch 907/1000: Train Loss = 0.5164\n"
     ]
    },
    {
     "data": {
      "application/vnd.jupyter.widget-view+json": {
       "model_id": "4c6c2d5851cc491582622185229f44a2",
       "version_major": 2,
       "version_minor": 0
      },
      "text/plain": [
       "Epoch 908:   0%|          | 0/48 [00:00<?, ?it/s]"
      ]
     },
     "metadata": {},
     "output_type": "display_data"
    },
    {
     "name": "stdout",
     "output_type": "stream",
     "text": [
      "Epoch 908/1000: Train Loss = 0.5205\n"
     ]
    },
    {
     "data": {
      "application/vnd.jupyter.widget-view+json": {
       "model_id": "a323c570921143a3ac8c55d259909fab",
       "version_major": 2,
       "version_minor": 0
      },
      "text/plain": [
       "Epoch 909:   0%|          | 0/48 [00:00<?, ?it/s]"
      ]
     },
     "metadata": {},
     "output_type": "display_data"
    },
    {
     "name": "stdout",
     "output_type": "stream",
     "text": [
      "Epoch 909/1000: Train Loss = 0.5202\n"
     ]
    },
    {
     "data": {
      "application/vnd.jupyter.widget-view+json": {
       "model_id": "ea781f5ff4e14827a581f9391420ce5f",
       "version_major": 2,
       "version_minor": 0
      },
      "text/plain": [
       "Epoch 910:   0%|          | 0/48 [00:00<?, ?it/s]"
      ]
     },
     "metadata": {},
     "output_type": "display_data"
    },
    {
     "name": "stdout",
     "output_type": "stream",
     "text": [
      "Epoch 910/1000: Train Loss = 0.5257\n"
     ]
    },
    {
     "data": {
      "application/vnd.jupyter.widget-view+json": {
       "model_id": "521b9c1498d448b2a7e8ccaba3dbb45a",
       "version_major": 2,
       "version_minor": 0
      },
      "text/plain": [
       "Epoch 911:   0%|          | 0/48 [00:00<?, ?it/s]"
      ]
     },
     "metadata": {},
     "output_type": "display_data"
    },
    {
     "name": "stdout",
     "output_type": "stream",
     "text": [
      "Epoch 911/1000: Train Loss = 0.5274\n"
     ]
    },
    {
     "data": {
      "application/vnd.jupyter.widget-view+json": {
       "model_id": "7aa5da7b7bbe48089528a7b6ab10451a",
       "version_major": 2,
       "version_minor": 0
      },
      "text/plain": [
       "Epoch 912:   0%|          | 0/48 [00:00<?, ?it/s]"
      ]
     },
     "metadata": {},
     "output_type": "display_data"
    },
    {
     "name": "stdout",
     "output_type": "stream",
     "text": [
      "Epoch 912/1000: Train Loss = 0.5170\n"
     ]
    },
    {
     "data": {
      "application/vnd.jupyter.widget-view+json": {
       "model_id": "149e1562387249329f3af2157ecfddf4",
       "version_major": 2,
       "version_minor": 0
      },
      "text/plain": [
       "Epoch 913:   0%|          | 0/48 [00:00<?, ?it/s]"
      ]
     },
     "metadata": {},
     "output_type": "display_data"
    },
    {
     "name": "stdout",
     "output_type": "stream",
     "text": [
      "Epoch 913/1000: Train Loss = 0.5190\n"
     ]
    },
    {
     "data": {
      "application/vnd.jupyter.widget-view+json": {
       "model_id": "4b33b398c29f471d9af183f0eed986ab",
       "version_major": 2,
       "version_minor": 0
      },
      "text/plain": [
       "Epoch 914:   0%|          | 0/48 [00:00<?, ?it/s]"
      ]
     },
     "metadata": {},
     "output_type": "display_data"
    },
    {
     "name": "stdout",
     "output_type": "stream",
     "text": [
      "Epoch 914/1000: Train Loss = 0.5173\n"
     ]
    },
    {
     "data": {
      "application/vnd.jupyter.widget-view+json": {
       "model_id": "554f067179a74e86802daa5bc86ebd0c",
       "version_major": 2,
       "version_minor": 0
      },
      "text/plain": [
       "Epoch 915:   0%|          | 0/48 [00:00<?, ?it/s]"
      ]
     },
     "metadata": {},
     "output_type": "display_data"
    },
    {
     "name": "stdout",
     "output_type": "stream",
     "text": [
      "Epoch 915/1000: Train Loss = 0.5275\n"
     ]
    },
    {
     "data": {
      "application/vnd.jupyter.widget-view+json": {
       "model_id": "b92d0eca735b49cb9693f7c1a6815f98",
       "version_major": 2,
       "version_minor": 0
      },
      "text/plain": [
       "Epoch 916:   0%|          | 0/48 [00:00<?, ?it/s]"
      ]
     },
     "metadata": {},
     "output_type": "display_data"
    },
    {
     "name": "stdout",
     "output_type": "stream",
     "text": [
      "Epoch 916/1000: Train Loss = 0.5188\n"
     ]
    },
    {
     "data": {
      "application/vnd.jupyter.widget-view+json": {
       "model_id": "723c115610854a9e9d7ca94536339026",
       "version_major": 2,
       "version_minor": 0
      },
      "text/plain": [
       "Epoch 917:   0%|          | 0/48 [00:00<?, ?it/s]"
      ]
     },
     "metadata": {},
     "output_type": "display_data"
    },
    {
     "name": "stdout",
     "output_type": "stream",
     "text": [
      "Epoch 917/1000: Train Loss = 0.5176\n"
     ]
    },
    {
     "data": {
      "application/vnd.jupyter.widget-view+json": {
       "model_id": "c42fdd82d72445bdaed8d5df98f62998",
       "version_major": 2,
       "version_minor": 0
      },
      "text/plain": [
       "Epoch 918:   0%|          | 0/48 [00:00<?, ?it/s]"
      ]
     },
     "metadata": {},
     "output_type": "display_data"
    },
    {
     "name": "stdout",
     "output_type": "stream",
     "text": [
      "Epoch 918/1000: Train Loss = 0.5222\n"
     ]
    },
    {
     "data": {
      "application/vnd.jupyter.widget-view+json": {
       "model_id": "7826fbc850c741dc83f9d6c633815197",
       "version_major": 2,
       "version_minor": 0
      },
      "text/plain": [
       "Epoch 919:   0%|          | 0/48 [00:00<?, ?it/s]"
      ]
     },
     "metadata": {},
     "output_type": "display_data"
    },
    {
     "name": "stdout",
     "output_type": "stream",
     "text": [
      "Epoch 919/1000: Train Loss = 0.5194\n"
     ]
    },
    {
     "data": {
      "application/vnd.jupyter.widget-view+json": {
       "model_id": "92e3219462524c9fb3878200b67160ba",
       "version_major": 2,
       "version_minor": 0
      },
      "text/plain": [
       "Epoch 920:   0%|          | 0/48 [00:00<?, ?it/s]"
      ]
     },
     "metadata": {},
     "output_type": "display_data"
    },
    {
     "name": "stdout",
     "output_type": "stream",
     "text": [
      "Epoch 920/1000: Train Loss = 0.5189\n"
     ]
    },
    {
     "data": {
      "application/vnd.jupyter.widget-view+json": {
       "model_id": "773ffcdbd231490092ab642be19db4f9",
       "version_major": 2,
       "version_minor": 0
      },
      "text/plain": [
       "Epoch 921:   0%|          | 0/48 [00:00<?, ?it/s]"
      ]
     },
     "metadata": {},
     "output_type": "display_data"
    },
    {
     "name": "stdout",
     "output_type": "stream",
     "text": [
      "Epoch 921/1000: Train Loss = 0.5189\n"
     ]
    },
    {
     "data": {
      "application/vnd.jupyter.widget-view+json": {
       "model_id": "05d234fef154426486557d58d2988004",
       "version_major": 2,
       "version_minor": 0
      },
      "text/plain": [
       "Epoch 922:   0%|          | 0/48 [00:00<?, ?it/s]"
      ]
     },
     "metadata": {},
     "output_type": "display_data"
    },
    {
     "name": "stdout",
     "output_type": "stream",
     "text": [
      "Epoch 922/1000: Train Loss = 0.5192\n"
     ]
    },
    {
     "data": {
      "application/vnd.jupyter.widget-view+json": {
       "model_id": "77aeb734ed734b279288f4dd6ebd8b20",
       "version_major": 2,
       "version_minor": 0
      },
      "text/plain": [
       "Epoch 923:   0%|          | 0/48 [00:00<?, ?it/s]"
      ]
     },
     "metadata": {},
     "output_type": "display_data"
    },
    {
     "name": "stdout",
     "output_type": "stream",
     "text": [
      "Epoch 923/1000: Train Loss = 0.5268\n"
     ]
    },
    {
     "data": {
      "application/vnd.jupyter.widget-view+json": {
       "model_id": "04dccd366efe466882d2187c29c5950b",
       "version_major": 2,
       "version_minor": 0
      },
      "text/plain": [
       "Epoch 924:   0%|          | 0/48 [00:00<?, ?it/s]"
      ]
     },
     "metadata": {},
     "output_type": "display_data"
    },
    {
     "name": "stdout",
     "output_type": "stream",
     "text": [
      "Epoch 924/1000: Train Loss = 0.5221\n"
     ]
    },
    {
     "data": {
      "application/vnd.jupyter.widget-view+json": {
       "model_id": "bcd17774384f4592975b804c26df903a",
       "version_major": 2,
       "version_minor": 0
      },
      "text/plain": [
       "Epoch 925:   0%|          | 0/48 [00:00<?, ?it/s]"
      ]
     },
     "metadata": {},
     "output_type": "display_data"
    },
    {
     "name": "stdout",
     "output_type": "stream",
     "text": [
      "Epoch 925/1000: Train Loss = 0.5265\n"
     ]
    },
    {
     "data": {
      "application/vnd.jupyter.widget-view+json": {
       "model_id": "79aacf08eae4438c8201edfbf7e8b110",
       "version_major": 2,
       "version_minor": 0
      },
      "text/plain": [
       "Epoch 926:   0%|          | 0/48 [00:00<?, ?it/s]"
      ]
     },
     "metadata": {},
     "output_type": "display_data"
    },
    {
     "name": "stdout",
     "output_type": "stream",
     "text": [
      "Epoch 926/1000: Train Loss = 0.5190\n"
     ]
    },
    {
     "data": {
      "application/vnd.jupyter.widget-view+json": {
       "model_id": "38f2e7532424498f905e831e1f1fb269",
       "version_major": 2,
       "version_minor": 0
      },
      "text/plain": [
       "Epoch 927:   0%|          | 0/48 [00:00<?, ?it/s]"
      ]
     },
     "metadata": {},
     "output_type": "display_data"
    },
    {
     "name": "stdout",
     "output_type": "stream",
     "text": [
      "Epoch 927/1000: Train Loss = 0.5190\n"
     ]
    },
    {
     "data": {
      "application/vnd.jupyter.widget-view+json": {
       "model_id": "5eb5927dac174e6fb00bc4b5ad5d658e",
       "version_major": 2,
       "version_minor": 0
      },
      "text/plain": [
       "Epoch 928:   0%|          | 0/48 [00:00<?, ?it/s]"
      ]
     },
     "metadata": {},
     "output_type": "display_data"
    },
    {
     "name": "stdout",
     "output_type": "stream",
     "text": [
      "Epoch 928/1000: Train Loss = 0.5158\n"
     ]
    },
    {
     "data": {
      "application/vnd.jupyter.widget-view+json": {
       "model_id": "fbdc95734b4243b89f93477a559a17f6",
       "version_major": 2,
       "version_minor": 0
      },
      "text/plain": [
       "Epoch 929:   0%|          | 0/48 [00:00<?, ?it/s]"
      ]
     },
     "metadata": {},
     "output_type": "display_data"
    },
    {
     "name": "stdout",
     "output_type": "stream",
     "text": [
      "Epoch 929/1000: Train Loss = 0.5206\n"
     ]
    },
    {
     "data": {
      "application/vnd.jupyter.widget-view+json": {
       "model_id": "ad33cf5514ed432fbf88374abdec169f",
       "version_major": 2,
       "version_minor": 0
      },
      "text/plain": [
       "Epoch 930:   0%|          | 0/48 [00:00<?, ?it/s]"
      ]
     },
     "metadata": {},
     "output_type": "display_data"
    },
    {
     "name": "stdout",
     "output_type": "stream",
     "text": [
      "Epoch 930/1000: Train Loss = 0.5190\n"
     ]
    },
    {
     "data": {
      "application/vnd.jupyter.widget-view+json": {
       "model_id": "a67d7269180e4c9899dac0253e232707",
       "version_major": 2,
       "version_minor": 0
      },
      "text/plain": [
       "Epoch 931:   0%|          | 0/48 [00:00<?, ?it/s]"
      ]
     },
     "metadata": {},
     "output_type": "display_data"
    },
    {
     "name": "stdout",
     "output_type": "stream",
     "text": [
      "Epoch 931/1000: Train Loss = 0.5186\n"
     ]
    },
    {
     "data": {
      "application/vnd.jupyter.widget-view+json": {
       "model_id": "1da40c3b84f94427bcd902362710fa56",
       "version_major": 2,
       "version_minor": 0
      },
      "text/plain": [
       "Epoch 932:   0%|          | 0/48 [00:00<?, ?it/s]"
      ]
     },
     "metadata": {},
     "output_type": "display_data"
    },
    {
     "name": "stdout",
     "output_type": "stream",
     "text": [
      "Epoch 932/1000: Train Loss = 0.5273\n"
     ]
    },
    {
     "data": {
      "application/vnd.jupyter.widget-view+json": {
       "model_id": "f05de4ec7d9b48d68f7fbdb2965bd4bb",
       "version_major": 2,
       "version_minor": 0
      },
      "text/plain": [
       "Epoch 933:   0%|          | 0/48 [00:00<?, ?it/s]"
      ]
     },
     "metadata": {},
     "output_type": "display_data"
    },
    {
     "name": "stdout",
     "output_type": "stream",
     "text": [
      "Epoch 933/1000: Train Loss = 0.5289\n"
     ]
    },
    {
     "data": {
      "application/vnd.jupyter.widget-view+json": {
       "model_id": "3320a76d95c74bd897e0b5be7434911c",
       "version_major": 2,
       "version_minor": 0
      },
      "text/plain": [
       "Epoch 934:   0%|          | 0/48 [00:00<?, ?it/s]"
      ]
     },
     "metadata": {},
     "output_type": "display_data"
    },
    {
     "name": "stdout",
     "output_type": "stream",
     "text": [
      "Epoch 934/1000: Train Loss = 0.5175\n"
     ]
    },
    {
     "data": {
      "application/vnd.jupyter.widget-view+json": {
       "model_id": "4ee6349b646c4841b3afbc6154b465bc",
       "version_major": 2,
       "version_minor": 0
      },
      "text/plain": [
       "Epoch 935:   0%|          | 0/48 [00:00<?, ?it/s]"
      ]
     },
     "metadata": {},
     "output_type": "display_data"
    },
    {
     "name": "stdout",
     "output_type": "stream",
     "text": [
      "Epoch 935/1000: Train Loss = 0.5185\n"
     ]
    },
    {
     "data": {
      "application/vnd.jupyter.widget-view+json": {
       "model_id": "2d48ee7da7fe49798e567ed478debb96",
       "version_major": 2,
       "version_minor": 0
      },
      "text/plain": [
       "Epoch 936:   0%|          | 0/48 [00:00<?, ?it/s]"
      ]
     },
     "metadata": {},
     "output_type": "display_data"
    },
    {
     "name": "stdout",
     "output_type": "stream",
     "text": [
      "Epoch 936/1000: Train Loss = 0.5203\n"
     ]
    },
    {
     "data": {
      "application/vnd.jupyter.widget-view+json": {
       "model_id": "91140ee3fb4c4de39b3d273bb1e760a4",
       "version_major": 2,
       "version_minor": 0
      },
      "text/plain": [
       "Epoch 937:   0%|          | 0/48 [00:00<?, ?it/s]"
      ]
     },
     "metadata": {},
     "output_type": "display_data"
    },
    {
     "name": "stdout",
     "output_type": "stream",
     "text": [
      "Epoch 937/1000: Train Loss = 0.5207\n"
     ]
    },
    {
     "data": {
      "application/vnd.jupyter.widget-view+json": {
       "model_id": "fc318882a0b947388a868f57a0501680",
       "version_major": 2,
       "version_minor": 0
      },
      "text/plain": [
       "Epoch 938:   0%|          | 0/48 [00:00<?, ?it/s]"
      ]
     },
     "metadata": {},
     "output_type": "display_data"
    },
    {
     "name": "stdout",
     "output_type": "stream",
     "text": [
      "Epoch 938/1000: Train Loss = 0.5271\n"
     ]
    },
    {
     "data": {
      "application/vnd.jupyter.widget-view+json": {
       "model_id": "cd80c004535a4f15b12ff5dd7ffd93a2",
       "version_major": 2,
       "version_minor": 0
      },
      "text/plain": [
       "Epoch 939:   0%|          | 0/48 [00:00<?, ?it/s]"
      ]
     },
     "metadata": {},
     "output_type": "display_data"
    },
    {
     "name": "stdout",
     "output_type": "stream",
     "text": [
      "Epoch 939/1000: Train Loss = 0.5246\n"
     ]
    },
    {
     "data": {
      "application/vnd.jupyter.widget-view+json": {
       "model_id": "bf2475e1f7534f9b83171523499c256d",
       "version_major": 2,
       "version_minor": 0
      },
      "text/plain": [
       "Epoch 940:   0%|          | 0/48 [00:00<?, ?it/s]"
      ]
     },
     "metadata": {},
     "output_type": "display_data"
    },
    {
     "name": "stdout",
     "output_type": "stream",
     "text": [
      "Epoch 940/1000: Train Loss = 0.5189\n"
     ]
    },
    {
     "data": {
      "application/vnd.jupyter.widget-view+json": {
       "model_id": "354392e9bca744c1902506541531c872",
       "version_major": 2,
       "version_minor": 0
      },
      "text/plain": [
       "Epoch 941:   0%|          | 0/48 [00:00<?, ?it/s]"
      ]
     },
     "metadata": {},
     "output_type": "display_data"
    },
    {
     "name": "stdout",
     "output_type": "stream",
     "text": [
      "Epoch 941/1000: Train Loss = 0.5210\n"
     ]
    },
    {
     "data": {
      "application/vnd.jupyter.widget-view+json": {
       "model_id": "a7842639934c491da591c9c091743ded",
       "version_major": 2,
       "version_minor": 0
      },
      "text/plain": [
       "Epoch 942:   0%|          | 0/48 [00:00<?, ?it/s]"
      ]
     },
     "metadata": {},
     "output_type": "display_data"
    },
    {
     "name": "stdout",
     "output_type": "stream",
     "text": [
      "Epoch 942/1000: Train Loss = 0.5237\n"
     ]
    },
    {
     "data": {
      "application/vnd.jupyter.widget-view+json": {
       "model_id": "0d23f103ce2047fc9f99fc5826f8a70e",
       "version_major": 2,
       "version_minor": 0
      },
      "text/plain": [
       "Epoch 943:   0%|          | 0/48 [00:00<?, ?it/s]"
      ]
     },
     "metadata": {},
     "output_type": "display_data"
    },
    {
     "name": "stdout",
     "output_type": "stream",
     "text": [
      "Epoch 943/1000: Train Loss = 0.5180\n"
     ]
    },
    {
     "data": {
      "application/vnd.jupyter.widget-view+json": {
       "model_id": "8921142d0ff949308d3c9ad8a58ae067",
       "version_major": 2,
       "version_minor": 0
      },
      "text/plain": [
       "Epoch 944:   0%|          | 0/48 [00:00<?, ?it/s]"
      ]
     },
     "metadata": {},
     "output_type": "display_data"
    },
    {
     "name": "stdout",
     "output_type": "stream",
     "text": [
      "Epoch 944/1000: Train Loss = 0.5294\n"
     ]
    },
    {
     "data": {
      "application/vnd.jupyter.widget-view+json": {
       "model_id": "45d75f4140394f6daa4fbab7f722576a",
       "version_major": 2,
       "version_minor": 0
      },
      "text/plain": [
       "Epoch 945:   0%|          | 0/48 [00:00<?, ?it/s]"
      ]
     },
     "metadata": {},
     "output_type": "display_data"
    },
    {
     "name": "stdout",
     "output_type": "stream",
     "text": [
      "Epoch 945/1000: Train Loss = 0.5200\n"
     ]
    },
    {
     "data": {
      "application/vnd.jupyter.widget-view+json": {
       "model_id": "3c776226542a4ef6a91298cc592db6d6",
       "version_major": 2,
       "version_minor": 0
      },
      "text/plain": [
       "Epoch 946:   0%|          | 0/48 [00:00<?, ?it/s]"
      ]
     },
     "metadata": {},
     "output_type": "display_data"
    },
    {
     "name": "stdout",
     "output_type": "stream",
     "text": [
      "Epoch 946/1000: Train Loss = 0.5229\n"
     ]
    },
    {
     "data": {
      "application/vnd.jupyter.widget-view+json": {
       "model_id": "697d62d4ecf649c5b4192acff01b70c6",
       "version_major": 2,
       "version_minor": 0
      },
      "text/plain": [
       "Epoch 947:   0%|          | 0/48 [00:00<?, ?it/s]"
      ]
     },
     "metadata": {},
     "output_type": "display_data"
    },
    {
     "name": "stdout",
     "output_type": "stream",
     "text": [
      "Epoch 947/1000: Train Loss = 0.5208\n"
     ]
    },
    {
     "data": {
      "application/vnd.jupyter.widget-view+json": {
       "model_id": "327bee168a394fbdbb98f2e8343438a5",
       "version_major": 2,
       "version_minor": 0
      },
      "text/plain": [
       "Epoch 948:   0%|          | 0/48 [00:00<?, ?it/s]"
      ]
     },
     "metadata": {},
     "output_type": "display_data"
    },
    {
     "name": "stdout",
     "output_type": "stream",
     "text": [
      "Epoch 948/1000: Train Loss = 0.5250\n"
     ]
    },
    {
     "data": {
      "application/vnd.jupyter.widget-view+json": {
       "model_id": "98cd26eb36944cbc9459b5687b69b9b5",
       "version_major": 2,
       "version_minor": 0
      },
      "text/plain": [
       "Epoch 949:   0%|          | 0/48 [00:00<?, ?it/s]"
      ]
     },
     "metadata": {},
     "output_type": "display_data"
    },
    {
     "name": "stdout",
     "output_type": "stream",
     "text": [
      "Epoch 949/1000: Train Loss = 0.5202\n"
     ]
    },
    {
     "data": {
      "application/vnd.jupyter.widget-view+json": {
       "model_id": "0cb94f479d0d47389f1782c6db5b42d2",
       "version_major": 2,
       "version_minor": 0
      },
      "text/plain": [
       "Epoch 950:   0%|          | 0/48 [00:00<?, ?it/s]"
      ]
     },
     "metadata": {},
     "output_type": "display_data"
    },
    {
     "name": "stdout",
     "output_type": "stream",
     "text": [
      "\n",
      "Binary LSTM (Epoch 950) Evaluation Results:\n",
      "  Average Loss: 0.5693\n",
      "  AUC (Area Under Curve): 0.5152\n",
      "  β₀ (exact match): 0.0000 (0.00%)\n",
      "  β₁ (≤1 bit error): 0.3958 (39.58%)\n",
      "  β₂ (≤2 bit error): 0.6458 (64.58%)\n",
      "  β₃ (≤3 bit error): 0.7917 (79.17%)\n",
      "  β₄ (≤4 bit error): 0.8542 (85.42%)\n"
     ]
    },
    {
     "data": {
      "application/vnd.jupyter.widget-view+json": {
       "model_id": "8b39c1ee26d247439970a92401ab895c",
       "version_major": 2,
       "version_minor": 0
      },
      "text/plain": [
       "Epoch 951:   0%|          | 0/48 [00:00<?, ?it/s]"
      ]
     },
     "metadata": {},
     "output_type": "display_data"
    },
    {
     "name": "stdout",
     "output_type": "stream",
     "text": [
      "Epoch 951/1000: Train Loss = 0.5281\n"
     ]
    },
    {
     "data": {
      "application/vnd.jupyter.widget-view+json": {
       "model_id": "0fd9a57f549b45009018d0d7d79494fc",
       "version_major": 2,
       "version_minor": 0
      },
      "text/plain": [
       "Epoch 952:   0%|          | 0/48 [00:00<?, ?it/s]"
      ]
     },
     "metadata": {},
     "output_type": "display_data"
    },
    {
     "name": "stdout",
     "output_type": "stream",
     "text": [
      "Epoch 952/1000: Train Loss = 0.5195\n"
     ]
    },
    {
     "data": {
      "application/vnd.jupyter.widget-view+json": {
       "model_id": "204f737da1b2431f890317cbecfd3fc0",
       "version_major": 2,
       "version_minor": 0
      },
      "text/plain": [
       "Epoch 953:   0%|          | 0/48 [00:00<?, ?it/s]"
      ]
     },
     "metadata": {},
     "output_type": "display_data"
    },
    {
     "name": "stdout",
     "output_type": "stream",
     "text": [
      "Epoch 953/1000: Train Loss = 0.5264\n"
     ]
    },
    {
     "data": {
      "application/vnd.jupyter.widget-view+json": {
       "model_id": "1514538af4c44616a19cb4ea32526142",
       "version_major": 2,
       "version_minor": 0
      },
      "text/plain": [
       "Epoch 954:   0%|          | 0/48 [00:00<?, ?it/s]"
      ]
     },
     "metadata": {},
     "output_type": "display_data"
    },
    {
     "name": "stdout",
     "output_type": "stream",
     "text": [
      "Epoch 954/1000: Train Loss = 0.5210\n"
     ]
    },
    {
     "data": {
      "application/vnd.jupyter.widget-view+json": {
       "model_id": "9ba043bdd0b8411cb9319963bf27b33e",
       "version_major": 2,
       "version_minor": 0
      },
      "text/plain": [
       "Epoch 955:   0%|          | 0/48 [00:00<?, ?it/s]"
      ]
     },
     "metadata": {},
     "output_type": "display_data"
    },
    {
     "name": "stdout",
     "output_type": "stream",
     "text": [
      "Epoch 955/1000: Train Loss = 0.5189\n"
     ]
    },
    {
     "data": {
      "application/vnd.jupyter.widget-view+json": {
       "model_id": "5b2b7a23265549b997e7613e1c50d23c",
       "version_major": 2,
       "version_minor": 0
      },
      "text/plain": [
       "Epoch 956:   0%|          | 0/48 [00:00<?, ?it/s]"
      ]
     },
     "metadata": {},
     "output_type": "display_data"
    },
    {
     "name": "stdout",
     "output_type": "stream",
     "text": [
      "Epoch 956/1000: Train Loss = 0.5196\n"
     ]
    },
    {
     "data": {
      "application/vnd.jupyter.widget-view+json": {
       "model_id": "da25458ddd3f4678a0ff00be5cde6dbf",
       "version_major": 2,
       "version_minor": 0
      },
      "text/plain": [
       "Epoch 957:   0%|          | 0/48 [00:00<?, ?it/s]"
      ]
     },
     "metadata": {},
     "output_type": "display_data"
    },
    {
     "name": "stdout",
     "output_type": "stream",
     "text": [
      "Epoch 957/1000: Train Loss = 0.5201\n"
     ]
    },
    {
     "data": {
      "application/vnd.jupyter.widget-view+json": {
       "model_id": "5ab93ee8b3354622bf9ac447ab563c0c",
       "version_major": 2,
       "version_minor": 0
      },
      "text/plain": [
       "Epoch 958:   0%|          | 0/48 [00:00<?, ?it/s]"
      ]
     },
     "metadata": {},
     "output_type": "display_data"
    },
    {
     "name": "stdout",
     "output_type": "stream",
     "text": [
      "Epoch 958/1000: Train Loss = 0.5238\n"
     ]
    },
    {
     "data": {
      "application/vnd.jupyter.widget-view+json": {
       "model_id": "c2cc2142a1c04dbbb8e398f4010ccae7",
       "version_major": 2,
       "version_minor": 0
      },
      "text/plain": [
       "Epoch 959:   0%|          | 0/48 [00:00<?, ?it/s]"
      ]
     },
     "metadata": {},
     "output_type": "display_data"
    },
    {
     "name": "stdout",
     "output_type": "stream",
     "text": [
      "Epoch 959/1000: Train Loss = 0.5206\n"
     ]
    },
    {
     "data": {
      "application/vnd.jupyter.widget-view+json": {
       "model_id": "ca89c363677540bc9dd45f2f9be8e4d7",
       "version_major": 2,
       "version_minor": 0
      },
      "text/plain": [
       "Epoch 960:   0%|          | 0/48 [00:00<?, ?it/s]"
      ]
     },
     "metadata": {},
     "output_type": "display_data"
    },
    {
     "name": "stdout",
     "output_type": "stream",
     "text": [
      "Epoch 960/1000: Train Loss = 0.5219\n"
     ]
    },
    {
     "data": {
      "application/vnd.jupyter.widget-view+json": {
       "model_id": "a458f8dd2f9e4110b5f202956625dfa5",
       "version_major": 2,
       "version_minor": 0
      },
      "text/plain": [
       "Epoch 961:   0%|          | 0/48 [00:00<?, ?it/s]"
      ]
     },
     "metadata": {},
     "output_type": "display_data"
    },
    {
     "name": "stdout",
     "output_type": "stream",
     "text": [
      "Epoch 961/1000: Train Loss = 0.5182\n"
     ]
    },
    {
     "data": {
      "application/vnd.jupyter.widget-view+json": {
       "model_id": "cb6abc4593b5486198e2265d14200b7c",
       "version_major": 2,
       "version_minor": 0
      },
      "text/plain": [
       "Epoch 962:   0%|          | 0/48 [00:00<?, ?it/s]"
      ]
     },
     "metadata": {},
     "output_type": "display_data"
    },
    {
     "name": "stdout",
     "output_type": "stream",
     "text": [
      "Epoch 962/1000: Train Loss = 0.5205\n"
     ]
    },
    {
     "data": {
      "application/vnd.jupyter.widget-view+json": {
       "model_id": "9cfb3d52199d42b39fc7f971a8ae9ca0",
       "version_major": 2,
       "version_minor": 0
      },
      "text/plain": [
       "Epoch 963:   0%|          | 0/48 [00:00<?, ?it/s]"
      ]
     },
     "metadata": {},
     "output_type": "display_data"
    },
    {
     "name": "stdout",
     "output_type": "stream",
     "text": [
      "Epoch 963/1000: Train Loss = 0.5193\n"
     ]
    },
    {
     "data": {
      "application/vnd.jupyter.widget-view+json": {
       "model_id": "d03f88d51fb6427f807783ea590476f6",
       "version_major": 2,
       "version_minor": 0
      },
      "text/plain": [
       "Epoch 964:   0%|          | 0/48 [00:00<?, ?it/s]"
      ]
     },
     "metadata": {},
     "output_type": "display_data"
    },
    {
     "name": "stdout",
     "output_type": "stream",
     "text": [
      "Epoch 964/1000: Train Loss = 0.5209\n"
     ]
    },
    {
     "data": {
      "application/vnd.jupyter.widget-view+json": {
       "model_id": "f3a400d20fdf4c45b0a7f88f4b64c0ab",
       "version_major": 2,
       "version_minor": 0
      },
      "text/plain": [
       "Epoch 965:   0%|          | 0/48 [00:00<?, ?it/s]"
      ]
     },
     "metadata": {},
     "output_type": "display_data"
    },
    {
     "name": "stdout",
     "output_type": "stream",
     "text": [
      "Epoch 965/1000: Train Loss = 0.5173\n"
     ]
    },
    {
     "data": {
      "application/vnd.jupyter.widget-view+json": {
       "model_id": "95e2356d927943d88202dde0f32c7b3a",
       "version_major": 2,
       "version_minor": 0
      },
      "text/plain": [
       "Epoch 966:   0%|          | 0/48 [00:00<?, ?it/s]"
      ]
     },
     "metadata": {},
     "output_type": "display_data"
    },
    {
     "name": "stdout",
     "output_type": "stream",
     "text": [
      "Epoch 966/1000: Train Loss = 0.5241\n"
     ]
    },
    {
     "data": {
      "application/vnd.jupyter.widget-view+json": {
       "model_id": "f628a7d7aa7f4f04a5fd69146f4c7270",
       "version_major": 2,
       "version_minor": 0
      },
      "text/plain": [
       "Epoch 967:   0%|          | 0/48 [00:00<?, ?it/s]"
      ]
     },
     "metadata": {},
     "output_type": "display_data"
    },
    {
     "name": "stdout",
     "output_type": "stream",
     "text": [
      "Epoch 967/1000: Train Loss = 0.5227\n"
     ]
    },
    {
     "data": {
      "application/vnd.jupyter.widget-view+json": {
       "model_id": "3e17f5b1bbf24e96b44011ff53cc1cc0",
       "version_major": 2,
       "version_minor": 0
      },
      "text/plain": [
       "Epoch 968:   0%|          | 0/48 [00:00<?, ?it/s]"
      ]
     },
     "metadata": {},
     "output_type": "display_data"
    },
    {
     "name": "stdout",
     "output_type": "stream",
     "text": [
      "Epoch 968/1000: Train Loss = 0.5295\n"
     ]
    },
    {
     "data": {
      "application/vnd.jupyter.widget-view+json": {
       "model_id": "80af7db292874435a6338ea3e35f2ed5",
       "version_major": 2,
       "version_minor": 0
      },
      "text/plain": [
       "Epoch 969:   0%|          | 0/48 [00:00<?, ?it/s]"
      ]
     },
     "metadata": {},
     "output_type": "display_data"
    },
    {
     "name": "stdout",
     "output_type": "stream",
     "text": [
      "Epoch 969/1000: Train Loss = 0.5204\n"
     ]
    },
    {
     "data": {
      "application/vnd.jupyter.widget-view+json": {
       "model_id": "80c275252aa5415f817d5195c1f8f02b",
       "version_major": 2,
       "version_minor": 0
      },
      "text/plain": [
       "Epoch 970:   0%|          | 0/48 [00:00<?, ?it/s]"
      ]
     },
     "metadata": {},
     "output_type": "display_data"
    },
    {
     "name": "stdout",
     "output_type": "stream",
     "text": [
      "Epoch 970/1000: Train Loss = 0.5192\n"
     ]
    },
    {
     "data": {
      "application/vnd.jupyter.widget-view+json": {
       "model_id": "28c3fd431b8f4a98b7fcdd42f621284b",
       "version_major": 2,
       "version_minor": 0
      },
      "text/plain": [
       "Epoch 971:   0%|          | 0/48 [00:00<?, ?it/s]"
      ]
     },
     "metadata": {},
     "output_type": "display_data"
    },
    {
     "name": "stdout",
     "output_type": "stream",
     "text": [
      "Epoch 971/1000: Train Loss = 0.5201\n"
     ]
    },
    {
     "data": {
      "application/vnd.jupyter.widget-view+json": {
       "model_id": "5659b5e416554739829931115954bce4",
       "version_major": 2,
       "version_minor": 0
      },
      "text/plain": [
       "Epoch 972:   0%|          | 0/48 [00:00<?, ?it/s]"
      ]
     },
     "metadata": {},
     "output_type": "display_data"
    },
    {
     "name": "stdout",
     "output_type": "stream",
     "text": [
      "Epoch 972/1000: Train Loss = 0.5183\n"
     ]
    },
    {
     "data": {
      "application/vnd.jupyter.widget-view+json": {
       "model_id": "314adc0781d04f28839e2450cbbb09f4",
       "version_major": 2,
       "version_minor": 0
      },
      "text/plain": [
       "Epoch 973:   0%|          | 0/48 [00:00<?, ?it/s]"
      ]
     },
     "metadata": {},
     "output_type": "display_data"
    },
    {
     "name": "stdout",
     "output_type": "stream",
     "text": [
      "Epoch 973/1000: Train Loss = 0.5214\n"
     ]
    },
    {
     "data": {
      "application/vnd.jupyter.widget-view+json": {
       "model_id": "a043611e34374649947cbcc549a4597e",
       "version_major": 2,
       "version_minor": 0
      },
      "text/plain": [
       "Epoch 974:   0%|          | 0/48 [00:00<?, ?it/s]"
      ]
     },
     "metadata": {},
     "output_type": "display_data"
    },
    {
     "name": "stdout",
     "output_type": "stream",
     "text": [
      "Epoch 974/1000: Train Loss = 0.5185\n"
     ]
    },
    {
     "data": {
      "application/vnd.jupyter.widget-view+json": {
       "model_id": "d987200972e9480db349dade0a5f53eb",
       "version_major": 2,
       "version_minor": 0
      },
      "text/plain": [
       "Epoch 975:   0%|          | 0/48 [00:00<?, ?it/s]"
      ]
     },
     "metadata": {},
     "output_type": "display_data"
    },
    {
     "name": "stdout",
     "output_type": "stream",
     "text": [
      "Epoch 975/1000: Train Loss = 0.5192\n"
     ]
    },
    {
     "data": {
      "application/vnd.jupyter.widget-view+json": {
       "model_id": "ebdadc8e592a47678701a0b0bbff427f",
       "version_major": 2,
       "version_minor": 0
      },
      "text/plain": [
       "Epoch 976:   0%|          | 0/48 [00:00<?, ?it/s]"
      ]
     },
     "metadata": {},
     "output_type": "display_data"
    },
    {
     "name": "stdout",
     "output_type": "stream",
     "text": [
      "Epoch 976/1000: Train Loss = 0.5193\n"
     ]
    },
    {
     "data": {
      "application/vnd.jupyter.widget-view+json": {
       "model_id": "6fe0bcc7ab0b40099e707fb293ba7abe",
       "version_major": 2,
       "version_minor": 0
      },
      "text/plain": [
       "Epoch 977:   0%|          | 0/48 [00:00<?, ?it/s]"
      ]
     },
     "metadata": {},
     "output_type": "display_data"
    },
    {
     "name": "stdout",
     "output_type": "stream",
     "text": [
      "Epoch 977/1000: Train Loss = 0.5171\n"
     ]
    },
    {
     "data": {
      "application/vnd.jupyter.widget-view+json": {
       "model_id": "24ad9b1fd16a4932be3bc21c9c2378b6",
       "version_major": 2,
       "version_minor": 0
      },
      "text/plain": [
       "Epoch 978:   0%|          | 0/48 [00:00<?, ?it/s]"
      ]
     },
     "metadata": {},
     "output_type": "display_data"
    },
    {
     "name": "stdout",
     "output_type": "stream",
     "text": [
      "Epoch 978/1000: Train Loss = 0.5194\n"
     ]
    },
    {
     "data": {
      "application/vnd.jupyter.widget-view+json": {
       "model_id": "bc7ba8a25bec484eabc8d828b76fc073",
       "version_major": 2,
       "version_minor": 0
      },
      "text/plain": [
       "Epoch 979:   0%|          | 0/48 [00:00<?, ?it/s]"
      ]
     },
     "metadata": {},
     "output_type": "display_data"
    },
    {
     "name": "stdout",
     "output_type": "stream",
     "text": [
      "Epoch 979/1000: Train Loss = 0.5179\n"
     ]
    },
    {
     "data": {
      "application/vnd.jupyter.widget-view+json": {
       "model_id": "2411d329517a4ce2af7b32613c201f83",
       "version_major": 2,
       "version_minor": 0
      },
      "text/plain": [
       "Epoch 980:   0%|          | 0/48 [00:00<?, ?it/s]"
      ]
     },
     "metadata": {},
     "output_type": "display_data"
    },
    {
     "name": "stdout",
     "output_type": "stream",
     "text": [
      "Epoch 980/1000: Train Loss = 0.5168\n"
     ]
    },
    {
     "data": {
      "application/vnd.jupyter.widget-view+json": {
       "model_id": "5ab64c0b581f4bc0a210843876e20d7a",
       "version_major": 2,
       "version_minor": 0
      },
      "text/plain": [
       "Epoch 981:   0%|          | 0/48 [00:00<?, ?it/s]"
      ]
     },
     "metadata": {},
     "output_type": "display_data"
    },
    {
     "name": "stdout",
     "output_type": "stream",
     "text": [
      "Epoch 981/1000: Train Loss = 0.5182\n"
     ]
    },
    {
     "data": {
      "application/vnd.jupyter.widget-view+json": {
       "model_id": "c8f850610cf64678bf88fa2f823e308c",
       "version_major": 2,
       "version_minor": 0
      },
      "text/plain": [
       "Epoch 982:   0%|          | 0/48 [00:00<?, ?it/s]"
      ]
     },
     "metadata": {},
     "output_type": "display_data"
    },
    {
     "name": "stdout",
     "output_type": "stream",
     "text": [
      "Epoch 982/1000: Train Loss = 0.5165\n"
     ]
    },
    {
     "data": {
      "application/vnd.jupyter.widget-view+json": {
       "model_id": "f2429b9e01f14d02be7a83f667eab3a9",
       "version_major": 2,
       "version_minor": 0
      },
      "text/plain": [
       "Epoch 983:   0%|          | 0/48 [00:00<?, ?it/s]"
      ]
     },
     "metadata": {},
     "output_type": "display_data"
    },
    {
     "name": "stdout",
     "output_type": "stream",
     "text": [
      "Epoch 983/1000: Train Loss = 0.5202\n"
     ]
    },
    {
     "data": {
      "application/vnd.jupyter.widget-view+json": {
       "model_id": "0f434494ecc14690852d390ea574de53",
       "version_major": 2,
       "version_minor": 0
      },
      "text/plain": [
       "Epoch 984:   0%|          | 0/48 [00:00<?, ?it/s]"
      ]
     },
     "metadata": {},
     "output_type": "display_data"
    },
    {
     "name": "stdout",
     "output_type": "stream",
     "text": [
      "Epoch 984/1000: Train Loss = 0.5183\n"
     ]
    },
    {
     "data": {
      "application/vnd.jupyter.widget-view+json": {
       "model_id": "811c3d55789547b39cb5b0e77f0c3148",
       "version_major": 2,
       "version_minor": 0
      },
      "text/plain": [
       "Epoch 985:   0%|          | 0/48 [00:00<?, ?it/s]"
      ]
     },
     "metadata": {},
     "output_type": "display_data"
    },
    {
     "name": "stdout",
     "output_type": "stream",
     "text": [
      "Epoch 985/1000: Train Loss = 0.5199\n"
     ]
    },
    {
     "data": {
      "application/vnd.jupyter.widget-view+json": {
       "model_id": "6ad7059e28064286b901064fd963bb21",
       "version_major": 2,
       "version_minor": 0
      },
      "text/plain": [
       "Epoch 986:   0%|          | 0/48 [00:00<?, ?it/s]"
      ]
     },
     "metadata": {},
     "output_type": "display_data"
    },
    {
     "name": "stdout",
     "output_type": "stream",
     "text": [
      "Epoch 986/1000: Train Loss = 0.5193\n"
     ]
    },
    {
     "data": {
      "application/vnd.jupyter.widget-view+json": {
       "model_id": "a1d3e4b6c43748f29213d84c4c1896e0",
       "version_major": 2,
       "version_minor": 0
      },
      "text/plain": [
       "Epoch 987:   0%|          | 0/48 [00:00<?, ?it/s]"
      ]
     },
     "metadata": {},
     "output_type": "display_data"
    },
    {
     "name": "stdout",
     "output_type": "stream",
     "text": [
      "Epoch 987/1000: Train Loss = 0.5271\n"
     ]
    },
    {
     "data": {
      "application/vnd.jupyter.widget-view+json": {
       "model_id": "7493cb381e8842a1856d108e5c325cb5",
       "version_major": 2,
       "version_minor": 0
      },
      "text/plain": [
       "Epoch 988:   0%|          | 0/48 [00:00<?, ?it/s]"
      ]
     },
     "metadata": {},
     "output_type": "display_data"
    },
    {
     "name": "stdout",
     "output_type": "stream",
     "text": [
      "Epoch 988/1000: Train Loss = 0.5179\n"
     ]
    },
    {
     "data": {
      "application/vnd.jupyter.widget-view+json": {
       "model_id": "b098a743de8642c981daf541287b97c8",
       "version_major": 2,
       "version_minor": 0
      },
      "text/plain": [
       "Epoch 989:   0%|          | 0/48 [00:00<?, ?it/s]"
      ]
     },
     "metadata": {},
     "output_type": "display_data"
    },
    {
     "name": "stdout",
     "output_type": "stream",
     "text": [
      "Epoch 989/1000: Train Loss = 0.5188\n"
     ]
    },
    {
     "data": {
      "application/vnd.jupyter.widget-view+json": {
       "model_id": "c9c26853d5ba4ded8606d618950c3ee4",
       "version_major": 2,
       "version_minor": 0
      },
      "text/plain": [
       "Epoch 990:   0%|          | 0/48 [00:00<?, ?it/s]"
      ]
     },
     "metadata": {},
     "output_type": "display_data"
    },
    {
     "name": "stdout",
     "output_type": "stream",
     "text": [
      "Epoch 990/1000: Train Loss = 0.5257\n"
     ]
    },
    {
     "data": {
      "application/vnd.jupyter.widget-view+json": {
       "model_id": "b75335f0b8184af9828209f70cf55c1b",
       "version_major": 2,
       "version_minor": 0
      },
      "text/plain": [
       "Epoch 991:   0%|          | 0/48 [00:00<?, ?it/s]"
      ]
     },
     "metadata": {},
     "output_type": "display_data"
    },
    {
     "name": "stdout",
     "output_type": "stream",
     "text": [
      "Epoch 991/1000: Train Loss = 0.5178\n"
     ]
    },
    {
     "data": {
      "application/vnd.jupyter.widget-view+json": {
       "model_id": "6438605197ca45e5855c2e0af5f5d390",
       "version_major": 2,
       "version_minor": 0
      },
      "text/plain": [
       "Epoch 992:   0%|          | 0/48 [00:00<?, ?it/s]"
      ]
     },
     "metadata": {},
     "output_type": "display_data"
    },
    {
     "name": "stdout",
     "output_type": "stream",
     "text": [
      "Epoch 992/1000: Train Loss = 0.5206\n"
     ]
    },
    {
     "data": {
      "application/vnd.jupyter.widget-view+json": {
       "model_id": "c0e9282ac90e4a09884889c7b31e8f4a",
       "version_major": 2,
       "version_minor": 0
      },
      "text/plain": [
       "Epoch 993:   0%|          | 0/48 [00:00<?, ?it/s]"
      ]
     },
     "metadata": {},
     "output_type": "display_data"
    },
    {
     "name": "stdout",
     "output_type": "stream",
     "text": [
      "Epoch 993/1000: Train Loss = 0.5187\n"
     ]
    },
    {
     "data": {
      "application/vnd.jupyter.widget-view+json": {
       "model_id": "afd7d5e707db45ddbb653ebe61c05b0d",
       "version_major": 2,
       "version_minor": 0
      },
      "text/plain": [
       "Epoch 994:   0%|          | 0/48 [00:00<?, ?it/s]"
      ]
     },
     "metadata": {},
     "output_type": "display_data"
    },
    {
     "name": "stdout",
     "output_type": "stream",
     "text": [
      "Epoch 994/1000: Train Loss = 0.5289\n"
     ]
    },
    {
     "data": {
      "application/vnd.jupyter.widget-view+json": {
       "model_id": "8bfdd7bce58742f38ebf65f3536cff84",
       "version_major": 2,
       "version_minor": 0
      },
      "text/plain": [
       "Epoch 995:   0%|          | 0/48 [00:00<?, ?it/s]"
      ]
     },
     "metadata": {},
     "output_type": "display_data"
    },
    {
     "name": "stdout",
     "output_type": "stream",
     "text": [
      "Epoch 995/1000: Train Loss = 0.5258\n"
     ]
    },
    {
     "data": {
      "application/vnd.jupyter.widget-view+json": {
       "model_id": "e8df919122434e2fa162c943d384a53d",
       "version_major": 2,
       "version_minor": 0
      },
      "text/plain": [
       "Epoch 996:   0%|          | 0/48 [00:00<?, ?it/s]"
      ]
     },
     "metadata": {},
     "output_type": "display_data"
    },
    {
     "name": "stdout",
     "output_type": "stream",
     "text": [
      "Epoch 996/1000: Train Loss = 0.5212\n"
     ]
    },
    {
     "data": {
      "application/vnd.jupyter.widget-view+json": {
       "model_id": "5889a0025d4041fc9e752fb6d6229070",
       "version_major": 2,
       "version_minor": 0
      },
      "text/plain": [
       "Epoch 997:   0%|          | 0/48 [00:00<?, ?it/s]"
      ]
     },
     "metadata": {},
     "output_type": "display_data"
    },
    {
     "name": "stdout",
     "output_type": "stream",
     "text": [
      "Epoch 997/1000: Train Loss = 0.5185\n"
     ]
    },
    {
     "data": {
      "application/vnd.jupyter.widget-view+json": {
       "model_id": "06ff8c48cde5414b9b9e1bffc8aebc13",
       "version_major": 2,
       "version_minor": 0
      },
      "text/plain": [
       "Epoch 998:   0%|          | 0/48 [00:00<?, ?it/s]"
      ]
     },
     "metadata": {},
     "output_type": "display_data"
    },
    {
     "name": "stdout",
     "output_type": "stream",
     "text": [
      "Epoch 998/1000: Train Loss = 0.5243\n"
     ]
    },
    {
     "data": {
      "application/vnd.jupyter.widget-view+json": {
       "model_id": "7731be2a2dab40b8a3f6e75b4f8948a1",
       "version_major": 2,
       "version_minor": 0
      },
      "text/plain": [
       "Epoch 999:   0%|          | 0/48 [00:00<?, ?it/s]"
      ]
     },
     "metadata": {},
     "output_type": "display_data"
    },
    {
     "name": "stdout",
     "output_type": "stream",
     "text": [
      "Epoch 999/1000: Train Loss = 0.5273\n"
     ]
    },
    {
     "data": {
      "application/vnd.jupyter.widget-view+json": {
       "model_id": "5f81953d35694f6aa4a82d6712c7e2a8",
       "version_major": 2,
       "version_minor": 0
      },
      "text/plain": [
       "Epoch 1000:   0%|          | 0/48 [00:00<?, ?it/s]"
      ]
     },
     "metadata": {},
     "output_type": "display_data"
    },
    {
     "name": "stdout",
     "output_type": "stream",
     "text": [
      "\n",
      "Binary LSTM (Epoch 1000) Evaluation Results:\n",
      "  Average Loss: 0.5669\n",
      "  AUC (Area Under Curve): 0.5000\n",
      "  β₀ (exact match): 0.0000 (0.00%)\n",
      "  β₁ (≤1 bit error): 0.3958 (39.58%)\n",
      "  β₂ (≤2 bit error): 0.6458 (64.58%)\n",
      "  β₃ (≤3 bit error): 0.7917 (79.17%)\n",
      "  β₄ (≤4 bit error): 0.8542 (85.42%)\n",
      "\n",
      "Binary LSTM training completed!\n",
      "============================================================\n"
     ]
    }
   ],
   "source": [
    "# Execute Binary LSTM training\n",
    "print(\"Starting Binary LSTM Training (Murat et al. baseline)...\")\n",
    "print(\"=\"*60)\n",
    "\n",
    "binary_history = train_binary_lstm(\n",
    "    binary_model,\n",
    "    binary_train_loader,\n",
    "    binary_test_loader,\n",
    "    epochs=1000,\n",
    "    lr=0.001\n",
    ")\n",
    "\n",
    "print(\"\\nBinary LSTM training completed!\")\n",
    "print(\"=\"*60)"
   ]
  },
  {
   "cell_type": "code",
   "execution_count": 81,
   "metadata": {
    "execution": {
     "iopub.execute_input": "2025-09-23T23:29:58.715724Z",
     "iopub.status.busy": "2025-09-23T23:29:58.715389Z",
     "iopub.status.idle": "2025-09-23T23:29:59.481227Z",
     "shell.execute_reply": "2025-09-23T23:29:59.479596Z",
     "shell.execute_reply.started": "2025-09-23T23:29:58.715695Z"
    },
    "id": "binary_lstm_results_viz"
   },
   "outputs": [
    {
     "data": {
      "image/png": "[encoded data removed]",
      "text/plain": [
       "<Figure size 1500x1000 with 4 Axes>"
      ]
     },
     "metadata": {},
     "output_type": "display_data"
    },
    {
     "data": {
      "image/png": "[encoded data removed]",
      "text/plain": [
       "<Figure size 600x400 with 1 Axes>"
      ]
     },
     "metadata": {},
     "output_type": "display_data"
    },
    {
     "name": "stdout",
     "output_type": "stream",
     "text": [
      "\n",
      "Binary LSTM (Murat et al.) - Final Results Summary:\n",
      "Metric          Value      Percentage  \n",
      "----------------------------------------\n",
      "β0 (≤0 errors)  0.0000     0.00        %\n",
      "β1 (≤1 errors)  0.3958     39.58       %\n",
      "β2 (≤2 errors)  0.6458     64.58       %\n",
      "β3 (≤3 errors)  0.7917     79.17       %\n",
      "β4 (≤4 errors)  0.8542     85.42       %\n"
     ]
    }
   ],
   "source": [
    "# Visualize Binary LSTM training results\n",
    "def plot_training_history(history, model_name):\n",
    "    \"\"\"Plot training history with β-metrics (and AUC if available).\"\"\"\n",
    "    if not history:\n",
    "        print(\"No training history to plot\")\n",
    "        return\n",
    "    \n",
    "    df = pd.DataFrame(history)\n",
    "    \n",
    "    fig, axes = plt.subplots(2, 2, figsize=(15, 10))\n",
    "    \n",
    "    # Loss curves\n",
    "    axes[0,0].plot(df['epoch'], df['train_loss'], label='Train Loss', marker='o')\n",
    "    axes[0,0].plot(df['epoch'], df['test_loss'], label='Test Loss', marker='s')\n",
    "    axes[0,0].set_title(f'{model_name} - Loss Curves')\n",
    "    axes[0,0].set_xlabel('Epoch')\n",
    "    axes[0,0].set_ylabel('Loss')\n",
    "    axes[0,0].legend()\n",
    "    axes[0,0].grid(True)\n",
    "    \n",
    "    # β-metrics evolution\n",
    "    for i in range(5):\n",
    "        axes[0,1].plot(df['epoch'], df[f'beta_{i}'], label=f'β{i}', marker='o')\n",
    "    axes[0,1].set_title(f'{model_name} - β-metrics Evolution')\n",
    "    axes[0,1].set_xlabel('Epoch')\n",
    "    axes[0,1].set_ylabel('Accuracy')\n",
    "    axes[0,1].legend()\n",
    "    axes[0,1].grid(True)\n",
    "    \n",
    "    # Final β-metrics bar chart\n",
    "    final_betas = [df[f'beta_{i}'].iloc[-1] for i in range(5)]\n",
    "    beta_labels = [f'β{i}' for i in range(5)]\n",
    "    \n",
    "    bars = axes[1,0].bar(beta_labels, final_betas, color=['red', 'orange', 'yellow', 'lightgreen', 'green'])\n",
    "    axes[1,0].set_title(f'{model_name} - Final β-metrics')\n",
    "    axes[1,0].set_ylabel('Accuracy')\n",
    "    axes[1,0].set_ylim(0, 1)\n",
    "    \n",
    "    # Add value labels on bars\n",
    "    for bar, value in zip(bars, final_betas):\n",
    "        axes[1,0].text(bar.get_x() + bar.get_width()/2, bar.get_height() + 0.01, \n",
    "                      f'{value:.3f}', ha='center', va='bottom')\n",
    "    \n",
    "    # Key performance metrics over epochs (+ AUC if present)\n",
    "    axes[1,1].plot(df['epoch'], df['beta_0'], label='β₀ (Exact)', linewidth=3)\n",
    "    axes[1,1].plot(df['epoch'], df['beta_1'], label='β₁ (≤1 error)', linewidth=2)\n",
    "    if 'auc' in df.columns:\n",
    "        axes[1,1].plot(df['epoch'], df['auc'], label='AUC', linestyle='--', marker='o')\n",
    "    axes[1,1].set_title(f'{model_name} - Key Performance Metrics')\n",
    "    axes[1,1].set_xlabel('Epoch')\n",
    "    axes[1,1].set_ylabel('Score')\n",
    "    axes[1,1].legend()\n",
    "    axes[1,1].grid(True)\n",
    "    \n",
    "    plt.tight_layout()\n",
    "    plt.show()\n",
    "\n",
    "    # If you prefer AUC in its own clean chart, also render a dedicated plot:\n",
    "    if 'auc' in df.columns:\n",
    "        plt.figure(figsize=(6, 4))\n",
    "        plt.plot(df['epoch'], df['auc'], marker='o')\n",
    "        plt.title(f'{model_name} - AUC over Epochs')\n",
    "        plt.xlabel('Epoch')\n",
    "        plt.ylabel('AUC')\n",
    "        plt.ylim(0, 1)\n",
    "        plt.grid(True)\n",
    "        plt.show()\n",
    "    \n",
    "    # Print final results summary\n",
    "    print(f\"\\n{model_name} - Final Results Summary:\")\n",
    "    print(f\"{'Metric':<15} {'Value':<10} {'Percentage':<12}\")\n",
    "    print(\"-\" * 40)\n",
    "    for i in range(5):\n",
    "        value = df[f'beta_{i}'].iloc[-1]\n",
    "        print(f\"β{i} (≤{i} errors)  {value:<10.4f} {value*100:<12.2f}%\")\n",
    "\n",
    "# Plot Binary LSTM results\n",
    "plot_training_history(binary_history, \"Binary LSTM (Murat et al.)\")\n"
   ]
  },
  {
   "cell_type": "markdown",
   "metadata": {
    "id": "model_comparison_prep"
   },
   "source": [
    "# PREPARE FOR ADDITIONAL MODELS\n",
    "\n",
    "## Next Steps:\n",
    "1. **Dual Loss LSTM** - Enhanced version with both p and q prediction\n",
    "2. **Enhanced Transformer** - Using 125D mathematical features\n",
    "3. **GAN-based Factorization** - Adversarial approach for factor generation\n",
    "4. **Model Comparison** - Comprehensive comparison across all architectures\n",
    "\n",
    "Each model will be evaluated using the same β-metrics framework for fair comparison."
   ]
  },
  {
   "cell_type": "code",
   "execution_count": null,
   "metadata": {
    "execution": {
     "iopub.status.busy": "2025-09-23T07:31:59.001286Z",
     "iopub.status.idle": "2025-09-23T07:31:59.001905Z",
     "shell.execute_reply": "2025-09-23T07:31:59.001695Z",
     "shell.execute_reply.started": "2025-09-23T07:31:59.001677Z"
    },
    "id": "save_binary_results"
   },
   "outputs": [],
   "source": [
    "# Save Binary LSTM results\n",
    "binary_results = {\n",
    "    'model_name': 'Binary LSTM (Murat et al.)',\n",
    "    'approach': 'Binary sequence prediction with LSTM',\n",
    "    'training_history': binary_history,\n",
    "    'final_metrics': binary_history[-1] if binary_history else {},\n",
    "    'dataset_scale': scale,\n",
    "    'training_samples': len(binary_train_dataset),\n",
    "    'test_samples': len(binary_test_dataset),\n",
    "    'model_parameters': sum(p.numel() for p in binary_model.parameters()),\n",
    "    'timestamp': datetime.now().isoformat()\n",
    "}\n",
    "\n",
    "# Store for comparison\n",
    "model_results = {'binary_lstm': binary_results}\n",
    "\n",
    "print(\"Binary LSTM results saved for comparison.\")\n",
    "print(f\"Model achieved:\")\n",
    "if binary_history:\n",
    "    final = binary_history[-1]\n",
    "    print(f\"  β₀: {final['beta_0']:.4f} ({final['beta_0']*100:.2f}%)\")\n",
    "    print(f\"  β₁: {final['beta_1']:.4f} ({final['beta_1']*100:.2f}%)\")\n",
    "    print(f\"  β₂: {final['beta_2']:.4f} ({final['beta_2']*100:.2f}%)\")"
   ]
  },
  {
   "cell_type": "markdown",
   "metadata": {
    "id": "experiment_tracking"
   },
   "source": [
    "# SAGEMAKER EXPERIMENT TRACKING SETUP\n",
    "\n",
    "Set up SageMaker Experiments for systematic tracking of all model training runs."
   ]
  },
  {
   "cell_type": "code",
   "execution_count": null,
   "metadata": {
    "execution": {
     "iopub.status.busy": "2025-09-23T07:31:59.004832Z",
     "iopub.status.idle": "2025-09-23T07:31:59.005403Z",
     "shell.execute_reply": "2025-09-23T07:31:59.005214Z",
     "shell.execute_reply.started": "2025-09-23T07:31:59.005196Z"
    },
    "id": "experiment_setup"
   },
   "outputs": [],
   "source": [
    "# SageMaker Experiments setup\n",
    "from sagemaker.experiments.experiment import Experiment\n",
    "from sagemaker.experiments.trial import Trial\n",
    "from sagemaker.experiments.trial_component import TrialComponent\n",
    "from sagemaker.analytics import ExperimentAnalytics\n",
    "\n",
    "# Create experiment\n",
    "experiment_name = f\"rsa-ml-attack-{datetime.now().strftime('%Y-%m-%d-%H-%M')}\"\n",
    "\n",
    "try:\n",
    "    experiment = Experiment.create(\n",
    "        experiment_name=experiment_name,\n",
    "        description=\"RSA Semiprime Factorization using Neural Networks - Comparison Study\",\n",
    "        sagemaker_session=sagemaker_session\n",
    "    )\n",
    "    print(f\"Experiment created: {experiment_name}\")\n",
    "except Exception as e:\n",
    "    print(f\"Experiment might already exist: {e}\")\n",
    "    experiment = Experiment.load(experiment_name=experiment_name, sagemaker_session=sagemaker_session)\n",
    "\n",
    "# Function to log metrics to SageMaker\n",
    "def log_metrics_to_sagemaker(trial_name, metrics_dict, model_name):\n",
    "    \"\"\"Log training metrics to SageMaker Experiments\"\"\"\n",
    "    try:\n",
    "        with Trial.load(trial_name=trial_name, experiment_name=experiment_name) as trial:\n",
    "            for metric_name, value in metrics_dict.items():\n",
    "                trial.log_parameter(f\"{model_name}_{metric_name}\", value)\n",
    "        print(f\"Metrics logged to trial: {trial_name}\")\n",
    "    except Exception as e:\n",
    "        print(f\"Error logging metrics: {e}\")\n",
    "\n",
    "print(\"SageMaker Experiments tracking setup complete.\")"
   ]
  },
  {
   "cell_type": "markdown",
   "metadata": {
    "id": "next_models"
   },
   "source": [
    "# CONTINUE WITH REMAINING MODELS\n",
    "\n",
    "**Instructions for completing the notebook:**\n",
    "\n",
    "1. **Copy the following sections** into new cells to implement the remaining models:\n",
    "   - Dual Loss LSTM (predicts both p and q)\n",
    "   - Enhanced Transformer (125D features)\n",
    "   - GAN-based Factorization\n",
    "\n",
    "2. **Follow the same pattern** as Binary LSTM:\n",
    "   - Dataset creation\n",
    "   - Model definition\n",
    "   - Training function\n",
    "   - Evaluation with β-metrics\n",
    "   - Visualization\n",
    "\n",
    "3. **Final comparison section** will compare all models side-by-side\n",
    "\n",
    "4. **Results will be saved to S3** for the research paper\n",
    "\n",
    "**Ready to continue with the next model implementation!**"
   ]
  },
  {
   "cell_type": "code",
   "execution_count": null,
   "metadata": {},
   "outputs": [],
   "source": "# Comprehensive Compatibility Test for Exhaustive Enumeration Format\nprint(\"🧪 COMPREHENSIVE COMPATIBILITY TEST\")\nprint(\"=\"*60)\n\ndef test_data_loading():\n    \"\"\"Test data loading and metadata compatibility\"\"\"\n    print(\"1️⃣ Testing data loading...\")\n    \n    # Test metadata loading\n    try:\n        test_metadata = load_metadata(scale)\n        assert 'methodology' in test_metadata\n        assert 'total_semiprimes_found' in test_metadata\n        assert test_metadata['methodology'] == 'exhaustive_enumeration_murat_et_al'\n        print(\"   ✅ Metadata loading: PASSED\")\n    except Exception as e:\n        print(f\"   ❌ Metadata loading: FAILED ({e})\")\n        return False\n    \n    # Test dataset structure\n    try:\n        expected_columns = ['N', 'p', 'q', 'N_binary', 'p_binary', 'N_bits', 'p_bits']\n        for col in expected_columns:\n            assert col in df.columns, f\"Missing column: {col}\"\n        print(\"   ✅ Dataset structure: PASSED\")\n    except Exception as e:\n        print(f\"   ❌ Dataset structure: FAILED ({e})\")\n        return False\n    \n    # Test data consistency\n    try:\n        assert len(df) == test_metadata['total_semiprimes_found']\n        assert len(train_df) == test_metadata['train_samples']\n        assert len(test_df) == test_metadata['test_samples']\n        print(\"   ✅ Data consistency: PASSED\")\n    except Exception as e:\n        print(f\"   ❌ Data consistency: FAILED ({e})\")\n        return False\n    \n    return True\n\ndef test_binary_lstm_compatibility():\n    \"\"\"Test Binary LSTM dataset compatibility\"\"\"\n    print(\"\\n2️⃣ Testing Binary LSTM compatibility...\")\n    \n    try:\n        # Test dataset creation\n        test_dataset = BinaryLSTMDataset(train_df.head(10), use_precomputed=True)\n        assert len(test_dataset) == 10\n        \n        # Test data loading\n        sample_x, sample_y = test_dataset[0]\n        assert sample_x.shape[0] == test_dataset.N_bits\n        assert sample_y.shape[0] == test_dataset.p_bits\n        \n        # Test binary conversion\n        N_reconstructed = int(''.join(map(str, sample_x.int().tolist())), 2)\n        p_reconstructed = int(''.join(map(str, sample_y.int().tolist())), 2)\n        \n        original_N = train_df.iloc[0]['N']\n        original_p = train_df.iloc[0]['p']\n        \n        assert N_reconstructed == original_N\n        assert p_reconstructed == original_p\n        \n        print(\"   ✅ Binary LSTM dataset: PASSED\")\n        return True\n        \n    except Exception as e:\n        print(f\"   ❌ Binary LSTM dataset: FAILED ({e})\")\n        return False\n\ndef test_feature_engineering():\n    \"\"\"Test 125D feature engineering\"\"\"\n    print(\"\\n3️⃣ Testing feature engineering...\")\n    \n    try:\n        # Test single feature extraction\n        sample_N = train_df['N'].iloc[0]\n        features = feature_engineer.extract_all_features(sample_N)\n        assert features.shape == (125,)\n        assert features.dtype == np.float32\n        \n        # Test batch feature extraction\n        sample_batch = train_df['N'].iloc[:5].values\n        batch_features = feature_engineer.extract_features_batch(sample_batch)\n        assert batch_features.shape == (5, 125)\n        \n        # Test that features contain meaningful values\n        assert not np.all(features == 0)\n        assert np.isfinite(features).all()\n        \n        print(\"   ✅ Feature engineering: PASSED\")\n        return True\n        \n    except Exception as e:\n        print(f\"   ❌ Feature engineering: FAILED ({e})\")\n        return False\n\ndef test_model_compatibility():\n    \"\"\"Test model architecture compatibility\"\"\"\n    print(\"\\n4️⃣ Testing model architecture compatibility...\")\n    \n    try:\n        # Test Binary LSTM model initialization\n        test_model = BinaryLSTM(\n            input_size=binary_train_dataset.N_bits,\n            output_size=binary_train_dataset.p_bits\n        )\n        \n        # Test forward pass\n        batch_size = 2\n        sample_input = torch.randn(batch_size, binary_train_dataset.N_bits)\n        output = test_model(sample_input)\n        \n        assert output.shape == (batch_size, binary_train_dataset.p_bits)\n        assert torch.all(output >= 0) and torch.all(output <= 1)  # Sigmoid output\n        \n        print(\"   ✅ Model architecture: PASSED\")\n        return True\n        \n    except Exception as e:\n        print(f\"   ❌ Model architecture: FAILED ({e})\")\n        return False\n\ndef test_evaluation_functions():\n    \"\"\"Test evaluation and metrics functions\"\"\"\n    print(\"\\n5️⃣ Testing evaluation functions...\")\n    \n    try:\n        # Create dummy predictions and targets for testing\n        batch_size = 4\n        p_bits = binary_train_dataset.p_bits\n        \n        predictions = torch.rand(batch_size, p_bits)\n        targets = torch.randint(0, 2, (batch_size, p_bits)).float()\n        \n        # Test β-metrics calculation\n        beta_metrics = calculate_beta_metrics(predictions, targets)\n        \n        expected_keys = ['beta_0', 'beta_1', 'beta_2', 'beta_3', 'beta_4']\n        for key in expected_keys:\n            assert key in beta_metrics\n            assert 0 <= beta_metrics[key] <= 1\n        \n        print(\"   ✅ Evaluation functions: PASSED\")\n        return True\n        \n    except Exception as e:\n        print(f\"   ❌ Evaluation functions: FAILED ({e})\")\n        return False\n\n# Run all compatibility tests\nprint(\"Running comprehensive compatibility tests for exhaustive enumeration format...\")\nprint()\n\ntest_results = []\ntest_results.append(test_data_loading())\ntest_results.append(test_binary_lstm_compatibility())\ntest_results.append(test_feature_engineering())\ntest_results.append(test_model_compatibility())\ntest_results.append(test_evaluation_functions())\n\n# Summary\nprint(\"\\n\" + \"=\"*60)\nprint(\"🏁 COMPATIBILITY TEST SUMMARY\")\nprint(\"=\"*60)\n\ntotal_tests = len(test_results)\npassed_tests = sum(test_results)\n\nprint(f\"Tests Passed: {passed_tests}/{total_tests}\")\nprint(f\"Success Rate: {passed_tests/total_tests*100:.1f}%\")\n\nif all(test_results):\n    print(\"\\n🎉 ALL TESTS PASSED! 🎉\")\n    print(\"The notebook is fully compatible with the new exhaustive enumeration format.\")\n    print(\"\\nReady for:\")\n    print(\"   ✓ Binary LSTM training with exhaustive data\")\n    print(\"   ✓ Enhanced feature extraction (125D)\")\n    print(\"   ✓ Dual Loss LSTM implementation\")\n    print(\"   ✓ Transformer model implementation\")\n    print(\"   ✓ GAN-based factorization\")\n    print(\"   ✓ Comprehensive model comparison\")\nelse:\n    print(\"\\n⚠️  SOME TESTS FAILED\")\n    print(\"Please review the failed tests above and fix the issues.\")\n\nprint(\"\\n📊 Dataset Summary:\")\nprint(f\"   • Scale: {scale}\")\nprint(f\"   • Total semiprimes: {len(df):,}\")\nprint(f\"   • Training samples: {len(train_df):,}\")\nprint(f\"   • Test samples: {len(test_df):,}\")\nprint(f\"   • Bit dimensions: N={binary_train_dataset.N_bits}, p={binary_train_dataset.p_bits}\")\nprint(f\"   • Feature dimensions: 125D mathematical features available\")\nprint(f\"   • Methodology: {metadata['methodology']}\")\n\nprint(\"\\n🚀 Ready to continue with model training and comparison!\")"
  }
 ],
 "metadata": {
  "instance_type": "ml.t3.medium",
  "kernelspec": {
   "display_name": "Python 3 (ipykernel)",
   "language": "python",
   "name": "python3"
  },
  "language_info": {
   "codemirror_mode": {
    "name": "ipython",
    "version": 3
   },
   "file_extension": ".py",
   "mimetype": "text/x-python",
   "name": "python",
   "nbconvert_exporter": "python",
   "pygments_lexer": "ipython3",
   "version": "3.12.9"
  }
 },
 "nbformat": 4,
 "nbformat_minor": 4
}